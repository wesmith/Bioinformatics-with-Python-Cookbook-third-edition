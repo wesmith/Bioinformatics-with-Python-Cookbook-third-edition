{
 "cells": [
  {
   "cell_type": "markdown",
   "id": "66eb9025-ae99-4ef7-95cc-05bfaac49820",
   "metadata": {},
   "source": [
    "# WS_ch03A.ipynb\n",
    "# WESmith 11/09/22\n",
    "## WS created this notebook to follow along chap 3 code from book \n",
    "# 'Bioinformatics with Python Cookbook' by Tiago Antao\n",
    "### Each recipe will have its own notebook, suffixed by A, B, etc.\n",
    "## see the link below for reference to SeqIO data structures\n",
    "### http://biopython.org/DIST/docs/tutorial/Tutorial.html"
   ]
  },
  {
   "cell_type": "markdown",
   "id": "43246f84-be54-4edd-bacb-b4bbd8212e62",
   "metadata": {},
   "source": [
    "# ACCESSING GENBANK AND MOVING AROUND NCBI DATABASES"
   ]
  },
  {
   "cell_type": "markdown",
   "id": "877ee647-28de-424f-8a0f-354bce09b1ce",
   "metadata": {},
   "source": [
    "### 1) IMPORT MODULES, CONFIGURE EMAIL"
   ]
  },
  {
   "cell_type": "code",
   "execution_count": null,
   "id": "f2f2140d-70b9-425c-8ba0-a4f540a540cd",
   "metadata": {},
   "outputs": [],
   "source": [
    "from Bio import Entrez, SeqIO"
   ]
  },
  {
   "cell_type": "code",
   "execution_count": null,
   "id": "82a02f68-6d09-427f-99e1-9871c4c651e1",
   "metadata": {},
   "outputs": [],
   "source": [
    "Entrez.email = 'smiwarsky@gmail.com'  # required"
   ]
  },
  {
   "cell_type": "markdown",
   "id": "ff5dd8f1-994d-46d5-a0df-84c4d90afa3b",
   "metadata": {},
   "source": [
    "### 2) FIND CHOROQUININE RESISTANCE TRANSPORTER (CRT) GENE IN PLASMODIUM FALCIPARAM"
   ]
  },
  {
   "cell_type": "code",
   "execution_count": null,
   "id": "822e2b44-3045-49d1-9b3a-8df3771a13fa",
   "metadata": {},
   "outputs": [],
   "source": [
    "handle = Entrez.esearch(db='nucleotide', term='CRT[Gene Name] AND \"Plasmodium falciparum\"[Organism]')\n",
    "rec_list = Entrez.read(handle)"
   ]
  },
  {
   "cell_type": "code",
   "execution_count": null,
   "id": "7428605d-2b00-443e-afa9-e6feda8b49f9",
   "metadata": {},
   "outputs": [],
   "source": [
    "for j, k in rec_list.items():\n",
    "    print('{} = {}'.format(j, k))"
   ]
  },
  {
   "cell_type": "markdown",
   "id": "3950ab3d-584a-48be-94b7-1b086a7b69e1",
   "metadata": {},
   "source": [
    "### 3) RETRIEVE THE RECORDS"
   ]
  },
  {
   "cell_type": "code",
   "execution_count": null,
   "id": "31be5cc1-8b23-4283-a895-a76d55a6b408",
   "metadata": {},
   "outputs": [],
   "source": [
    "id_list = rec_list['IdList']\n",
    "hdl = Entrez.efetch(db='nucleotide', id=id_list, rettype='gb')"
   ]
  },
  {
   "cell_type": "code",
   "execution_count": null,
   "id": "74c371cf-dca7-43fd-89fd-92e2a8c19dfa",
   "metadata": {},
   "outputs": [],
   "source": [
    "type(hdl)"
   ]
  },
  {
   "cell_type": "markdown",
   "id": "39f5a95b-c815-4145-b95e-49705426cecb",
   "metadata": {},
   "source": [
    "### 4) READ AND PARSE RESULT"
   ]
  },
  {
   "cell_type": "code",
   "execution_count": null,
   "id": "fd9b9ed2-93de-42e2-ae73-bce3ebe88ffd",
   "metadata": {},
   "outputs": [],
   "source": [
    "recs = list(SeqIO.parse(hdl,'gb'))"
   ]
  },
  {
   "cell_type": "markdown",
   "id": "b183a96d-e920-4f64-aa4e-cd1f6d1e10c6",
   "metadata": {},
   "source": [
    "### 5) LOOK AT A SINGLE RECORD (A DIFFERENT RECORD THAN IN BOOK)"
   ]
  },
  {
   "cell_type": "code",
   "execution_count": null,
   "id": "99ee89d9-f1ef-48a3-a47d-6b263a810b48",
   "metadata": {},
   "outputs": [],
   "source": [
    "recs[0].name"
   ]
  },
  {
   "cell_type": "code",
   "execution_count": null,
   "id": "e6673210-e18d-4bc4-bd90-201e52bc97ce",
   "metadata": {},
   "outputs": [],
   "source": [
    "recs[0].description"
   ]
  },
  {
   "cell_type": "code",
   "execution_count": null,
   "id": "3e2e3422-9100-46f7-a071-c41964d9da2d",
   "metadata": {
    "tags": []
   },
   "outputs": [],
   "source": [
    "help(recs[0])"
   ]
  },
  {
   "cell_type": "code",
   "execution_count": null,
   "id": "b2ff678f-650e-48c5-8cb5-85b092c5d347",
   "metadata": {},
   "outputs": [],
   "source": [
    "import ws_utils as ws\n",
    "ws.attrs(recs[0], skip=True)"
   ]
  },
  {
   "cell_type": "code",
   "execution_count": null,
   "id": "d0d13f54-2ac0-4c44-a388-d2329e4e451c",
   "metadata": {},
   "outputs": [],
   "source": [
    "ws.attrs(recs[0].reverse_complement())  # WS exploring"
   ]
  },
  {
   "cell_type": "code",
   "execution_count": null,
   "id": "8103675b-5483-487a-855a-3358c5e01778",
   "metadata": {},
   "outputs": [],
   "source": [
    "recs[0].annotations"
   ]
  },
  {
   "cell_type": "code",
   "execution_count": null,
   "id": "45bcfef2-4273-43e0-91f9-831ce4b4c373",
   "metadata": {},
   "outputs": [],
   "source": [
    "recs[0].features  # WS exploring"
   ]
  },
  {
   "cell_type": "code",
   "execution_count": null,
   "id": "4a480be4-e942-4f65-b58d-54cf924b0281",
   "metadata": {},
   "outputs": [],
   "source": [
    "ws.attrs(recs[0].features[0])"
   ]
  },
  {
   "cell_type": "code",
   "execution_count": null,
   "id": "c008e154-92d5-4ff8-97b9-ace460c57882",
   "metadata": {},
   "outputs": [],
   "source": [
    "ws.attrs(recs[0].features[0].qualifiers)"
   ]
  },
  {
   "cell_type": "code",
   "execution_count": null,
   "id": "49b63e45-9222-45a5-acbd-27973e35b005",
   "metadata": {},
   "outputs": [],
   "source": [
    "for jj in range(2):\n",
    "    print('{}\\n{}\\n'.format(recs[jj].name, recs[jj].description))"
   ]
  },
  {
   "cell_type": "code",
   "execution_count": null,
   "id": "99ec6037-692c-4d13-8ef8-3cef3802a75f",
   "metadata": {},
   "outputs": [],
   "source": [
    "# WS exploring\n",
    "for k in recs[0].features:\n",
    "    print('\\n{}'.format(k.qualifiers))"
   ]
  },
  {
   "cell_type": "markdown",
   "id": "beadeddb-8528-4f57-b8bf-371a59eb8887",
   "metadata": {},
   "source": [
    "### 6) EXTRACT SEQUENCE FEATURES"
   ]
  },
  {
   "cell_type": "code",
   "execution_count": null,
   "id": "130ec857-e372-46cf-bd14-49c648f1e113",
   "metadata": {},
   "outputs": [],
   "source": [
    "# WS created function get_info(), not done in text\n",
    "def get_info(rec):\n",
    "    for feature in rec.features:\n",
    "        #print('FEATURE TYPE: {}\\n'.format(feature.type))\n",
    "        if feature.type == 'gene':\n",
    "            print('\\nPROCESSED: GENE TYPE {}'.format(feature.qualifiers['gene']))\n",
    "        elif feature.type == 'exon':\n",
    "            loc = feature.location\n",
    "            print('\\nPROCESSED: EXON TYPE {}'.format(loc.start, loc.end, loc.strand))\n",
    "        else:\n",
    "            print('\\nNOT PROCESSED: {}'.format(feature))"
   ]
  },
  {
   "cell_type": "code",
   "execution_count": null,
   "id": "eb1fcf97-2695-4375-815a-cb186a441f4c",
   "metadata": {},
   "outputs": [],
   "source": [
    "get_info(recs[0])"
   ]
  },
  {
   "cell_type": "markdown",
   "id": "8cddd182-33bd-42cc-bd1f-6a9bf0854d0b",
   "metadata": {},
   "source": [
    "### 7) LOOK AT ANNOTATIONS"
   ]
  },
  {
   "cell_type": "code",
   "execution_count": null,
   "id": "7d91a7b9-04c9-489e-83f8-b0206a29c859",
   "metadata": {},
   "outputs": [],
   "source": [
    "for name, value in recs[10].annotations.items():\n",
    "    print('{} = {}'.format(name.upper(), value))"
   ]
  },
  {
   "cell_type": "markdown",
   "id": "f1cbc724-1d10-442d-975a-112abc7c3b95",
   "metadata": {},
   "source": [
    "### 8) LOOK AT SEQUENCE INFO"
   ]
  },
  {
   "cell_type": "code",
   "execution_count": null,
   "id": "9ed55ca2-10e5-46fd-bf28-fe74a8b67329",
   "metadata": {},
   "outputs": [],
   "source": [
    "type(recs[1].seq)"
   ]
  },
  {
   "cell_type": "code",
   "execution_count": null,
   "id": "3d112374-61d7-416c-b5df-42d8efaf9287",
   "metadata": {},
   "outputs": [],
   "source": [
    "print(recs[1].seq)"
   ]
  },
  {
   "cell_type": "code",
   "execution_count": null,
   "id": "b9ac4e4f-c598-40ed-9c28-7a864628b1e1",
   "metadata": {},
   "outputs": [],
   "source": [
    "print(recs[1].seq.reverse_complement_rna())"
   ]
  },
  {
   "cell_type": "code",
   "execution_count": null,
   "id": "b8e6ef5a-fa13-49e8-8dc8-cec9f22f1dbd",
   "metadata": {},
   "outputs": [],
   "source": [
    "print(recs[1].reverse_complement())"
   ]
  },
  {
   "cell_type": "code",
   "execution_count": null,
   "id": "4c8f381a-b409-4f48-988d-a0a8bfb89438",
   "metadata": {},
   "outputs": [],
   "source": [
    "print(recs[1].seq.lower())"
   ]
  },
  {
   "cell_type": "code",
   "execution_count": null,
   "id": "03fddca0-e1ef-41f0-8546-5d81a058dad6",
   "metadata": {},
   "outputs": [],
   "source": [
    "print(recs[1].seq.reverse_complement())"
   ]
  },
  {
   "cell_type": "code",
   "execution_count": null,
   "id": "29b2a542-2d88-4eb8-8f0c-508b2aa2a9a8",
   "metadata": {},
   "outputs": [],
   "source": [
    "recs[2].seq.translate()"
   ]
  },
  {
   "cell_type": "code",
   "execution_count": null,
   "id": "14b11725-25ca-4645-bd07-38fcec75db89",
   "metadata": {},
   "outputs": [],
   "source": [
    "for k in recs:\n",
    "    print('\\nID:   {}\\nDESC: {}\\nSEQ:  {}\\nTRANSLATE: {}'.\\\n",
    "          format(k.id, k.description, k.seq, k.seq.translate()))\n",
    "    for ref in k.annotations['references']:\n",
    "        print('PUBMED ID: {}'.format(ref.pubmed_id))"
   ]
  },
  {
   "cell_type": "code",
   "execution_count": null,
   "id": "d4dcc49b-a875-4bfe-bc0e-64940c3d00df",
   "metadata": {},
   "outputs": [],
   "source": [
    "# the above had no pubmed IDs, so didn't take this further: see this recipe in the book"
   ]
  },
  {
   "cell_type": "code",
   "execution_count": null,
   "id": "95a168bd-22cf-4cb2-a7ad-8fcb6d12ea81",
   "metadata": {},
   "outputs": [],
   "source": []
  }
 ],
 "metadata": {
  "kernelspec": {
   "display_name": "Python 3 (ipykernel)",
   "language": "python",
   "name": "python3"
  },
  "language_info": {
   "codemirror_mode": {
    "name": "ipython",
    "version": 3
   },
   "file_extension": ".py",
   "mimetype": "text/x-python",
   "name": "python",
   "nbconvert_exporter": "python",
   "pygments_lexer": "ipython3",
   "version": "3.10.6"
  }
 },
 "nbformat": 4,
 "nbformat_minor": 5
}

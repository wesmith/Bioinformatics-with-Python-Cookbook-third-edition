{
 "cells": [
  {
   "cell_type": "markdown",
   "id": "cc4c8581-2b3c-47f4-85fc-9113dcf8e388",
   "metadata": {},
   "source": [
    "# WS_ch02A.ipynb\n",
    "# WESmith 11/03/22\n",
    "## WS created this notebook to follow along chap 2 code from book \n",
    "# 'Bioinformatics with Python Cookbook' by Tiago Antao\n",
    "### Each recipe will have its own notebook, suffixed by A, B, etc.\n",
    "\n",
    "#### data at https://vaers.hhs.gov/data/datasets.html\n",
    "#### downloaded 2021VAERSData.zip"
   ]
  },
  {
   "cell_type": "code",
   "execution_count": null,
   "id": "46a08915-0e2e-48ab-9091-95e84523cc18",
   "metadata": {},
   "outputs": [],
   "source": [
    "import pandas as pd\n",
    "import numpy  as np\n",
    "import matplotlib.pyplot as plt\n",
    "import os"
   ]
  },
  {
   "cell_type": "markdown",
   "id": "661443b2-d815-47ab-aaf3-c113ca9289cc",
   "metadata": {},
   "source": [
    "# USING PANDAS TO PROCESS VACCINE-ADVERSE EVENTS"
   ]
  },
  {
   "cell_type": "code",
   "execution_count": null,
   "id": "0bc56744-36bb-44a2-9c77-41a9ef16f733",
   "metadata": {},
   "outputs": [],
   "source": [
    "data_dir     = 'data/ch02_data'\n",
    "data_file    = '2021VAERSDATA.csv.gz'\n",
    "vax_file     = '2021VAERSVAX.csv.gz'\n",
    "symtoms_file = '2021VAERSSYMPTOMS.csv.gz'\n",
    "encoding     = 'iso-8859-1'"
   ]
  },
  {
   "cell_type": "markdown",
   "id": "75ff685d-7a14-4407-bd16-e331dab3da7a",
   "metadata": {},
   "source": [
    "## GET THE PATIENT DATA"
   ]
  },
  {
   "cell_type": "code",
   "execution_count": null,
   "id": "d1d7f377-ba72-4f2e-874f-ca08a0f6d8ca",
   "metadata": {},
   "outputs": [],
   "source": [
    "vdata = pd.read_csv(os.path.join(data_dir, data_file), encoding=encoding, low_memory=False)"
   ]
  },
  {
   "cell_type": "code",
   "execution_count": null,
   "id": "1dfa300a-6284-4733-bf32-dc2c5a75b7b1",
   "metadata": {
    "tags": []
   },
   "outputs": [],
   "source": [
    "vdata.info()"
   ]
  },
  {
   "cell_type": "code",
   "execution_count": null,
   "id": "e6d9585a-ff11-44f5-8c23-c5e51854ee16",
   "metadata": {},
   "outputs": [],
   "source": [
    "vdata.columns"
   ]
  },
  {
   "cell_type": "code",
   "execution_count": null,
   "id": "38f831f9-f74a-4553-94bf-afcf8e4de352",
   "metadata": {
    "tags": []
   },
   "outputs": [],
   "source": [
    "vdata.dtypes"
   ]
  },
  {
   "cell_type": "code",
   "execution_count": null,
   "id": "83429680-2bf1-4d83-b2c6-b9c23dc205ff",
   "metadata": {},
   "outputs": [],
   "source": [
    "vdata.shape"
   ]
  },
  {
   "cell_type": "code",
   "execution_count": null,
   "id": "49385fc4-5b83-4d7d-9c58-4b4c11ec73d2",
   "metadata": {
    "tags": []
   },
   "outputs": [],
   "source": [
    "vdata.iloc[0]"
   ]
  },
  {
   "cell_type": "code",
   "execution_count": null,
   "id": "76ca672d-74f8-4e5b-ba31-39fb765bc4e0",
   "metadata": {},
   "outputs": [],
   "source": [
    "vdata = vdata.set_index(\"VAERS_ID\")"
   ]
  },
  {
   "cell_type": "code",
   "execution_count": null,
   "id": "fa705c87-dcaa-4d72-a0de-21586da392e8",
   "metadata": {
    "tags": []
   },
   "outputs": [],
   "source": [
    "vdata.loc[916600]"
   ]
  },
  {
   "cell_type": "code",
   "execution_count": null,
   "id": "b71dac26-115d-4c35-af4b-f83738ba74f9",
   "metadata": {
    "tags": []
   },
   "outputs": [],
   "source": [
    "vdata.head(3)"
   ]
  },
  {
   "cell_type": "code",
   "execution_count": null,
   "id": "7c419219-5e91-4303-8585-489f1235b930",
   "metadata": {
    "tags": []
   },
   "outputs": [],
   "source": [
    "vdata.iloc[:3]  # WS same as above, using numpy slicing format (ie, 0,1,2 included)"
   ]
  },
  {
   "cell_type": "code",
   "execution_count": null,
   "id": "7d1a67de-1ab0-4345-8924-3f2f25357f4d",
   "metadata": {},
   "outputs": [],
   "source": [
    "vdata.iloc[:5, 2:4]  # WS cols 2,3 included; numpy slicing for iloc; VAERS_ID is no longer a column"
   ]
  },
  {
   "cell_type": "code",
   "execution_count": null,
   "id": "71012c32-bd2e-4758-b85e-1c1cab8e3741",
   "metadata": {},
   "outputs": [],
   "source": [
    "vdata['AGE_YRS'].max()"
   ]
  },
  {
   "cell_type": "code",
   "execution_count": null,
   "id": "ecdede51-8d1b-4f23-ac20-1edd5725fa25",
   "metadata": {},
   "outputs": [],
   "source": [
    "vdata.AGE_YRS.max()"
   ]
  },
  {
   "cell_type": "code",
   "execution_count": null,
   "id": "60ff134c-302a-4755-8df6-647acdbb4e13",
   "metadata": {},
   "outputs": [],
   "source": [
    "vdata['AGE_YRS'].sort_values().head()  # indexes are all over the place"
   ]
  },
  {
   "cell_type": "code",
   "execution_count": null,
   "id": "3037110c-de39-4f29-b46f-e5c577c15e9e",
   "metadata": {},
   "outputs": [],
   "source": [
    "vdata['AGE_YRS'].sort_values().plot(use_index=False, grid=True, figsize=[10,5])  # WS added grid, figsize\n",
    "plt.show()"
   ]
  },
  {
   "cell_type": "code",
   "execution_count": null,
   "id": "84575dfc-1e50-45d4-a2b8-5bd377368532",
   "metadata": {},
   "outputs": [],
   "source": [
    "vdata['AGE_YRS'].plot.hist(bins=40, grid=True, figsize=[10,5])\n",
    "plt.show()"
   ]
  },
  {
   "cell_type": "code",
   "execution_count": null,
   "id": "2ba91e4a-713c-4932-8208-2e0e2758ecb2",
   "metadata": {},
   "outputs": [],
   "source": [
    "fig, ax = plt.subplots(1, 2, sharey=True, figsize=[10,5])\n",
    "fig.suptitle(\"Age of adverse events\")\n",
    "vdata[\"AGE_YRS\"].sort_values().plot(use_index=False, ax=ax[0], xlabel=\"Observation\", ylabel=\"Age\", grid=True)\n",
    "vdata[\"AGE_YRS\"].plot.hist(bins=40, orientation='horizontal', grid=True)\n",
    "plt.show()"
   ]
  },
  {
   "cell_type": "code",
   "execution_count": null,
   "id": "c824bd63-e786-4f57-ab79-a8a4962e85ad",
   "metadata": {},
   "outputs": [],
   "source": [
    "vdata['AGE_YRS'].dropna().apply(lambda x: int(x)).value_counts()"
   ]
  },
  {
   "cell_type": "code",
   "execution_count": null,
   "id": "5b38fb5c-a8c1-4314-906a-1e0d39eb56fc",
   "metadata": {},
   "outputs": [],
   "source": [
    "vdata['AGE_YRS'].value_counts()  # WS most ages have no fraction\n",
    "# WS many rows may round down to 0, so they have more than 1 instance, and don't show in the tail above"
   ]
  },
  {
   "cell_type": "code",
   "execution_count": null,
   "id": "39e41a5b-9679-471d-8e27-95430f635e10",
   "metadata": {},
   "outputs": [],
   "source": [
    "vdata['DIED'].value_counts(dropna=False)"
   ]
  },
  {
   "cell_type": "code",
   "execution_count": null,
   "id": "c7e46e05-3f63-4807-b113-834859d24809",
   "metadata": {},
   "outputs": [],
   "source": [
    "vdata['DIED'].value_counts(dropna=True)"
   ]
  },
  {
   "cell_type": "code",
   "execution_count": null,
   "id": "ae1cc6d5-4690-4106-bb70-2fbd8a3b6564",
   "metadata": {},
   "outputs": [],
   "source": [
    "vdata['is_dead'] = (vdata['DIED'] == 'Y')"
   ]
  },
  {
   "cell_type": "code",
   "execution_count": null,
   "id": "74f17229-25f7-4d7a-9e08-1171153a0d59",
   "metadata": {},
   "outputs": [],
   "source": [
    "vdata['is_dead'].value_counts()"
   ]
  },
  {
   "cell_type": "code",
   "execution_count": null,
   "id": "bfbb886b-7d15-4c2c-ba00-6cd6dcd83aa3",
   "metadata": {
    "tags": []
   },
   "outputs": [],
   "source": [
    "dead = vdata[vdata['is_dead']]\n",
    "dead.head(3)"
   ]
  },
  {
   "cell_type": "markdown",
   "id": "e9a1e455-a05e-495b-9174-9622a21ecb00",
   "metadata": {},
   "source": [
    "## GET THE VACCINE DATA"
   ]
  },
  {
   "cell_type": "code",
   "execution_count": null,
   "id": "b0af55a9-d3de-47da-8f1e-fc65b8f1c0f0",
   "metadata": {},
   "outputs": [],
   "source": [
    "vax = pd.read_csv(os.path.join(data_dir, vax_file), encoding=encoding).set_index('VAERS_ID')"
   ]
  },
  {
   "cell_type": "code",
   "execution_count": null,
   "id": "061ae827-7379-4756-87ab-c577161f4edc",
   "metadata": {},
   "outputs": [],
   "source": [
    "vax.shape"
   ]
  },
  {
   "cell_type": "code",
   "execution_count": null,
   "id": "baf66b91-12ca-4477-b420-98759d1176d6",
   "metadata": {},
   "outputs": [],
   "source": [
    "vax.columns"
   ]
  },
  {
   "cell_type": "code",
   "execution_count": null,
   "id": "cbb58c18-3d4a-4175-959a-ca9b3bbbc6c4",
   "metadata": {},
   "outputs": [],
   "source": [
    "vax['VAX_TYPE'].describe()  # WS 69 vax types"
   ]
  },
  {
   "cell_type": "code",
   "execution_count": null,
   "id": "43acd842-e37d-4f2d-833b-f4ef8cc6d847",
   "metadata": {},
   "outputs": [],
   "source": [
    "vax['VAX_TYPE'].unique()   # WS and here they are"
   ]
  },
  {
   "cell_type": "code",
   "execution_count": null,
   "id": "79f805da-f4c4-4a78-87c0-b824ead6bb9c",
   "metadata": {
    "tags": []
   },
   "outputs": [],
   "source": [
    "vt = vax.groupby('VAX_TYPE').size().sort_values()  # WS to see the frequency of vaccines\n",
    "vt # a series object"
   ]
  },
  {
   "cell_type": "code",
   "execution_count": null,
   "id": "02e26ac6-81e0-4df5-a19c-c91336a1b38a",
   "metadata": {},
   "outputs": [],
   "source": [
    "vt.reset_index()  # turn series object into a dataframe object"
   ]
  },
  {
   "cell_type": "code",
   "execution_count": null,
   "id": "dd8319de-7fd1-44d2-aee4-b746909aa9f2",
   "metadata": {},
   "outputs": [],
   "source": [
    "vax19 = vax[vax.VAX_TYPE == 'COVID19']"
   ]
  },
  {
   "cell_type": "code",
   "execution_count": null,
   "id": "5480dbc5-cc07-4a3e-ad7b-ff28cdf3e99c",
   "metadata": {},
   "outputs": [],
   "source": [
    "vax19.columns"
   ]
  },
  {
   "cell_type": "code",
   "execution_count": null,
   "id": "88ed86bc-29f5-4ffc-a395-22c86d43f784",
   "metadata": {},
   "outputs": [],
   "source": [
    "vax19['VAX_MANU'].unique()  # WS"
   ]
  },
  {
   "cell_type": "code",
   "execution_count": null,
   "id": "916d8983-fc33-4a47-9ad5-b5b2490a8adb",
   "metadata": {
    "tags": []
   },
   "outputs": [],
   "source": [
    "dead.head(3)"
   ]
  },
  {
   "cell_type": "code",
   "execution_count": null,
   "id": "cb709e16-fa9f-403c-bdaf-9420001996a4",
   "metadata": {},
   "outputs": [],
   "source": [
    "vax19.head(3)"
   ]
  },
  {
   "cell_type": "markdown",
   "id": "ecb12b73-2f81-4c61-aad6-28ad0ca21523",
   "metadata": {},
   "source": [
    "## JOINING DATAFRAMES"
   ]
  },
  {
   "cell_type": "code",
   "execution_count": null,
   "id": "c041baed-7497-48bc-86df-085b900a8031",
   "metadata": {},
   "outputs": [],
   "source": [
    "vax19_dead = dead.join(vax19) # WS join on the indexex (VAERS_ID for both dataframes): left join by default"
   ]
  },
  {
   "cell_type": "code",
   "execution_count": null,
   "id": "16e12bf0-f258-425e-8377-586987934768",
   "metadata": {
    "tags": []
   },
   "outputs": [],
   "source": [
    "vax19_dead.info()"
   ]
  },
  {
   "cell_type": "code",
   "execution_count": null,
   "id": "82816349-c565-4d3c-87d0-45165380e392",
   "metadata": {},
   "outputs": [],
   "source": [
    "# WS equivalent with merge(): explicitly set index matching for left and right\n",
    "vax19_dead_merge = pd.merge(dead, vax19, how='left', left_index=True, right_index=True)"
   ]
  },
  {
   "cell_type": "code",
   "execution_count": null,
   "id": "cbf43b84-3fa6-4b56-991f-6943d1b7677e",
   "metadata": {
    "tags": []
   },
   "outputs": [],
   "source": [
    "vax19_dead_merge.info()"
   ]
  },
  {
   "cell_type": "code",
   "execution_count": null,
   "id": "afbc1aaf-8b40-461a-9fb6-41030f47b4a1",
   "metadata": {},
   "outputs": [],
   "source": [
    "vax19_dead.compare(vax19_dead_merge)"
   ]
  },
  {
   "cell_type": "code",
   "execution_count": null,
   "id": "0042209e-90c2-481a-9ed5-a140c52f9435",
   "metadata": {},
   "outputs": [],
   "source": [
    "vax19_dead.equals(vax19_dead_merge)"
   ]
  },
  {
   "cell_type": "code",
   "execution_count": null,
   "id": "66d6f220-805b-4fee-b992-e89ff557123c",
   "metadata": {},
   "outputs": [],
   "source": [
    "vax19_dead.columns"
   ]
  },
  {
   "cell_type": "code",
   "execution_count": null,
   "id": "8a0fab3a-05e9-4aba-8847-f1a43a0e3b87",
   "metadata": {},
   "outputs": [],
   "source": [
    "baddies = vax19_dead.groupby('VAX_LOT').size().sort_values(ascending=False)\n",
    "baddies.reset_index().head(10)  # WS show as dataframe with reset_index()"
   ]
  },
  {
   "cell_type": "code",
   "execution_count": null,
   "id": "af3109ba-2b58-4553-a39a-338d09fb89a1",
   "metadata": {
    "tags": []
   },
   "outputs": [],
   "source": [
    "vax19_dead[vax19_dead['VAX_LOT']=='ER8727'].head(50)"
   ]
  },
  {
   "cell_type": "code",
   "execution_count": null,
   "id": "de1f4d53-670a-4b60-bb11-12a54668ca2e",
   "metadata": {},
   "outputs": [],
   "source": [
    "type(baddies)"
   ]
  },
  {
   "cell_type": "code",
   "execution_count": null,
   "id": "a95edb48-7999-475d-8743-2153d2a4ab40",
   "metadata": {},
   "outputs": [],
   "source": [
    "for i, (lot, cnt) in enumerate(baddies.items()):\n",
    "    if i == 0:  # WS\n",
    "        print('LOT, NUM DEATHS  NUM STATES WITH THAT LOT')\n",
    "    print(lot, cnt, len(vax19_dead[vax19_dead['VAX_LOT']==lot].groupby(\"STATE\")))\n",
    "    if i == 10: \n",
    "        break"
   ]
  },
  {
   "cell_type": "code",
   "execution_count": null,
   "id": "5d4e1b69-502d-44e8-a1aa-ae381eab0e48",
   "metadata": {},
   "outputs": [],
   "source": [
    "# WS isolate groupby\n",
    "# have to use fillna() to show state labels that are NaN as something, to count the number of\n",
    "# patients correctly for NaN states\n",
    "gg = vax19_dead[vax19_dead['VAX_LOT']=='EN6201'].fillna('state_missing').groupby(\"STATE\")\n",
    "len(gg), gg.size().sum(), type(gg)\n",
    "# length of gg (number of states) may be 1 more than result derived from baddies, since some lots\n",
    "# show NaN for the state, and this is counted as 1 state"
   ]
  },
  {
   "cell_type": "code",
   "execution_count": null,
   "id": "87759e0d-c948-4cd3-8d5c-53b687b62b91",
   "metadata": {
    "tags": []
   },
   "outputs": [],
   "source": [
    "gg.size().sort_values(ascending=False)"
   ]
  },
  {
   "cell_type": "code",
   "execution_count": null,
   "id": "3260b940-c805-4c4a-a955-1bd9a051cde0",
   "metadata": {},
   "outputs": [],
   "source": [
    "baddies"
   ]
  },
  {
   "cell_type": "code",
   "execution_count": null,
   "id": "998c4625-bb71-4fe1-9903-9d2f3ef95e18",
   "metadata": {
    "tags": []
   },
   "outputs": [],
   "source": [
    "# WS It doesn't seem possible to turn a groupby object into a series or dataframe object\n",
    "# directly. The groupby object appears to be iterable (but it is NOT an iterator according to \n",
    "# online discussion: ie, next() doesn't work on it). It is necessary to do an operation on the \n",
    "# group (eg, .size(), len(), ...) to get a series object out.\n",
    "len(gg), gg.size().sort_values(ascending=False).sum()"
   ]
  },
  {
   "cell_type": "markdown",
   "id": "5765d17d-8df6-4e35-8b14-fe0e64a3e1b1",
   "metadata": {},
   "source": [
    "## GROUPBY ANALYSIS (WS ADDED THIS)\n",
    "### a good source of info:\n",
    "### https://towardsdatascience.com/all-pandas-groupby-you-should-know-for-grouping-data-and-performing-operations-2a8ec1327b5"
   ]
  },
  {
   "cell_type": "code",
   "execution_count": null,
   "id": "e8d6750f-40e4-40ab-91ff-6f34a3b2241a",
   "metadata": {},
   "outputs": [],
   "source": [
    "# WS make a subset of data\n",
    "vax19_dead.columns"
   ]
  },
  {
   "cell_type": "code",
   "execution_count": null,
   "id": "f9134bb4-f130-4bf5-9e34-3494eb8d14a4",
   "metadata": {
    "tags": []
   },
   "outputs": [],
   "source": [
    "# WS make a subset of data to simplify\n",
    "vax19_dead_subset = vax19_dead.loc[:, ['STATE', 'VAX_TYPE', 'VAX_MANU', 'VAX_LOT', 'VAX_NAME']]\n",
    "vax19_dead_subset"
   ]
  },
  {
   "cell_type": "code",
   "execution_count": null,
   "id": "e73b58de-a20f-426f-ba64-a8360687cf50",
   "metadata": {},
   "outputs": [],
   "source": [
    "aa = vax19_dead.groupby('VAX_MANU').size().sort_values(ascending=False).reset_index()\n",
    "aa"
   ]
  },
  {
   "cell_type": "code",
   "execution_count": null,
   "id": "ddae648c-ed42-4f86-bfb1-1cb95785ce6c",
   "metadata": {},
   "outputs": [],
   "source": [
    "# see how many manufacturers are in all patients\n",
    "vax19_all = vdata.join(vax19)  # WS this is all patients, alive or dead, that took covid19 vaccine"
   ]
  },
  {
   "cell_type": "code",
   "execution_count": null,
   "id": "e0e6f5cf-0b10-4bde-9f98-1c37ddf3e0c9",
   "metadata": {},
   "outputs": [],
   "source": [
    "bb = vax19_all.groupby('VAX_MANU').size().sort_values(ascending=False).reset_index()\n",
    "bb"
   ]
  },
  {
   "cell_type": "code",
   "execution_count": null,
   "id": "dc006081-a2a7-44f3-a7f2-423d02b0bb48",
   "metadata": {},
   "outputs": [],
   "source": [
    "mm = pd.merge(aa, bb, on='VAX_MANU')\n",
    "mm.rename(columns={'0_x': 'died', '0_y': 'total'}, inplace=True)\n",
    "mm"
   ]
  },
  {
   "cell_type": "code",
   "execution_count": null,
   "id": "566ac0ca-acba-419c-b963-59c26b993d01",
   "metadata": {},
   "outputs": [],
   "source": [
    "mm['%'] = mm.apply(lambda x: 100 * x['died']/x['total'], axis=1)\n",
    "mm"
   ]
  },
  {
   "cell_type": "code",
   "execution_count": null,
   "id": "58868afc-e7aa-4920-a5e3-4a97a17e7e80",
   "metadata": {},
   "outputs": [],
   "source": [
    "vax19_dead.groupby('NUMDAYS').size().sort_values(ascending=False).plot.hist(bins=400, \n",
    "                                                                            figsize=[15,5], \n",
    "                                                                            grid=True,\n",
    "                                                                            )\n",
    "plt.show()"
   ]
  },
  {
   "cell_type": "code",
   "execution_count": null,
   "id": "41da8a41-742a-408f-aa4c-821ab7e41fdb",
   "metadata": {},
   "outputs": [],
   "source": [
    "vax19_dead.groupby('NUMDAYS').size().sort_values(ascending=False).plot.hist(bins=100, \n",
    "                                                                            figsize=[15,5], \n",
    "                                                                            grid=True,\n",
    "                                                                            range=[0,50])\n",
    "plt.show()"
   ]
  },
  {
   "cell_type": "code",
   "execution_count": null,
   "id": "8dcba1c2-fa2d-4810-9fcf-2d4a7fd3e8d5",
   "metadata": {
    "tags": []
   },
   "outputs": [],
   "source": [
    "vax19_dead.groupby('STATE').size().sort_values(ascending=False).reset_index()"
   ]
  },
  {
   "cell_type": "code",
   "execution_count": null,
   "id": "960085fc-633a-41b1-863a-a3af65104515",
   "metadata": {},
   "outputs": [],
   "source": [
    "aa = vax19_dead.groupby('STATE').size() #.plot(x_compat=True, figsize=[20,5], grid=True,)\n",
    "# plot with matplotlib directly to get all of the states to show\n",
    "fig = plt.figure(figsize=[20,5])\n",
    "plt.plot(aa)\n",
    "plt.grid(True)"
   ]
  },
  {
   "cell_type": "code",
   "execution_count": null,
   "id": "cf745bce-9f23-42e3-a2a3-24e6269b4f9a",
   "metadata": {},
   "outputs": [],
   "source": [
    "# WS demonstration that a groupby object is an iterable (it is NOT an iterator: next() doesn't work)\n",
    "jj = [(state, dframe) for (state, dframe) in gg]"
   ]
  },
  {
   "cell_type": "code",
   "execution_count": null,
   "id": "1862abb5-1a71-442f-aca6-89869a8b69f2",
   "metadata": {},
   "outputs": [],
   "source": [
    "jj[0][0]  # the state"
   ]
  },
  {
   "cell_type": "code",
   "execution_count": null,
   "id": "87dfdf7e-bf10-4725-941e-b7e18dfa0454",
   "metadata": {},
   "outputs": [],
   "source": [
    "jj[0][1]  # the dataframe for this state"
   ]
  },
  {
   "cell_type": "code",
   "execution_count": null,
   "id": "9dc88dbb-c408-4709-9604-aa3c7159418f",
   "metadata": {},
   "outputs": [],
   "source": [
    "# WS can do the above groupby a different way: the type is different, but the length is the same\n",
    "dd = vax19_dead[vax19_dead['VAX_LOT']=='EN6201']['STATE'].value_counts()\n",
    "len(dd), type(dd)"
   ]
  },
  {
   "cell_type": "code",
   "execution_count": null,
   "id": "4524e41e-263a-4bec-b873-d53513e93e03",
   "metadata": {
    "tags": []
   },
   "outputs": [],
   "source": [
    "dd"
   ]
  },
  {
   "cell_type": "code",
   "execution_count": null,
   "id": "b1235996-2a92-4be4-8ce8-d25d5971bfbb",
   "metadata": {},
   "outputs": [],
   "source": [
    "# who made lot EN6201?  several manufacturers\n",
    "vax[vax['VAX_LOT']=='EN6201']['VAX_MANU'].unique()"
   ]
  },
  {
   "cell_type": "code",
   "execution_count": null,
   "id": "879f5fe0-cd1c-4359-8132-cf46b25be143",
   "metadata": {},
   "outputs": [],
   "source": [
    "# who made lot EN6200?  several manufacturers\n",
    "vax[vax['VAX_LOT']=='EN6200']['VAX_MANU'].unique()"
   ]
  },
  {
   "cell_type": "code",
   "execution_count": null,
   "id": "e128f757-bf74-4808-8145-08eec4d21bad",
   "metadata": {},
   "outputs": [],
   "source": [
    "# who made lot EL0140?  several manufacturers\n",
    "vax[vax['VAX_LOT']=='EL0140']['VAX_MANU'].unique()"
   ]
  },
  {
   "cell_type": "code",
   "execution_count": null,
   "id": "e96e2af4-4786-4a2d-af31-13cc5e3e17c6",
   "metadata": {},
   "outputs": [],
   "source": []
  }
 ],
 "metadata": {
  "kernelspec": {
   "display_name": "Python 3 (ipykernel)",
   "language": "python",
   "name": "python3"
  },
  "language_info": {
   "codemirror_mode": {
    "name": "ipython",
    "version": 3
   },
   "file_extension": ".py",
   "mimetype": "text/x-python",
   "name": "python",
   "nbconvert_exporter": "python",
   "pygments_lexer": "ipython3",
   "version": "3.10.6"
  }
 },
 "nbformat": 4,
 "nbformat_minor": 5
}

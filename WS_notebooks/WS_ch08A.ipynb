{
 "cells": [
  {
   "cell_type": "markdown",
   "id": "0add6100-f81c-4733-a248-23f6990b65e4",
   "metadata": {},
   "source": [
    "# WS_ch08A.ipynb\n",
    "### WESmith 04/16/23\n",
    "\n",
    "## FINDING A PROTEIN IN MULTIPLE DATABASES\n",
    "#### (see book code in Chapter08/Intro.py)\n",
    "\n",
    "### WS created this notebook to follow along with code from the book\n",
    "### 'Bioinformatics with Python Cookbook' by Tiago Antao\n",
    "#### Each recipe will have its own notebook, suffixed by A, B, etc.¶"
   ]
  },
  {
   "cell_type": "code",
   "execution_count": null,
   "id": "5e12b067-f0ca-4918-b576-6e6f77078de7",
   "metadata": {},
   "outputs": [],
   "source": [
    "from collections import defaultdict\n",
    "import requests\n",
    "from Bio import ExPASy, SwissProt\n",
    "import pandas as pd\n",
    "import io"
   ]
  },
  {
   "cell_type": "code",
   "execution_count": null,
   "id": "f62d4a94-6a2d-4e3c-94ae-23fef9266ae0",
   "metadata": {},
   "outputs": [],
   "source": [
    "import Bio"
   ]
  },
  {
   "cell_type": "code",
   "execution_count": null,
   "id": "35b70a77-3fe9-4509-a8b3-afdb6d0e8768",
   "metadata": {},
   "outputs": [],
   "source": [
    "Bio.__version__  # version 1.79 didn't work for SwissProt access; version 1.81 works"
   ]
  },
  {
   "cell_type": "code",
   "execution_count": null,
   "id": "68094b55-545a-4853-ab90-46fd8373a791",
   "metadata": {},
   "outputs": [],
   "source": [
    "# this chapter is out of date for accessing UNIPROT; see REST API and new formats at \n",
    "# https://www.uniprot.org/help/api_queries"
   ]
  },
  {
   "cell_type": "code",
   "execution_count": null,
   "id": "6e4b6f5b-c590-43a4-8f06-94a674616cbe",
   "metadata": {},
   "outputs": [],
   "source": [
    "# WS get the allowed fields from https://www.uniprot.org/help/return_fields\n",
    "# WS this is the REST API\n",
    "server = \"https://rest.uniprot.org/uniprotkb/search?\""
   ]
  },
  {
   "cell_type": "code",
   "execution_count": null,
   "id": "a40e1935-4602-45b7-94a6-4ea7c1d3c324",
   "metadata": {},
   "outputs": [],
   "source": [
    "#query = 'organism_id:9606'  # test case: human id\n",
    "query  = 'gene:P53'  # example in book\n",
    "query += '+AND+reviewed:true'\n",
    "params = {'query':query, \n",
    "          'format':'tsv',\n",
    "          'fields':'accession,id,length,organism_id,organism_name,xref_pdb,xref_hgnc',\n",
    "          'size':'50'} # size tested on 'organism_id' query; it works"
   ]
  },
  {
   "cell_type": "code",
   "execution_count": null,
   "id": "74421955-c1e4-4c50-a5fd-64651d94b206",
   "metadata": {},
   "outputs": [],
   "source": [
    "def get_request(server, **kwargs):  # WS new function\n",
    "    txt = server\n",
    "    for j, k in kwargs.items():\n",
    "        txt += j + '=' + k + '&'\n",
    "    txt = txt[:-1] # strip off last '&'\n",
    "    req = requests.get(txt)\n",
    "    if not req.ok:\n",
    "        req.raise_for_status()\n",
    "    return req"
   ]
  },
  {
   "cell_type": "code",
   "execution_count": null,
   "id": "0ee8e8a4-7149-4238-8a83-c5c8398b1576",
   "metadata": {},
   "outputs": [],
   "source": [
    "req = get_request(server, **params)"
   ]
  },
  {
   "cell_type": "code",
   "execution_count": null,
   "id": "a33da773-a27e-4397-9531-2520956d9b5b",
   "metadata": {
    "tags": []
   },
   "outputs": [],
   "source": [
    "uniprot_list = pd.read_table(io.StringIO(req.text))\n",
    "uniprot_list.rename(columns={'Organism (ID)': 'ID'}, inplace=True)\n",
    "uniprot_list"
   ]
  },
  {
   "cell_type": "code",
   "execution_count": null,
   "id": "fb9d5e87-93de-4cef-a3b4-3a34714d49b2",
   "metadata": {},
   "outputs": [],
   "source": [
    "p53_human = uniprot_list[\n",
    "            (uniprot_list.ID == 9606) &\n",
    "            (uniprot_list['Entry Name'].str.contains('P53'))]['Entry'].iloc[0]\n",
    "p53_human"
   ]
  },
  {
   "cell_type": "code",
   "execution_count": null,
   "id": "d0c7603d-a66a-499d-aa88-8aecfb9ed421",
   "metadata": {},
   "outputs": [],
   "source": [
    "handle = ExPASy.get_sprot_raw(p53_human)"
   ]
  },
  {
   "cell_type": "code",
   "execution_count": null,
   "id": "bc234e80-05ca-459b-8c93-49fb252f3270",
   "metadata": {},
   "outputs": [],
   "source": [
    "handle.url"
   ]
  },
  {
   "cell_type": "code",
   "execution_count": null,
   "id": "892626c4-6796-47c3-b38f-8f6156d237eb",
   "metadata": {},
   "outputs": [],
   "source": [
    "sp_rec = SwissProt.read(handle)"
   ]
  },
  {
   "cell_type": "code",
   "execution_count": null,
   "id": "11dfb384-fa03-43fe-8d27-d3d7a0f1088d",
   "metadata": {},
   "outputs": [],
   "source": [
    "print(sp_rec.entry_name, sp_rec.sequence_length, sp_rec.gene_name); print()\n",
    "print(sp_rec.description); print()\n",
    "print(sp_rec.organism, sp_rec.seqinfo); print()\n",
    "print(sp_rec.sequence); print()\n",
    "#print(sp_rec.comments); print()  # very long\n",
    "print(sp_rec.keywords)"
   ]
  },
  {
   "cell_type": "code",
   "execution_count": null,
   "id": "6145043a-105e-4cff-9074-6b27d4ce3023",
   "metadata": {
    "tags": []
   },
   "outputs": [],
   "source": [
    "help(sp_rec)"
   ]
  },
  {
   "cell_type": "code",
   "execution_count": null,
   "id": "21d6bfc1-338f-49b3-8c2d-3e1865352ed0",
   "metadata": {
    "tags": []
   },
   "outputs": [],
   "source": [
    "print('Total features:', len(sp_rec.features))"
   ]
  },
  {
   "cell_type": "code",
   "execution_count": null,
   "id": "528f9415-63b0-4cba-9163-6221713d4bc2",
   "metadata": {
    "tags": []
   },
   "outputs": [],
   "source": [
    "done_features = set()\n",
    "num_items = defaultdict(int) # WS calculate how many of each feature type\n",
    "for feature in sp_rec.features:\n",
    "    # WS had to add .type (book out of date)\n",
    "    num_items[feature.type] += 1\n",
    "    if feature.type in done_features:\n",
    "        continue\n",
    "    else:\n",
    "        done_features.add(feature.type)\n",
    "        print(feature)"
   ]
  },
  {
   "cell_type": "code",
   "execution_count": null,
   "id": "afaa9963-c584-4a85-bb68-1104c26e13cd",
   "metadata": {},
   "outputs": [],
   "source": [
    "# WS get the counts per feature\n",
    "sum = 0\n",
    "for j, k in num_items.items():\n",
    "    sum += k\n",
    "    print('{:10}{:5}'.format(j, k))\n",
    "print('{:10}{:5}'.format('total', sum))"
   ]
  },
  {
   "cell_type": "code",
   "execution_count": null,
   "id": "738bfc87-0b4a-4346-ae7f-67200d310c2a",
   "metadata": {
    "tags": []
   },
   "outputs": [],
   "source": [
    "print('Cross references: ',len(sp_rec.cross_references))"
   ]
  },
  {
   "cell_type": "code",
   "execution_count": null,
   "id": "d7e901f1-06f6-4ca8-8985-286fbf5e6481",
   "metadata": {
    "tags": []
   },
   "outputs": [],
   "source": [
    "per_source = defaultdict(list)\n",
    "for xref in sp_rec.cross_references:\n",
    "    source = xref[0]\n",
    "    per_source[source].append(xref[1:])\n",
    "print(per_source.keys())"
   ]
  },
  {
   "cell_type": "code",
   "execution_count": null,
   "id": "debe7a4a-d7df-4d93-8d5c-40d947f10379",
   "metadata": {
    "tags": []
   },
   "outputs": [],
   "source": [
    "per_source['PDB']  # I looked at a few of these with Jmol: very neat"
   ]
  },
  {
   "cell_type": "code",
   "execution_count": null,
   "id": "b82f5e2a-07ca-4305-9909-96de6ce69fae",
   "metadata": {
    "tags": []
   },
   "outputs": [],
   "source": [
    "done_GOs = set()\n",
    "print('Annotation SOURCES:', len(per_source['GO']))"
   ]
  },
  {
   "cell_type": "code",
   "execution_count": null,
   "id": "95dbbeaf-ea4d-41d1-a305-dfeee75eeaaa",
   "metadata": {
    "tags": []
   },
   "outputs": [],
   "source": [
    "for annot in per_source['GO']:\n",
    "    if annot[1][0] in done_GOs:\n",
    "        continue\n",
    "    else:\n",
    "        done_GOs.add(annot[1][0])\n",
    "        print(annot)"
   ]
  },
  {
   "cell_type": "code",
   "execution_count": null,
   "id": "13e53743-e505-4c35-81af-d26566e8cc76",
   "metadata": {},
   "outputs": [],
   "source": [
    "done_GOs"
   ]
  },
  {
   "cell_type": "code",
   "execution_count": null,
   "id": "118f75ce-7f7c-4913-abf4-fe433d3c8592",
   "metadata": {},
   "outputs": [],
   "source": [
    "per_source['GO'][0][1] # [0] of this is 'C' the first character"
   ]
  },
  {
   "cell_type": "code",
   "execution_count": null,
   "id": "15411697-3e35-40df-a798-4ec1374f739d",
   "metadata": {},
   "outputs": [],
   "source": []
  },
  {
   "cell_type": "code",
   "execution_count": null,
   "id": "901ed326-f38f-44e7-bac0-2b1447b12ddd",
   "metadata": {},
   "outputs": [],
   "source": []
  }
 ],
 "metadata": {
  "kernelspec": {
   "display_name": "Python 3 (ipykernel)",
   "language": "python",
   "name": "python3"
  },
  "language_info": {
   "codemirror_mode": {
    "name": "ipython",
    "version": 3
   },
   "file_extension": ".py",
   "mimetype": "text/x-python",
   "name": "python",
   "nbconvert_exporter": "python",
   "pygments_lexer": "ipython3",
   "version": "3.10.6"
  }
 },
 "nbformat": 4,
 "nbformat_minor": 5
}

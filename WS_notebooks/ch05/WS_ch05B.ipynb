{
 "cells": [
  {
   "cell_type": "markdown",
   "id": "4169b6de-97c0-4d03-8a07-d66a8050fe7e",
   "metadata": {},
   "source": [
    "# WS_ch05B.ipynb\n",
    "# WESmith 11/25/22\n",
    "## WS created this notebook to follow along with the code in the book:\n",
    "## 'Bioinformatics with Python Cookbook' by Tiago Antao\n",
    "## Each recipe will have its own notebook, suffixed by A, B, etc.¶"
   ]
  },
  {
   "cell_type": "markdown",
   "id": "ef30fdcc-f094-4d01-91bf-8630288cda6b",
   "metadata": {},
   "source": [
    "# RECIPE: \n",
    "# WORKING WITH LOW-QUALITY REFERENCE GENOMES\n",
    "## also see book code in Chapter05/Low_Quality.py¶"
   ]
  },
  {
   "cell_type": "code",
   "execution_count": null,
   "id": "dc9b5591-3114-42d0-a944-bfa7936fcda8",
   "metadata": {},
   "outputs": [],
   "source": [
    "import gzip\n",
    "import os\n",
    "import numpy as np\n",
    "import matplotlib.pyplot as plt\n",
    "from Bio import SeqIO, SeqUtils"
   ]
  },
  {
   "cell_type": "raw",
   "id": "d8054398-637c-4cd3-bc72-e60f750ba2ac",
   "metadata": {},
   "source": [
    "# files to get: see enotes 11/26/22 early AM for correct links\n",
    "\n",
    "- correct links here: (links in Low_Quality.py are incorrect)\n",
    "\n",
    "https://vectorbase.org/common/downloads/release-57/AgambiaePEST/fasta/data/VectorBase-57_AgambiaePEST_Genome.fasta\n",
    "- this was 286MB\n",
    "\n",
    "https://vectorbase.org/common/downloads/release-57/AatroparvusEBRO/fasta/data/VectorBase-57_AatroparvusEBRO_Genome.fasta\n",
    "- this was 229MB (gzip took 40 sec to reduce by factor of 4, then gunzip    unzipped it in 1 sec: left it unzipped)"
   ]
  },
  {
   "cell_type": "code",
   "execution_count": null,
   "id": "3911c039-d330-4a94-9316-7dc8b48f7eee",
   "metadata": {},
   "outputs": [],
   "source": [
    "# put large datasets in ~/Downloads so they are not backed up\n",
    "remote_data_dir = '/home/smithw/Downloads/bioinformatics/ch05_data'\n",
    "# most important mosquito vector for malaria (in Sub-Saharan Africa)\n",
    "gambiae_name    = 'VectorBase-57_AgambiaePEST_Genome.fasta'\n",
    "# another mosquito vector for malaria (in Europe)\n",
    "atroparvus_name = 'VectorBase-57_AatroparvusEBRO_Genome.fasta'"
   ]
  },
  {
   "cell_type": "markdown",
   "id": "7497b269-5d2a-48e6-9e45-130298ef030d",
   "metadata": {},
   "source": [
    "### 1) LIST THE CHROMOSOMES OF GAMBIAE"
   ]
  },
  {
   "cell_type": "code",
   "execution_count": null,
   "id": "d79bb8dc-51b9-4be8-930a-a6f7c7ef119d",
   "metadata": {
    "tags": []
   },
   "outputs": [],
   "source": [
    "g_name = os.path.join(remote_data_dir, gambiae_name)\n",
    "recs = SeqIO.parse(open(g_name, 'rt', encoding='utf-8'), 'fasta')\n",
    "for rec in recs:\n",
    "    print(rec.description)\n",
    "#Do not do this with atroparvus"
   ]
  },
  {
   "cell_type": "markdown",
   "id": "fb5fbd5b-a367-4b0f-8e96-8be319d75967",
   "metadata": {},
   "source": [
    "### 2) GET THE UNCALLED POSITIONS (Ns) AND THEIR DISTRIBUTION IN GAMBIAE"
   ]
  },
  {
   "cell_type": "code",
   "execution_count": null,
   "id": "9f232f4e-5460-42b3-9ac0-ce33f38dab47",
   "metadata": {
    "tags": []
   },
   "outputs": [],
   "source": [
    "# this took about 40 seconds\n",
    "recs = SeqIO.parse(open(g_name, 'rt', encoding='utf-8'), 'fasta')\n",
    "chrom_Ns    = {}\n",
    "chrom_sizes = {}\n",
    "for rec in recs:\n",
    "    if rec.description.find('supercontig') > -1:\n",
    "        continue\n",
    "    print(rec.description) # WS , rec.id, rec)\n",
    "    chrom = rec.id.split('_')[1]\n",
    "    if chrom in ['UNKN']:#, 'Y_unplaced']:\n",
    "        continue\n",
    "    chrom_Ns[chrom] = []\n",
    "    on_N = False\n",
    "    curr_size = 0\n",
    "    for pos, nuc in enumerate(rec.seq):\n",
    "        if nuc in ['N', 'n']:\n",
    "            curr_size += 1\n",
    "            on_N = True\n",
    "        else:\n",
    "            if on_N:\n",
    "                chrom_Ns[chrom].append(curr_size)\n",
    "                curr_size = 0\n",
    "            on_N = False\n",
    "    if on_N:\n",
    "        chrom_Ns[chrom].append(curr_size)\n",
    "    chrom_sizes[chrom] = len(rec.seq)"
   ]
  },
  {
   "cell_type": "code",
   "execution_count": null,
   "id": "c0582d76-382f-42a3-a58e-d97ac3155015",
   "metadata": {},
   "outputs": [],
   "source": [
    "for chrom, Ns in chrom_Ns.items():\n",
    "    size = chrom_sizes[chrom]\n",
    "    if len(Ns) > 0:\n",
    "        max_Ns = max(Ns)\n",
    "    else:\n",
    "        max_Ns = 'NA'\n",
    "    txt = 'chrom {:2}, size: {:8}, percent Ns: {:4.1f}, # of runs of Ns: {:4}, max N run: {:5}'.\\\n",
    "          format(chrom, size, round(100*sum(Ns)/size, 1), len(Ns), max_Ns)  # WS version\n",
    "    print(txt)"
   ]
  },
  {
   "cell_type": "markdown",
   "id": "bdcf5aa2-4a3d-4a8d-a491-e2b1d1987357",
   "metadata": {},
   "source": [
    "### 3) GET THE SCAFFOLDS (SUPERCONTINGS) AND SCAFFOLD SIZES OF ATROPARVUS"
   ]
  },
  {
   "cell_type": "code",
   "execution_count": null,
   "id": "526b010a-75d8-476c-a4d0-4214c65b6060",
   "metadata": {},
   "outputs": [],
   "source": [
    "# this took about 20 seconds\n",
    "a_name = os.path.join(remote_data_dir, atroparvus_name)\n",
    "recs   = SeqIO.parse(open(a_name, 'rt', encoding='utf-8'), 'fasta')\n",
    "sizes  = []\n",
    "size_N = []\n",
    "for rec in recs:\n",
    "    size = len(rec.seq)\n",
    "    sizes.append(size)\n",
    "    count_N = 0\n",
    "    for nuc in rec.seq:\n",
    "        if nuc in ['n', 'N']:\n",
    "            count_N += 1\n",
    "    size_N.append((size, count_N / size))"
   ]
  },
  {
   "cell_type": "code",
   "execution_count": null,
   "id": "6244ceeb-8b07-4e51-be68-8559b42e0c5b",
   "metadata": {},
   "outputs": [],
   "source": [
    "txt = '{} scaf, med: {}, mean: {:8.1f}, max: {}, min: {}, 10th %: {:4.1f}, 90th %: {:4.1f}'.\\\n",
    "       format(len(sizes), np.median(sizes), np.mean(sizes), max(sizes), min(sizes),\n",
    "              np.percentile(sizes, 10), np.percentile(sizes, 90)) # WS version\n",
    "print(txt)"
   ]
  },
  {
   "cell_type": "markdown",
   "id": "c3f37cbf-f416-4b0f-bcc8-06310613d37e",
   "metadata": {},
   "source": [
    "### 4) PLOT FRACTION OF Ns PER CONTIG SIZE"
   ]
  },
  {
   "cell_type": "code",
   "execution_count": null,
   "id": "4644976e-e906-4ad6-a57a-ee02613fdc31",
   "metadata": {},
   "outputs": [],
   "source": [
    "small_split = 4800\n",
    "large_split = 540000\n",
    "fig, axs = plt.subplots(1, 3, figsize=(16, 9), dpi=300, squeeze=False, sharey=True)\n",
    "xs, ys = zip(*[(x, 100 * y) for x, y in size_N if x <= small_split])\n",
    "axs[0, 0].plot(xs, ys, '.')\n",
    "xs, ys = zip(*[(x, 100 * y) for x, y in size_N if x > small_split and x <= large_split])\n",
    "axs[0, 1].plot(xs, ys, '.')\n",
    "axs[0, 1].set_xlim(small_split, large_split)\n",
    "xs, ys = zip(*[(x, 100 * y) for x, y in size_N if x > large_split])\n",
    "axs[0, 2].plot(xs, ys, '.')\n",
    "axs[0, 0].set_ylabel('Fraction of Ns', fontsize=12)\n",
    "axs[0, 1].set_xlabel('Contig size', fontsize=12)\n",
    "axs[0, 0].grid() # WS\n",
    "axs[0, 1].grid()\n",
    "axs[0, 2].grid()\n",
    "fig.suptitle('Fraction of Ns per contig size', fontsize=26)\n",
    "plt.show()"
   ]
  },
  {
   "cell_type": "code",
   "execution_count": null,
   "id": "c9ffbbb4-1ad6-43b8-aa27-dd8c9984b9b4",
   "metadata": {},
   "outputs": [],
   "source": []
  },
  {
   "cell_type": "code",
   "execution_count": null,
   "id": "5730dd6d-c764-41dd-91d4-2f61c752eea1",
   "metadata": {},
   "outputs": [],
   "source": []
  }
 ],
 "metadata": {
  "kernelspec": {
   "display_name": "Python 3 (ipykernel)",
   "language": "python",
   "name": "python3"
  },
  "language_info": {
   "codemirror_mode": {
    "name": "ipython",
    "version": 3
   },
   "file_extension": ".py",
   "mimetype": "text/x-python",
   "name": "python",
   "nbconvert_exporter": "python",
   "pygments_lexer": "ipython3",
   "version": "3.10.6"
  }
 },
 "nbformat": 4,
 "nbformat_minor": 5
}

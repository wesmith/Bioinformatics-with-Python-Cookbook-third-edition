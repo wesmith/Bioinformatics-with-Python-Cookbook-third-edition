{
 "cells": [
  {
   "cell_type": "markdown",
   "id": "54eedfa5-fe58-48e0-9e62-27661c97132c",
   "metadata": {},
   "source": [
    "# Rosalind_A.ipynb\n",
    "# WESmith 12/11/22\n",
    "## WS created this notebook to solve Rosalind problems at\n",
    "## https://rosalind.info/problems/tree-view/"
   ]
  },
  {
   "cell_type": "markdown",
   "id": "ccc84cb6-4567-4c5e-806b-328f606e62df",
   "metadata": {},
   "source": [
    "# Counting DNA Nucleotides"
   ]
  },
  {
   "cell_type": "code",
   "execution_count": 63,
   "id": "971361ec-702e-4747-a29a-8b1ff124ee8f",
   "metadata": {},
   "outputs": [],
   "source": [
    "from collections import defaultdict\n",
    "import os"
   ]
  },
  {
   "cell_type": "code",
   "execution_count": 42,
   "id": "2155dcf1-5921-42fb-bcb6-444d88654c8f",
   "metadata": {},
   "outputs": [],
   "source": [
    "nuc = ['A', 'C', 'G', 'T']\n",
    "comp = {'A':'T', 'C':'G', 'G':'C', 'T':'A'}"
   ]
  },
  {
   "cell_type": "code",
   "execution_count": 28,
   "id": "3b6ec6d5-8f4e-4d03-9d92-59c7967b2ef4",
   "metadata": {},
   "outputs": [],
   "source": [
    "def count_nucl(s):\n",
    "    dd = defaultdict(int)\n",
    "    for k in s.upper():\n",
    "        dd[k] += 1\n",
    "    # format for Rosalind\n",
    "    print('{} {} {} {}'.format(dd['A'], dd['C'], dd['G'], dd['T']))"
   ]
  },
  {
   "cell_type": "code",
   "execution_count": 33,
   "id": "a5bb353f-9916-4379-83f8-e653166a02f4",
   "metadata": {},
   "outputs": [
    {
     "name": "stdout",
     "output_type": "stream",
     "text": [
      "20 12 17 21\n"
     ]
    }
   ],
   "source": [
    "# sample\n",
    "nn = 'AGCTTTTCATTCTGACTGCAACGGGCAATATGTCTCTGTGTGGATTAAAAAAAGAGTGTCTGATAGCAGC'\n",
    "count_nucl(nn)"
   ]
  },
  {
   "cell_type": "code",
   "execution_count": 34,
   "id": "797c7db0-08fc-4971-a26a-edee2e817df0",
   "metadata": {},
   "outputs": [
    {
     "name": "stdout",
     "output_type": "stream",
     "text": [
      "221 230 200 191\n"
     ]
    }
   ],
   "source": [
    "# test: passed\n",
    "nn = 'ATAGACGTGTTTTAGCCGTTTACGACTACCAATTAGTTCCTCTGACAACTAGGTGATCTTGATGAATATATACCTTAGGATCATGAAGGCCTCACACACTACCCTGCCGACACCAATGTAGCCTATACGAAACTCTGCGACGCGTCTGATGACGATCTGACTAGGTAGTTTCATTCCCCATAGTTTTATAAGCCTCCCATGAGCAAGTCACCGAATGACCCACTTAGCCAATATCCTTGTCCCACGGCATCCCAAACAACCTGGGCTATCCGGCGATCCAATATGTACGGCGGTGTAAATATTCCTTTGGATGTTAACAACAAATTTGTCCCGAGGGCTAATAGCCAAGGACGGGTAAGTCCCGGTAGTGGCGCATAATCACGAGCGAACAATCAGCACCTTTTGCTACTAAACAGATGGGAGACGCGAGTTTCGCGTACGGGTCCCGACGCGGAGCATGTAGAGTCAAGACCTGACACGGATGTGACCCGAACCGATCATACCTCGACTTCTCGGACCGCTAGATACTCACTGGGTACGACTGCCGTCTATCCGGATGGACTACGGTGCGAATCTTAAGTCCGCTATCCTGAATGCCTATACCATTAGTTATATCAGTTACGAGGCAAATCGCCCGATGCGACTTGAGCGCCGCAAAGGCCTGTACCTAGGTGGCGACACCAGATCCCGAAGCTAATTATACAACCCTGTGCCGGAGCTGCACGGTCGCACGCCCCGACCGGATAGAGGGAGTCCTGTCTCGGGGGCACGAGTGCATCATAACAACAGCAGTGGGCTTAGATTACGGGAAAATGGCTTATCCAAGTTATCCGCACCTCACG'\n",
    "count_nucl(nn)"
   ]
  },
  {
   "cell_type": "markdown",
   "id": "afd4166f-ac5d-44bc-881d-f7a90c81d7d3",
   "metadata": {},
   "source": [
    "# Transcribing DNA into RNA"
   ]
  },
  {
   "cell_type": "code",
   "execution_count": 39,
   "id": "3042921a-3ef4-4fef-8245-ff09bd597204",
   "metadata": {},
   "outputs": [],
   "source": [
    "def dna_to_rna(s):\n",
    "    return s.upper().replace('T', 'U')"
   ]
  },
  {
   "cell_type": "code",
   "execution_count": 40,
   "id": "9d7147b7-0370-45bb-b849-aa010013cf16",
   "metadata": {},
   "outputs": [
    {
     "name": "stdout",
     "output_type": "stream",
     "text": [
      "GAUGGAACUUGACUACGUAAAUU\n"
     ]
    }
   ],
   "source": [
    "# sample\n",
    "nn = 'GATGGAACTTGACTACGTAAATT'\n",
    "print(dna_to_rna(nn))"
   ]
  },
  {
   "cell_type": "code",
   "execution_count": 41,
   "id": "6f095347-6bf2-4e00-bf7a-ea36bf1eff0b",
   "metadata": {},
   "outputs": [
    {
     "name": "stdout",
     "output_type": "stream",
     "text": [
      "AUGCAGCGGCGAGAGAUUCUUUAAUCCGUAUCCAAUGCCCGCCGUCACCGUUUCCACUCUGCCCGCCGCAGGGAGAACCCCGCGCAGCACUACACGCCGAGUGCCCAUGUGCUGCCCGGCGGUCUCUCUCACUACUUUACGCCGAUCGUGUGUGUCCGCGUUAUAGGUGUCAGGACUACUUUAUAUUGGUGUCACAGCACACCCAGCUACGGACGAAGAUACCAGUUACCCAAGCCUUCUGUCUUGACAGUCCGGGGACGAACGAUAGUGAGAUCACAUAGUAGAAAUUUACUCAGGCACCUCAGUUUGACGGUGACAAUACCUGGGCUACGUUCGGCCAAACUCUGAUCACAAAGCAACCUAACCAAGACCCUAUGAAUACUCAAAAAGAGCUAGUGCUGAUGGCUACGCGUCCCUUUAUCCGCACAUGGUCAUGCAGGUUACAACGGGGUUUUGUCUGGUACCCUGUGGAAAAUAGCCCGUGUCCGCUCUACUAGAUGAGAGUGCCGGCGGAUUGCUCGGUGCACGCAGGUUCUUGAACUCCAGUACGAAGCUCGCGGUUUUCACUGGGCUGGAUCCAGGACACUAGAUAGCCCUCACUUGAACGCAGCGAAAAUCCUCCCCGAGACCCCAUGAAUAGAAAUGCGCCAAGGCCUACCUUCGAACAAAUUGCCUUCAUCCCCAAUGUGCCAUACGGUCUCUAUGACCCGCCCUCCGAGCGCCACUAUUGGGAACUCGGGGUUCUAACCGAGCUCCCGCGGUGAAAAGCGCGCCCCUGAACUUGAUCAUGACCACUACAGCUUUUGUGCGCCGAUACACAGCAGUCAAUUUCUGACACCUGCAUUGGAGAAGAAAUACGGUUCCAGGCUUUAGGCGACCAGCCUUCCUGAACCAUAUAGAUUCUGCCGACGGUACGGAAGAGCAAUGGUCCUUCAUAUACCCCCUUGUGGGAGCGAAGUAAUAGUUCGUCUACGUCGUAUAGGAGUAU\n"
     ]
    }
   ],
   "source": [
    "# test: passed\n",
    "nn = 'ATGCAGCGGCGAGAGATTCTTTAATCCGTATCCAATGCCCGCCGTCACCGTTTCCACTCTGCCCGCCGCAGGGAGAACCCCGCGCAGCACTACACGCCGAGTGCCCATGTGCTGCCCGGCGGTCTCTCTCACTACTTTACGCCGATCGTGTGTGTCCGCGTTATAGGTGTCAGGACTACTTTATATTGGTGTCACAGCACACCCAGCTACGGACGAAGATACCAGTTACCCAAGCCTTCTGTCTTGACAGTCCGGGGACGAACGATAGTGAGATCACATAGTAGAAATTTACTCAGGCACCTCAGTTTGACGGTGACAATACCTGGGCTACGTTCGGCCAAACTCTGATCACAAAGCAACCTAACCAAGACCCTATGAATACTCAAAAAGAGCTAGTGCTGATGGCTACGCGTCCCTTTATCCGCACATGGTCATGCAGGTTACAACGGGGTTTTGTCTGGTACCCTGTGGAAAATAGCCCGTGTCCGCTCTACTAGATGAGAGTGCCGGCGGATTGCTCGGTGCACGCAGGTTCTTGAACTCCAGTACGAAGCTCGCGGTTTTCACTGGGCTGGATCCAGGACACTAGATAGCCCTCACTTGAACGCAGCGAAAATCCTCCCCGAGACCCCATGAATAGAAATGCGCCAAGGCCTACCTTCGAACAAATTGCCTTCATCCCCAATGTGCCATACGGTCTCTATGACCCGCCCTCCGAGCGCCACTATTGGGAACTCGGGGTTCTAACCGAGCTCCCGCGGTGAAAAGCGCGCCCCTGAACTTGATCATGACCACTACAGCTTTTGTGCGCCGATACACAGCAGTCAATTTCTGACACCTGCATTGGAGAAGAAATACGGTTCCAGGCTTTAGGCGACCAGCCTTCCTGAACCATATAGATTCTGCCGACGGTACGGAAGAGCAATGGTCCTTCATATACCCCCTTGTGGGAGCGAAGTAATAGTTCGTCTACGTCGTATAGGAGTAT'\n",
    "print(dna_to_rna(nn))"
   ]
  },
  {
   "cell_type": "markdown",
   "id": "ffb8742e-f27c-43df-bada-5a3931557195",
   "metadata": {},
   "source": [
    "# Complementing a Strand of DNA"
   ]
  },
  {
   "cell_type": "code",
   "execution_count": 57,
   "id": "ff9fb9f4-6a87-4494-9d7d-9de322222172",
   "metadata": {},
   "outputs": [],
   "source": [
    "def reverse_complement(s):\n",
    "    dd = [comp[t] for t in s.upper()]\n",
    "    dd = dd[::-1]\n",
    "    s = ''\n",
    "    for k in dd:\n",
    "        s += k\n",
    "    return s"
   ]
  },
  {
   "cell_type": "code",
   "execution_count": 59,
   "id": "551894e9-b887-4851-aa88-01a87a1357e4",
   "metadata": {},
   "outputs": [
    {
     "name": "stdout",
     "output_type": "stream",
     "text": [
      "ACCGGGTTTT\n"
     ]
    }
   ],
   "source": [
    "# sample\n",
    "nn = 'AAAACCCGGT'\n",
    "print(reverse_complement(nn))"
   ]
  },
  {
   "cell_type": "code",
   "execution_count": 62,
   "id": "6e1d1098-e575-4323-95db-f22662b0681b",
   "metadata": {},
   "outputs": [
    {
     "name": "stdout",
     "output_type": "stream",
     "text": [
      "AAAGGGAATTCCTCAAGTTTCGCCAGCAACTTAAACATTGGTAATTAGCCAATACGAACAACGTTATAAGCAGGGGAGTGCACGGTGTTGGCATTGTATTCGGTCAATGGGACTTCCTATCTGACTGTGTAATGGGTTCTGAGTTATAGTAGTCAGGCTTAACTTTGGCTACAAAACTCGCAGATGTGCATTTCCTGATAATCGATCCCGGTCGCTAGGCTGCCCCCCGAGACAACTATTTTTTAAAGTAGGCTGGATTTGAATTTTCCGCGAGCCACAAGACACATTTACTCTCACAGCTGGATAGCGCGAGATGTTATTTAAGTGAATTCTGCTCAATGAGGCCTACTGTTGAGAGAACGTCAGTGTGGAAAAATTTTAGGATAACGCTCAAGTGGATTTTGTCTATTCTGAGGACGACCGACGCTAAGTGGACGTCCCGGCGGCGACTTAGAGTAACTTATTTGCGGACCGTGGATATTAAGGTCTTACTCTGCACGAGTCTAATGGACGCATGCATAACTACAGACGCTGTATTGAGTGCTGGTAAAGTGCCGCAAGGATACGTTCATAGACGTTGAACGGCCTTTTGGCAGTCCGTGCATAAGTTCGTACGTCAGGTAGTATTTGTAAGGCAAGAAATAACCCTACGCCTAGTCATGACATCGCGGTTCTGGGCAGAAAGAATGCAAAGCCGTAGGGAGTGATCCGTTAGTGTGCGAGCACAACAGTAGCGGGCAACCAACGGCATGTGACTATCCCTTACCCAGGAAGGAATCCCATTGATTTCGTGAACGGCGGAATCTACATACGCAACTCTGACGGTACATGAGCCTGCTTGAGATGGGTTCAGGACCCCTATACATGTAGGTCATTTTATTGGCGCTTTATGGGGCCCATTAGCAATGATCCTTCGCTTGGCACCCGCGAGCCGGAACGTGTGAGAGGAAATTAGCGC\n"
     ]
    }
   ],
   "source": [
    "# test: passed\n",
    "nn = 'GCGCTAATTTCCTCTCACACGTTCCGGCTCGCGGGTGCCAAGCGAAGGATCATTGCTAATGGGCCCCATAAAGCGCCAATAAAATGACCTACATGTATAGGGGTCCTGAACCCATCTCAAGCAGGCTCATGTACCGTCAGAGTTGCGTATGTAGATTCCGCCGTTCACGAAATCAATGGGATTCCTTCCTGGGTAAGGGATAGTCACATGCCGTTGGTTGCCCGCTACTGTTGTGCTCGCACACTAACGGATCACTCCCTACGGCTTTGCATTCTTTCTGCCCAGAACCGCGATGTCATGACTAGGCGTAGGGTTATTTCTTGCCTTACAAATACTACCTGACGTACGAACTTATGCACGGACTGCCAAAAGGCCGTTCAACGTCTATGAACGTATCCTTGCGGCACTTTACCAGCACTCAATACAGCGTCTGTAGTTATGCATGCGTCCATTAGACTCGTGCAGAGTAAGACCTTAATATCCACGGTCCGCAAATAAGTTACTCTAAGTCGCCGCCGGGACGTCCACTTAGCGTCGGTCGTCCTCAGAATAGACAAAATCCACTTGAGCGTTATCCTAAAATTTTTCCACACTGACGTTCTCTCAACAGTAGGCCTCATTGAGCAGAATTCACTTAAATAACATCTCGCGCTATCCAGCTGTGAGAGTAAATGTGTCTTGTGGCTCGCGGAAAATTCAAATCCAGCCTACTTTAAAAAATAGTTGTCTCGGGGGGCAGCCTAGCGACCGGGATCGATTATCAGGAAATGCACATCTGCGAGTTTTGTAGCCAAAGTTAAGCCTGACTACTATAACTCAGAACCCATTACACAGTCAGATAGGAAGTCCCATTGACCGAATACAATGCCAACACCGTGCACTCCCCTGCTTATAACGTTGTTCGTATTGGCTAATTACCAATGTTTAAGTTGCTGGCGAAACTTGAGGAATTCCCTTT'\n",
    "print(reverse_complement(nn))"
   ]
  },
  {
   "cell_type": "markdown",
   "id": "07603360-2d6c-45f1-8ed9-6a606a125d7b",
   "metadata": {},
   "source": [
    "# Computing GC Content"
   ]
  },
  {
   "cell_type": "code",
   "execution_count": 150,
   "id": "257789f6-ab33-4ae9-bfec-69935ac08a63",
   "metadata": {},
   "outputs": [],
   "source": [
    "def read_FASTA(filePath):   # WS this from rebelScience dna-toolset\n",
    "    with open(filePath, 'r') as f:\n",
    "        FASTAFile = [l.strip() for l in f.readlines()]  # removes carriage returns\n",
    "    FASTADict = {}\n",
    "    FASTALabel = \"\"\n",
    "\n",
    "    for line in FASTAFile:\n",
    "        if '>' in line:\n",
    "            FASTALabel = line\n",
    "            FASTADict[FASTALabel] = \"\"\n",
    "        else:\n",
    "            FASTADict[FASTALabel] += line\n",
    "\n",
    "    return FASTADict"
   ]
  },
  {
   "cell_type": "code",
   "execution_count": 171,
   "id": "6b837073-7085-47e9-8ef0-a1060117601c",
   "metadata": {},
   "outputs": [],
   "source": [
    "def gc_content(file):\n",
    "    dd = read_FASTA(file)\n",
    "    ee = {}\n",
    "    for k, v in dd.items():\n",
    "        count = 0\n",
    "        for s in v.upper():\n",
    "            if ('C' in s) or ('G' in s): count += 1\n",
    "        ee[k] = count/len(v) * 100\n",
    "    key = max(ee, key=ee.get)\n",
    "    return '{}\\n{:9.6f}'.format(key[1:], ee[key])"
   ]
  },
  {
   "cell_type": "code",
   "execution_count": 178,
   "id": "be7b0e81-f9e3-4a3f-ba4e-aea131b6bfeb",
   "metadata": {},
   "outputs": [
    {
     "name": "stdout",
     "output_type": "stream",
     "text": [
      "Rosalind_0808\n",
      "60.919540\n"
     ]
    }
   ],
   "source": [
    "# sample\n",
    "file     = 'test.txt' # WS cut and pasted from Rosalind page into emacs and saved as a file\n",
    "data_dir = 'data/Rosalind_data'\n",
    "print(gc_content(os.path.join(data_dir, file)))"
   ]
  },
  {
   "cell_type": "code",
   "execution_count": 179,
   "id": "faf251de-8d69-4496-8329-f94553c0bb43",
   "metadata": {},
   "outputs": [
    {
     "name": "stdout",
     "output_type": "stream",
     "text": [
      "Rosalind_4621\n",
      "51.900000\n"
     ]
    }
   ],
   "source": [
    "# test: passed\n",
    "data_dir = '/home/smithw/Downloads'\n",
    "file     = 'rosalind_gc.txt'\n",
    "print(gc_content(os.path.join(data_dir, file)))"
   ]
  },
  {
   "cell_type": "code",
   "execution_count": null,
   "id": "84082977-1ae9-4fe2-bc96-dc867cc8fa3d",
   "metadata": {},
   "outputs": [],
   "source": []
  }
 ],
 "metadata": {
  "kernelspec": {
   "display_name": "Python 3 (ipykernel)",
   "language": "python",
   "name": "python3"
  },
  "language_info": {
   "codemirror_mode": {
    "name": "ipython",
    "version": 3
   },
   "file_extension": ".py",
   "mimetype": "text/x-python",
   "name": "python",
   "nbconvert_exporter": "python",
   "pygments_lexer": "ipython3",
   "version": "3.10.6"
  }
 },
 "nbformat": 4,
 "nbformat_minor": 5
}

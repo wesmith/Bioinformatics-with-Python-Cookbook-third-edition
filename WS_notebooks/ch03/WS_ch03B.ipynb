{
 "cells": [
  {
   "cell_type": "markdown",
   "id": "5976fdde-694e-435f-8c26-7f4a5412d8ae",
   "metadata": {},
   "source": [
    "# WS_ch03B.ipynb\n",
    "# WESmith 11/10/22\n",
    "## WS created this notebook to follow along chap 3 code from book \n",
    "# 'Bioinformatics with Python Cookbook' by Tiago Antao\n",
    "### Each recipe will have its own notebook, suffixed by A, B, etc."
   ]
  },
  {
   "cell_type": "markdown",
   "id": "615c5cb9-1880-4803-908c-5cafb999c33a",
   "metadata": {},
   "source": [
    "# PERFORMING BASIC SEQUENCE ANALYSIS"
   ]
  },
  {
   "cell_type": "code",
   "execution_count": null,
   "id": "7ef34f23-55c8-4326-9f3e-34c68f7e0591",
   "metadata": {},
   "outputs": [],
   "source": [
    "from Bio import Entrez, Medline, SeqIO, SeqRecord\n",
    "import os\n",
    "import utils as ws\n",
    "from collections import defaultdict"
   ]
  },
  {
   "cell_type": "code",
   "execution_count": null,
   "id": "b409ba7a-8c9c-402d-9236-569f4a32d13f",
   "metadata": {},
   "outputs": [],
   "source": [
    "email    = 'smiwarsky@gmail.com' \n",
    "data_dir = 'data'"
   ]
  },
  {
   "cell_type": "code",
   "execution_count": null,
   "id": "a3f2685a-805d-4e39-99e5-27e01a1c7edf",
   "metadata": {},
   "outputs": [],
   "source": [
    "# WS created EntrezFetch class to do some of the basic data retrieval\n",
    "id = 'NM_002299'\n",
    "dd = ws.EntrezFetch(id=id, email=email)"
   ]
  },
  {
   "cell_type": "code",
   "execution_count": null,
   "id": "15222e4b-dbc6-46ca-9ea1-6b8fe31522eb",
   "metadata": {
    "tags": []
   },
   "outputs": [],
   "source": [
    "dd.print_refs(short=True)"
   ]
  },
  {
   "cell_type": "code",
   "execution_count": null,
   "id": "1534764f-2ea5-431c-93d5-9872e7f08c68",
   "metadata": {
    "tags": []
   },
   "outputs": [],
   "source": [
    "dd.print_features(short=False)"
   ]
  },
  {
   "cell_type": "code",
   "execution_count": null,
   "id": "45a35174-920f-4878-98a4-77aafa3617d9",
   "metadata": {},
   "outputs": [],
   "source": [
    "# get location of gene\n",
    "# WS NOTE: CDS means 'coding sequence': the actual part of the sequence that codes for a protein\n",
    "vv = dd.rec[0] # get the record from the new EntrezFetch object\n",
    "for feature in vv.features:\n",
    "    if feature.type == 'CDS':\n",
    "        location = feature.location\n",
    "print(location)"
   ]
  },
  {
   "cell_type": "code",
   "execution_count": null,
   "id": "7f4267d4-f235-4ac3-a945-9f7255553d7c",
   "metadata": {
    "tags": []
   },
   "outputs": [],
   "source": [
    "vv.name, vv.id"
   ]
  },
  {
   "cell_type": "raw",
   "id": "b77bcad9-459f-41fd-887d-0a1f05ad9789",
   "metadata": {
    "tags": []
   },
   "source": [
    "SeqRecord.SeqRecord?"
   ]
  },
  {
   "cell_type": "code",
   "execution_count": null,
   "id": "ecc5b6d3-1934-4530-b935-1d6e74088a34",
   "metadata": {},
   "outputs": [],
   "source": [
    "cds = SeqRecord.SeqRecord(vv.seq[location.start:location.end], \n",
    "                          name=vv.name, id=vv.id, \n",
    "                          description='LCT CDS only')"
   ]
  },
  {
   "cell_type": "code",
   "execution_count": null,
   "id": "9c82e01e-bbeb-4776-a55c-ab772bda9b6c",
   "metadata": {
    "tags": []
   },
   "outputs": [],
   "source": [
    "print(cds.seq), print(len(cds.seq))  # WS the lactose coding sequence"
   ]
  },
  {
   "cell_type": "code",
   "execution_count": null,
   "id": "a407f43c-7f99-49a2-93a9-cda708564ff0",
   "metadata": {},
   "outputs": [],
   "source": [
    "cds"
   ]
  },
  {
   "cell_type": "markdown",
   "id": "79f7d54f-73c4-49c9-93a7-7a23a86ba2f9",
   "metadata": {},
   "source": [
    "### 1) WRITE FASTA FILE"
   ]
  },
  {
   "cell_type": "code",
   "execution_count": null,
   "id": "2ce43882-d8f2-49f2-bd20-40dc8030950c",
   "metadata": {},
   "outputs": [],
   "source": [
    "file     = 'ch03B.fasta'\n",
    "w_handle = open(os.path.join(data_dir, file), 'w')\n",
    "SeqIO.write([cds], w_handle, 'fasta')\n",
    "w_handle.close()"
   ]
  },
  {
   "cell_type": "markdown",
   "id": "fc7aee5c-138f-4936-a100-72321217139a",
   "metadata": {},
   "source": [
    "### 2) READ FILE"
   ]
  },
  {
   "cell_type": "code",
   "execution_count": null,
   "id": "81f3e299-d6e3-4e69-b33c-d3cb2610ee9b",
   "metadata": {},
   "outputs": [],
   "source": [
    "recs = SeqIO.parse(os.path.join(data_dir, file), 'fasta')"
   ]
  },
  {
   "cell_type": "code",
   "execution_count": null,
   "id": "1b5d6992-6bb8-447a-aaf6-109d4f699a55",
   "metadata": {},
   "outputs": [],
   "source": [
    "for rec in recs:\n",
    "    seq = rec.seq\n",
    "    print(rec.description)\n",
    "    print(seq[:15])"
   ]
  },
  {
   "cell_type": "markdown",
   "id": "85ef7714-4549-4cd4-bb8e-136a8585dddc",
   "metadata": {},
   "source": [
    "### 3) TRANSCRIBE SEQUENCE"
   ]
  },
  {
   "cell_type": "code",
   "execution_count": null,
   "id": "96bc4e6d-308d-4d92-8d02-b44a345420bb",
   "metadata": {},
   "outputs": [],
   "source": [
    "rna = seq.transcribe()\n",
    "print(rna[:15]) # WS T goes to U"
   ]
  },
  {
   "cell_type": "markdown",
   "id": "74bcbbae-b6cd-4fa7-a0c5-771a591897e5",
   "metadata": {},
   "source": [
    "### 4) TRANSLATE INTO PROTEIN"
   ]
  },
  {
   "cell_type": "code",
   "execution_count": null,
   "id": "c319a64f-cab4-4c59-adb4-8add7ea6afb1",
   "metadata": {},
   "outputs": [],
   "source": [
    "prot = seq.translate()\n",
    "print(prot[:5])"
   ]
  },
  {
   "cell_type": "markdown",
   "id": "671efa5d-673e-4cf2-a60b-6f11d2c40b44",
   "metadata": {},
   "source": [
    "## CODON TABLES"
   ]
  },
  {
   "cell_type": "code",
   "execution_count": null,
   "id": "2951925c-d4ce-4a2a-a2a0-aae5fe13d420",
   "metadata": {},
   "outputs": [],
   "source": [
    "# WS this from biopython site:\n",
    "from Bio.Data import CodonTable\n",
    "standard_table = CodonTable.unambiguous_dna_by_id[1]\n",
    "mito_table     = CodonTable.unambiguous_dna_by_id[2]"
   ]
  },
  {
   "cell_type": "code",
   "execution_count": null,
   "id": "6dec23b0-a6ec-4560-90ef-94e38060b263",
   "metadata": {},
   "outputs": [],
   "source": [
    "print(standard_table)"
   ]
  },
  {
   "cell_type": "code",
   "execution_count": null,
   "id": "af5a10b9-eb39-4c01-9192-98029393dd0c",
   "metadata": {},
   "outputs": [],
   "source": [
    "ws.attrs(standard_table)"
   ]
  },
  {
   "cell_type": "code",
   "execution_count": null,
   "id": "a976c323-4a01-4cab-b77a-bc9259da6db8",
   "metadata": {
    "tags": []
   },
   "outputs": [],
   "source": [
    "ws.print_dict(standard_table.__dict__, keywidth=15)"
   ]
  },
  {
   "cell_type": "code",
   "execution_count": null,
   "id": "1f36f42c-6d68-45c1-8390-d3f5436e1b32",
   "metadata": {},
   "outputs": [],
   "source": [
    "# WS the 20 amino acids\n",
    "set(standard_table.forward_table.values())"
   ]
  },
  {
   "cell_type": "code",
   "execution_count": null,
   "id": "0169894a-9fc3-483a-8ae7-da2dabb6ede5",
   "metadata": {},
   "outputs": [],
   "source": [
    "standard_table.back_table  # WS this disregards the many-to-one nature of the forward table"
   ]
  },
  {
   "cell_type": "code",
   "execution_count": null,
   "id": "5fac0b4c-a184-460e-a8ce-861bb8e07d83",
   "metadata": {},
   "outputs": [],
   "source": []
  }
 ],
 "metadata": {
  "kernelspec": {
   "display_name": "Python 3 (ipykernel)",
   "language": "python",
   "name": "python3"
  },
  "language_info": {
   "codemirror_mode": {
    "name": "ipython",
    "version": 3
   },
   "file_extension": ".py",
   "mimetype": "text/x-python",
   "name": "python",
   "nbconvert_exporter": "python",
   "pygments_lexer": "ipython3",
   "version": "3.10.6"
  }
 },
 "nbformat": 4,
 "nbformat_minor": 5
}

{
 "cells": [
  {
   "cell_type": "markdown",
   "id": "7493ca18-76a2-49d6-89e9-cf35403041f7",
   "metadata": {},
   "source": [
    "# WS_ch05E.ipynb\n",
    "# WESmith 12/09/22\n",
    "## WS created this notebook to follow along with the code in the book:\n",
    "## 'Bioinformatics with Python Cookbook' by Tiago Antao\n",
    "## Each recipe will have its own notebook, suffixed by A, B, etc.¶"
   ]
  },
  {
   "cell_type": "markdown",
   "id": "8d25770d-edbb-4022-8ba4-30021e8ddc5d",
   "metadata": {},
   "source": [
    "# RECIPE: \n",
    "# FINDING ORTHOLOGUES WITH THE ENSEMBL REST API\n",
    "## also see book code in Chapter05/Orthology.py¶"
   ]
  },
  {
   "cell_type": "code",
   "execution_count": 146,
   "id": "c4b31301-1401-4d5e-9b3e-4aed1327a331",
   "metadata": {},
   "outputs": [],
   "source": [
    "import requests\n",
    "import yaml"
   ]
  },
  {
   "cell_type": "code",
   "execution_count": 164,
   "id": "26f291f5-16d0-4915-9636-c524ae8577a2",
   "metadata": {},
   "outputs": [],
   "source": [
    "ensembl_server = 'http://rest.ensembl.org'\n",
    "# WS can go there in a browser also to learn about commands"
   ]
  },
  {
   "cell_type": "code",
   "execution_count": 162,
   "id": "07cc79e5-f73e-4425-9eb8-b7b48fa47001",
   "metadata": {},
   "outputs": [],
   "source": [
    "def print_d(d): # cWS onvenience function to print a nested dict\n",
    "    print(yaml.dump(d, default_flow_style=False))"
   ]
  },
  {
   "cell_type": "code",
   "execution_count": 163,
   "id": "996da638-dbeb-4827-b20f-bb4f065795c9",
   "metadata": {},
   "outputs": [
    {
     "name": "stdout",
     "output_type": "stream",
     "text": [
      "a: 1\n",
      "b:\n",
      "  c: 100\n",
      "  d:\n",
      "    e: hi\n",
      "  f: 1000\n",
      "\n"
     ]
    }
   ],
   "source": [
    "dd = {'a':1, 'b':{'c':100, 'd': {'e':'hi'}, 'f': 1000}}\n",
    "print_d(dd)"
   ]
  },
  {
   "cell_type": "code",
   "execution_count": 144,
   "id": "f558dcb4-e8d7-4590-85b9-992b483c82e7",
   "metadata": {},
   "outputs": [
    {
     "name": "stdout",
     "output_type": "stream",
     "text": [
      "{'a': 1, 'b': {'c': 100, 'd': {'e': 'hi'}, 'f': 1000}}\n"
     ]
    }
   ],
   "source": [
    "ptest = pp.PrettyPrinter(depth=4)\n",
    "ptest.pprint(dd)"
   ]
  },
  {
   "cell_type": "code",
   "execution_count": 130,
   "id": "15ea0bc8-785b-4c2a-8398-f72d7676efd7",
   "metadata": {},
   "outputs": [
    {
     "name": "stdout",
     "output_type": "stream",
     "text": [
      "hi     you\n"
     ]
    }
   ],
   "source": [
    "space = ' '\n",
    "print('hi{}you'.format(5*space))"
   ]
  },
  {
   "cell_type": "markdown",
   "id": "1ad41210-9723-4e7c-9da0-d9fd74322ff5",
   "metadata": {},
   "source": [
    "### CREATE SUPPORT FUNCTION FOR A WEB REQUEST"
   ]
  },
  {
   "cell_type": "code",
   "execution_count": 4,
   "id": "7635adcf-7402-481e-ae63-6359a0bb9b83",
   "metadata": {},
   "outputs": [],
   "source": [
    "def do_request(server, service, *args, **kwargs):\n",
    "    url_params = ''\n",
    "    for a in args:\n",
    "        if a is not None:\n",
    "            url_params += '/' + a\n",
    "    req = requests.get('%s/%s%s' % (server, service, url_params),\n",
    "                       params=kwargs,\n",
    "                       headers={'Content-Type': 'application/json'})\n",
    "    if not req.ok:\n",
    "        req.raise_for_status()\n",
    "    return req.json()"
   ]
  },
  {
   "cell_type": "markdown",
   "id": "896e0032-e718-4fdf-b353-4d99c348f764",
   "metadata": {},
   "source": [
    "### 3) CHECK AVAILABLE SPECIES ON THE SERVER"
   ]
  },
  {
   "cell_type": "code",
   "execution_count": 9,
   "id": "71206a7c-8a81-4168-a522-cd9ed6e45f80",
   "metadata": {
    "tags": []
   },
   "outputs": [],
   "source": [
    "# 315 species when run on 12/09/22\n",
    "answer = do_request(ensembl_server, 'info/species')"
   ]
  },
  {
   "cell_type": "code",
   "execution_count": 14,
   "id": "6c0e0f4c-43bc-4049-9025-facfebf8b1b9",
   "metadata": {},
   "outputs": [
    {
     "data": {
      "text/plain": [
       "list"
      ]
     },
     "execution_count": 14,
     "metadata": {},
     "output_type": "execute_result"
    }
   ],
   "source": [
    "type(answer['species']) # list of dicts"
   ]
  },
  {
   "cell_type": "code",
   "execution_count": 15,
   "id": "a6cf6e2a-8870-4584-acf7-651c9d34c654",
   "metadata": {},
   "outputs": [
    {
     "data": {
      "text/plain": [
       "dict_keys(['display_name', 'strain_collection', 'assembly', 'common_name', 'name', 'strain', 'taxon_id', 'accession', 'aliases', 'groups', 'division', 'release'])"
      ]
     },
     "execution_count": 15,
     "metadata": {},
     "output_type": "execute_result"
    }
   ],
   "source": [
    "answer['species'][0].keys()"
   ]
  },
  {
   "cell_type": "code",
   "execution_count": 16,
   "id": "76f9b35d-763b-4a0c-b64c-55ecb79675c3",
   "metadata": {
    "collapsed": true,
    "jupyter": {
     "outputs_hidden": true
    },
    "tags": []
   },
   "outputs": [
    {
     "name": "stdout",
     "output_type": "stream",
     "text": [
      "0 gelada\n",
      "1 Drill\n",
      "2 mouse\n",
      "3 Eurasian red squirrel\n",
      "4 california sea lion\n",
      "5 Macaque\n",
      "6 lyretail cichlid\n",
      "7 Australian saltwater crocodile\n",
      "8 horned golden-line barbel\n",
      "9 Paramormyrops kingsleyae\n",
      "10 silver-eye\n",
      "11 Chinook salmon\n",
      "12 Indian peafowl\n",
      "13 Black snub-nosed monkey\n",
      "14 narwhal\n",
      "15 Crab-eating macaque\n",
      "16 Collared flycatcher\n",
      "17 Abingdon island giant tortoise\n",
      "18 Lesser Egyptian jerboa\n",
      "19 mouse\n",
      "20 Upper Galilee mountains blind mole rat\n",
      "21 Siberian musk deer\n",
      "22 pig\n",
      "23 American mink\n",
      "24 Goat\n",
      "25 Indian glassy fish\n",
      "26 American black bear\n",
      "27 pig\n",
      "28 sea lamprey\n",
      "29 lion\n",
      "30 rabbit\n",
      "31 Golden snub-nosed monkey\n",
      "32 round goby\n",
      "33 spiny chromis\n",
      "34 Norway rat\n",
      "35 Arctic ground squirrel\n",
      "36 huchen\n",
      "37 naked mole-rat\n",
      "38 Philippine tarsier\n",
      "39 helmeted guineafowl\n",
      "40 red-bellied piranha\n",
      "41 platypus\n",
      "42 emu\n",
      "43 small-eared galago\n",
      "44 Daurian ground squirrel\n",
      "45 northern pike\n",
      "46 European shrew\n",
      "47 pig\n",
      "48 golden-collared manakin\n",
      "49 large flying fox\n",
      "50 Kakapo\n",
      "51 tongue sole\n",
      "52 pig\n",
      "53 Canada lynx\n",
      "54 Indian medaka\n",
      "55 pike-perch\n",
      "56 donkey\n",
      "57 Makobe Island cichlid\n",
      "58 Oriental scops-owl\n",
      "59 Damara mole rat\n",
      "60 Argentine black and white tegu\n",
      "61 eastern happy\n",
      "62 sailfin molly\n",
      "63 little spotted kiwi\n",
      "64 Coquerel's sifaka\n",
      "65 green anole\n",
      "66 Western painted turtle\n",
      "67 elephant shark\n",
      "68 Japanese medaka HNI\n",
      "69 alpaca\n",
      "70 dark-eyed junco\n",
      "71 goldfish\n",
      "72 giant panda\n",
      "73 Burton's mouthbrooder\n",
      "74 medium ground-finch\n",
      "75 bicolor damselfish\n",
      "76 American bison\n",
      "77 spotted green pufferfish\n",
      "78 pinecone soldierfish\n",
      "79 zebra finch\n",
      "80 guppy\n",
      "81 fugu\n",
      "82 lumpfish\n",
      "83 common wall lizard\n",
      "84 eastern brown snake\n",
      "85 dog\n",
      "86 African ostrich\n",
      "87 Midas cichlid\n",
      "88 Japanese medaka HSOK\n",
      "89 meerkat\n",
      "90 common carp huanghe\n",
      "91 Panamanian white-faced capuchin\n",
      "92 thirteen-lined ground squirrel\n",
      "93 Yarkand deer\n",
      "94 chicken\n",
      "95 Tiger\n",
      "96 turbot\n",
      "97 domestic cat\n",
      "98 gray short-tailed opossum\n",
      "99 tropical clawed frog\n",
      "100 sheep\n",
      "101 channel catfish\n",
      "102 red fox\n",
      "103 greater amberjack\n",
      "104 dog\n",
      "105 domestic yak\n",
      "106 tuatara\n",
      "107 Spotted gar\n",
      "108 common carp german mirror\n",
      "109 greater bamboo lemur\n",
      "110 northern tree shrew\n",
      "111 Leishan spiny toad\n",
      "112 mouse\n",
      "113 Goat\n",
      "114 mouse\n",
      "115 gray mouse lemur\n",
      "116 small Madagascar hedgehog\n",
      "117 mouse\n",
      "118 Chinese medaka\n",
      "119 turkey\n",
      "120 baker's yeast\n",
      "121 mouse\n",
      "122 Blue whale\n",
      "123 common wombat\n",
      "124 Chacoan peccary\n",
      "125 tiger tail seahorse\n",
      "126 pig\n",
      "127 western European hedgehog\n",
      "128 Chinese softshell turtle\n",
      "129 mouse\n",
      "130 orange clownfish\n",
      "131 small tree finch\n",
      "132 Indian cobra\n",
      "133 Periophthalmus magnuspinnatus\n",
      "134 budgerigar\n",
      "135 Japanese quail\n",
      "136 Swainson's thrush\n",
      "137 fruit fly\n",
      "138 Mexican tetra\n",
      "139 dingo\n",
      "140 Pig-tailed macaque\n",
      "141 Western Lowland Gorilla\n",
      "142 mouse\n",
      "143 domestic guinea pig\n",
      "144 Sumatran orangutan\n",
      "145 northern spotted owl\n",
      "146 tammar wallaby\n",
      "147 chimpanzee\n",
      "148 Asiatic black bear\n",
      "149 electric eel\n",
      "150 Pachon cavefish\n",
      "151 clown anemonefish\n",
      "152 New Caledonian crow\n",
      "153 blue-crowned manakin\n",
      "154 mouse\n",
      "155 little brown bat\n",
      "156 Chinese hamster\n",
      "157 common carp\n",
      "158 Sea squirt Ciona savignyi\n",
      "159 central bearded dragon\n",
      "160 blunt-snouted clingfish\n",
      "161 yellow-billed parrot\n",
      "162 Chinese hamster\n",
      "163 pink-footed goose\n",
      "164 West African mud turtle\n",
      "165 Hoffmann's two-fingered sloth\n",
      "166 rufous-capped babbler\n",
      "167 Nile tilapia\n",
      "168 human\n",
      "169 greater horseshoe bat\n",
      "170 coelacanth\n",
      "171 Golden Hamster\n",
      "172 common mallard\n",
      "173 vole\n",
      "174 steppe mouse\n",
      "175 blue tilapia\n",
      "176 coho salmon\n",
      "177 mainland tiger snake\n",
      "178 ballan wrasse\n",
      "179 live sharksucker\n",
      "180 mouse\n",
      "181 hybrid cattle\n",
      "182 American pika\n",
      "183 vaquita\n",
      "184 Tasmanian devil\n",
      "185 Eurasian sparrowhawk\n",
      "186 shortfin molly\n",
      "187 turquoise killifish\n",
      "188 Bengalese finch\n",
      "189 Ord's kangaroo rat\n",
      "190 pig\n",
      "191 Agassiz's desert tortoise\n",
      "192 Asian bonytongue\n",
      "193 common kestrel\n",
      "194 nine-banded armadillo\n",
      "195 Atlantic cod\n",
      "196 pig\n",
      "197 mouse\n",
      "198 koala\n",
      "199 golden pheasant\n",
      "200 western mosquitofish\n",
      "201 orbiculate cardinalfish\n",
      "202 Komodo dragon\n",
      "203 superb fairywren\n",
      "204 channel bull blenny\n",
      "205 Ma's night monkey\n",
      "206 Long-tailed chinchilla\n",
      "207 golden-line barbel\n",
      "208 common carp hebao red\n",
      "209 Atlantic herring\n",
      "210 pig\n",
      "211 Ring-necked pheasant\n",
      "212 Sea squirt Ciona intestinalis\n",
      "213 mouse\n",
      "214 bonobo\n",
      "215 pig\n",
      "216 rainbow trout\n",
      "217 yellowtail amberjack\n",
      "218 pig\n",
      "219 sperm whale\n",
      "220 mouse\n",
      "221 Northern white-cheeked gibbon\n",
      "222 southern platyfish\n",
      "223 mangrove rivulus\n",
      "224 dog\n",
      "225 Shrew mouse\n",
      "226 ruff\n",
      "227 algerian mouse\n",
      "228 Inshore hagfish\n",
      "229 brown trout\n",
      "230 Brazilian guinea pig\n",
      "231 chicken\n",
      "232 pig\n",
      "233 swamp eel\n",
      "234 European seabass\n",
      "235 American beaver\n",
      "236 white-throated sparrow\n",
      "237 horse\n",
      "238 Amazon molly\n",
      "239 zebrafish\n",
      "240 Gouldian finch\n",
      "241 Eurasian eagle-owl\n",
      "242 reedfish\n",
      "243 African savanna elephant\n",
      "244 cape rock hyrax\n",
      "245 ocean sunfish\n",
      "246 mouse\n",
      "247 large yellow croaker\n",
      "248 Mongolian gerbil\n",
      "249 olive baboon\n",
      "250 javanese ricefish\n",
      "251 three-spined stickleback\n",
      "252 beluga whale\n",
      "253 C.elegans\n",
      "254 Okarito brown kiwi\n",
      "255 Ryukyu mouse\n",
      "256 Northern American deer mouse\n",
      "257 dog\n",
      "258 Japanese medaka HdrR\n",
      "259 leopard\n",
      "260 Degu\n",
      "261 sheep\n",
      "262 Bolivian squirrel monkey\n",
      "263 burrowing owl\n",
      "264 Atlantic salmon\n",
      "265 Alpine marmot\n",
      "266 sheepshead minnow\n",
      "267 gilthead seabream\n",
      "268 denticle herring\n",
      "269 Angola colobus\n",
      "270 mouse\n",
      "271 mouse\n",
      "272 Three-toed box turtle\n",
      "273 zebra mbuna\n",
      "274 Monterrey platyfish\n",
      "275 Great spotted kiwi\n",
      "276 white-tufted-ear marmoset\n",
      "277 African green monkey\n",
      "278 chicken\n",
      "279 naked mole-rat\n",
      "280 cattle\n",
      "281 muscovy Duck (domestic type)\n",
      "282 climbing perch\n",
      "283 blind barbel\n",
      "284 common canary\n",
      "285 blue tit\n",
      "286 mummichog\n",
      "287 zig-zag eel\n",
      "288 Great Tit\n",
      "289 Goodes thornscrub tortoise\n",
      "290 Spoon-billed sandpiper\n",
      "291 blue-ringed sea krait\n",
      "292 mallard\n",
      "293 jewelled blenny\n",
      "294 dog\n",
      "295 Chinese hamster\n",
      "296 Common snapping turtle\n",
      "297 common carp\n",
      "298 wild yak\n",
      "299 Arabian camel\n",
      "300 barramundi perch\n",
      "301 Domestic ferret\n",
      "302 pig\n",
      "303 eastern buzzard\n",
      "304 Ugandan red Colobus\n",
      "305 Siamese fighting fish\n",
      "306 Eastern spot-billed duck\n",
      "307 pig\n",
      "308 Sooty mangabey\n",
      "309 bottlenosed dolphin\n",
      "310 Polar bear\n",
      "311 hybrid cattle\n",
      "312 Chilean tinamou\n",
      "313 White-headed capuchin\n",
      "314 golden eagle\n",
      "315 swan goose\n"
     ]
    }
   ],
   "source": [
    "for i, sp in enumerate(answer['species']):\n",
    "    print(i, sp['common_name'])"
   ]
  },
  {
   "cell_type": "markdown",
   "id": "11ff1792-80b0-46a9-aaa5-737c11839459",
   "metadata": {},
   "source": [
    "### 3) FIND HGNC DATABASES RELATED TO HUMAN DATA"
   ]
  },
  {
   "cell_type": "code",
   "execution_count": 17,
   "id": "3a2b0198-fa2c-408e-9385-374bbeee4ecf",
   "metadata": {},
   "outputs": [
    {
     "name": "stdout",
     "output_type": "stream",
     "text": [
      "[{'description': None, 'display_name': 'HGNC Symbol', 'name': 'HGNC', 'release': '1'}, {'name': 'HGNC_trans_name', 'display_name': 'Transcript name', 'release': '1', 'description': 'transcript name from HGNC'}]\n"
     ]
    }
   ],
   "source": [
    "ext_dbs = do_request(ensembl_server, 'info/external_dbs', \n",
    "                     'homo_sapiens', filter='HGNC%')\n",
    "print(ext_dbs)"
   ]
  },
  {
   "cell_type": "code",
   "execution_count": 155,
   "id": "a3a656eb-6547-44e0-a4df-238eb01d39fa",
   "metadata": {},
   "outputs": [
    {
     "name": "stdout",
     "output_type": "stream",
     "text": [
      "description: null\n",
      "display_name: HGNC Symbol\n",
      "name: HGNC\n",
      "release: '1'\n",
      "\n",
      "description: transcript name from HGNC\n",
      "display_name: Transcript name\n",
      "name: HGNC_trans_name\n",
      "release: '1'\n",
      "\n"
     ]
    }
   ],
   "source": [
    "# WS not clear what this info is saying: just that a HGNC db exists?\n",
    "for k in ext_dbs: # WS list of dicts\n",
    "    print_d(k)"
   ]
  },
  {
   "cell_type": "markdown",
   "id": "c3d45584-7a48-466c-bf06-d35d90f1da9f",
   "metadata": {},
   "source": [
    "### 4) RETRIEVE ENSEMBLE ID FOR THE LCT GENE"
   ]
  },
  {
   "cell_type": "code",
   "execution_count": 27,
   "id": "46dd9ab9-6aed-465d-93d1-8811887aa7b0",
   "metadata": {},
   "outputs": [],
   "source": [
    "answer = do_request(ensembl_server, 'lookup/symbol', \n",
    "                    'homo_sapiens', 'LCT')"
   ]
  },
  {
   "cell_type": "code",
   "execution_count": 156,
   "id": "3ea0fceb-9dbe-4efe-b004-952209e23157",
   "metadata": {},
   "outputs": [
    {
     "name": "stdout",
     "output_type": "stream",
     "text": [
      "assembly_name: GRCh38\n",
      "biotype: protein_coding\n",
      "canonical_transcript: ENST00000264162.7\n",
      "db_type: core\n",
      "description: lactase [Source:HGNC Symbol;Acc:HGNC:6530]\n",
      "display_name: LCT\n",
      "end: 135837184\n",
      "id: ENSG00000115850\n",
      "logic_name: ensembl_havana_gene_homo_sapiens\n",
      "object_type: Gene\n",
      "seq_region_name: '2'\n",
      "source: ensembl_havana\n",
      "species: homo_sapiens\n",
      "start: 135787850\n",
      "strand: -1\n",
      "version: 10\n",
      "\n"
     ]
    }
   ],
   "source": [
    "print_d(answer)"
   ]
  },
  {
   "cell_type": "code",
   "execution_count": 43,
   "id": "62b45b3c-9298-44ab-83da-771144a65b51",
   "metadata": {},
   "outputs": [
    {
     "data": {
      "text/plain": [
       "'ENSG00000115850'"
      ]
     },
     "execution_count": 43,
     "metadata": {},
     "output_type": "execute_result"
    }
   ],
   "source": [
    "lct_id = answer['id']\n",
    "lct_id"
   ]
  },
  {
   "cell_type": "code",
   "execution_count": 68,
   "id": "7117f76c-2d01-4aad-86d6-1127c87a11b2",
   "metadata": {},
   "outputs": [
    {
     "data": {
      "text/plain": [
       "49335"
      ]
     },
     "execution_count": 68,
     "metadata": {},
     "output_type": "execute_result"
    }
   ],
   "source": [
    "gene_length = answer['end'] - answer['start'] + 1\n",
    "gene_length"
   ]
  },
  {
   "cell_type": "code",
   "execution_count": 45,
   "id": "1ef8423f-8d15-46cd-810d-4343ba15e475",
   "metadata": {},
   "outputs": [],
   "source": [
    "lct_seq = do_request(ensembl_server, 'sequence/id', lct_id)"
   ]
  },
  {
   "cell_type": "code",
   "execution_count": 49,
   "id": "22882b80-dfed-4511-9e81-c117fcbbfd06",
   "metadata": {},
   "outputs": [
    {
     "data": {
      "text/plain": [
       "dict_keys(['version', 'molecule', 'id', 'desc', 'query', 'seq'])"
      ]
     },
     "execution_count": 49,
     "metadata": {},
     "output_type": "execute_result"
    }
   ],
   "source": [
    "lct_seq.keys()"
   ]
  },
  {
   "cell_type": "code",
   "execution_count": 80,
   "id": "315d18b6-c327-4570-bf18-c30ef31455e1",
   "metadata": {},
   "outputs": [
    {
     "name": "stdout",
     "output_type": "stream",
     "text": [
      "version             : 10\n",
      "molecule            : dna\n",
      "id                  : ENSG00000115850\n",
      "desc                : chromosome:GRCh38:2:135787850:135837184:-1\n",
      "query               : ENSG00000115850\n"
     ]
    }
   ],
   "source": [
    "for k, v in lct_seq.items():  # WS\n",
    "    if k == 'seq': continue  # javascript error: see below\n",
    "    print('{:20s}: {}'.format(k, v))"
   ]
  },
  {
   "cell_type": "code",
   "execution_count": 69,
   "id": "97979442-30b7-45bf-a438-b02e95389910",
   "metadata": {},
   "outputs": [
    {
     "data": {
      "text/plain": [
       "49335"
      ]
     },
     "execution_count": 69,
     "metadata": {},
     "output_type": "execute_result"
    }
   ],
   "source": [
    "# string 49335 bases long: consistent with metadata\n",
    "len(lct_seq['seq'])"
   ]
  },
  {
   "cell_type": "code",
   "execution_count": 71,
   "id": "57c7ff5c-67cd-44b0-85fb-7e8e98f59b01",
   "metadata": {},
   "outputs": [
    {
     "data": {
      "text/plain": [
       "'AACAGTTCCTAGAAAATGGAGCTGTCTTGGCATGTAGTCTTTATTGCCCTGCTAAGTTTTTCATGCTGGGGGTCAGACTGGGAGTCTGATAGAAATTTCATTTCCACCGCTGGTCCTCTAACCAATGACTTGCTGCACAACCTGAGTGGTCTCCTGGGAGACCAGAGTTCTAACTTTGTAGCAGGGGACAAAGACATGTA'"
      ]
     },
     "execution_count": 71,
     "metadata": {},
     "output_type": "execute_result"
    }
   ],
   "source": [
    "# WS can't print without subindexing: too large; get \n",
    "# 'javascript error: too much recursion'\n",
    "lct_seq['seq'][0:200]"
   ]
  },
  {
   "cell_type": "markdown",
   "id": "7ea4a78c-1652-4ef3-abe8-441929e0aeb0",
   "metadata": {},
   "source": [
    "# _____________________________________________"
   ]
  },
  {
   "cell_type": "markdown",
   "id": "5475de4a-2d38-4cc6-80de-9d4afb1f890f",
   "metadata": {},
   "source": [
    "### WS TODO) \n",
    "### GET THE GFF FILE FOR THIS LACTASE GENE AND DISPLAY THE EXONs, CDSs, UTRs\n",
    "### SEE WS_ch05D.ipynb AND WS_experiments.ipynb"
   ]
  },
  {
   "cell_type": "markdown",
   "id": "9640950e-3c51-4253-9679-0ade96ad7f0e",
   "metadata": {},
   "source": [
    "# _____________________________________________"
   ]
  },
  {
   "cell_type": "markdown",
   "id": "34587cb4-821f-4a75-83d8-b5e3e6f4861f",
   "metadata": {},
   "source": [
    "### 6) INSPECT OTHER DATABASES KNOWN TO ENSEMBL FOR THIS GENE"
   ]
  },
  {
   "cell_type": "code",
   "execution_count": 72,
   "id": "f0bb13b6-9100-4404-be86-899fc2623964",
   "metadata": {},
   "outputs": [],
   "source": [
    "lct_xrefs = do_request(ensembl_server, 'xrefs/id', lct_id)"
   ]
  },
  {
   "cell_type": "code",
   "execution_count": 92,
   "id": "247de845-6ee7-43ea-b953-7957c814fe3b",
   "metadata": {},
   "outputs": [
    {
     "name": "stdout",
     "output_type": "stream",
     "text": [
      "LRG display in Ensembl gene\n",
      "Expression Atlas\n",
      "NCBI gene (formerly Entrezgene)\n",
      "HGNC Symbol\n",
      "MIM gene\n",
      "MIM morbid\n",
      "Reactome gene\n",
      "Reactome gene\n",
      "Reactome gene\n",
      "Reactome gene\n",
      "Reactome gene\n",
      "Reactome gene\n",
      "Reactome gene\n",
      "UniProtKB Gene Name\n",
      "UniProtKB Gene Name\n",
      "WikiGene\n"
     ]
    }
   ],
   "source": [
    "for xref in lct_xrefs:\n",
    "    print(xref['db_display_name'])\n",
    "    #print(xref)\n",
    "    #print_d(xref)  # WS"
   ]
  },
  {
   "cell_type": "code",
   "execution_count": 82,
   "id": "3ef62430-792f-4fd9-abfa-c9c242747bab",
   "metadata": {},
   "outputs": [],
   "source": [
    "refs = do_request(ensembl_server, 'xrefs/id', lct_id, \n",
    "                  external_db='GO', all_levels='1')"
   ]
  },
  {
   "cell_type": "code",
   "execution_count": 101,
   "id": "3ecdcc55-5fb8-4351-a304-696b75b039e9",
   "metadata": {},
   "outputs": [
    {
     "name": "stdout",
     "output_type": "stream",
     "text": [
      "GO:0000016 ['IDA', 'IEA', 'IMP'] lactase activity\n",
      "GO:0000016 ['IEA'] lactase activity\n",
      "GO:0000016 ['IBA'] lactase activity\n",
      "GO:0003824 ['IEA'] catalytic activity\n",
      "GO:0004336 ['ISS'] galactosylceramidase activity\n",
      "GO:0004348 ['ISS'] glucosylceramidase activity\n",
      "GO:0004553 ['IEA'] hydrolase activity, hydrolyzing O-glycosyl compounds\n",
      "GO:0004553 ['IEA'] hydrolase activity, hydrolyzing O-glycosyl compounds\n",
      "GO:0004553 ['IEA'] hydrolase activity, hydrolyzing O-glycosyl compounds\n",
      "GO:0005886 ['TAS'] plasma membrane\n",
      "GO:0005886 ['IEA'] plasma membrane\n",
      "GO:0005887 ['TAS'] integral component of plasma membrane\n",
      "GO:0005975 ['IEA'] carbohydrate metabolic process\n",
      "GO:0005975 ['IEA'] carbohydrate metabolic process\n",
      "GO:0005990 ['IDA'] lactose catabolic process\n",
      "GO:0008152 ['IEA'] metabolic process\n",
      "GO:0008422 ['IDA', 'ISS'] beta-glucosidase activity\n",
      "GO:0016020 ['IEA'] membrane\n",
      "GO:0016021 ['IEA'] integral component of membrane\n",
      "GO:0016324 ['IEA'] apical plasma membrane\n",
      "GO:0016787 ['IEA'] hydrolase activity\n",
      "GO:0016798 ['IEA'] hydrolase activity, acting on glycosyl bonds\n",
      "GO:0017042 ['IEA'] glycosylceramidase activity\n",
      "GO:0042803 ['IDA'] protein homodimerization activity\n",
      "GO:0046477 ['ISS'] glycosylceramide catabolic process\n",
      "GO:0080079 ['IEA'] cellobiose glucosidase activity\n",
      "GO:0098591 ['IDA'] external side of apical plasma membrane\n",
      "GO:0140749 ['IDA'] phlorizin hydrolase activity\n",
      "GO:1901733 ['IDA'] quercetin catabolic process\n",
      "GO:2000892 ['IDA'] cellobiose catabolic process\n",
      "GO:0004553 ['IEA'] hydrolase activity, hydrolyzing O-glycosyl compounds\n",
      "GO:0004553 ['IEA'] hydrolase activity, hydrolyzing O-glycosyl compounds\n",
      "GO:0005975 ['IEA'] carbohydrate metabolic process\n",
      "GO:0008152 ['IEA'] metabolic process\n",
      "GO:0016787 ['IEA'] hydrolase activity\n",
      "GO:0016798 ['IEA'] hydrolase activity, acting on glycosyl bonds\n"
     ]
    }
   ],
   "source": [
    "#print(lct_id, refs)\n",
    "for k in refs: # WS\n",
    "    #print_d(k) # WS  too many entries to print all\n",
    "    print(k['display_id'], k['linkage_types'], k['description'])"
   ]
  },
  {
   "cell_type": "markdown",
   "id": "d1ee3eec-0fd6-479f-945b-c73f58a7dd86",
   "metadata": {},
   "source": [
    "### 7) GET THE ORTHOLOGUES FOR THIS GENE ON THE HORSE GENOME"
   ]
  },
  {
   "cell_type": "code",
   "execution_count": 102,
   "id": "fbc831c8-d589-4cf5-9fd9-7f1baa8f320b",
   "metadata": {},
   "outputs": [],
   "source": [
    "hom_response = do_request(ensembl_server, 'homology/id', lct_id, \n",
    "                          type='orthologues', sequence='none')"
   ]
  },
  {
   "cell_type": "code",
   "execution_count": 157,
   "id": "4945becc-e81a-417c-98c7-fbc25b73f5c5",
   "metadata": {},
   "outputs": [
    {
     "name": "stdout",
     "output_type": "stream",
     "text": [
      "dn_ds: null\n",
      "method_link_type: ENSEMBL_ORTHOLOGUES\n",
      "source:\n",
      "  cigar_line: 351M2D1576M\n",
      "  id: ENSG00000115850\n",
      "  perc_id: 85.8329\n",
      "  perc_pos: 92.2678\n",
      "  protein_id: ENSP00000264162\n",
      "  species: homo_sapiens\n",
      "  taxon_id: 9606\n",
      "target:\n",
      "  cigar_line: 1929M\n",
      "  id: ENSECAG00000018594\n",
      "  perc_id: 85.7439\n",
      "  perc_pos: 92.1721\n",
      "  protein_id: ENSECAP00000016483\n",
      "  species: equus_caballus\n",
      "  taxon_id: 9796\n",
      "taxonomy_level: Boreoeutheria\n",
      "type: ortholog_one2one\n",
      "\n"
     ]
    }
   ],
   "source": [
    "#print(hom_response['data'][0]['homologies'])\n",
    "homologies = hom_response['data'][0]['homologies']\n",
    "for homology in homologies:\n",
    "    #print(homology['target']['species'])\n",
    "    if homology['target']['species'] != 'equus_caballus':\n",
    "        continue\n",
    "    print_d(homology) # WS function\n",
    "    #print(homology['taxonomy_level'])\n",
    "    horse_id = homology['target']['id']"
   ]
  },
  {
   "cell_type": "code",
   "execution_count": 114,
   "id": "532fe55c-a40a-4b4d-b8d1-62532e026215",
   "metadata": {},
   "outputs": [
    {
     "data": {
      "text/plain": [
       "'ENSECAG00000018594'"
      ]
     },
     "execution_count": 114,
     "metadata": {},
     "output_type": "execute_result"
    }
   ],
   "source": [
    "horse_id"
   ]
  },
  {
   "cell_type": "markdown",
   "id": "426efdb0-e938-49fd-b2cb-d0097f384015",
   "metadata": {},
   "source": [
    "### 8) GET ENSEMBL RECORD FOR horse_id"
   ]
  },
  {
   "cell_type": "code",
   "execution_count": 158,
   "id": "b036b269-d36b-46cf-b15b-8fa78ecd14f6",
   "metadata": {},
   "outputs": [],
   "source": [
    "horse_req = do_request(ensembl_server, 'lookup/id', horse_id)"
   ]
  },
  {
   "cell_type": "code",
   "execution_count": 160,
   "id": "d7a38659-a2fe-48fa-b620-96aa475e14b3",
   "metadata": {},
   "outputs": [
    {
     "name": "stdout",
     "output_type": "stream",
     "text": [
      "assembly_name: EquCab3.0\n",
      "biotype: protein_coding\n",
      "canonical_transcript: ENSECAT00000020097.3\n",
      "db_type: core\n",
      "description: lactase [Source:VGNC Symbol;Acc:VGNC:19613]\n",
      "display_name: LCT\n",
      "end: 19724999\n",
      "id: ENSECAG00000018594\n",
      "logic_name: ensembl\n",
      "object_type: Gene\n",
      "seq_region_name: '18'\n",
      "source: ensembl\n",
      "species: equus_caballus\n",
      "start: 19678126\n",
      "strand: -1\n",
      "version: 3\n",
      "\n"
     ]
    }
   ],
   "source": [
    "print_d(horse_req) # WS function"
   ]
  },
  {
   "cell_type": "markdown",
   "id": "5b0ef995-5c76-46b0-b83b-2d395edf8563",
   "metadata": {},
   "source": [
    "### WS TODO) GET THE GENE SEQUENCE, GFF FILE AND PLOT GENE\n",
    "### COMPARE TO HUMAN"
   ]
  },
  {
   "cell_type": "code",
   "execution_count": null,
   "id": "33046cee-a1ca-468d-9013-fbc40c6b9170",
   "metadata": {},
   "outputs": [],
   "source": []
  }
 ],
 "metadata": {
  "kernelspec": {
   "display_name": "Python 3 (ipykernel)",
   "language": "python",
   "name": "python3"
  },
  "language_info": {
   "codemirror_mode": {
    "name": "ipython",
    "version": 3
   },
   "file_extension": ".py",
   "mimetype": "text/x-python",
   "name": "python",
   "nbconvert_exporter": "python",
   "pygments_lexer": "ipython3",
   "version": "3.10.6"
  }
 },
 "nbformat": 4,
 "nbformat_minor": 5
}

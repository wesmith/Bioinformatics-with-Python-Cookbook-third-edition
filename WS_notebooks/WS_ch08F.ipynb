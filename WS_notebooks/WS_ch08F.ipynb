{
 "cells": [
  {
   "cell_type": "markdown",
   "id": "12278fc7-bd9f-4692-9c0a-fa037c5adf13",
   "metadata": {},
   "source": [
    "# WS_ch08F.ipynb\n",
    "## WESmith 04/21/23\n",
    "# ANIMATING WITH PYMOL\n",
    "# NOTE1: don't run pymol from jupyter at this time: \n",
    "##       run the PyMol_Intro.py and PyMol_Movie.py scripts from a command line;\n",
    "##       also, PyMol can be run interactively from a python shell\n",
    "# NOTE2: I prefer Jmol at present, will use it instead of PyMol for now\n",
    "## (see book code in Chapter08/PyMol_Intro.py and PyMol_Movie.py)\n",
    "### WS created this notebook to follow along with code from the book\n",
    "### 'Bioinformatics with Python Cookbook' by Tiago Antao¶\n",
    "### Each recipe will have its own notebook, suffixed by A, B, etc.¶¶"
   ]
  },
  {
   "cell_type": "code",
   "execution_count": null,
   "id": "dc2f94f2-6699-4ac8-be68-3d897736e162",
   "metadata": {},
   "outputs": [],
   "source": [
    "import pymol\n",
    "from pymol import cmd"
   ]
  },
  {
   "cell_type": "code",
   "execution_count": null,
   "id": "988fc360-453b-451f-8ba8-bbb7e8549f07",
   "metadata": {},
   "outputs": [],
   "source": [
    "#pymol.pymol_argv = [ 'pymol', '-qc'] #  Quiet / no GUI\n",
    "# WS note: this throws an error and freezes the kernel\n",
    "pymol.finish_launching()"
   ]
  },
  {
   "cell_type": "code",
   "execution_count": null,
   "id": "36c3dc07-f86d-4d75-87b3-4c5388cf84c3",
   "metadata": {},
   "outputs": [],
   "source": [
    "pymol.finish_launching?"
   ]
  },
  {
   "cell_type": "code",
   "execution_count": null,
   "id": "fbbacc8a-b975-4905-b001-7f2c14e4230c",
   "metadata": {},
   "outputs": [],
   "source": []
  }
 ],
 "metadata": {
  "kernelspec": {
   "display_name": "Python 3 (ipykernel)",
   "language": "python",
   "name": "python3"
  },
  "language_info": {
   "codemirror_mode": {
    "name": "ipython",
    "version": 3
   },
   "file_extension": ".py",
   "mimetype": "text/x-python",
   "name": "python",
   "nbconvert_exporter": "python",
   "pygments_lexer": "ipython3",
   "version": "3.10.6"
  }
 },
 "nbformat": 4,
 "nbformat_minor": 5
}

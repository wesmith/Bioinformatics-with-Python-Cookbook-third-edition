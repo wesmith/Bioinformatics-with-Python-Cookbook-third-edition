{
 "cells": [
  {
   "cell_type": "markdown",
   "id": "5976fdde-694e-435f-8c26-7f4a5412d8ae",
   "metadata": {},
   "source": [
    "# WS_ch03B.ipynb\n",
    "# WESmith 11/10/22\n",
    "## WS created this notebook to follow along chap 3 code from book \n",
    "# 'Bioinformatics with Python Cookbook' by Tiago Antao\n",
    "### Each recipe will have its own notebook, suffixed by A, B, etc."
   ]
  },
  {
   "cell_type": "markdown",
   "id": "615c5cb9-1880-4803-908c-5cafb999c33a",
   "metadata": {},
   "source": [
    "# PERFORMING BASIC SEQUENCE ANALYSIS"
   ]
  },
  {
   "cell_type": "code",
   "execution_count": null,
   "id": "7ef34f23-55c8-4326-9f3e-34c68f7e0591",
   "metadata": {},
   "outputs": [],
   "source": [
    "from Bio import Entrez, Medline, SeqIO, SeqRecord\n",
    "import os\n",
    "import utils as ws"
   ]
  },
  {
   "cell_type": "code",
   "execution_count": null,
   "id": "37802153-5023-438a-b110-f658c7253e6c",
   "metadata": {},
   "outputs": [],
   "source": [
    "email = 'smiwarsky@gmail.com' \n",
    "Entrez.email = email # required"
   ]
  },
  {
   "cell_type": "code",
   "execution_count": null,
   "id": "db834858-7f83-4745-be45-456232621687",
   "metadata": {},
   "outputs": [],
   "source": [
    "data_dir = 'data'"
   ]
  },
  {
   "cell_type": "code",
   "execution_count": null,
   "id": "5b2bfc03-a200-487f-bbe2-2fab3bc62cc3",
   "metadata": {},
   "outputs": [],
   "source": [
    "class EntrezFetch():\n",
    "    '''\n",
    "    WS convenience class to fetch data from Entrez databases.\n",
    "    id:      ID of object(s) to fetch (list of strings). \n",
    "             If a single object, a list of one object is made internally.\n",
    "    db:      database type (str) (default: 'nucleotide')\n",
    "    rettype: return type (str) (default: 'gb')\n",
    "    email:   email address of requestor (str)(required)\n",
    "    '''\n",
    "    def __init__(self, id=id, db='nucleotide', rettype='gb', email=''):\n",
    "        if type(id) != list: id = [id]\n",
    "        self.id      = id\n",
    "        self.db      = db\n",
    "        self.rettype = rettype\n",
    "        self.email   = email\n",
    "        Entrez.email = self.email\n",
    "        self.info(db=self.db, rettype=self.rettype)\n",
    "        self.handle  = Entrez.efetch(db=self.db, \n",
    "                                     id=self.id, \n",
    "                                     rettype=self.rettype)\n",
    "        self.rec     = list(SeqIO.parse(self.handle, self.rettype))\n",
    "        self.refs    = None\n",
    "\n",
    "    def info(self, db='N/A', rettype='N/A', mode='N/A'):\n",
    "        print('GETTING DATA FROM {} DB OF TYPE {} AS MODE {} ...'.\\\n",
    "                  format(db, rettype, mode))\n",
    "        \n",
    "    def references(self, db='pubmed', rettype='medline', retmode='text'):\n",
    "        '''\n",
    "        Get publications for each record\n",
    "        '''\n",
    "        if self.refs is not None:\n",
    "            return self.refs\n",
    "        else:\n",
    "            self.info(db=db, rettype=rettype, mode=retmode)\n",
    "            out = []\n",
    "            for j, rec in enumerate(self.rec):\n",
    "                try:\n",
    "                    rr = rec.annotations['references']\n",
    "                except:\n",
    "                    print('NO REFS FOR RECORD {}'.format(j))\n",
    "                    continue\n",
    "                for ref in rr:\n",
    "                    if ref.pubmed_id != '':\n",
    "                        #print('trying: ', [ref.pubmed_id])\n",
    "                        handle = Entrez.efetch(db=db, id=[ref.pubmed_id],\n",
    "                                               rettype=rettype, retmode=retmode)\n",
    "                        dd = list(Medline.parse(handle))  # make a list from the generator\n",
    "                        out.append({ref.pubmed_id: dd})\n",
    "            self.refs = out # a list of dictionaries: one dictionary for each record\n",
    "        return self.refs\n",
    "\n",
    "    def print_refs(self, short=True):\n",
    "        _ = self.references()\n",
    "        for j in self.refs:\n",
    "            for k,v in j.items():\n",
    "                for kk in v:\n",
    "                    if short:\n",
    "                        print('TITLE: {}\\nJOURNAL: {}\\nCIT: {}\\n\\n'.\\\n",
    "                              format(kk['TI'], kk['JT'], kk['SO']))\n",
    "                    else:\n",
    "                        print('TITLE: {}\\nABSTRACT: {}\\nJOURNAL: {}\\nCIT: {}\\n\\n'.\\\n",
    "                              format(kk['TI'], kk['AB'], kk['JT'], kk['SO']))"
   ]
  },
  {
   "cell_type": "code",
   "execution_count": null,
   "id": "a3f2685a-805d-4e39-99e5-27e01a1c7edf",
   "metadata": {},
   "outputs": [],
   "source": [
    "id = 'NM_002299'\n",
    "dd = EntrezFetch(id=id, email=email)"
   ]
  },
  {
   "cell_type": "code",
   "execution_count": null,
   "id": "5e63256b-47af-4788-ac52-7c86035826a2",
   "metadata": {},
   "outputs": [],
   "source": [
    "dd.print_refs()"
   ]
  },
  {
   "cell_type": "code",
   "execution_count": null,
   "id": "15222e4b-dbc6-46ca-9ea1-6b8fe31522eb",
   "metadata": {},
   "outputs": [],
   "source": [
    "dd.print_refs(short=True)"
   ]
  },
  {
   "cell_type": "code",
   "execution_count": null,
   "id": "6dffe4a2-f851-437a-8f18-77d583ff7e27",
   "metadata": {},
   "outputs": [],
   "source": [
    "rr = dd.references()"
   ]
  },
  {
   "cell_type": "code",
   "execution_count": null,
   "id": "59e25c55-2bf6-408c-9406-dd57fa366ba7",
   "metadata": {},
   "outputs": [],
   "source": []
  },
  {
   "cell_type": "code",
   "execution_count": null,
   "id": "d5119959-51d4-4931-9f64-eea266611fb5",
   "metadata": {
    "tags": []
   },
   "outputs": [],
   "source": [
    "for j in rr:\n",
    "    for k,v in j.items():\n",
    "        for kk in v:\n",
    "            print('TITLE: {}\\nJOURNAL: {}\\nCIT: {}\\n\\n'.format(kk['TI'], kk['JT'], kk['SO']))"
   ]
  },
  {
   "cell_type": "code",
   "execution_count": null,
   "id": "ce8dc507-21f8-4236-85ab-523f92c52c9c",
   "metadata": {
    "tags": []
   },
   "outputs": [],
   "source": [
    "for k in dd.rec:\n",
    "    ws.print_dict(k.__dict__)"
   ]
  },
  {
   "cell_type": "code",
   "execution_count": null,
   "id": "9e2cc771-ccef-4170-b24b-6376f282ec9d",
   "metadata": {
    "tags": []
   },
   "outputs": [],
   "source": [
    "for k in dd.rec:\n",
    "    print(k.annotations['references'])"
   ]
  },
  {
   "cell_type": "code",
   "execution_count": null,
   "id": "d5510a78-54b7-4f93-9e3e-23d381b8acc4",
   "metadata": {
    "tags": []
   },
   "outputs": [],
   "source": [
    "hdl = Entrez.efetch(db='nucleotide', id=['NM_002299'], rettype='gb') # human lactase gene"
   ]
  },
  {
   "cell_type": "code",
   "execution_count": null,
   "id": "cf5e1b8c-b181-4ff5-a184-0dc7f4a460c4",
   "metadata": {},
   "outputs": [],
   "source": [
    "type(hdl)"
   ]
  },
  {
   "cell_type": "code",
   "execution_count": null,
   "id": "6eba6c71-ac71-4fee-82c6-f2d221f239b3",
   "metadata": {},
   "outputs": [],
   "source": [
    "gb_rec = SeqIO.read(hdl, 'gb')"
   ]
  },
  {
   "cell_type": "code",
   "execution_count": null,
   "id": "b3b8528c-7d2b-492e-a24b-cc33c67e7b72",
   "metadata": {
    "tags": []
   },
   "outputs": [],
   "source": [
    "ws.print_dict(gb_rec.__dict__)"
   ]
  },
  {
   "cell_type": "code",
   "execution_count": null,
   "id": "d606cb20-5475-4603-963e-bdf2f2d1086d",
   "metadata": {},
   "outputs": [],
   "source": [
    "# references\n",
    "refs = gb_rec.annotations['references']"
   ]
  },
  {
   "cell_type": "code",
   "execution_count": null,
   "id": "aa37af35-3d3c-4490-ae6f-545ec3585209",
   "metadata": {
    "tags": []
   },
   "outputs": [],
   "source": [
    "refs"
   ]
  },
  {
   "cell_type": "code",
   "execution_count": null,
   "id": "e7825315-ae50-45f0-85f5-0cb352af76a0",
   "metadata": {},
   "outputs": [],
   "source": [
    "def get_refs(refs, db='pubmed', rettype='medline'):\n",
    "    '''\n",
    "    Get a dictionary of publications for this record\n",
    "    '''\n",
    "    out = {}\n",
    "    for ref in refs:\n",
    "        if ref.pubmed_id != '':\n",
    "            #print(ref.pubmed_id)\n",
    "            handle = Entrez.efetch(db=db, id=[ref.pubmed_id],\n",
    "                                   rettype=rettype, retmode=\"text\")\n",
    "            dd = list(Medline.parse(handle))  # make a list from the generator\n",
    "            out[ref.pubmed_id] = dd[0] # assumes only 1 reference per record\n",
    "    return out"
   ]
  },
  {
   "cell_type": "code",
   "execution_count": null,
   "id": "92976c9c-c067-4804-9f63-5fe6b82d7ad9",
   "metadata": {},
   "outputs": [],
   "source": [
    "dd = get_refs(refs)"
   ]
  },
  {
   "cell_type": "code",
   "execution_count": null,
   "id": "997f81bc-abce-4a32-ac93-9292ce72f6d2",
   "metadata": {},
   "outputs": [],
   "source": [
    "for k,v in dd.items():\n",
    "    print(k, len(v))"
   ]
  },
  {
   "cell_type": "code",
   "execution_count": null,
   "id": "ba87f0a2-cfd2-41e9-86ce-7eb45eceb18b",
   "metadata": {
    "tags": []
   },
   "outputs": [],
   "source": [
    "ws.print_dict(dd, keywidth=10)"
   ]
  },
  {
   "cell_type": "code",
   "execution_count": null,
   "id": "f2745221-7f2a-4984-ba52-387c615a1239",
   "metadata": {
    "tags": []
   },
   "outputs": [],
   "source": [
    "for ref in refs:\n",
    "    if ref.pubmed_id != '':\n",
    "        print(ref.pubmed_id)\n",
    "        handle = Entrez.efetch(db=\"pubmed\", id=[ref.pubmed_id],\n",
    "                               rettype=\"medline\", retmode=\"text\")\n",
    "        records = Medline.parse(handle)\n",
    "        for med_rec in records:\n",
    "            for k, v in med_rec.items():\n",
    "                print('%s: %s' % (k, v))"
   ]
  },
  {
   "cell_type": "code",
   "execution_count": null,
   "id": "45a35174-920f-4878-98a4-77aafa3617d9",
   "metadata": {},
   "outputs": [],
   "source": [
    "# get location of gene\n",
    "# WS NOTE: CDS means 'coding sequence': the actual part of the sequence that codes for a protein\n",
    "for feature in gb_rec.features:\n",
    "    if feature.type == 'CDS':\n",
    "        location = feature.location\n",
    "print(location)"
   ]
  },
  {
   "cell_type": "code",
   "execution_count": null,
   "id": "ecc5b6d3-1934-4530-b935-1d6e74088a34",
   "metadata": {},
   "outputs": [],
   "source": [
    "cds = SeqRecord.SeqRecord(gb_rec.seq[location.start:location.end], \n",
    "                          'NM_002299', description='LCT CDS only')"
   ]
  },
  {
   "cell_type": "code",
   "execution_count": null,
   "id": "9c82e01e-bbeb-4776-a55c-ab772bda9b6c",
   "metadata": {
    "tags": []
   },
   "outputs": [],
   "source": [
    "print(cds.seq), len(cds.seq)  # WS here it is! the lactose coding sequence"
   ]
  },
  {
   "cell_type": "markdown",
   "id": "79f7d54f-73c4-49c9-93a7-7a23a86ba2f9",
   "metadata": {},
   "source": [
    "### 1) WRITE FASTA FILE"
   ]
  },
  {
   "cell_type": "code",
   "execution_count": null,
   "id": "2ce43882-d8f2-49f2-bd20-40dc8030950c",
   "metadata": {},
   "outputs": [],
   "source": [
    "file = 'example.fasta'\n",
    "w_hdl = open(os.path.join(data_dir, file), 'w')\n",
    "SeqIO.write([cds], w_hdl, 'fasta')\n",
    "w_hdl.close()"
   ]
  },
  {
   "cell_type": "markdown",
   "id": "fc7aee5c-138f-4936-a100-72321217139a",
   "metadata": {},
   "source": [
    "### 2) READ FILE"
   ]
  },
  {
   "cell_type": "code",
   "execution_count": null,
   "id": "81f3e299-d6e3-4e69-b33c-d3cb2610ee9b",
   "metadata": {},
   "outputs": [],
   "source": [
    "recs = SeqIO.parse(os.path.join(data_dir, file), 'fasta')"
   ]
  },
  {
   "cell_type": "code",
   "execution_count": null,
   "id": "1b5d6992-6bb8-447a-aaf6-109d4f699a55",
   "metadata": {},
   "outputs": [],
   "source": [
    "for rec in recs:\n",
    "    seq = rec.seq\n",
    "    print(rec.description)\n",
    "    print(seq[:10])"
   ]
  },
  {
   "cell_type": "markdown",
   "id": "85ef7714-4549-4cd4-bb8e-136a8585dddc",
   "metadata": {},
   "source": [
    "### 3) TRANSCRIBE SEQUENCE"
   ]
  },
  {
   "cell_type": "code",
   "execution_count": null,
   "id": "96bc4e6d-308d-4d92-8d02-b44a345420bb",
   "metadata": {},
   "outputs": [],
   "source": [
    "rna = seq.transcribe()\n",
    "print(rna[:15]) # WS T goes to U"
   ]
  },
  {
   "cell_type": "markdown",
   "id": "74bcbbae-b6cd-4fa7-a0c5-771a591897e5",
   "metadata": {},
   "source": [
    "### 4) TRANSLATE INTO PROTEIN"
   ]
  },
  {
   "cell_type": "code",
   "execution_count": null,
   "id": "c319a64f-cab4-4c59-adb4-8add7ea6afb1",
   "metadata": {},
   "outputs": [],
   "source": [
    "prot = seq.translate()\n",
    "print(prot[:5])"
   ]
  },
  {
   "cell_type": "markdown",
   "id": "671efa5d-673e-4cf2-a60b-6f11d2c40b44",
   "metadata": {},
   "source": [
    "## CODON TABLES"
   ]
  },
  {
   "cell_type": "code",
   "execution_count": null,
   "id": "2951925c-d4ce-4a2a-a2a0-aae5fe13d420",
   "metadata": {},
   "outputs": [],
   "source": [
    "# WS this from biopython site:\n",
    "from Bio.Data import CodonTable\n",
    "standard_table = CodonTable.unambiguous_dna_by_id[1]\n",
    "mito_table     = CodonTable.unambiguous_dna_by_id[2]"
   ]
  },
  {
   "cell_type": "code",
   "execution_count": null,
   "id": "6dec23b0-a6ec-4560-90ef-94e38060b263",
   "metadata": {},
   "outputs": [],
   "source": [
    "print(standard_table)"
   ]
  },
  {
   "cell_type": "code",
   "execution_count": null,
   "id": "af5a10b9-eb39-4c01-9192-98029393dd0c",
   "metadata": {},
   "outputs": [],
   "source": [
    "import utils as ws\n",
    "ws.attrs(standard_table)"
   ]
  },
  {
   "cell_type": "code",
   "execution_count": null,
   "id": "1f36f42c-6d68-45c1-8390-d3f5436e1b32",
   "metadata": {},
   "outputs": [],
   "source": [
    "# WS the 20 amino acids\n",
    "set(standard_table.forward_table.values())"
   ]
  },
  {
   "cell_type": "code",
   "execution_count": null,
   "id": "0169894a-9fc3-483a-8ae7-da2dabb6ede5",
   "metadata": {},
   "outputs": [],
   "source": [
    "standard_table.back_table  # WS this disregards the many-to-one nature of the forward table"
   ]
  },
  {
   "cell_type": "code",
   "execution_count": null,
   "id": "5fac0b4c-a184-460e-a8ce-861bb8e07d83",
   "metadata": {},
   "outputs": [],
   "source": []
  },
  {
   "cell_type": "code",
   "execution_count": null,
   "id": "43609372-b238-4fd1-b589-a117bd3aa109",
   "metadata": {},
   "outputs": [],
   "source": []
  }
 ],
 "metadata": {
  "kernelspec": {
   "display_name": "Python 3 (ipykernel)",
   "language": "python",
   "name": "python3"
  },
  "language_info": {
   "codemirror_mode": {
    "name": "ipython",
    "version": 3
   },
   "file_extension": ".py",
   "mimetype": "text/x-python",
   "name": "python",
   "nbconvert_exporter": "python",
   "pygments_lexer": "ipython3",
   "version": "3.10.6"
  }
 },
 "nbformat": 4,
 "nbformat_minor": 5
}

{
 "cells": [
  {
   "cell_type": "markdown",
   "id": "e0dc184c-26b1-42f7-9aff-15e586a7871e",
   "metadata": {},
   "source": [
    "# WS_ch05C.ipynb\n",
    "# WESmith 11/28/22\n",
    "## WS created this notebook to follow along with the code in the book:\n",
    "## 'Bioinformatics with Python Cookbook' by Tiago Antao\n",
    "## Each recipe will have its own notebook, suffixed by A, B, etc.¶"
   ]
  },
  {
   "cell_type": "markdown",
   "id": "5a1c72bb-49fe-44aa-85b8-ad387861ef13",
   "metadata": {},
   "source": [
    "# RECIPE: \n",
    "# TRAVERSING GENOME ANNOTATIONS\n",
    "## also see book code in Chapter05/Annotations.py¶"
   ]
  },
  {
   "cell_type": "raw",
   "id": "13ce5977-d187-44c0-bac9-5879f9a2b2aa",
   "metadata": {},
   "source": [
    "# data is at\n",
    "# https://vectorbase.org/common/downloads/release-55/AgambiaePEST/gff/data/VectorBase-55_AgambiaePEST.gff "
   ]
  },
  {
   "cell_type": "code",
   "execution_count": 5,
   "id": "2d00f0c0-7261-470e-a055-ae3e3024fc0f",
   "metadata": {},
   "outputs": [],
   "source": [
    "from collections import defaultdict\n",
    "import os\n",
    "import gffutils\n",
    "import sqlite3"
   ]
  },
  {
   "cell_type": "code",
   "execution_count": 6,
   "id": "12754b6b-e5a8-49ab-bfe0-f9f59d0a0be0",
   "metadata": {},
   "outputs": [],
   "source": [
    "data_dir = 'data/ch05_data'\n",
    "name     = 'VectorBase-55_AgambiaePEST.gff'\n",
    "file     = os.path.join(data_dir, name)\n",
    "save_it  = os.path.join(data_dir, 'ag.db')"
   ]
  },
  {
   "cell_type": "markdown",
   "id": "2890c663-f081-4fb7-bf80-602649f05f4d",
   "metadata": {},
   "source": [
    "### 1) CREATE ANNOTATION DATABASE"
   ]
  },
  {
   "cell_type": "code",
   "execution_count": 8,
   "id": "2f01ccfb-17a9-4e52-a131-05c6df6e76d6",
   "metadata": {},
   "outputs": [],
   "source": [
    "# this took 20 sec\n",
    "try:\n",
    "    db = gffutils.create_db(file, save_it)\n",
    "except sqlite3.OperationalError:\n",
    "    db = gffutils.FeatureDB(save_it)"
   ]
  },
  {
   "cell_type": "markdown",
   "id": "b039e5ce-646d-4b95-8465-f8dd61c6dc54",
   "metadata": {},
   "source": [
    "### 2) LIST AVAILABLE FEATURE TYPES"
   ]
  },
  {
   "cell_type": "code",
   "execution_count": 9,
   "id": "ee31cc9b-1bab-4c5f-a5a0-183f9d2dacd0",
   "metadata": {},
   "outputs": [
    {
     "name": "stdout",
     "output_type": "stream",
     "text": [
      "['CDS', 'RNase_MRP_RNA', 'RNase_P_RNA', 'SRP_RNA', 'exon', 'five_prime_UTR', 'lnc_RNA', 'mRNA', 'ncRNA', 'ncRNA_gene', 'pre_miRNA', 'protein_coding_gene', 'pseudogene', 'pseudogenic_transcript', 'rRNA', 'snRNA', 'snoRNA', 'tRNA', 'three_prime_UTR']\n"
     ]
    }
   ],
   "source": [
    "print(list(db.featuretypes()))"
   ]
  },
  {
   "cell_type": "code",
   "execution_count": 28,
   "id": "37884439-10ad-4d33-aed1-ca559055b91e",
   "metadata": {},
   "outputs": [
    {
     "name": "stdout",
     "output_type": "stream",
     "text": [
      "CDS 67394\n",
      "RNase_MRP_RNA 1\n",
      "RNase_P_RNA 1\n",
      "SRP_RNA 3\n",
      "exon 61590\n",
      "five_prime_UTR 17472\n",
      "lnc_RNA 2\n",
      "mRNA 15125\n",
      "ncRNA 4\n",
      "ncRNA_gene 729\n",
      "pre_miRNA 77\n",
      "protein_coding_gene 13094\n",
      "pseudogene 9\n",
      "pseudogenic_transcript 9\n",
      "rRNA 242\n",
      "snRNA 35\n",
      "snoRNA 2\n",
      "tRNA 362\n",
      "three_prime_UTR 12236\n"
     ]
    }
   ],
   "source": [
    "for feat_type in db.featuretypes():\n",
    "    print(feat_type, db.count_features_of_type(feat_type))"
   ]
  },
  {
   "cell_type": "markdown",
   "id": "7e5950de-0921-4c5b-92a5-73528a02de3e",
   "metadata": {},
   "source": [
    "### 3) LIST ALL SEQIDS"
   ]
  },
  {
   "cell_type": "code",
   "execution_count": 19,
   "id": "3fee0d1c-54c0-4ab6-bbde-0ced3a141670",
   "metadata": {},
   "outputs": [
    {
     "name": "stdout",
     "output_type": "stream",
     "text": [
      "AgamP4_UNKN\n",
      "AgamP4_3L\n",
      "AgamP4_X\n",
      "AgamP4_2R\n",
      "AgamP4_Mt\n",
      "AgamP4_2L\n",
      "AgamP4_Y_unplaced\n",
      "AgamP4_3R\n"
     ]
    }
   ],
   "source": [
    "seqids = set()\n",
    "for e in db.all_features():\n",
    "    seqids.add(e.seqid)\n",
    "for seqid in seqids:\n",
    "    print(seqid)"
   ]
  },
  {
   "cell_type": "markdown",
   "id": "856dce96-ee45-4f56-99ee-4e8e83e92fd1",
   "metadata": {},
   "source": [
    "### 4) EXTRACT INFORMATION PER CHROMOSOME"
   ]
  },
  {
   "cell_type": "code",
   "execution_count": 41,
   "id": "4e0c39df-d1d3-47aa-b1f9-ad3b37ea4389",
   "metadata": {},
   "outputs": [
    {
     "name": "stdout",
     "output_type": "stream",
     "text": [
      "seqid AgamP4_UNKN, number of genes 478\n",
      "seqid AgamP4_3L, number of genes 2216\n",
      "seqid AgamP4_X, number of genes 1073\n",
      "seqid AgamP4_2R, number of genes 3670\n",
      "seqid AgamP4_Mt, number of genes 13\n",
      "seqid AgamP4_2L, number of genes 2950\n",
      "seqid AgamP4_Y_unplaced, number of genes 2\n",
      "seqid AgamP4_3R, number of genes 2692\n",
      "total number of genes 13094\n"
     ]
    }
   ],
   "source": [
    "num_mRNAs = defaultdict(int)\n",
    "num_exons = defaultdict(int)\n",
    "max_exons = 0\n",
    "max_span = 0\n",
    "tot      = 0 # WS\n",
    "for seqid in seqids:\n",
    "    cnt = 0\n",
    "    for gene in db.region(seqid=seqid, featuretype='protein_coding_gene'):\n",
    "        cnt += 1\n",
    "        span = abs(gene.start - gene.end) # strand\n",
    "        if span > max_span:\n",
    "            max_span = span\n",
    "            max_span_gene = gene\n",
    "        # WS interpretation: my_mRNAs are the number of 'alternative transcripts'\n",
    "        #    in the book terminology\n",
    "        my_mRNAs = list(db.children(gene, featuretype='mRNA'))\n",
    "        num_mRNAs[len(my_mRNAs)] += 1\n",
    "        if len(my_mRNAs) == 0:\n",
    "            exon_check = [gene]\n",
    "        else:\n",
    "            exon_check = my_mRNAs  # WS list of 'alternative transcripts'?\n",
    "        for check in exon_check:\n",
    "            my_exons = list(db.children(check, featuretype='exon'))\n",
    "            num_exons[len(my_exons)] += 1\n",
    "            if len(my_exons) > max_exons:\n",
    "                max_exons = len(my_exons)\n",
    "                max_exons_gene = gene\n",
    "    tot += cnt\n",
    "    print(f'seqid {seqid}, number of genes {cnt}')\n",
    "print('total number of genes {}'.format(tot))  # WS"
   ]
  },
  {
   "cell_type": "code",
   "execution_count": 42,
   "id": "01af1252-e472-44fc-a47d-2d6688d2f462",
   "metadata": {},
   "outputs": [
    {
     "name": "stdout",
     "output_type": "stream",
     "text": [
      "gene with the max number of exons: AGAP001660 (69)\n"
     ]
    }
   ],
   "source": [
    "# WS modified printout, with WS interpretation\n",
    "print('gene with the max number of exons: %s (%d)' % (max_exons_gene.id, max_exons))"
   ]
  },
  {
   "cell_type": "code",
   "execution_count": 43,
   "id": "1c0048f6-3239-4b7c-8b9f-c0d04591020d",
   "metadata": {},
   "outputs": [
    {
     "name": "stdout",
     "output_type": "stream",
     "text": [
      "gene with the max span: AGAP006656 (365621)\n"
     ]
    }
   ],
   "source": [
    "print('gene with the max span: %s (%d)' % (max_span_gene.id, max_span))"
   ]
  },
  {
   "cell_type": "code",
   "execution_count": 59,
   "id": "c35bdf5e-3775-4e2a-9ed0-622e0fde39a5",
   "metadata": {},
   "outputs": [
    {
     "name": "stdout",
     "output_type": "stream",
     "text": [
      "11753 genes have  1 mRNA transcript (ie alternative transcripts)\n",
      "  964 genes have  2 mRNA transcript (ie alternative transcripts)\n",
      "  234 genes have  3 mRNA transcript (ie alternative transcripts)\n",
      "   85 genes have  4 mRNA transcript (ie alternative transcripts)\n",
      "   27 genes have  5 mRNA transcript (ie alternative transcripts)\n",
      "    2 genes have 12 mRNA transcript (ie alternative transcripts)\n",
      "    3 genes have  9 mRNA transcript (ie alternative transcripts)\n",
      "    5 genes have  7 mRNA transcript (ie alternative transcripts)\n",
      "    4 genes have  8 mRNA transcript (ie alternative transcripts)\n",
      "   10 genes have  6 mRNA transcript (ie alternative transcripts)\n",
      "    1 genes have 20 mRNA transcript (ie alternative transcripts)\n",
      "    3 genes have 11 mRNA transcript (ie alternative transcripts)\n",
      "    1 genes have 10 mRNA transcript (ie alternative transcripts)\n",
      "    2 genes have 13 mRNA transcript (ie alternative transcripts)\n",
      "total number of genes: 13094\n",
      "total number of mRNA transcripts: 15125\n"
     ]
    }
   ],
   "source": [
    "# WS interpretation of the dict\n",
    "tot_gene = 0  # a check\n",
    "tot_tran = 0\n",
    "for j, k in num_mRNAs.items():\n",
    "    print('{:5} genes have {:2} mRNA transcript (ie alternative transcripts)'.\\\n",
    "          format(k, j))\n",
    "    tot_gene += k\n",
    "    tot_tran += k * j\n",
    "print('total number of genes: {}\\ntotal number of mRNA transcripts: {}'.\\\n",
    "      format(tot_gene, tot_tran))"
   ]
  },
  {
   "cell_type": "code",
   "execution_count": 57,
   "id": "3db10d1c-25b6-40bd-bc46-b27ca2ad305a",
   "metadata": {},
   "outputs": [
    {
     "name": "stdout",
     "output_type": "stream",
     "text": [
      " 1552 mRNA transcripts have  5 exons\n",
      " 1207 mRNA transcripts have  1 exons\n",
      " 2059 mRNA transcripts have  4 exons\n",
      " 3159 mRNA transcripts have  2 exons\n",
      " 2763 mRNA transcripts have  3 exons\n",
      "  786 mRNA transcripts have  7 exons\n",
      "  530 mRNA transcripts have  8 exons\n",
      " 1126 mRNA transcripts have  6 exons\n",
      "  282 mRNA transcripts have 11 exons\n",
      "   65 mRNA transcripts have 15 exons\n",
      "  194 mRNA transcripts have 12 exons\n",
      "  459 mRNA transcripts have  9 exons\n",
      "  340 mRNA transcripts have 10 exons\n",
      "   27 mRNA transcripts have 21 exons\n",
      "   36 mRNA transcripts have 20 exons\n",
      "  119 mRNA transcripts have 13 exons\n",
      "   96 mRNA transcripts have 14 exons\n",
      "   76 mRNA transcripts have 17 exons\n",
      "    6 mRNA transcripts have 27 exons\n",
      "   46 mRNA transcripts have 18 exons\n",
      "    8 mRNA transcripts have 26 exons\n",
      "   65 mRNA transcripts have 16 exons\n",
      "   32 mRNA transcripts have 19 exons\n",
      "   15 mRNA transcripts have 23 exons\n",
      "    6 mRNA transcripts have 29 exons\n",
      "   10 mRNA transcripts have 31 exons\n",
      "    6 mRNA transcripts have 28 exons\n",
      "   10 mRNA transcripts have 22 exons\n",
      "   15 mRNA transcripts have 25 exons\n",
      "    9 mRNA transcripts have 24 exons\n",
      "    1 mRNA transcripts have 35 exons\n",
      "    7 mRNA transcripts have 32 exons\n",
      "    3 mRNA transcripts have 33 exons\n",
      "    1 mRNA transcripts have 45 exons\n",
      "    1 mRNA transcripts have 38 exons\n",
      "    1 mRNA transcripts have 46 exons\n",
      "    1 mRNA transcripts have 69 exons\n",
      "    5 mRNA transcripts have 30 exons\n",
      "    1 mRNA transcripts have 37 exons\n",
      "total number of mRNA transcripts: 15125\n"
     ]
    }
   ],
   "source": [
    "# WS interpretation of the dict\n",
    "tot = 0 # a check: total number of transcripts\n",
    "for j, k in num_exons.items():\n",
    "    print('{:5} mRNA transcripts have {:2} exons'.format(k, j))\n",
    "    tot += k\n",
    "print('total number of mRNA transcripts: {}'.format(tot))"
   ]
  },
  {
   "cell_type": "code",
   "execution_count": null,
   "id": "2ec848a6-f55c-4817-af24-03316641e9e8",
   "metadata": {},
   "outputs": [],
   "source": []
  }
 ],
 "metadata": {
  "kernelspec": {
   "display_name": "Python 3 (ipykernel)",
   "language": "python",
   "name": "python3"
  },
  "language_info": {
   "codemirror_mode": {
    "name": "ipython",
    "version": 3
   },
   "file_extension": ".py",
   "mimetype": "text/x-python",
   "name": "python",
   "nbconvert_exporter": "python",
   "pygments_lexer": "ipython3",
   "version": "3.10.6"
  }
 },
 "nbformat": 4,
 "nbformat_minor": 5
}

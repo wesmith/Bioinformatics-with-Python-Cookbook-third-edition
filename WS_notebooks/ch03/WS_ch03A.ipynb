{
 "cells": [
  {
   "cell_type": "markdown",
   "id": "66eb9025-ae99-4ef7-95cc-05bfaac49820",
   "metadata": {},
   "source": [
    "# WS_ch03A.ipynb\n",
    "# WESmith 11/09/22\n",
    "## WS created this notebook to follow along chap 3 code from book \n",
    "# 'Bioinformatics with Python Cookbook' by Tiago Antao\n",
    "### Each recipe will have its own notebook, suffixed by A, B, etc.\n",
    "## see the link below for reference to SeqIO data structures\n",
    "### http://biopython.org/DIST/docs/tutorial/Tutorial.html"
   ]
  },
  {
   "cell_type": "markdown",
   "id": "43246f84-be54-4edd-bacb-b4bbd8212e62",
   "metadata": {},
   "source": [
    "# ACCESSING GENBANK AND MOVING AROUND NCBI DATABASES"
   ]
  },
  {
   "cell_type": "markdown",
   "id": "877ee647-28de-424f-8a0f-354bce09b1ce",
   "metadata": {},
   "source": [
    "### 1) IMPORT MODULES, CONFIGURE EMAIL"
   ]
  },
  {
   "cell_type": "code",
   "execution_count": null,
   "id": "f2f2140d-70b9-425c-8ba0-a4f540a540cd",
   "metadata": {},
   "outputs": [],
   "source": [
    "from Bio import Entrez, SeqIO, Medline\n",
    "import utils as ws"
   ]
  },
  {
   "cell_type": "code",
   "execution_count": null,
   "id": "82a02f68-6d09-427f-99e1-9871c4c651e1",
   "metadata": {},
   "outputs": [],
   "source": [
    "Entrez.email = 'smiwarsky@gmail.com'  # required"
   ]
  },
  {
   "cell_type": "markdown",
   "id": "ff5dd8f1-994d-46d5-a0df-84c4d90afa3b",
   "metadata": {},
   "source": [
    "### 2) FIND CHOROQUININE RESISTANCE TRANSPORTER (CRT) GENE IN PLASMODIUM FALCIPARAM"
   ]
  },
  {
   "cell_type": "code",
   "execution_count": null,
   "id": "822e2b44-3045-49d1-9b3a-8df3771a13fa",
   "metadata": {},
   "outputs": [],
   "source": [
    "handle   = Entrez.esearch(db='nucleotide', term='CRT[Gene Name] AND \"Plasmodium falciparum\"[Organism]')\n",
    "rec_list = Entrez.read(handle)"
   ]
  },
  {
   "cell_type": "code",
   "execution_count": null,
   "id": "8836a2c7-bfd4-4282-a103-930ea2fb386f",
   "metadata": {},
   "outputs": [],
   "source": [
    "ws.print_dict(rec_list, keywidth=18)"
   ]
  },
  {
   "cell_type": "markdown",
   "id": "3950ab3d-584a-48be-94b7-1b086a7b69e1",
   "metadata": {},
   "source": [
    "### 3) RETRIEVE THE RECORDS"
   ]
  },
  {
   "cell_type": "code",
   "execution_count": null,
   "id": "de91dbb1-c113-44d0-86e6-ca06845b3194",
   "metadata": {
    "tags": []
   },
   "outputs": [],
   "source": [
    "id_list = rec_list['IdList']\n",
    "hdl     = Entrez.efetch(db='nucleotide', id=id_list, rettype='gb')"
   ]
  },
  {
   "cell_type": "code",
   "execution_count": null,
   "id": "d8c36f0d-df9c-4982-a309-da6a4949d814",
   "metadata": {
    "tags": []
   },
   "outputs": [],
   "source": [
    "ws.attrs(hdl)"
   ]
  },
  {
   "cell_type": "markdown",
   "id": "39f5a95b-c815-4145-b95e-49705426cecb",
   "metadata": {},
   "source": [
    "### 4) READ AND PARSE RESULT"
   ]
  },
  {
   "cell_type": "code",
   "execution_count": null,
   "id": "fd9b9ed2-93de-42e2-ae73-bce3ebe88ffd",
   "metadata": {},
   "outputs": [],
   "source": [
    "recs = list(SeqIO.parse(hdl,'gb'))  # convert iterator to list"
   ]
  },
  {
   "cell_type": "code",
   "execution_count": null,
   "id": "5e9bd2d1-751c-4704-bf83-c613eb56fe24",
   "metadata": {},
   "outputs": [],
   "source": [
    "len(recs)"
   ]
  },
  {
   "cell_type": "code",
   "execution_count": null,
   "id": "99ee89d9-f1ef-48a3-a47d-6b263a810b48",
   "metadata": {},
   "outputs": [],
   "source": [
    "for k in recs: # WS mod\n",
    "    print('{}: {}'.format(k.name, k.description))"
   ]
  },
  {
   "cell_type": "markdown",
   "id": "b183a96d-e920-4f64-aa4e-cd1f6d1e10c6",
   "metadata": {},
   "source": [
    "### 5) LOOK AT A SINGLE RECORD (A DIFFERENT RECORD THAN IN BOOK)"
   ]
  },
  {
   "cell_type": "code",
   "execution_count": null,
   "id": "243a07d0-a5ec-4f7c-994c-87d48e287894",
   "metadata": {},
   "outputs": [],
   "source": [
    "ws.attrs(recs[0], skip=True)"
   ]
  },
  {
   "cell_type": "code",
   "execution_count": null,
   "id": "62f696e5-908b-41a8-a836-ce942d3a2b00",
   "metadata": {},
   "outputs": [],
   "source": [
    "print(recs[0])"
   ]
  },
  {
   "cell_type": "code",
   "execution_count": null,
   "id": "2b891937-1e8b-4d88-971c-111d9a95cb52",
   "metadata": {},
   "outputs": [],
   "source": [
    "ws.print_dict(recs[0].__dict__, keywidth=20)  # WS look at everything"
   ]
  },
  {
   "cell_type": "code",
   "execution_count": null,
   "id": "45bcfef2-4273-43e0-91f9-831ce4b4c373",
   "metadata": {},
   "outputs": [],
   "source": [
    "recs[0].features # WS list of SeqFeature objects"
   ]
  },
  {
   "cell_type": "markdown",
   "id": "beadeddb-8528-4f57-b8bf-371a59eb8887",
   "metadata": {},
   "source": [
    "### 6) EXTRACT SEQUENCE FEATURES"
   ]
  },
  {
   "cell_type": "code",
   "execution_count": null,
   "id": "4a480be4-e942-4f65-b58d-54cf924b0281",
   "metadata": {},
   "outputs": [],
   "source": [
    "ws.attrs(recs[0].features[0])  # WS attrs of SeqFeature object"
   ]
  },
  {
   "cell_type": "code",
   "execution_count": null,
   "id": "ee764dc6-2ac1-4c7d-b27d-16ab3f450c3d",
   "metadata": {},
   "outputs": [],
   "source": [
    "# WS print ALL of the data from each feature type: \n",
    "#   note that the qualifiers dict has different keys for different feature types\n",
    "for k in recs[0].features:\n",
    "    ws.print_dict(k.__dict__, keywidth=15); print()"
   ]
  },
  {
   "cell_type": "code",
   "execution_count": null,
   "id": "e3e559fb-fa5f-4a33-81c3-f442756017e2",
   "metadata": {},
   "outputs": [],
   "source": [
    "ws.print_dict(recs[0].features[0].location.__dict__)"
   ]
  },
  {
   "cell_type": "raw",
   "id": "f62e9d03-c376-4f3f-93c0-5441807a2967",
   "metadata": {},
   "source": [
    "# WS created function print_features(), not done in text: redundant\n",
    "def print_features(rec):\n",
    "    for feature in rec.features:\n",
    "        #print('FEATURE TYPE: {}\\n'.format(feature.type))\n",
    "        if feature.type == 'gene':\n",
    "            print('\\nPROCESSED: GENE TYPE {}'.format(feature.qualifiers['gene']))\n",
    "        elif feature.type == 'exon':\n",
    "            loc = feature.location\n",
    "            print('\\nPROCESSED: EXON TYPE {}'.format(loc.start, loc.end, loc.strand))\n",
    "        else:\n",
    "            print('\\nNOT PROCESSED: {}'.format(feature))"
   ]
  },
  {
   "cell_type": "raw",
   "id": "5f7416fb-34b4-44fe-9749-19c6f765212b",
   "metadata": {},
   "source": [
    "print_features(recs[1])"
   ]
  },
  {
   "cell_type": "markdown",
   "id": "8cddd182-33bd-42cc-bd1f-6a9bf0854d0b",
   "metadata": {},
   "source": [
    "### 7) LOOK AT ANNOTATIONS"
   ]
  },
  {
   "cell_type": "code",
   "execution_count": null,
   "id": "0a55aecc-5acc-4552-bc68-cb04acafaadd",
   "metadata": {},
   "outputs": [],
   "source": [
    "ws.print_dict(recs[0].annotations, keywidth=20)"
   ]
  },
  {
   "cell_type": "markdown",
   "id": "f1cbc724-1d10-442d-975a-112abc7c3b95",
   "metadata": {},
   "source": [
    "### 8) LOOK AT SEQUENCE INFO"
   ]
  },
  {
   "cell_type": "code",
   "execution_count": null,
   "id": "984a11d9-0ff1-4875-a639-21c29c499103",
   "metadata": {
    "tags": []
   },
   "outputs": [],
   "source": [
    "help(recs[0])  # WS all you need to know here"
   ]
  },
  {
   "cell_type": "code",
   "execution_count": null,
   "id": "9ed55ca2-10e5-46fd-bf28-fe74a8b67329",
   "metadata": {},
   "outputs": [],
   "source": [
    "ws.attrs(recs[0].seq)  # WS attrs of Bio.Seq.Seq"
   ]
  },
  {
   "cell_type": "code",
   "execution_count": null,
   "id": "3d112374-61d7-416c-b5df-42d8efaf9287",
   "metadata": {},
   "outputs": [],
   "source": [
    "print(recs[0].seq)"
   ]
  },
  {
   "cell_type": "code",
   "execution_count": null,
   "id": "b8e6ef5a-fa13-49e8-8dc8-cec9f22f1dbd",
   "metadata": {},
   "outputs": [],
   "source": [
    "print(recs[0].seq.reverse_complement())"
   ]
  },
  {
   "cell_type": "code",
   "execution_count": null,
   "id": "b9ac4e4f-c598-40ed-9c28-7a864628b1e1",
   "metadata": {},
   "outputs": [],
   "source": [
    "print(recs[0].seq.reverse_complement_rna())"
   ]
  },
  {
   "cell_type": "code",
   "execution_count": null,
   "id": "4c8f381a-b409-4f48-988d-a0a8bfb89438",
   "metadata": {},
   "outputs": [],
   "source": [
    "print(recs[0].seq.lower())"
   ]
  },
  {
   "cell_type": "code",
   "execution_count": null,
   "id": "29b2a542-2d88-4eb8-8f0c-508b2aa2a9a8",
   "metadata": {},
   "outputs": [],
   "source": [
    "print(recs[0].seq.translate())"
   ]
  },
  {
   "cell_type": "code",
   "execution_count": null,
   "id": "14b11725-25ca-4645-bd07-38fcec75db89",
   "metadata": {
    "tags": []
   },
   "outputs": [],
   "source": [
    "for k in recs[0:2]:  # print first 2 to compare\n",
    "    print('\\nID:   {}\\nDESC: {}\\nSEQ:  {}\\nTRANSLATE: {}'.\\\n",
    "          format(k.id, k.description, k.seq, k.seq.translate()))\n",
    "    for ref in k.annotations['references']:\n",
    "        print('PUBMED ID: {}'.format(ref.pubmed_id))"
   ]
  },
  {
   "cell_type": "markdown",
   "id": "b5ddd7a9-4b32-4954-87db-1a6e82ae03ed",
   "metadata": {},
   "source": [
    "## 9) GET REFERENCES"
   ]
  },
  {
   "cell_type": "code",
   "execution_count": null,
   "id": "79f495fc-2c75-4550-9017-328f0e31e4f5",
   "metadata": {},
   "outputs": [],
   "source": [
    "refs = recs[0].annotations['references']\n",
    "ws.attrs(refs[0])"
   ]
  },
  {
   "cell_type": "code",
   "execution_count": null,
   "id": "f84715fc-bcc1-49f6-9912-939b89e8c4fe",
   "metadata": {},
   "outputs": [],
   "source": [
    "for ref in refs:\n",
    "    if ref.pubmed_id != '':\n",
    "        print(ref.pubmed_id)\n",
    "        \n",
    "        handle = Entrez.efetch(db=\"pubmed\", id=[ref.pubmed_id],\n",
    "                               rettype=\"medline\", retmode=\"text\")\n",
    "        records = Medline.parse(handle)\n",
    "        for med_rec in records:\n",
    "            for k, v in med_rec.items():\n",
    "                print('%s: %s' % (k, v))"
   ]
  },
  {
   "cell_type": "code",
   "execution_count": null,
   "id": "95a168bd-22cf-4cb2-a7ad-8fcb6d12ea81",
   "metadata": {},
   "outputs": [],
   "source": []
  }
 ],
 "metadata": {
  "kernelspec": {
   "display_name": "Python 3 (ipykernel)",
   "language": "python",
   "name": "python3"
  },
  "language_info": {
   "codemirror_mode": {
    "name": "ipython",
    "version": 3
   },
   "file_extension": ".py",
   "mimetype": "text/x-python",
   "name": "python",
   "nbconvert_exporter": "python",
   "pygments_lexer": "ipython3",
   "version": "3.10.6"
  }
 },
 "nbformat": 4,
 "nbformat_minor": 5
}

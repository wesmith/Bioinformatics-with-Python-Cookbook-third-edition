{
 "cells": [
  {
   "cell_type": "markdown",
   "id": "e5643ba6-6cc4-4bae-8180-02e8ecdd4cc1",
   "metadata": {},
   "source": [
    "# WS_ch08E.ipynb\n",
    "## WESmith 04/21/23\n",
    "# PERFORMING GEOMETRIC OPERATIONS\n",
    "### (see book code in Chapter08/Mass.py)\n",
    "### WS created this notebook to follow along with code from the book\n",
    "### 'Bioinformatics with Python Cookbook' by Tiago Antao¶\n",
    "### Each recipe will have its own notebook, suffixed by A, B, etc.¶"
   ]
  },
  {
   "cell_type": "code",
   "execution_count": null,
   "id": "1b6d9fd0-a939-400c-899b-08fe0e4e415a",
   "metadata": {},
   "outputs": [],
   "source": [
    "import numpy as np\n",
    "import pandas as pd\n",
    "from Bio import PDB\n",
    "import os"
   ]
  },
  {
   "cell_type": "code",
   "execution_count": null,
   "id": "be5cc455-28c5-429f-a7e9-e74a8e6458be",
   "metadata": {},
   "outputs": [],
   "source": [
    "data_dir  = 'data'"
   ]
  },
  {
   "cell_type": "code",
   "execution_count": null,
   "id": "5ec87732-b7bf-4b9c-bd7b-1d674ae3430d",
   "metadata": {},
   "outputs": [],
   "source": [
    "repository = PDB.PDBList()\n",
    "parser     = PDB.PDBParser()"
   ]
  },
  {
   "cell_type": "code",
   "execution_count": null,
   "id": "cbc4c520-9528-49e3-9ae9-c977c605d7e9",
   "metadata": {},
   "outputs": [],
   "source": [
    "repository.retrieve_pdb_file('1TUP', pdir=data_dir, file_format='pdb')"
   ]
  },
  {
   "cell_type": "code",
   "execution_count": null,
   "id": "3ab73079-b69b-40ee-99a6-9572051e51ed",
   "metadata": {
    "tags": []
   },
   "outputs": [],
   "source": [
    "pdb1tup_file = os.path.join(data_dir, 'pdb1tup.ent')\n",
    "p53_1tup     = parser.get_structure('P 53', pdb1tup_file)"
   ]
  },
  {
   "cell_type": "code",
   "execution_count": null,
   "id": "c3a79495-b294-488e-9c5c-fa32dab25264",
   "metadata": {},
   "outputs": [],
   "source": [
    "my_residues = set()\n",
    "for residue in p53_1tup.get_residues():\n",
    "    my_residues.add(residue.id[0])\n",
    "print(my_residues)"
   ]
  },
  {
   "cell_type": "code",
   "execution_count": null,
   "id": "90fe4a49-dff1-4abf-a238-865560b56a8f",
   "metadata": {},
   "outputs": [],
   "source": [
    "def get_mass(atoms, accept_fun=lambda atom: atom.parent.id[0] != 'W'):\n",
    "    return sum([atom.mass for atom in atoms if accept_fun(atom)])"
   ]
  },
  {
   "cell_type": "code",
   "execution_count": null,
   "id": "3c00f768-d42f-4e70-b225-9b54c78b0ae1",
   "metadata": {},
   "outputs": [],
   "source": [
    "chain_names = [chain.id for chain in p53_1tup.get_chains()]\n",
    "chain_names"
   ]
  },
  {
   "cell_type": "code",
   "execution_count": null,
   "id": "634aa38d-6c5f-431e-870e-a4fc2cd94386",
   "metadata": {},
   "outputs": [],
   "source": [
    "my_mass = np.ndarray((len(chain_names), 3))\n",
    "my_mass"
   ]
  },
  {
   "cell_type": "code",
   "execution_count": null,
   "id": "4b4d619e-fd55-4934-800a-65cabd6ac7ac",
   "metadata": {},
   "outputs": [],
   "source": [
    "for i, chain in enumerate(p53_1tup.get_chains()):\n",
    "    my_mass[i, 0] = get_mass(chain.get_atoms())\n",
    "    my_mass[i, 1] = get_mass(chain.get_atoms(), accept_fun=lambda atom: atom.parent.id[0] not in [' ', 'W'])\n",
    "    my_mass[i, 2] = get_mass(chain.get_atoms(), accept_fun=lambda atom: atom.parent.id[0] == 'W')\n",
    "masses = pd.DataFrame(my_mass, index=chain_names, columns=['No Water', 'Zincs', 'Water'])\n",
    "masses"
   ]
  },
  {
   "cell_type": "code",
   "execution_count": null,
   "id": "1f1e37ae-0fc5-4e51-b0ea-746791b5884c",
   "metadata": {},
   "outputs": [],
   "source": [
    "def get_center(atoms, weight_fun=lambda atom: 1 if atom.parent.id[0] != 'W' else 0):\n",
    "    xsum = ysum = zsum = 0.0\n",
    "    acum = 0.0\n",
    "    for atom in atoms:\n",
    "        x, y, z = atom.coord\n",
    "        weight = weight_fun(atom)\n",
    "        acum += weight\n",
    "        xsum += weight * x\n",
    "        ysum += weight * y\n",
    "        zsum += weight * z\n",
    "    return xsum / acum, ysum / acum, zsum / acum"
   ]
  },
  {
   "cell_type": "code",
   "execution_count": null,
   "id": "355cbd20-1efc-4df7-9824-8931598b0a56",
   "metadata": {},
   "outputs": [],
   "source": [
    "# WS geometric center\n",
    "print(get_center(p53_1tup.get_atoms()))"
   ]
  },
  {
   "cell_type": "code",
   "execution_count": null,
   "id": "704d80f9-8bf8-4313-9f14-00f30c964f35",
   "metadata": {},
   "outputs": [],
   "source": [
    "# WS center of mass: clever use of lambda as attribute\n",
    "# WS note: hydgrogen's not included in x-ray data, so centers and masses are a little off\n",
    "print(get_center(p53_1tup.get_atoms(),\n",
    "                 weight_fun=lambda atom: atom.mass if atom.parent.id[0] != 'W' else 0))"
   ]
  },
  {
   "cell_type": "code",
   "execution_count": null,
   "id": "b44e5068-1148-4281-a3f9-482966a137fa",
   "metadata": {},
   "outputs": [],
   "source": [
    "my_center = np.ndarray((len(chain_names), 6))\n",
    "for i, chain in enumerate(p53_1tup.get_chains()):\n",
    "    x, y, z = get_center(chain.get_atoms())\n",
    "    my_center[i, 0] = x\n",
    "    my_center[i, 1] = y\n",
    "    my_center[i, 2] = z\n",
    "    x, y, z = get_center(chain.get_atoms(), weight_fun=lambda atom: atom.mass if atom.parent.id[0] != 'W' else 0)\n",
    "    my_center[i, 3] = x\n",
    "    my_center[i, 4] = y\n",
    "    my_center[i, 5] = z\n",
    "weights = pd.DataFrame(my_center, index=chain_names, columns=['X', 'Y', 'Z', 'X (Mass)', 'Y (Mass)', 'Z (Mass)'])\n",
    "weights"
   ]
  },
  {
   "cell_type": "code",
   "execution_count": null,
   "id": "60386201-15e3-4782-8ff1-1aa64151ad01",
   "metadata": {},
   "outputs": [],
   "source": []
  }
 ],
 "metadata": {
  "kernelspec": {
   "display_name": "Python 3 (ipykernel)",
   "language": "python",
   "name": "python3"
  },
  "language_info": {
   "codemirror_mode": {
    "name": "ipython",
    "version": 3
   },
   "file_extension": ".py",
   "mimetype": "text/x-python",
   "name": "python",
   "nbconvert_exporter": "python",
   "pygments_lexer": "ipython3",
   "version": "3.10.6"
  }
 },
 "nbformat": 4,
 "nbformat_minor": 5
}

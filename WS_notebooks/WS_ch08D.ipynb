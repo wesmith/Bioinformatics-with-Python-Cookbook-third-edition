{
 "cells": [
  {
   "cell_type": "markdown",
   "id": "b2e5ba9b-a8d3-4348-8bf6-0d0222cd8623",
   "metadata": {},
   "source": [
    "# WS_ch08D.ipynb\n",
    "### WESmith 04/21/23\n",
    "\n",
    "## COMPUTING MOLECULAR DISTANCES FROM A PDB FILE\n",
    "#### (see book code in Chapter08/Distance.py)\n",
    "\n",
    "### WS created this notebook to follow along with code from the book\n",
    "### 'Bioinformatics with Python Cookbook' by Tiago Antao\n",
    "#### Each recipe will have its own notebook, suffixed by A, B, etc.¶"
   ]
  },
  {
   "cell_type": "code",
   "execution_count": null,
   "id": "f4477a31-1c4a-4f1f-9124-b3661a4b59ab",
   "metadata": {},
   "outputs": [],
   "source": [
    "import math\n",
    "import timeit\n",
    "from Bio import PDB\n",
    "import os"
   ]
  },
  {
   "cell_type": "code",
   "execution_count": null,
   "id": "5bc0e5ec-9c7f-4d34-b661-f1fdbe3a2eb7",
   "metadata": {},
   "outputs": [],
   "source": [
    "data_dir  = 'data/ch08_data'"
   ]
  },
  {
   "cell_type": "code",
   "execution_count": null,
   "id": "5de83e4a-6429-4f2e-8e57-f9bf58cf9f15",
   "metadata": {},
   "outputs": [],
   "source": [
    "repository = PDB.PDBList()\n",
    "parser     = PDB.PDBParser()"
   ]
  },
  {
   "cell_type": "code",
   "execution_count": null,
   "id": "ff986a45-f578-4d8d-b3c0-642dd8886700",
   "metadata": {},
   "outputs": [],
   "source": [
    "repository.retrieve_pdb_file('1TUP', pdir=data_dir, file_format='pdb')"
   ]
  },
  {
   "cell_type": "code",
   "execution_count": null,
   "id": "ac91190d-cf56-4564-9a8a-31662cf7bb90",
   "metadata": {
    "tags": []
   },
   "outputs": [],
   "source": [
    "pdb1tup_file = os.path.join(data_dir, 'pdb1tup.ent')\n",
    "p53_1tup     = parser.get_structure('P 53', pdb1tup_file)"
   ]
  },
  {
   "cell_type": "code",
   "execution_count": null,
   "id": "a3d8c411-94b3-4720-8dc3-6e933ca3a99b",
   "metadata": {},
   "outputs": [],
   "source": [
    "zns = []\n",
    "for atom in p53_1tup.get_atoms():\n",
    "    if atom.element == 'ZN':\n",
    "        #print(atom, dir(atom), atom.mass, atom.element, atom.coord[0])\n",
    "        zns.append(atom)\n",
    "for zn in zns:\n",
    "        print(zn, zn.coord)"
   ]
  },
  {
   "cell_type": "code",
   "execution_count": null,
   "id": "a588298f-6893-4063-b6d5-68780a401ffc",
   "metadata": {},
   "outputs": [],
   "source": [
    "def get_closest_atoms(pdb_struct, ref_atom, distance):\n",
    "    atoms = {}\n",
    "    rx, ry, rz = ref_atom.coord\n",
    "    for atom in pdb_struct.get_atoms():\n",
    "        if atom == ref_atom:\n",
    "            continue\n",
    "        x, y, z = atom.coord\n",
    "        my_dist = math.sqrt((x - rx)**2 + (y - ry)**2 + (z - rz)**2) \n",
    "        if my_dist < distance:\n",
    "            atoms[atom] = my_dist\n",
    "    return atoms"
   ]
  },
  {
   "cell_type": "code",
   "execution_count": null,
   "id": "ccc8fbf8-12b5-42bb-82b3-617807cf1552",
   "metadata": {
    "tags": []
   },
   "outputs": [],
   "source": [
    "for zn in zns:\n",
    "    print()\n",
    "    print(zn.coord)\n",
    "    atoms = get_closest_atoms(p53_1tup, zn, 4)\n",
    "    for atom, distance in atoms.items():\n",
    "        print(atom.element, distance, atom.coord)"
   ]
  },
  {
   "cell_type": "code",
   "execution_count": null,
   "id": "c34d8534-0a04-45c9-891f-eb225ab51ebe",
   "metadata": {},
   "outputs": [],
   "source": [
    "for distance in [1, 2, 4, 8, 16, 32, 64, 128]:\n",
    "    my_atoms = []\n",
    "    for zn in zns:\n",
    "        atoms = get_closest_atoms(p53_1tup, zn, distance)\n",
    "        my_atoms.append(len(atoms))\n",
    "    print(distance, my_atoms)"
   ]
  },
  {
   "cell_type": "code",
   "execution_count": null,
   "id": "ed3989c1-be31-4028-b2b1-5fcc6566197c",
   "metadata": {},
   "outputs": [],
   "source": [
    "# WS increased distance from 4.0\n",
    "nexecs = 10\n",
    "print(timeit.timeit('get_closest_atoms(p53_1tup, zns[0], 5.0)',\n",
    "                    'from __main__ import get_closest_atoms, p53_1tup, zns',\n",
    "                    number=nexecs) / nexecs * 1000)"
   ]
  },
  {
   "cell_type": "code",
   "execution_count": null,
   "id": "3ff52e5d-92df-400d-acb8-e055fc414d24",
   "metadata": {},
   "outputs": [],
   "source": [
    "def get_closest_alternative(pdb_struct, ref_atom, distance):\n",
    "    atoms = {}\n",
    "    rx, ry, rz = ref_atom.coord\n",
    "    for atom in pdb_struct.get_atoms():\n",
    "        if atom == ref_atom:\n",
    "            continue\n",
    "        x, y, z = atom.coord\n",
    "        if abs(x - rx) > distance or abs(y - ry) > distance or abs(z - rz) > distance:\n",
    "            continue\n",
    "        my_dist = math.sqrt((x - rx)**2 + (y - ry)**2 + (z - rz)**2) \n",
    "        if my_dist < distance:\n",
    "            atoms[atom] = my_dist\n",
    "    return atoms"
   ]
  },
  {
   "cell_type": "code",
   "execution_count": null,
   "id": "c973a0b8-33d3-4c29-8e76-c0ea565f1481",
   "metadata": {},
   "outputs": [],
   "source": [
    "# increased distance from 4.0\n",
    "# modified algo twice as fast\n",
    "print(timeit.timeit('get_closest_alternative(p53_1tup, zns[0], 5.0)',\n",
    "                    'from __main__ import get_closest_alternative, p53_1tup, zns',\n",
    "                    number=nexecs) / nexecs * 1000)"
   ]
  },
  {
   "cell_type": "code",
   "execution_count": null,
   "id": "12e1c5b5-08f9-422d-8a9b-67f0794b7439",
   "metadata": {},
   "outputs": [],
   "source": [
    "print('Standard')\n",
    "for distance in [1, 4, 16, 64, 128]:\n",
    "    print(timeit.timeit('get_closest_atoms(p53_1tup, zns[0], distance)',\n",
    "                        'from __main__ import get_closest_atoms, p53_1tup, zns, distance',\n",
    "                        number=nexecs) / nexecs * 1000)"
   ]
  },
  {
   "cell_type": "code",
   "execution_count": null,
   "id": "63599cc7-ce56-4315-9ba8-c3108764a8c5",
   "metadata": {},
   "outputs": [],
   "source": [
    "print('Optimized') # WS gets more expensive than standard as more atoms are calculated\n",
    "for distance in [1, 4, 16, 64, 128]:\n",
    "    print(timeit.timeit('get_closest_alternative(p53_1tup, zns[0], distance)',\n",
    "                        'from __main__ import get_closest_alternative, p53_1tup, zns, distance',\n",
    "                        number=nexecs) / nexecs * 1000)"
   ]
  },
  {
   "cell_type": "code",
   "execution_count": null,
   "id": "c567c524-5535-42fc-8158-3554fab630e1",
   "metadata": {},
   "outputs": [],
   "source": []
  }
 ],
 "metadata": {
  "kernelspec": {
   "display_name": "Python 3 (ipykernel)",
   "language": "python",
   "name": "python3"
  },
  "language_info": {
   "codemirror_mode": {
    "name": "ipython",
    "version": 3
   },
   "file_extension": ".py",
   "mimetype": "text/x-python",
   "name": "python",
   "nbconvert_exporter": "python",
   "pygments_lexer": "ipython3",
   "version": "3.10.6"
  }
 },
 "nbformat": 4,
 "nbformat_minor": 5
}

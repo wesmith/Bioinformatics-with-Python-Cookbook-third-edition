{
 "cells": [
  {
   "cell_type": "markdown",
   "id": "b860a152-f889-4258-8090-b401d0cf24f7",
   "metadata": {},
   "source": [
    "# WS_ch05D.ipynb\n",
    "# WESmith 11/29/22\n",
    "## WS created this notebook to follow along with the code in the book:\n",
    "## 'Bioinformatics with Python Cookbook' by Tiago Antao\n",
    "## Each recipe will have its own notebook, suffixed by A, B, etc.¶"
   ]
  },
  {
   "cell_type": "markdown",
   "id": "d3f3e51f-5f94-42c0-8c17-935c45290074",
   "metadata": {},
   "source": [
    "# RECIPE: \n",
    "# EXTRACTING GENES FROM A REFERENCE USING ANNOTATIONS\n",
    "## also see book code in Chapter05/Getting_Gene.py¶"
   ]
  },
  {
   "cell_type": "code",
   "execution_count": null,
   "id": "4830b4a1-0fb4-4376-b0b1-7502548f032e",
   "metadata": {},
   "outputs": [],
   "source": [
    "import os\n",
    "from collections import defaultdict, OrderedDict  # WS added OrderedDict\n",
    "import gffutils\n",
    "from Bio import Seq, SeqIO\n",
    "import matplotlib.pyplot as plt\n",
    "import utils as ws"
   ]
  },
  {
   "cell_type": "code",
   "execution_count": null,
   "id": "df8cdb95-3982-4bec-9efe-832ecf1692ed",
   "metadata": {},
   "outputs": [],
   "source": [
    "# move big files to Downloads so it will not be backed up\n",
    "remote_data_dir = '/home/smithw/Downloads/bioinformatics/ch05_data'\n",
    "gambiae_gff     = 'VectorBase-55_AgambiaePEST.gff'\n",
    "gambiae_gff_db  = 'gambiae_gff.db'\n",
    "gambiae_fasta   = 'VectorBase-57_AgambiaePEST_Genome.fasta'\n",
    "# gambiae_gff.db was created in WS_ch05C.ipynb\n",
    "db_name    = os.path.join(remote_data_dir, gambiae_gff_db)\n",
    "fasta_name = os.path.join(remote_data_dir, gambiae_fasta)"
   ]
  },
  {
   "cell_type": "code",
   "execution_count": null,
   "id": "e6dccccf-270d-413d-89e7-99c66cad4161",
   "metadata": {},
   "outputs": [],
   "source": [
    "db = gffutils.FeatureDB(db_name)"
   ]
  },
  {
   "cell_type": "markdown",
   "id": "e7871b96-e790-425e-b23c-e579b907e599",
   "metadata": {},
   "source": [
    "### 1) GET GENE ANNOTATION INFORMATION"
   ]
  },
  {
   "cell_type": "code",
   "execution_count": null,
   "id": "61ba4017-c91e-49a4-8fa0-3fba4936f856",
   "metadata": {},
   "outputs": [],
   "source": [
    "# voltage-gated sodium channel (VGSC) gene\n",
    "gene_id = 'AGAP004707'"
   ]
  },
  {
   "cell_type": "code",
   "execution_count": null,
   "id": "e5b48018-cd1c-4df2-af1d-a6760893dc26",
   "metadata": {},
   "outputs": [],
   "source": [
    "gene = db[gene_id]\n",
    "print(gene)"
   ]
  },
  {
   "cell_type": "code",
   "execution_count": null,
   "id": "b9aee2be-f9b9-4e22-93bf-2268470af852",
   "metadata": {},
   "outputs": [],
   "source": [
    "print(gene.seqid, gene.strand)"
   ]
  },
  {
   "cell_type": "markdown",
   "id": "5dd9e7f8-80b2-4eba-b555-f3dff2490c2a",
   "metadata": {},
   "source": [
    "### 2) GET THE SEQUENCE OF THE CHROMOSOME CONTAINING THE GENE"
   ]
  },
  {
   "cell_type": "code",
   "execution_count": null,
   "id": "bed80055-2656-4358-b711-c4e1456df34e",
   "metadata": {},
   "outputs": [],
   "source": [
    "recs = SeqIO.parse(open(fasta_name, 'rt', encoding='utf-8'), 'fasta')\n",
    "for rec in recs:\n",
    "    print(rec.description)\n",
    "    if rec.id == gene.seqid:\n",
    "        my_seq = rec.seq\n",
    "        break"
   ]
  },
  {
   "cell_type": "code",
   "execution_count": null,
   "id": "ec81c5d0-7236-444a-b1ea-b60fda825b0e",
   "metadata": {},
   "outputs": [],
   "source": [
    "my_seq  # WS sequence for entire chromosome 2L"
   ]
  },
  {
   "cell_type": "markdown",
   "id": "ac0fd09e-b489-413d-bcea-67c41eea4802",
   "metadata": {},
   "source": [
    "### 3) CONSTRUCT A FUNCTION TO RETURN A SEQUENCE FROM A LIST OF CDS"
   ]
  },
  {
   "cell_type": "code",
   "execution_count": null,
   "id": "29ead0be-881f-4e9e-bc49-d222dff5383e",
   "metadata": {},
   "outputs": [],
   "source": [
    "# WS added 'offset' to generalize to different phases\n",
    "def get_sequence(chrom_seq, CDSs, strand, offset=0):\n",
    "    # WS CDSs should work as a generator or a list\n",
    "    # WS NOTE 12/3/22: author doesn't include FRAME info from the gff file \n",
    "    #                  (his comment below is FRAME???); I'll write a more complete function\n",
    "    #                  called 'protein_from_gene' that will include FRAME info;\n",
    "    #                  the example he uses, AGAP004707-RA, has frame = xxx for all CDS\n",
    "    seq = Seq.Seq('')\n",
    "    for CDS in CDSs:\n",
    "        # #FRAME???\n",
    "        my_cds = Seq.Seq(str(chrom_seq[CDS.start - 1 + offset: CDS.end + offset]))\n",
    "        seq += my_cds\n",
    "    return seq if strand == '+' else seq.reverse_complement()"
   ]
  },
  {
   "cell_type": "markdown",
   "id": "0522f79b-1462-4c99-b2a1-2987ed482ba1",
   "metadata": {},
   "source": [
    "### 4) CHOOSE AN mRNA TRANSCRIPT FOR THE GENE FROM THOSE AVAILABLE"
   ]
  },
  {
   "cell_type": "code",
   "execution_count": null,
   "id": "7628d916-2ea5-4c45-8988-3356812cf2b9",
   "metadata": {},
   "outputs": [],
   "source": [
    "mRNAs = db.children(gene, featuretype='mRNA') # returns a generator"
   ]
  },
  {
   "cell_type": "code",
   "execution_count": null,
   "id": "e248f712-eed3-4ab9-a570-64a43ac7afed",
   "metadata": {},
   "outputs": [],
   "source": [
    "for mRNA in mRNAs:\n",
    "    print(mRNA.id)\n",
    "    if mRNA.id.endswith('RA'): # WS why choose 'RA'?\n",
    "        break"
   ]
  },
  {
   "cell_type": "code",
   "execution_count": null,
   "id": "ec3c1a9e-bf79-4146-8fc0-ed9fcac9db04",
   "metadata": {},
   "outputs": [],
   "source": [
    "print(mRNA)"
   ]
  },
  {
   "cell_type": "markdown",
   "id": "ff5255ac-f1cc-4eee-8c78-0acd59e76f0f",
   "metadata": {},
   "source": [
    "### 5) GET THE CDSs FOR THIS PARTICULAR mRNA TRANSCRIPT,\n",
    "### THEN THE NUCLEOTIDE SEQUENCE THEY REPRESENT, \n",
    "### THEN THE PROTEIN"
   ]
  },
  {
   "cell_type": "code",
   "execution_count": null,
   "id": "4a327192-db5e-4296-9e34-f01961b11f3e",
   "metadata": {},
   "outputs": [],
   "source": [
    "CDSs = db.children(mRNA, featuretype='CDS', order_by='start')\n",
    "CDS_list = list(CDSs)   #WS turn generator into a list to examine"
   ]
  },
  {
   "cell_type": "code",
   "execution_count": null,
   "id": "7096de32-7943-4a3e-ac99-98afa1601a1a",
   "metadata": {},
   "outputs": [],
   "source": [
    "len(CDS_list)  \n",
    "# I counted 30 CDSs for the 'RA' mRNA parent directly from the gff \n",
    "# file using emacs: correct"
   ]
  },
  {
   "cell_type": "code",
   "execution_count": null,
   "id": "b6658169-a262-4b26-ac93-861a8c86c94f",
   "metadata": {
    "tags": []
   },
   "outputs": [],
   "source": [
    "for k in CDS_list:\n",
    "    print(k.id, k.frame)"
   ]
  },
  {
   "cell_type": "code",
   "execution_count": null,
   "id": "17623a8a-0d20-4e6f-86ea-98ff039d86c5",
   "metadata": {
    "tags": []
   },
   "outputs": [],
   "source": [
    "CDS_list[0].__dict__"
   ]
  },
  {
   "cell_type": "code",
   "execution_count": null,
   "id": "2a559ccc-3963-465c-b822-79b05f68412a",
   "metadata": {},
   "outputs": [],
   "source": [
    "gene_seq = get_sequence(my_seq, CDS_list, gene.strand) # WS sending in a list"
   ]
  },
  {
   "cell_type": "code",
   "execution_count": null,
   "id": "06858d4d-c524-491c-b18c-ded488091a6a",
   "metadata": {
    "tags": []
   },
   "outputs": [],
   "source": [
    "print(len(gene_seq), gene_seq)"
   ]
  },
  {
   "cell_type": "code",
   "execution_count": null,
   "id": "3127a998-7320-4f87-afe5-91ec7e77e5eb",
   "metadata": {
    "tags": []
   },
   "outputs": [],
   "source": [
    "prot = gene_seq.translate()\n",
    "print(len(prot), prot)"
   ]
  },
  {
   "cell_type": "markdown",
   "id": "e96a2101-4b54-44fe-bd2c-98a1549f34ba",
   "metadata": {},
   "source": [
    "### 6) GET GENE CODED IN NEGATIVE STRAND DIRECTION"
   ]
  },
  {
   "cell_type": "code",
   "execution_count": null,
   "id": "86b1d3d0-95e9-4ca4-a4de-ef2dceb4b83a",
   "metadata": {},
   "outputs": [],
   "source": [
    "reverse_gene_id = 'AGAP004708'  # WS added gene-level stuff\n",
    "reverse_gene = db[reverse_gene_id]"
   ]
  },
  {
   "cell_type": "code",
   "execution_count": null,
   "id": "7cb892e5-aa90-4263-802f-e6f032dcafd5",
   "metadata": {},
   "outputs": [],
   "source": [
    "print(reverse_gene.seqid, reverse_gene.strand) # explicitly shows '-'"
   ]
  },
  {
   "cell_type": "code",
   "execution_count": null,
   "id": "18c5a034-b35f-4ecc-af25-95b55dced98b",
   "metadata": {},
   "outputs": [],
   "source": [
    "reverse_transcript_id = 'AGAP004708-RA'"
   ]
  },
  {
   "cell_type": "code",
   "execution_count": null,
   "id": "f403d038-038d-44f7-9000-89dbb8ca765e",
   "metadata": {},
   "outputs": [],
   "source": [
    "reverse_CDSs = list(db.children(reverse_transcript_id, featuretype='CDS', \n",
    "                                order_by='start'))"
   ]
  },
  {
   "cell_type": "code",
   "execution_count": null,
   "id": "b904b7fc-c2d3-4c03-ae0c-4c5fb9d76b1c",
   "metadata": {
    "tags": []
   },
   "outputs": [],
   "source": [
    "for k in reverse_CDSs:  # WS print\n",
    "    print(k.id, k.start)"
   ]
  },
  {
   "cell_type": "code",
   "execution_count": null,
   "id": "69cfa8f1-5895-4ce8-8f2d-6413c86f28e5",
   "metadata": {},
   "outputs": [],
   "source": [
    "reverse_seq = get_sequence(my_seq, reverse_CDSs, '-')"
   ]
  },
  {
   "cell_type": "code",
   "execution_count": null,
   "id": "efdb9554-9a1a-4412-b397-6e730de630ae",
   "metadata": {
    "tags": []
   },
   "outputs": [],
   "source": [
    "print(len(reverse_seq), reverse_seq)"
   ]
  },
  {
   "cell_type": "code",
   "execution_count": null,
   "id": "8a107a93-55be-4f4b-a9f5-2420117e67e9",
   "metadata": {
    "tags": []
   },
   "outputs": [],
   "source": [
    "reverse_prot = reverse_seq.translate()\n",
    "print(len(reverse_prot), reverse_prot)"
   ]
  },
  {
   "cell_type": "markdown",
   "id": "706f11a8-b03d-41d0-9217-08c04005b41b",
   "metadata": {},
   "source": [
    "### WS EXPERIMENTS"
   ]
  },
  {
   "cell_type": "code",
   "execution_count": null,
   "id": "3d91ecfd-2b69-4e9d-888e-33162928f0df",
   "metadata": {},
   "outputs": [],
   "source": [
    "# WS NEXT1: find the stop codon in the above;\n",
    "# then look at the other 5 frames for this sequence, and count the stop\n",
    "# codons; the correct sequence only has 1 stop codon?"
   ]
  },
  {
   "cell_type": "code",
   "execution_count": null,
   "id": "875a2d1c-c1e5-4297-b295-82c60335a3eb",
   "metadata": {
    "tags": []
   },
   "outputs": [],
   "source": [
    "# look at the genetic code to see stop codons\n",
    "from Bio.Data import CodonTable\n",
    "standard_table = CodonTable.unambiguous_dna_by_id[1]\n",
    "mito_table     = CodonTable.unambiguous_dna_by_id[2]\n",
    "print(standard_table)"
   ]
  },
  {
   "cell_type": "code",
   "execution_count": null,
   "id": "7b8c7db6-dfeb-4ea5-9dbd-b18fa764cfb2",
   "metadata": {
    "tags": []
   },
   "outputs": [],
   "source": [
    "ordered_prot_hist = ws.amino_histo(prot)\n",
    "for j, k in ordered_prot_hist.items():\n",
    "    print('amino acid {} occurs {:4} times'.format(j, k))"
   ]
  },
  {
   "cell_type": "code",
   "execution_count": null,
   "id": "e64f9678-f21e-4060-b49c-c393d4a0aca7",
   "metadata": {
    "tags": []
   },
   "outputs": [],
   "source": [
    "# WS now look at all 6 frames (+,- complement for 3 phases) and see how many stop ('*') codons show up per case\n",
    "# the 'true' '+' strand with zero offset should show only 1 stop codon (as per the Cell book)\n",
    "x1 = ['+', '-']\n",
    "x2 = list(range(-3,4))\n",
    "vals = [(x,y) for x in x1 for y in x2]\n",
    "for (j, k) in vals:\n",
    "    ss = get_sequence(my_seq, CDS_list, j, offset=k)\n",
    "    dd = ss.translate()\n",
    "    out = ws.amino_histo(dd)\n",
    "    print('strand: {}, phase: {:2}, number of stop signals: {:4}'.format(j, k, out['*']))\n",
    "# only 1 combination is showing 1 stop signal\n",
    "# NOTE: not clear why +3 offset isn't showing at most 2 stop siglals: original and possibly another one at new end\n",
    "#       and why -3 offset isn't showing at most 1 stop (it loses the one at the end, and picks up at most 1 at the\n",
    "#       new beginning): \n",
    "# POSSIBLE SOLUTION: we're concatenating CDS sections, and reading each CDS with the same offset, so they are going\n",
    "#                    together in complex ways: we're not offsetting a single strand, but multiple concatenated\n",
    "#                    strands; the ONLY case with the single 'stop' is the '+' strand with 0 offset on all of the CDSs"
   ]
  },
  {
   "cell_type": "code",
   "execution_count": null,
   "id": "4c51039e-b385-4e9f-a40e-f8911c6f0caf",
   "metadata": {
    "tags": []
   },
   "outputs": [],
   "source": [
    "sss = get_sequence(my_seq, CDS_list, '+', offset=0)\n",
    "dd = sss.translate()\n",
    "ws.amino_histo(dd, order=True)\n",
    "# this gets a 'stop' once: good"
   ]
  },
  {
   "cell_type": "code",
   "execution_count": null,
   "id": "aa01e146-2723-4cc4-81a6-beb2af2df092",
   "metadata": {},
   "outputs": [],
   "source": [
    "# WS now look at reverse complement of '+' thread and see how many stop ('*') codons show up\n",
    "sss"
   ]
  },
  {
   "cell_type": "code",
   "execution_count": null,
   "id": "d004bb91-ed14-49d8-a98d-434d75ac7547",
   "metadata": {},
   "outputs": [],
   "source": [
    "reverse_gene_seq = sss.reverse_complement()\n",
    "reverse_gene_seq"
   ]
  },
  {
   "cell_type": "code",
   "execution_count": null,
   "id": "9f334b19-6c1c-4e4a-967d-b2fcbe09ab40",
   "metadata": {},
   "outputs": [],
   "source": [
    "reverse_gene_seq_prot = reverse_gene_seq.translate()"
   ]
  },
  {
   "cell_type": "code",
   "execution_count": null,
   "id": "b3d028b7-08da-439e-8908-649b0efff23d",
   "metadata": {
    "tags": []
   },
   "outputs": [],
   "source": [
    "ordered_reverse_prot_hist = ws.amino_histo(reverse_gene_seq_prot, order=True)\n",
    "for j, k in ordered_reverse_prot_hist.items():\n",
    "    print('amino acid {} occurs {:4} times'.format(j, k))  \n",
    "    # WS this gets a 'stop' 99 times: obviously bogus"
   ]
  },
  {
   "cell_type": "code",
   "execution_count": null,
   "id": "8d931eaa-8622-43dd-b4d9-0d31d79e4458",
   "metadata": {},
   "outputs": [],
   "source": []
  }
 ],
 "metadata": {
  "kernelspec": {
   "display_name": "Python 3 (ipykernel)",
   "language": "python",
   "name": "python3"
  },
  "language_info": {
   "codemirror_mode": {
    "name": "ipython",
    "version": 3
   },
   "file_extension": ".py",
   "mimetype": "text/x-python",
   "name": "python",
   "nbconvert_exporter": "python",
   "pygments_lexer": "ipython3",
   "version": "3.10.6"
  }
 },
 "nbformat": 4,
 "nbformat_minor": 5
}

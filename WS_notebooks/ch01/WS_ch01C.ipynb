{
 "cells": [
  {
   "cell_type": "markdown",
   "id": "0a784091-0857-4668-94b4-0b5654282103",
   "metadata": {},
   "source": [
    "# WS_ch01C.ipynb\n",
    "# WESmith 04/27/23\n",
    "# INTERFACING WITH R VIA rpy2\n",
    "## (see book code in Chapter01/Interfacing_R.py)\n",
    "## WS created this notebook to follow along with code from the book\n",
    "## 'Bioinformatics with Python Cookbook' by Tiago Antao¶\n",
    "### Each recipe will have its own notebook, suffixed by A, B, etc.¶"
   ]
  },
  {
   "cell_type": "code",
   "execution_count": 2,
   "id": "582d28b4-c654-453b-9cb7-39c6a0adb8e5",
   "metadata": {},
   "outputs": [],
   "source": [
    "import os\n",
    "import pandas as pd\n",
    "from IPython.display import Image"
   ]
  },
  {
   "cell_type": "code",
   "execution_count": 1,
   "id": "4a613355-050e-499a-a8df-6c3c946d3284",
   "metadata": {},
   "outputs": [
    {
     "name": "stderr",
     "output_type": "stream",
     "text": [
      "/home/smithw/.venv_220526/lib/python3.10/site-packages/rpy2/robjects/lib/ggplot2.py:70: UserWarning: This was designed againt ggplot2 versions starting with 3.3. but you have 3.4.2\n",
      "  warnings.warn(\n"
     ]
    }
   ],
   "source": [
    "import rpy2.robjects as robjects\n",
    "import rpy2.robjects.lib.ggplot2 as ggplot2\n",
    "from   rpy2.robjects.functions import SignatureTranslatedFunction\n",
    "from   rpy2.robjects import pandas2ri\n",
    "from   rpy2.robjects.conversion import localconverter"
   ]
  },
  {
   "cell_type": "code",
   "execution_count": 5,
   "id": "7d4fe7c1-123c-40c8-84ab-80bdc5f01750",
   "metadata": {},
   "outputs": [],
   "source": [
    "# get the data: took about 5m, 64MB, saved in file on disk called sequence.index\n",
    "#!wget -nd http://ftp.1000genomes.ebi.ac.uk/vol1/ftp/phase3/20130502.phase3.sequence.index -O sequence.index\n",
    "# WS I moved sequence.index to .../ch01/data/"
   ]
  },
  {
   "cell_type": "code",
   "execution_count": 6,
   "id": "4429be8f-3920-404c-82ce-6fe567a0ee65",
   "metadata": {},
   "outputs": [],
   "source": [
    "data_dir  = 'data'\n",
    "file      = 'sequence.index'"
   ]
  },
  {
   "cell_type": "code",
   "execution_count": 7,
   "id": "52f931e3-03c9-4853-9493-f34323769b6d",
   "metadata": {},
   "outputs": [],
   "source": [
    "read_delim = robjects.r('read.delim')"
   ]
  },
  {
   "cell_type": "code",
   "execution_count": 8,
   "id": "d836430f-12c5-45ce-a643-ed5817673580",
   "metadata": {},
   "outputs": [],
   "source": [
    "seq_data = read_delim(os.path.join(data_dir, file), header=True, stringsAsFactors=False)"
   ]
  },
  {
   "cell_type": "code",
   "execution_count": 9,
   "id": "7432d5fa-8a6f-47be-9e0d-b649ff169d1e",
   "metadata": {},
   "outputs": [
    {
     "data": {
      "text/plain": [
       "rpy2.robjects.vectors.DataFrame"
      ]
     },
     "execution_count": 9,
     "metadata": {},
     "output_type": "execute_result"
    }
   ],
   "source": []
  },
  {
   "cell_type": "code",
   "execution_count": null,
   "id": "a56cb3ea-74bc-4559-b0d8-0438f41a73ef",
   "metadata": {},
   "outputs": [],
   "source": []
  }
 ],
 "metadata": {
  "kernelspec": {
   "display_name": "Python 3 (ipykernel)",
   "language": "python",
   "name": "python3"
  },
  "language_info": {
   "codemirror_mode": {
    "name": "ipython",
    "version": 3
   },
   "file_extension": ".py",
   "mimetype": "text/x-python",
   "name": "python",
   "nbconvert_exporter": "python",
   "pygments_lexer": "ipython3",
   "version": "3.10.6"
  }
 },
 "nbformat": 4,
 "nbformat_minor": 5
}

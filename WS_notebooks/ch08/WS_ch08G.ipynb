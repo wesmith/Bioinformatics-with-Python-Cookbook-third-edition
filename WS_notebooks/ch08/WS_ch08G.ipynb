{
 "cells": [
  {
   "cell_type": "markdown",
   "id": "b39410db-9241-4005-b191-4f4d55402a77",
   "metadata": {},
   "source": [
    "# WS_ch08G.ipynb\n",
    "## WESmith 04/21/23\n",
    "# PARSING mmCIF FILES USING BIOPYTHON\n",
    "### (see book code in Chapter08/mmCIF.py)\n",
    "### WS created this notebook to follow along with code from the book\n",
    "### 'Bioinformatics with Python Cookbook' by Tiago Antao¶\n",
    "### Each recipe will have its own notebook, suffixed by A, B, etc.¶¶"
   ]
  },
  {
   "cell_type": "code",
   "execution_count": null,
   "id": "a670e2b9-cac2-40c6-87dc-878666ba6177",
   "metadata": {},
   "outputs": [],
   "source": [
    "from Bio import PDB\n",
    "import os"
   ]
  },
  {
   "cell_type": "code",
   "execution_count": null,
   "id": "c117c9fa-1008-4e1c-8462-18b78472e2f1",
   "metadata": {},
   "outputs": [],
   "source": [
    "data_dir = 'data'\n",
    "parser   = PDB.MMCIFParser()"
   ]
  },
  {
   "cell_type": "code",
   "execution_count": null,
   "id": "8ea86679-b64c-4b91-945e-894eac67bc95",
   "metadata": {
    "tags": []
   },
   "outputs": [],
   "source": [
    "# before running this cell, download the cif file from \n",
    "# http://www.rcsb.org/pdb/download/downloadFile.do?fileFormat=cif&compression=NO&structureId=1TUP\n",
    "mmcif_1tup_file = os.path.join(data_dir, '1tup.cif')\n",
    "p53_1tup        = parser.get_structure('P 53', mmcif_1tup_file)"
   ]
  },
  {
   "cell_type": "code",
   "execution_count": null,
   "id": "c62e5c8b-e1fb-48ca-be1b-0e0e97c648bd",
   "metadata": {},
   "outputs": [],
   "source": [
    "def describe_model(name, pdb):\n",
    "    print()\n",
    "    for model in p53_1tup:\n",
    "        for chain in model:\n",
    "            print('%s - Chain: %s. Number of residues: %d. Number of atoms: %d.' %\n",
    "                  (name, chain.id, len(chain), len(list(chain.get_atoms()))))"
   ]
  },
  {
   "cell_type": "code",
   "execution_count": null,
   "id": "437b241c-9be9-43e2-a2d6-0dc5b3a70e35",
   "metadata": {},
   "outputs": [],
   "source": [
    "describe_model('1TUP', p53_1tup)"
   ]
  },
  {
   "cell_type": "code",
   "execution_count": null,
   "id": "224be912-fe43-4443-ac18-4a600e4be881",
   "metadata": {},
   "outputs": [],
   "source": [
    "done_chain = set()\n",
    "for residue in p53_1tup.get_residues():\n",
    "    chain = residue.parent\n",
    "    if chain.id in done_chain:\n",
    "        continue\n",
    "    done_chain.add(chain.id)\n",
    "    print(chain.id, residue.id)"
   ]
  },
  {
   "cell_type": "code",
   "execution_count": null,
   "id": "9fb3bb0f-8780-4e4d-be98-822e7345dc00",
   "metadata": {},
   "outputs": [],
   "source": [
    "mmcif_dict = PDB.MMCIF2Dict.MMCIF2Dict(mmcif_1tup_file)"
   ]
  },
  {
   "cell_type": "code",
   "execution_count": null,
   "id": "2fb5e2a1-d5d3-428e-a665-78aa11584ea0",
   "metadata": {},
   "outputs": [],
   "source": [
    "len(mmcif_dict.keys())"
   ]
  },
  {
   "cell_type": "code",
   "execution_count": null,
   "id": "fb737cf0-130a-4bbf-a08e-d4d862788698",
   "metadata": {
    "tags": []
   },
   "outputs": [],
   "source": [
    "# this is a LONG printout: hundreds of keys, as shown in above cell\n",
    "# a huge amount of info: no idea how to use it at present\n",
    "# see\n",
    "# https://pdb101.rcsb.org/learn/guide-to-understanding-pdb-data/beginner%E2%80%99s-guide-to-pdb-structures-and-the-pdbx-mmcif-format\n",
    "for k, v in mmcif_dict.items():\n",
    "    print(k, v)\n",
    "    #print()"
   ]
  },
  {
   "cell_type": "code",
   "execution_count": null,
   "id": "afba1831-42c3-46a3-9986-944e0ea76fcf",
   "metadata": {},
   "outputs": [],
   "source": []
  }
 ],
 "metadata": {
  "kernelspec": {
   "display_name": "Python 3 (ipykernel)",
   "language": "python",
   "name": "python3"
  },
  "language_info": {
   "codemirror_mode": {
    "name": "ipython",
    "version": 3
   },
   "file_extension": ".py",
   "mimetype": "text/x-python",
   "name": "python",
   "nbconvert_exporter": "python",
   "pygments_lexer": "ipython3",
   "version": "3.10.6"
  }
 },
 "nbformat": 4,
 "nbformat_minor": 5
}

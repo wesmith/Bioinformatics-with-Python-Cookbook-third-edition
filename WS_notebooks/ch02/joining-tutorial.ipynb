{
 "cells": [
  {
   "cell_type": "markdown",
   "id": "5f4ae6e7-de17-4d02-b3fc-efe5bb7a27c3",
   "metadata": {},
   "source": [
    "# joining-tutorial.ipynb\n",
    "# WESmith 11/5/22"
   ]
  },
  {
   "cell_type": "code",
   "execution_count": null,
   "id": "b25bb37b-b6e8-4975-85af-504e9989ac42",
   "metadata": {},
   "outputs": [],
   "source": [
    "import pandas as pd\n",
    "import numpy as  np\n",
    "import os"
   ]
  },
  {
   "cell_type": "markdown",
   "id": "d2ef2143-9d9a-41ce-9185-ead1e0837882",
   "metadata": {},
   "source": [
    "### AN EXPLANATION OF MERGE() VS JOIN() AT:\n",
    "### https://stackoverflow.com/questions/22676081/what-is-the-difference-between-join-and-merge-in-pandas\n",
    "\n",
    "### \"pandas.merge() is the underlying function used for all merge/join behavior.\""
   ]
  },
  {
   "cell_type": "markdown",
   "id": "a2ed4d68-aca0-49c4-a462-f9002d0a3ded",
   "metadata": {},
   "source": [
    "## THE BELOW EXAMPLES FROM (BEST RESOURCE SO FAR):\n",
    "### https://pandas.pydata.org/pandas-docs/stable/user_guide/merging.html"
   ]
  },
  {
   "cell_type": "markdown",
   "id": "20b2a5bb-9f5b-4719-8f57-b9de567c4bd4",
   "metadata": {},
   "source": [
    "## CONCAT() SECTION TO BE ENTERED ..."
   ]
  },
  {
   "cell_type": "code",
   "execution_count": null,
   "id": "6fc5a8a1-a610-401e-bd4b-0e8eb180c1b5",
   "metadata": {},
   "outputs": [],
   "source": []
  },
  {
   "cell_type": "markdown",
   "id": "5eedf27b-d66b-4695-9340-8112f31af2c1",
   "metadata": {},
   "source": [
    "## MERGE()"
   ]
  },
  {
   "cell_type": "markdown",
   "id": "f35a8a46-f2b7-48aa-bcfa-9df46b9b24a3",
   "metadata": {},
   "source": [
    "#### SINGLE UNIQUE KEYS"
   ]
  },
  {
   "cell_type": "code",
   "execution_count": null,
   "id": "41bba4f1-ea86-40c6-8dca-38a7b6896368",
   "metadata": {
    "tags": []
   },
   "outputs": [],
   "source": [
    "left = pd.DataFrame(\n",
    "    {\n",
    "        \"key\": [\"K0\", \"K1\", \"K2\", \"K3\"],\n",
    "        \"A\": [\"A0\", \"A1\", \"A2\", \"A3\"],\n",
    "        \"B\": [\"B0\", \"B1\", \"B2\", \"B3\"],\n",
    "    }\n",
    ")"
   ]
  },
  {
   "cell_type": "code",
   "execution_count": null,
   "id": "a362ae34-a3b5-4c46-bd2a-7378eb503f67",
   "metadata": {
    "tags": []
   },
   "outputs": [],
   "source": [
    "right = pd.DataFrame(\n",
    "    {\n",
    "        \"key\": [\"K0\", \"K1\", \"K2\", \"K3\"],\n",
    "        \"C\": [\"C0\", \"C1\", \"C2\", \"C3\"],\n",
    "        \"D\": [\"D0\", \"D1\", \"D2\", \"D3\"],\n",
    "    }\n",
    ")"
   ]
  },
  {
   "cell_type": "code",
   "execution_count": null,
   "id": "fa789747-2c02-4973-973a-2825e0245972",
   "metadata": {},
   "outputs": [],
   "source": [
    "left"
   ]
  },
  {
   "cell_type": "code",
   "execution_count": null,
   "id": "364bab76-cf07-4a4a-b2a7-e4be368102e5",
   "metadata": {},
   "outputs": [],
   "source": [
    "right"
   ]
  },
  {
   "cell_type": "code",
   "execution_count": null,
   "id": "6427b2fc-0c13-4b81-86f9-80480fc99910",
   "metadata": {},
   "outputs": [],
   "source": [
    "pd.merge(left, right, on=\"key\")  # 'on' implies key is in both df's; default is inner\n",
    "# both df's have the same keys, so all rows are retained"
   ]
  },
  {
   "cell_type": "markdown",
   "id": "bf6b973e-f922-422c-9b7b-5fd89245579d",
   "metadata": {},
   "source": [
    "#### USING DIFFERENT KEYS (WS EXAMPLE)"
   ]
  },
  {
   "cell_type": "code",
   "execution_count": null,
   "id": "49571c4d-b5e8-4073-a6d0-988dc945f0d0",
   "metadata": {
    "tags": []
   },
   "outputs": [],
   "source": [
    "# WS THIS NOT USED NOW, BUT USEFUL TO SEE HOW THE COLUMNS CAN BE RENAMED\n",
    "left_new = left.rename(columns={'key':'keyX'})\n",
    "left_new"
   ]
  },
  {
   "cell_type": "code",
   "execution_count": null,
   "id": "82b3474a-ea6e-4661-bdf7-ace00fd359d2",
   "metadata": {
    "tags": []
   },
   "outputs": [],
   "source": [
    "new_right = right.copy()\n",
    "new_right.loc[2,'C'] = 'K0'  # WS add a common key value into 'C' column\n",
    "new_right"
   ]
  },
  {
   "cell_type": "code",
   "execution_count": null,
   "id": "8c6d5f5e-1625-4849-9538-0bae0fc45b86",
   "metadata": {},
   "outputs": [],
   "source": [
    "# WS merge on two different columns\n",
    "pd.merge(left, new_right, left_on='key', right_on='C')\n",
    "# only the new entry in column C matches\n",
    "# because 'key' is the same name in each df, merge() adds a suffice to distinguish their origin"
   ]
  },
  {
   "cell_type": "markdown",
   "id": "6e8ce57a-c785-4a7f-9c3c-635173d66cd2",
   "metadata": {},
   "source": [
    "#### MULTIPLE KEYS THAT ARE DIFFERENT"
   ]
  },
  {
   "cell_type": "code",
   "execution_count": null,
   "id": "8ec21e32-d4bd-4714-b546-8c15b0572e6f",
   "metadata": {},
   "outputs": [],
   "source": [
    "# WS multiple keys\n",
    "left = pd.DataFrame(\n",
    "       {\"key1\": [\"K0\", \"K0\", \"K1\", \"K2\"],\n",
    "        \"key2\": [\"K0\", \"K1\", \"K0\", \"K1\"],\n",
    "        \"A\": [\"A0\", \"A1\", \"A2\", \"A3\"],\n",
    "        \"B\": [\"B0\", \"B1\", \"B2\", \"B3\"],})\n",
    "right = pd.DataFrame(\n",
    "       {\"key1\": [\"K0\", \"K1\", \"K1\", \"K2\"],\n",
    "        \"key2\": [\"K0\", \"K0\", \"K0\", \"K0\"],\n",
    "        \"C\": [\"C0\", \"C1\", \"C2\", \"C3\"],\n",
    "        \"D\": [\"D0\", \"D1\", \"D2\", \"D3\"],})"
   ]
  },
  {
   "cell_type": "code",
   "execution_count": null,
   "id": "41e95fd8-014e-4b99-9c87-339d8f5814ae",
   "metadata": {},
   "outputs": [],
   "source": [
    "left"
   ]
  },
  {
   "cell_type": "code",
   "execution_count": null,
   "id": "05733718-cedb-4256-9783-f9f665941417",
   "metadata": {},
   "outputs": [],
   "source": [
    "right"
   ]
  },
  {
   "cell_type": "markdown",
   "id": "960bb474-379e-4b8b-a27f-d589b2c3b3e3",
   "metadata": {},
   "source": [
    "#### INNER MERGE (DEFAULT)"
   ]
  },
  {
   "cell_type": "code",
   "execution_count": null,
   "id": "2ff5626d-175b-427b-8e2b-8f5cc90a0b5b",
   "metadata": {},
   "outputs": [],
   "source": [
    "result = pd.merge(left, right, on=[\"key1\", \"key2\"])\n",
    "result # WS has only those key pairs that exist in both frames: the intersection of the key pairs"
   ]
  },
  {
   "cell_type": "markdown",
   "id": "68699b97-c286-43d4-b6d0-602e4aaa81da",
   "metadata": {},
   "source": [
    "#### LEFT FRAME KEYS MERGE"
   ]
  },
  {
   "cell_type": "code",
   "execution_count": null,
   "id": "92c602d3-10da-4b52-8413-9268d25de5bc",
   "metadata": {},
   "outputs": [],
   "source": [
    "result = pd.merge(left, right, how=\"left\", on=[\"key1\", \"key2\"])\n",
    "result # WS has all of the key pairs from the left frame"
   ]
  },
  {
   "cell_type": "markdown",
   "id": "9f87781b-117e-4443-9d47-a8eec66a991a",
   "metadata": {},
   "source": [
    "#### RIGHT FRAME KEYS MERGE"
   ]
  },
  {
   "cell_type": "code",
   "execution_count": null,
   "id": "eaeafaf5-a267-406e-b685-04013ab9b2ff",
   "metadata": {},
   "outputs": [],
   "source": [
    "result = pd.merge(left, right, how=\"right\", on=[\"key1\", \"key2\"])\n",
    "result # WS has all of the key pairss from the right frame"
   ]
  },
  {
   "cell_type": "markdown",
   "id": "cc666cac-5232-4f45-a3ee-9883eae29ad7",
   "metadata": {},
   "source": [
    "#### OUTER MERGE"
   ]
  },
  {
   "cell_type": "code",
   "execution_count": null,
   "id": "6bb5ad8d-451c-4f25-9e43-0d8397a9128f",
   "metadata": {},
   "outputs": [],
   "source": [
    "result = pd.merge(left, right, how=\"outer\", on=[\"key1\", \"key2\"])\n",
    "result # WS has all key pairs in left and right frames: the union of the key pairs"
   ]
  },
  {
   "cell_type": "markdown",
   "id": "86add198-d6f6-4686-b824-d39147ad1aa8",
   "metadata": {},
   "source": [
    "#### CROSS MERGE"
   ]
  },
  {
   "cell_type": "code",
   "execution_count": null,
   "id": "b21e0ba9-f909-49cf-b409-0709b8f7c594",
   "metadata": {},
   "outputs": [],
   "source": [
    "result = pd.merge(left, right, how=\"cross\")\n",
    "result # WS like the matrix outer product: all permutations of key pairs:\n",
    "# when would you want this?"
   ]
  },
  {
   "cell_type": "markdown",
   "id": "51e5d8a5-039a-4bb5-b063-46f6ba6f20eb",
   "metadata": {},
   "source": [
    "#### MULTI-INDEXED SERIES MERGE WITH DATAFRAME"
   ]
  },
  {
   "cell_type": "code",
   "execution_count": null,
   "id": "bed9b522-885b-4771-b0d4-0aac2215f821",
   "metadata": {},
   "outputs": [],
   "source": [
    "df = pd.DataFrame({\"Let\": [\"A\", \"B\", \"C\"], \"Num\": [1, 2, 3]})"
   ]
  },
  {
   "cell_type": "code",
   "execution_count": null,
   "id": "ba27fe98-164e-4684-b26b-a042af60282e",
   "metadata": {},
   "outputs": [],
   "source": [
    "ser = pd.Series(\n",
    "    [\"a\", \"b\", \"c\", \"d\", \"e\", \"f\"],\n",
    "    index=pd.MultiIndex.from_arrays(\n",
    "        [[\"A\", \"B\", \"C\"] * 2, [1, 2, 3, 4, 5, 6]], names=[\"Let\", \"Num\"]))\n",
    "ser"
   ]
  },
  {
   "cell_type": "code",
   "execution_count": null,
   "id": "3b43ea3c-bb3c-4cca-a063-ac7c4ae7c302",
   "metadata": {},
   "outputs": [],
   "source": [
    "df"
   ]
  },
  {
   "cell_type": "code",
   "execution_count": null,
   "id": "6df2ea83-caa9-4093-bd97-a9de7c4072ca",
   "metadata": {},
   "outputs": [],
   "source": [
    "ser.reset_index()  # WS NICE WAY TO TURN A SERIES INTO A DATAFRAME"
   ]
  },
  {
   "cell_type": "code",
   "execution_count": null,
   "id": "d4fa0e23-4d0d-43e3-a402-61074fe739cd",
   "metadata": {},
   "outputs": [],
   "source": [
    "df2 = pd.merge(df, ser.reset_index(), on=[\"Let\", \"Num\"])  # WS default: inner merge\n",
    "df2"
   ]
  },
  {
   "cell_type": "markdown",
   "id": "95d95974-5303-47f8-8b5b-4bc976800070",
   "metadata": {},
   "source": [
    "### EXAMPLE OF MERGING WITH DUPLICATE KEYS: \n",
    "#### CAN GIVE RISE TO FRAMES THAT ARE THE MULTIPLICATION OF THE ROW DIMENSIONS"
   ]
  },
  {
   "cell_type": "raw",
   "id": "b7a1ad3e-4312-48e9-976f-b3b2456f8ae3",
   "metadata": {},
   "source": [
    "left = pd.DataFrame({\"A\": [1, 2], \"B\": [2, 2]})\n",
    "left"
   ]
  },
  {
   "cell_type": "raw",
   "id": "1214483b-aa6b-4744-8305-d29558586e53",
   "metadata": {},
   "source": [
    "right = pd.DataFrame({\"A\": [4, 5, 6], \"B\": [2, 2, 2]})\n",
    "right"
   ]
  },
  {
   "cell_type": "raw",
   "id": "6beb2de3-c976-4349-af58-9fe817359996",
   "metadata": {},
   "source": [
    "result = pd.merge(left, right, on=\"B\", how=\"inner\")\n",
    "result # WS even though 'inner' get same result as 'outer' (below) since both frames have same 'B' index"
   ]
  },
  {
   "cell_type": "raw",
   "id": "4932ae57-d1f4-4f8a-acf7-7ba22c04ed0d",
   "metadata": {},
   "source": [
    "result = pd.merge(left, right, on=\"B\", how=\"outer\")\n",
    "result"
   ]
  },
  {
   "cell_type": "markdown",
   "id": "8ec6449b-3ef9-44e3-97a1-dac8a841c587",
   "metadata": {},
   "source": [
    "### CHECKING FOR DUPLICATE KEYS"
   ]
  },
  {
   "cell_type": "raw",
   "id": "76668f29-d646-4414-a524-16dff5856022",
   "metadata": {},
   "source": [
    "left = pd.DataFrame({\"A\": [1, 2], \"B\": [1, 2]})\n",
    "left"
   ]
  },
  {
   "cell_type": "raw",
   "id": "6e751287-4795-4486-954f-de8fc056fb97",
   "metadata": {},
   "source": [
    "right = pd.DataFrame({\"A\": [4, 5, 6], \"B\": [2, 2, 2]})  # B has duplicate values\n",
    "right"
   ]
  },
  {
   "cell_type": "raw",
   "id": "9bad7a08-9011-4b5c-bbe9-1d38ed296588",
   "metadata": {},
   "source": [
    "# result by not checking\n",
    "result = pd.merge(left, right, on=\"B\", how=\"outer\")\n",
    "result"
   ]
  },
  {
   "cell_type": "raw",
   "id": "19f91368-a2e0-47b0-a9ef-9e9046af4cf3",
   "metadata": {
    "jupyter": {
     "outputs_hidden": true
    },
    "tags": []
   },
   "source": [
    "# WS this produces a MergeError because of validate option\n",
    "result = pd.merge(left, right, on=\"B\", how=\"outer\", validate=\"one_to_one\")\n",
    "result"
   ]
  },
  {
   "cell_type": "raw",
   "id": "ebca0488-1f7e-4a13-9c19-e754a11f1c9c",
   "metadata": {},
   "source": [
    "# WS gives the same result as 'not checking' above: \n",
    "# there may be examples where this is not the case, but this isn't one: not an illustrative example\n",
    "result = pd.merge(left, right, on=\"B\", how=\"outer\", validate=\"one_to_many\")\n",
    "result"
   ]
  },
  {
   "cell_type": "markdown",
   "id": "944dd59e-975d-4a8b-bfe9-dc950c347808",
   "metadata": {},
   "source": [
    "### MERGE INDICATOR"
   ]
  },
  {
   "cell_type": "code",
   "execution_count": null,
   "id": "5aee7f48-af37-4484-9ab8-030898816eda",
   "metadata": {},
   "outputs": [],
   "source": [
    "df1 = pd.DataFrame({\"col1\": [0, 1], \"col_left\": [\"a\", \"b\"]})\n",
    "df1"
   ]
  },
  {
   "cell_type": "code",
   "execution_count": null,
   "id": "fbcadf56-9b22-4a73-8bc6-184c3754d1a0",
   "metadata": {},
   "outputs": [],
   "source": [
    "df2 = pd.DataFrame({\"col1\": [1, 2, 2], \"col_right\": [2, 2, 2]})\n",
    "df2"
   ]
  },
  {
   "cell_type": "code",
   "execution_count": null,
   "id": "862815d6-f71a-4157-ae95-1d8d3d11e6de",
   "metadata": {},
   "outputs": [],
   "source": [
    "pd.merge(df1, df2, on=\"col1\", how=\"outer\", indicator=True)"
   ]
  },
  {
   "cell_type": "code",
   "execution_count": null,
   "id": "86e8660e-4d0d-4dd9-8ce9-6de737543e70",
   "metadata": {},
   "outputs": [],
   "source": [
    "# WS can name the indicator column\n",
    "pd.merge(df1, df2, on=\"col1\", how=\"outer\", indicator=\"indicator_column\")"
   ]
  },
  {
   "cell_type": "markdown",
   "id": "83f95678-58a9-400c-bbb0-9067632dbbc6",
   "metadata": {},
   "source": [
    "### MERGE DTYPES"
   ]
  },
  {
   "cell_type": "raw",
   "id": "a1393ee8-d434-4695-ab49-c4101a1c358f",
   "metadata": {
    "tags": []
   },
   "source": [
    "left = pd.DataFrame({\"key\": [1], \"v1\": [10]})\n",
    "left"
   ]
  },
  {
   "cell_type": "raw",
   "id": "a13e184d-114b-476f-b8b8-58fbaf1ce243",
   "metadata": {
    "tags": []
   },
   "source": [
    "right = pd.DataFrame({\"key\": [1, 2], \"v1\": [20, 30]})\n",
    "right"
   ]
  },
  {
   "cell_type": "raw",
   "id": "56eb238a-dab4-4d92-b97e-20564bb68c63",
   "metadata": {
    "tags": []
   },
   "source": [
    "pd.merge(left, right, how=\"outer\")"
   ]
  },
  {
   "cell_type": "raw",
   "id": "543d06f7-c88e-43a8-bfd3-c572c32be37d",
   "metadata": {
    "tags": []
   },
   "source": [
    "pd.merge(left, right, how=\"outer\").dtypes"
   ]
  },
  {
   "cell_type": "raw",
   "id": "61b9b8ce-e0f2-425f-9952-a2f945a8232d",
   "metadata": {
    "tags": []
   },
   "source": [
    "pd.merge(left, right, how=\"outer\", on=\"key\")"
   ]
  },
  {
   "cell_type": "raw",
   "id": "8abd0692-54c0-4506-be5b-9d7f8217c6f3",
   "metadata": {
    "tags": []
   },
   "source": [
    "pd.merge(left, right, how=\"outer\", on=\"key\").dtypes\n",
    "# WS the NaN upcast the dytpe of v1_x"
   ]
  },
  {
   "cell_type": "markdown",
   "id": "b08e05c8-4e1b-471c-acd2-f14b2c1cb326",
   "metadata": {},
   "source": [
    "#### CATEGORY DTYPES"
   ]
  },
  {
   "cell_type": "raw",
   "id": "d246927b-5cd5-4dd5-9599-7fe8a2f8f304",
   "metadata": {},
   "source": [
    "from pandas.api.types import CategoricalDtype"
   ]
  },
  {
   "cell_type": "raw",
   "id": "98fac85d-16aa-4e44-bd87-f77a6c5f2887",
   "metadata": {
    "tags": []
   },
   "source": [
    "X = pd.Series(np.random.choice([\"foo\", \"bar\"], size=(10,)))\n",
    "X"
   ]
  },
  {
   "cell_type": "raw",
   "id": "c902a02d-5c49-44a2-b0c4-880368a99e79",
   "metadata": {
    "tags": []
   },
   "source": [
    "X = X.astype(CategoricalDtype(categories=[\"foo\", \"bar\"]))\n",
    "X"
   ]
  },
  {
   "cell_type": "raw",
   "id": "9c18cd3c-e375-4621-9fe7-42f10e7db32f",
   "metadata": {
    "tags": []
   },
   "source": [
    "left = pd.DataFrame(\n",
    "    {\"X\": X, \"Y\": np.random.choice([\"one\", \"two\", \"three\"], size=(10,))}\n",
    ")\n",
    "left"
   ]
  },
  {
   "cell_type": "raw",
   "id": "57fb59a3-a5bc-4879-8334-191d734c8394",
   "metadata": {
    "tags": []
   },
   "source": [
    "left.dtypes"
   ]
  },
  {
   "cell_type": "markdown",
   "id": "0e81f767-3cb4-4006-8d2f-eea6d8f23458",
   "metadata": {
    "tags": []
   },
   "source": [
    "right = pd.DataFrame(\n",
    "    {\"X\": pd.Series([\"foo\", \"bar\"], dtype=CategoricalDtype([\"foo\", \"bar\"])),\n",
    "        \"Z\": [1, 2],})\n",
    "right"
   ]
  },
  {
   "cell_type": "raw",
   "id": "7322f19d-7add-45e5-b50d-d4065965dfef",
   "metadata": {
    "tags": []
   },
   "source": [
    "right.dtypes"
   ]
  },
  {
   "cell_type": "raw",
   "id": "12a4c9dc-3eb4-4737-9ef8-b7b372e219af",
   "metadata": {
    "tags": []
   },
   "source": [
    "result = pd.merge(left, right, how=\"outer\")\n",
    "result"
   ]
  },
  {
   "cell_type": "raw",
   "id": "cdbf8ca9-c43d-4413-8952-b874b43a12ba",
   "metadata": {
    "tags": []
   },
   "source": [
    "result.dtypes"
   ]
  },
  {
   "cell_type": "markdown",
   "id": "6407c4e5-d458-4eee-b723-bd5ac13bb760",
   "metadata": {},
   "source": [
    "## JOINING ON INDEX AND COMPARING TO MERGING"
   ]
  },
  {
   "cell_type": "code",
   "execution_count": null,
   "id": "4399954e-63b7-4a42-adc3-4f51b241c2a3",
   "metadata": {
    "tags": []
   },
   "outputs": [],
   "source": [
    "pd.merge?"
   ]
  },
  {
   "cell_type": "code",
   "execution_count": null,
   "id": "595ff887-7acf-4ed7-a2b4-8cb07625ba0f",
   "metadata": {},
   "outputs": [],
   "source": [
    "left = pd.DataFrame(\n",
    "    {\"A\": [\"A0\", \"A1\", \"A2\"], \"B\": [\"B0\", \"B1\", \"B2\"]}, index=[\"K0\", \"K1\", \"K2\"]\n",
    ")"
   ]
  },
  {
   "cell_type": "code",
   "execution_count": null,
   "id": "f294231f-f07d-4366-b3b1-2ed4202bc664",
   "metadata": {},
   "outputs": [],
   "source": [
    "right = pd.DataFrame(\n",
    "    {\"C\": [\"C0\", \"C2\", \"C3\"], \"D\": [\"D0\", \"D2\", \"D3\"]}, index=[\"K0\", \"K2\", \"K3\"]\n",
    ")"
   ]
  },
  {
   "cell_type": "code",
   "execution_count": null,
   "id": "111a82a6-7818-4d76-968a-b2ba405195b3",
   "metadata": {},
   "outputs": [],
   "source": [
    "left"
   ]
  },
  {
   "cell_type": "code",
   "execution_count": null,
   "id": "e26a47a4-11af-438a-9e1a-dec0f07a074c",
   "metadata": {},
   "outputs": [],
   "source": [
    "right"
   ]
  },
  {
   "cell_type": "markdown",
   "id": "0c02914b-e24c-4b87-a0f2-579604452f26",
   "metadata": {},
   "source": [
    "### JOIN VERSION: LEFT"
   ]
  },
  {
   "cell_type": "code",
   "execution_count": null,
   "id": "8e6a1324-70cc-472b-88ef-7ce19d8df7ce",
   "metadata": {},
   "outputs": [],
   "source": [
    "result = left.join(right)\n",
    "result  # WS all indexes on left are kept\n",
    "# WS NOTE: pd.join() does not exist"
   ]
  },
  {
   "cell_type": "code",
   "execution_count": null,
   "id": "59cd6bda-00b3-4018-9917-0802c350d77b",
   "metadata": {
    "tags": []
   },
   "outputs": [],
   "source": [
    "left.join?"
   ]
  },
  {
   "cell_type": "markdown",
   "id": "beac3cc4-cfbb-46bd-b5a4-a270ea10de3c",
   "metadata": {},
   "source": [
    "#### MERGE VERSION: LEFT"
   ]
  },
  {
   "cell_type": "code",
   "execution_count": null,
   "id": "a498925e-18ed-4a42-8f85-3c9817bc75a9",
   "metadata": {},
   "outputs": [],
   "source": [
    "# WS merge gives same result as join above\n",
    "# left_index and right_index must each be True, not the default False\n",
    "# this means that left and right indexes are the join keys, which is the default for join()\n",
    "pd.merge(left, right, how='left', left_index=True, right_index=True)"
   ]
  },
  {
   "cell_type": "code",
   "execution_count": null,
   "id": "e20435c4-5abb-490c-8ac0-1007fdda4ac1",
   "metadata": {},
   "outputs": [],
   "source": [
    "# WS NOTE: merge() can be invoked as pd.merge() OR df.merge(), unlike join()\n",
    "# how='left' is still needed for the left merge, even though the left df is the primary object\n",
    "left.merge(right, how='left', left_index=True, right_index=True)"
   ]
  },
  {
   "cell_type": "markdown",
   "id": "451bfff9-e63e-4c20-bea5-2a904f4dbda3",
   "metadata": {},
   "source": [
    "#### JOIN VERSION: OUTER"
   ]
  },
  {
   "cell_type": "code",
   "execution_count": null,
   "id": "e206b48e-2205-41f1-b3ee-b6ef8f0694b7",
   "metadata": {},
   "outputs": [],
   "source": [
    "result = left.join(right, how=\"outer\")\n",
    "result  # all indexes"
   ]
  },
  {
   "cell_type": "markdown",
   "id": "a57e230d-6289-4e2c-b4fb-37f9c89e1eff",
   "metadata": {},
   "source": [
    "#### MERGE VERSION: OUTER"
   ]
  },
  {
   "cell_type": "code",
   "execution_count": null,
   "id": "1ff18c88-68fe-4deb-b9dc-d38a871869df",
   "metadata": {},
   "outputs": [],
   "source": [
    "# WS merge gives same result as join above: indexes on both dataframes used to merge\n",
    "result = pd.merge(left, right, how='outer', left_index=True, right_index=True)\n",
    "result"
   ]
  },
  {
   "cell_type": "markdown",
   "id": "dee88fe4-7748-48ea-99e2-bbbfb575e868",
   "metadata": {},
   "source": [
    "#### JOIN VERSION: INNER"
   ]
  },
  {
   "cell_type": "code",
   "execution_count": null,
   "id": "58ce7045-f2b1-4c5f-b32d-e24498429b3b",
   "metadata": {},
   "outputs": [],
   "source": [
    "result = left.join(right, how=\"inner\")\n",
    "result  # only the indexes in common"
   ]
  },
  {
   "cell_type": "markdown",
   "id": "9ea91a43-fd52-456f-8925-5fd26891f04e",
   "metadata": {},
   "source": [
    "#### MERGE VERSION: INNER"
   ]
  },
  {
   "cell_type": "code",
   "execution_count": null,
   "id": "5d963e6a-525b-4485-b0af-1bfd9714a008",
   "metadata": {},
   "outputs": [],
   "source": [
    "# WS merge gives same result as join above\n",
    "result = pd.merge(left, right, how='inner', left_index=True, right_index=True)\n",
    "result"
   ]
  },
  {
   "cell_type": "markdown",
   "id": "ee9d2be9-b126-493a-8746-026666131e34",
   "metadata": {},
   "source": [
    "## JOINING KEY COLUMNS ON AN INDEX"
   ]
  },
  {
   "cell_type": "code",
   "execution_count": null,
   "id": "cdc57b67-a2bb-44c0-977e-af472e792d55",
   "metadata": {},
   "outputs": [],
   "source": [
    "left = pd.DataFrame(\n",
    "    {\n",
    "        \"A\": [\"A0\", \"A1\", \"A2\", \"A3\"],\n",
    "        \"B\": [\"B0\", \"B1\", \"B2\", \"B3\"],\n",
    "        \"key\": [\"K0\", \"K1\", \"K0\", \"K1\"],\n",
    "    }\n",
    ")\n",
    "right = pd.DataFrame({\"C\": [\"C0\", \"C1\"], \"D\": [\"D0\", \"D1\"]}, index=[\"K0\", \"K1\"])"
   ]
  },
  {
   "cell_type": "code",
   "execution_count": null,
   "id": "f61f85bb-ac08-4d4f-b647-ecb93c68f559",
   "metadata": {},
   "outputs": [],
   "source": [
    "left"
   ]
  },
  {
   "cell_type": "code",
   "execution_count": null,
   "id": "416edaf9-78df-474b-92be-df9dc74e5295",
   "metadata": {},
   "outputs": [],
   "source": [
    "right"
   ]
  },
  {
   "cell_type": "markdown",
   "id": "5da925ff-571d-4e6e-a460-df2bd351d412",
   "metadata": {},
   "source": [
    "#### JOIN VERSION: LEFT"
   ]
  },
  {
   "cell_type": "code",
   "execution_count": null,
   "id": "049d85a9-f545-4243-8592-a48b597e4ab7",
   "metadata": {},
   "outputs": [],
   "source": [
    "# ws NOTE: right df must have the keys as an INDEX for join(): see below for counter example\n",
    "left.join(right, on=\"key\")  # 'on' refers to the column of the LEFT df"
   ]
  },
  {
   "cell_type": "code",
   "execution_count": null,
   "id": "10a0f2c6-64d7-4946-961f-cf847c952e28",
   "metadata": {},
   "outputs": [],
   "source": [
    "# WS example where the key is a column\n",
    "# turning an index into a column with a desired name\n",
    "wrong_right = right.reset_index().rename(columns={'index':'key'})\n",
    "wrong_right"
   ]
  },
  {
   "cell_type": "raw",
   "id": "ec4946be-779e-414c-a6ad-1fd0ab298d84",
   "metadata": {
    "tags": []
   },
   "source": [
    "# WS this fails bacause join needs to match the INDEX of the 'other' df not a COLUMN of the 'other' df\n",
    "left.join(wrong_right, on=\"key\")"
   ]
  },
  {
   "cell_type": "code",
   "execution_count": null,
   "id": "6c80a1c0-f75f-448b-b969-92ffcd59b2a5",
   "metadata": {},
   "outputs": [],
   "source": [
    "# WS this works: need to create the 'key' column as an index\n",
    "left.join(wrong_right.set_index('key'), on='key')"
   ]
  },
  {
   "cell_type": "markdown",
   "id": "f76b0415-22dd-41aa-98c8-b88cc13373ad",
   "metadata": {},
   "source": [
    "#### MERGE VERSION"
   ]
  },
  {
   "cell_type": "code",
   "execution_count": null,
   "id": "d5ca3bbe-7e79-43db-af25-4c93bff2fdf0",
   "metadata": {},
   "outputs": [],
   "source": [
    "# WS merge gives same result as join above: \n",
    "# how = 'left' because 'left.join()' was used\n",
    "# right_index = True because the index of the right table is used\n",
    "# left_index  = False (default) because the left index isn't used, rather the 'key' column is used\n",
    "result = pd.merge(left, right, how='left', left_on=\"key\", right_index=True, sort=False)\n",
    "result"
   ]
  },
  {
   "cell_type": "code",
   "execution_count": null,
   "id": "60081222-d652-442a-9ed3-16d19d18aa95",
   "metadata": {},
   "outputs": [],
   "source": [
    "left"
   ]
  },
  {
   "cell_type": "code",
   "execution_count": null,
   "id": "e8f1661a-15fa-47c4-bbea-c46615f146a3",
   "metadata": {},
   "outputs": [],
   "source": [
    "wrong_right"
   ]
  },
  {
   "cell_type": "code",
   "execution_count": null,
   "id": "6d78a78f-5eca-41d6-a82f-68d54e988db4",
   "metadata": {},
   "outputs": [],
   "source": [
    "# WS NOTE: merge() will work with wrong_right, since there is more control with merge()\n",
    "# need to specify both left and right keys: this automatically done by 'on'\n",
    "pd.merge(left, wrong_right, how='left', on='key')"
   ]
  },
  {
   "cell_type": "markdown",
   "id": "b3ce449d-38ce-4629-812d-f489861dd0f1",
   "metadata": {},
   "source": [
    "## MULTIPLE KEYS"
   ]
  },
  {
   "cell_type": "code",
   "execution_count": null,
   "id": "4f9b0bc4-9cb4-4096-8d43-9161ca398877",
   "metadata": {},
   "outputs": [],
   "source": [
    "left = pd.DataFrame(\n",
    "    {\n",
    "        \"A\": [\"A0\", \"A1\", \"A2\", \"A3\"],\n",
    "        \"B\": [\"B0\", \"B1\", \"B2\", \"B3\"],\n",
    "        \"key1\": [\"K0\", \"K0\", \"K1\", \"K2\"],\n",
    "        \"key2\": [\"K0\", \"K1\", \"K0\", \"K1\"],})"
   ]
  },
  {
   "cell_type": "code",
   "execution_count": null,
   "id": "55b0943e-c77f-4ce1-9066-c8038b6233ce",
   "metadata": {},
   "outputs": [],
   "source": [
    "index = pd.MultiIndex.from_tuples([(\"K0\", \"K0\"), (\"K1\", \"K0\"), (\"K2\", \"K0\"), (\"K2\", \"K1\")])"
   ]
  },
  {
   "cell_type": "code",
   "execution_count": null,
   "id": "b79337c2-e105-4d97-80e4-d32d881bf881",
   "metadata": {},
   "outputs": [],
   "source": [
    "right = pd.DataFrame({\"C\": [\"C0\", \"C1\", \"C2\", \"C3\"], \"D\": [\"D0\", \"D1\", \"D2\", \"D3\"]}, index=index)"
   ]
  },
  {
   "cell_type": "code",
   "execution_count": null,
   "id": "ac97c308-37de-4679-8d4b-d5df1113f9ed",
   "metadata": {},
   "outputs": [],
   "source": [
    "left"
   ]
  },
  {
   "cell_type": "code",
   "execution_count": null,
   "id": "c3952b62-1504-4fdb-9981-660848eeb9b7",
   "metadata": {},
   "outputs": [],
   "source": [
    "right  # WS K2 not printing in last row: likely because it is the same in the row above\n",
    "# it does print if K2 in row with K1 is changed to something else"
   ]
  },
  {
   "cell_type": "markdown",
   "id": "a653aadb-4e9b-43d2-b013-695891467bf9",
   "metadata": {},
   "source": [
    "#### JOIN VERSION"
   ]
  },
  {
   "cell_type": "code",
   "execution_count": null,
   "id": "a04808b4-1189-4907-acef-2e25d2114209",
   "metadata": {},
   "outputs": [],
   "source": [
    "# WS for this to work, the right frame must have a MultiIndex (which it does here)\n",
    "left.join(right, on=[\"key1\", \"key2\"])  # join() uses the INDEX of the 'other' df to match"
   ]
  },
  {
   "cell_type": "markdown",
   "id": "1669e900-4652-4efb-8231-4d207c44025c",
   "metadata": {},
   "source": [
    "#### MERGE VERSION"
   ]
  },
  {
   "cell_type": "code",
   "execution_count": null,
   "id": "3fdd9b9c-c49d-408c-905b-bbd99869c9a4",
   "metadata": {},
   "outputs": [],
   "source": [
    "# WS right_index=True gives merge() the join() behavior\n",
    "pd.merge(left, right, how='left', left_on=[\"key1\", \"key2\"], right_index=True, sort=False)"
   ]
  },
  {
   "cell_type": "markdown",
   "id": "3ea7fde4-20ba-49df-9c76-dc7fc91beae1",
   "metadata": {},
   "source": [
    "#### JOIN VERSION: INNER"
   ]
  },
  {
   "cell_type": "code",
   "execution_count": null,
   "id": "354bf175-87cf-4d0c-8a52-dafb3c558463",
   "metadata": {},
   "outputs": [],
   "source": [
    "result = left.join(right, on=[\"key1\", \"key2\"], how=\"inner\")\n",
    "result  # WS drops rows with no match (ie NaN)"
   ]
  },
  {
   "cell_type": "markdown",
   "id": "3520bb5d-a415-4d6c-83aa-85417ea3aa92",
   "metadata": {},
   "source": [
    "#### MERGE VERSION: INNER"
   ]
  },
  {
   "cell_type": "code",
   "execution_count": null,
   "id": "1b33f2f9-42bb-4570-9e8a-c70f29dd558c",
   "metadata": {},
   "outputs": [],
   "source": [
    "result = pd.merge(left, right, how='inner', left_on=[\"key1\", \"key2\"], right_index=True, sort=False)\n",
    "result"
   ]
  },
  {
   "cell_type": "markdown",
   "id": "000fa6c3-15a5-4cb3-9dd7-e76ffe80c887",
   "metadata": {},
   "source": [
    "## JOINING A SINGLE INDEX TO A MULTIINDEX"
   ]
  },
  {
   "cell_type": "code",
   "execution_count": null,
   "id": "be8a2654-331e-42a5-bc7d-8e85ca528220",
   "metadata": {},
   "outputs": [],
   "source": [
    "left = pd.DataFrame(\n",
    "    {\"A\": [\"A0\", \"A1\", \"A2\"], \"B\": [\"B0\", \"B1\", \"B2\"]},\n",
    "    index=pd.Index([\"K0\", \"K1\", \"K2\"], name=\"key\"),)"
   ]
  },
  {
   "cell_type": "code",
   "execution_count": null,
   "id": "802b27c2-6e82-4840-8a0a-0f16beb1632f",
   "metadata": {},
   "outputs": [],
   "source": [
    "index = pd.MultiIndex.from_tuples(\n",
    "    [(\"K0\", \"Y0\"), (\"K1\", \"Y1\"), (\"K2\", \"Y2\"), (\"K2\", \"Y3\")],\n",
    "    names=[\"key\", \"Y\"],)\n",
    "right = pd.DataFrame(\n",
    "    {\"C\": [\"C0\", \"C1\", \"C2\", \"C3\"], \"D\": [\"D0\", \"D1\", \"D2\", \"D3\"]},\n",
    "    index=index,)"
   ]
  },
  {
   "cell_type": "code",
   "execution_count": null,
   "id": "9646c8f1-436c-45db-83e2-ce3bf69deee2",
   "metadata": {},
   "outputs": [],
   "source": [
    "left"
   ]
  },
  {
   "cell_type": "code",
   "execution_count": null,
   "id": "e21ce4a5-d3d1-4f0e-8636-a0ea9eb392eb",
   "metadata": {},
   "outputs": [],
   "source": [
    "right"
   ]
  },
  {
   "cell_type": "markdown",
   "id": "729922d9-deff-4976-bd1e-16fc44730162",
   "metadata": {},
   "source": [
    "#### JOIN VERSION"
   ]
  },
  {
   "cell_type": "code",
   "execution_count": null,
   "id": "20f6c77c-6afd-4082-baff-a743daf295c5",
   "metadata": {},
   "outputs": [],
   "source": [
    "# WS  join appears to default to the left-most index of a multiindex as the item to match\n",
    "left.join(right, how=\"inner\")"
   ]
  },
  {
   "cell_type": "markdown",
   "id": "032d41fd-7295-4b14-a796-3099f65f2639",
   "metadata": {},
   "source": [
    "#### MERGE VERSION"
   ]
  },
  {
   "cell_type": "code",
   "execution_count": null,
   "id": "39f43a76-70d9-4a0f-947e-aca198818035",
   "metadata": {},
   "outputs": [],
   "source": [
    "# tutorial says join version is faster (and of course more concise)\n",
    "pd.merge(left.reset_index(), right.reset_index(), on=[\"key\"], how=\"inner\").set_index([\"key\",\"Y\"])"
   ]
  },
  {
   "cell_type": "code",
   "execution_count": null,
   "id": "d07620c0-8c8d-4aa1-9071-4d82ebeea574",
   "metadata": {},
   "outputs": [],
   "source": [
    "# break it up to examine\n",
    "left"
   ]
  },
  {
   "cell_type": "code",
   "execution_count": null,
   "id": "e1858f45-3cec-4864-9b26-b61b9bcddc4f",
   "metadata": {},
   "outputs": [],
   "source": [
    "left.reset_index()"
   ]
  },
  {
   "cell_type": "code",
   "execution_count": null,
   "id": "e0ba15c2-c78c-4a7d-bd16-490c89aee53b",
   "metadata": {},
   "outputs": [],
   "source": [
    "right"
   ]
  },
  {
   "cell_type": "code",
   "execution_count": null,
   "id": "e978414a-9136-4edc-8302-385d0918819d",
   "metadata": {},
   "outputs": [],
   "source": [
    "right.reset_index()  # WS flattens out the multiindex"
   ]
  },
  {
   "cell_type": "markdown",
   "id": "ada7fa0a-e0d0-4058-bc8c-a20b9d435c3f",
   "metadata": {},
   "source": [
    "## JOINING WITH TWO MULTIINDEXES"
   ]
  },
  {
   "cell_type": "code",
   "execution_count": null,
   "id": "82dcfbd5-04bd-4f10-ac0a-f254ebf820a0",
   "metadata": {},
   "outputs": [],
   "source": [
    "leftindex = pd.MultiIndex.from_product([list(\"abc\"), list(\"xy\"), [1, 2]], names=[\"abc\", \"xy\", \"num\"])\n",
    "left = pd.DataFrame({\"v1\": range(12)}, index=leftindex)"
   ]
  },
  {
   "cell_type": "code",
   "execution_count": null,
   "id": "b15cd588-f503-45f3-9ad2-1ef6cee2901a",
   "metadata": {},
   "outputs": [],
   "source": [
    "rightindex = pd.MultiIndex.from_product([list(\"abc\"), list(\"xy\")], names=[\"abc\", \"xy\"])\n",
    "right = pd.DataFrame({\"v2\": [100 * i for i in range(1, 7)]}, index=rightindex)"
   ]
  },
  {
   "cell_type": "code",
   "execution_count": null,
   "id": "0b8711eb-91ce-42cd-9788-80b2f3793df2",
   "metadata": {},
   "outputs": [],
   "source": [
    "left"
   ]
  },
  {
   "cell_type": "code",
   "execution_count": null,
   "id": "898101b9-8914-48fa-9e01-aa415a59713e",
   "metadata": {},
   "outputs": [],
   "source": [
    "right"
   ]
  },
  {
   "cell_type": "code",
   "execution_count": null,
   "id": "c37155f4-eda9-455e-bad0-8ae08bb59399",
   "metadata": {},
   "outputs": [],
   "source": [
    "# WS for this to work:\n",
    "# - the index for the right argument is completely used in the join, and \n",
    "# - it is a subset of the indices in the left argument; true for this example\n",
    "left.join(right, on=[\"abc\", \"xy\"], how=\"inner\")"
   ]
  },
  {
   "cell_type": "code",
   "execution_count": null,
   "id": "681e4acf-89b7-4cc9-93e9-9951e4b0f5d4",
   "metadata": {},
   "outputs": [],
   "source": [
    "# use merge if the above condition is not satisfied (another example)\n",
    "leftindex = pd.MultiIndex.from_tuples(\n",
    "    [(\"K0\", \"X0\"), (\"K0\", \"X1\"), (\"K1\", \"X2\")], names=[\"key\", \"X\"])\n",
    "left = pd.DataFrame(\n",
    "    {\"A\": [\"A0\", \"A1\", \"A2\"], \"B\": [\"B0\", \"B1\", \"B2\"]}, index=leftindex)"
   ]
  },
  {
   "cell_type": "code",
   "execution_count": null,
   "id": "17b77522-f9f1-4b0b-903b-d8d03188a7b4",
   "metadata": {},
   "outputs": [],
   "source": [
    "rightindex = pd.MultiIndex.from_tuples(\n",
    "    [(\"K0\", \"Y0\"), (\"K1\", \"Y1\"), (\"K2\", \"Y2\"), (\"K2\", \"Y3\")], names=[\"key\", \"Y\"])\n",
    "right = pd.DataFrame(\n",
    "    {\"C\": [\"C0\", \"C1\", \"C2\", \"C3\"], \"D\": [\"D0\", \"D1\", \"D2\", \"D3\"]}, index=rightindex)"
   ]
  },
  {
   "cell_type": "code",
   "execution_count": null,
   "id": "4fbd3758-4917-446b-bf60-068ddbee2ee5",
   "metadata": {},
   "outputs": [],
   "source": [
    "left"
   ]
  },
  {
   "cell_type": "code",
   "execution_count": null,
   "id": "a6d29989-7001-4b46-96d7-b2216af1d4c3",
   "metadata": {},
   "outputs": [],
   "source": [
    "right"
   ]
  },
  {
   "cell_type": "code",
   "execution_count": null,
   "id": "25930d11-90ae-4b33-949e-3f91fdc17436",
   "metadata": {},
   "outputs": [],
   "source": [
    "pd.merge(left.reset_index(), right.reset_index(), on=[\"key\"], how=\"inner\").set_index([\"key\", \"X\", \"Y\"])"
   ]
  },
  {
   "cell_type": "markdown",
   "id": "12aa019d-50e5-4764-a91a-79990b233bfc",
   "metadata": {},
   "source": [
    "## MERGING ON A COMBINATION OF COLUMNS AND INDEX LEVELS"
   ]
  },
  {
   "cell_type": "code",
   "execution_count": null,
   "id": "22f9fcc6-376d-45d8-bbc1-5c94d1452f11",
   "metadata": {},
   "outputs": [],
   "source": [
    "left_index = pd.Index([\"K0\", \"K0\", \"K1\", \"K2\"], name=\"key1\")\n",
    "left = pd.DataFrame(\n",
    "       {\"A\": [\"A0\", \"A1\", \"A2\", \"A3\"],\n",
    "        \"B\": [\"B0\", \"B1\", \"B2\", \"B3\"],\n",
    "        \"key2\": [\"K0\", \"K1\", \"K0\", \"K1\"]},index=left_index)"
   ]
  },
  {
   "cell_type": "code",
   "execution_count": null,
   "id": "bfb15cee-9509-49ea-9ac9-041c9c4c752d",
   "metadata": {},
   "outputs": [],
   "source": [
    "right_index = pd.Index([\"K0\", \"K1\", \"K2\", \"K2\"], name=\"key1\")\n",
    "right = pd.DataFrame(\n",
    "       {\"C\": [\"C0\", \"C1\", \"C2\", \"C3\"],\n",
    "        \"D\": [\"D0\", \"D1\", \"D2\", \"D3\"],\n",
    "        \"key2\": [\"K0\", \"K0\", \"K0\", \"K1\"]},index=right_index)"
   ]
  },
  {
   "cell_type": "code",
   "execution_count": null,
   "id": "93e77018-ea8c-4012-8103-17a3c5fb6fa5",
   "metadata": {},
   "outputs": [],
   "source": [
    "left"
   ]
  },
  {
   "cell_type": "code",
   "execution_count": null,
   "id": "cba5dd7e-8681-4688-aea8-53beb928f440",
   "metadata": {},
   "outputs": [],
   "source": [
    "right"
   ]
  },
  {
   "cell_type": "code",
   "execution_count": null,
   "id": "5927563c-dcb9-4301-b300-94d63cb5610d",
   "metadata": {},
   "outputs": [],
   "source": [
    "# WS comment: this is bizarre: merge() is matching both an index and a column;\n",
    "# from the tutorial link:\n",
    "# Strings passed as the on, left_on, and right_on parameters may refer to either \n",
    "# column names or index-level names. This enables merging DataFrame instances on a \n",
    "# combination of index levels and columns without resetting indexes.\n",
    "left.merge(right, on=[\"key1\", \"key2\"])"
   ]
  },
  {
   "cell_type": "markdown",
   "id": "06d7dc0a-8366-492b-b082-ed9177cdf071",
   "metadata": {},
   "source": [
    "### OVERLAPPING VALUE COLUMNS"
   ]
  },
  {
   "cell_type": "code",
   "execution_count": null,
   "id": "4307bb54-ef26-424a-8625-8bd5133d3b90",
   "metadata": {},
   "outputs": [],
   "source": []
  },
  {
   "cell_type": "code",
   "execution_count": null,
   "id": "24fb1853-7d60-46c8-a657-b01cfd36dc7b",
   "metadata": {},
   "outputs": [],
   "source": []
  },
  {
   "cell_type": "code",
   "execution_count": null,
   "id": "0557f517-f732-4d06-8776-350ae45fb227",
   "metadata": {},
   "outputs": [],
   "source": []
  },
  {
   "cell_type": "code",
   "execution_count": null,
   "id": "8c09c97c-a64e-4c70-a339-83166889d410",
   "metadata": {},
   "outputs": [],
   "source": []
  },
  {
   "cell_type": "markdown",
   "id": "888bb0d6-2844-474a-86d3-a16d362e0a04",
   "metadata": {},
   "source": [
    "## THE BELOW EXAMPLES FROM\n",
    "### see https://www.datacamp.com/tutorial/joining-dataframes-pandas"
   ]
  },
  {
   "cell_type": "code",
   "execution_count": null,
   "id": "385e0799-b667-450a-b737-760adb52ccdd",
   "metadata": {},
   "outputs": [],
   "source": [
    "dummy_data1 = {\n",
    "        'id': ['1', '2', '3', '4', '5'],\n",
    "        'Feature1': ['A', 'C', 'E', 'G', 'I'],\n",
    "        'Feature2': ['B', 'D', 'F', 'H', 'J']}\n",
    "df1 = pd.DataFrame(dummy_data1, columns = ['id', 'Feature1', 'Feature2'])\n",
    "df1"
   ]
  },
  {
   "cell_type": "code",
   "execution_count": null,
   "id": "f5260f8b-9167-419a-a624-ae642ff7c69b",
   "metadata": {},
   "outputs": [],
   "source": [
    "dummy_data2 = {\n",
    "        'id': ['1', '2', '6', '7', '8'],\n",
    "        'Feature1': ['K', 'M', 'O', 'Q', 'S'],\n",
    "        'Feature2': ['L', 'N', 'P', 'R', 'T']}\n",
    "df2 = pd.DataFrame(dummy_data2, columns = ['id', 'Feature1', 'Feature2'])\n",
    "df2"
   ]
  },
  {
   "cell_type": "code",
   "execution_count": null,
   "id": "a3dfa8d2-9aae-4be9-ad32-1c62ac097e4c",
   "metadata": {},
   "outputs": [],
   "source": [
    "dummy_data3 = {\n",
    "        'id': ['1', '2', '3', '4', '5', '7', '8', '9', '10', '11'],\n",
    "        'Feature3': [12, 13, 14, 15, 16, 17, 15, 12, 13, 23]}\n",
    "df3 = pd.DataFrame(dummy_data3, columns = ['id', 'Feature3'])\n",
    "df3"
   ]
  },
  {
   "cell_type": "markdown",
   "id": "7cb0750e-8332-41fc-9aa7-c2f43e070c46",
   "metadata": {},
   "source": [
    "## CONCAT (NOTE: CONCAT() MAKES A FULL COPY)"
   ]
  },
  {
   "cell_type": "code",
   "execution_count": null,
   "id": "2a353ba5-a625-4857-9041-1da9bcda073f",
   "metadata": {},
   "outputs": [],
   "source": [
    "df_row = pd.concat([df1, df2])  # WS add data sets along rows: axis=0 by default; indexes retained\n",
    "df_row"
   ]
  },
  {
   "cell_type": "code",
   "execution_count": null,
   "id": "31d9e0b9-2459-42bb-ab51-9fa6931ade3f",
   "metadata": {},
   "outputs": [],
   "source": [
    "df_row_reindex = pd.concat([df1, df2], ignore_index=True)  # WS reset indexes\n",
    "df_row_reindex"
   ]
  },
  {
   "cell_type": "code",
   "execution_count": null,
   "id": "3c2f5fa3-7518-491e-ada0-cb402cadfac9",
   "metadata": {},
   "outputs": [],
   "source": [
    "frames = [df1,df2]\n",
    "df_keys = pd.concat(frames, keys=['x', 'y'])  # WS keep track of where data came from\n",
    "df_keys"
   ]
  },
  {
   "cell_type": "code",
   "execution_count": null,
   "id": "48504db8-7992-489d-b7eb-ebe3d4d82b07",
   "metadata": {},
   "outputs": [],
   "source": [
    "df_keys.loc['y']  #  WS retrieving a particular dataset"
   ]
  },
  {
   "cell_type": "code",
   "execution_count": null,
   "id": "b6ca440f-c8ba-4bc6-8db2-d7d304775def",
   "metadata": {},
   "outputs": [],
   "source": [
    "pieces = {'x': df1, 'y': df2}  # WS label datasets in a dictionary: get the same result\n",
    "df_piece = pd.concat(pieces)\n",
    "df_piece"
   ]
  },
  {
   "cell_type": "code",
   "execution_count": null,
   "id": "111ac1ff-01ed-40c5-a876-1a31c286bd36",
   "metadata": {},
   "outputs": [],
   "source": [
    "df_col = pd.concat([df1,df2], axis=1)  # WS concat along columns\n",
    "df_col"
   ]
  },
  {
   "cell_type": "markdown",
   "id": "3618b90d-5e06-49d3-abbd-54dff1252940",
   "metadata": {},
   "source": [
    "## MERGE"
   ]
  },
  {
   "cell_type": "code",
   "execution_count": null,
   "id": "d1a950bd-02f7-4dcd-8f41-5b32d563feed",
   "metadata": {},
   "outputs": [],
   "source": [
    "df_row"
   ]
  },
  {
   "cell_type": "code",
   "execution_count": null,
   "id": "6e614193-e2bb-45ad-8b5a-fdcf83a22867",
   "metadata": {},
   "outputs": [],
   "source": [
    "df3"
   ]
  },
  {
   "cell_type": "code",
   "execution_count": null,
   "id": "8bbd73da-7fcc-4be6-9de9-e32ccb098472",
   "metadata": {},
   "outputs": [],
   "source": [
    "df_merge_col = pd.merge(df_row, df3, on='id')\n",
    "df_merge_col\n",
    "# WS if an id is not in both datasets, it is missing in merge(): ie, 6,9,10,11 missing in result\n",
    "# also, IDs 1,2 are each duplicated since they were duplicated in first dataset"
   ]
  },
  {
   "cell_type": "code",
   "execution_count": null,
   "id": "9e38a3bc-8a03-4b35-9c01-60dfbda69ee8",
   "metadata": {},
   "outputs": [],
   "source": [
    "# WS if COLUMNS on which to merge have different NAMES (unlike this case): use:\n",
    "df_merge_difkey = pd.merge(df_row, df3, left_on='id', right_on='id')\n",
    "df_merge_difkey"
   ]
  },
  {
   "cell_type": "markdown",
   "id": "6d93848a-116c-4e12-982b-7264035570c9",
   "metadata": {},
   "source": [
    "## APPEND (DEPRECATED: USE CONCAT)"
   ]
  },
  {
   "cell_type": "code",
   "execution_count": null,
   "id": "0480917d-dd13-4ec8-8bca-2ab91f3c97be",
   "metadata": {},
   "outputs": [],
   "source": [
    "add_row = pd.Series(['10', 'X1', 'X2', 'X3'],\n",
    "                    index=['id','Feature1', 'Feature2', 'Feature3'])\n",
    "add_row"
   ]
  },
  {
   "cell_type": "code",
   "execution_count": null,
   "id": "cc6ebcd5-eddb-4292-accf-2a875793db98",
   "metadata": {},
   "outputs": [],
   "source": [
    "# WS append is deprecated, use concat\n",
    "df_add_row = df_merge_col.append(add_row, ignore_index=True)\n",
    "df_add_row"
   ]
  },
  {
   "cell_type": "code",
   "execution_count": null,
   "id": "6bce74b1-d349-4311-ab41-740e031ad0ae",
   "metadata": {},
   "outputs": [],
   "source": [
    "# WS here is the new workaround to DataFrame.append() (append deprecated because it is very slow)\n",
    "# see https://stackoverflow.com/questions/70837397/\n",
    "#             good-alternative-to-pandas-append-method-now-that-it-is-being-deprecated\n",
    "add_row_as_df = pd.DataFrame(add_row).T  # the key is to make a DF of the Series, and transpose it\n",
    "add_row_as_df"
   ]
  },
  {
   "cell_type": "code",
   "execution_count": null,
   "id": "ae0f1213-f81d-4a27-9fa2-02ad0db17a9b",
   "metadata": {},
   "outputs": [],
   "source": [
    "# WS then can concat it\n",
    "df_add_row = pd.concat([df_merge_col, add_row_as_df], ignore_index=True)\n",
    "df_add_row"
   ]
  },
  {
   "cell_type": "markdown",
   "id": "cdc51917-624d-438d-8227-7def675fbe64",
   "metadata": {},
   "source": [
    "## JOIN"
   ]
  },
  {
   "cell_type": "markdown",
   "id": "d65b5ae7-92ef-452d-be1e-590a61f26a37",
   "metadata": {},
   "source": [
    "### FULL OUTER JOIN USING MERGE()"
   ]
  },
  {
   "cell_type": "code",
   "execution_count": null,
   "id": "2c20d3c9-9734-420a-853c-c6cda15701be",
   "metadata": {},
   "outputs": [],
   "source": [
    "df1"
   ]
  },
  {
   "cell_type": "code",
   "execution_count": null,
   "id": "b9453dd7-d691-4d13-8e0b-4d8ae9be4a74",
   "metadata": {},
   "outputs": [],
   "source": [
    "df2"
   ]
  },
  {
   "cell_type": "code",
   "execution_count": null,
   "id": "80c09eb5-f7b7-4952-b24a-39f3b36790b3",
   "metadata": {},
   "outputs": [],
   "source": [
    "# WS this automatically creates new column labels showing the source of data;\n",
    "# all records from both DataFrames and fill in NaNs where data is missing\n",
    "df_outer = pd.merge(df1, df2, on='id', how='outer')\n",
    "df_outer"
   ]
  },
  {
   "cell_type": "code",
   "execution_count": null,
   "id": "eeb607b6-05d3-41f6-b98a-452b0159427a",
   "metadata": {},
   "outputs": [],
   "source": [
    "# WS can rename the suffixes for the new column labels\n",
    "df_suffix = pd.merge(df1, df2, left_on='id',right_on='id',how='outer',suffixes=('_left','_right'))\n",
    "df_suffix"
   ]
  },
  {
   "cell_type": "markdown",
   "id": "96defff3-6438-4629-b3b2-dcb2f262420e",
   "metadata": {},
   "source": [
    "### INNER JOIN USING MERGE()"
   ]
  },
  {
   "cell_type": "code",
   "execution_count": null,
   "id": "a20cab49-f7c1-4961-925a-257b2a6e95dc",
   "metadata": {},
   "outputs": [],
   "source": [
    "df_inner = pd.merge(df1, df2, on='id', how='inner')\n",
    "df_inner"
   ]
  },
  {
   "cell_type": "markdown",
   "id": "dd7cbada-5ea6-4333-ae40-a2e04d031add",
   "metadata": {},
   "source": [
    "### RIGHT JOIN USING MERGE()"
   ]
  },
  {
   "cell_type": "code",
   "execution_count": null,
   "id": "f7f54ac8-2d83-4eb1-8d6f-39316699031e",
   "metadata": {},
   "outputs": [],
   "source": [
    "df_right = pd.merge(df1, df2, on='id', how='right')\n",
    "df_right"
   ]
  },
  {
   "cell_type": "markdown",
   "id": "7f6fabe7-6a8a-4e53-b411-a497ec7e0b11",
   "metadata": {},
   "source": [
    "### LEFT JOIN USING MERGE()"
   ]
  },
  {
   "cell_type": "code",
   "execution_count": null,
   "id": "95dcf77a-1ee2-4a9b-9b82-5eae8da06ea8",
   "metadata": {},
   "outputs": [],
   "source": [
    "df_left = pd.merge(df1, df2, on='id', how='left')\n",
    "df_left"
   ]
  },
  {
   "cell_type": "markdown",
   "id": "c017f5a4-2aaa-4e64-9a89-8464a5d8bd83",
   "metadata": {},
   "source": [
    "### JOINING ON INDEX USING MERGE()"
   ]
  },
  {
   "cell_type": "code",
   "execution_count": null,
   "id": "3dbd53a4-dd07-478d-a05b-49d261456734",
   "metadata": {},
   "outputs": [],
   "source": [
    "df1"
   ]
  },
  {
   "cell_type": "code",
   "execution_count": null,
   "id": "b646510e-5450-49e5-ba90-ada2495238fe",
   "metadata": {},
   "outputs": [],
   "source": [
    "df2"
   ]
  },
  {
   "cell_type": "code",
   "execution_count": null,
   "id": "96ed66af-d936-401d-8e3f-13f197b38288",
   "metadata": {},
   "outputs": [],
   "source": [
    "# WS this joins on the indexes (ie, here 0,1,2,3,4)\n",
    "df_index = pd.merge(df1, df2, right_index=True, left_index=True)\n",
    "df_index"
   ]
  },
  {
   "cell_type": "markdown",
   "id": "361cff16-447a-4a7b-a9c0-f13d60a6aa0a",
   "metadata": {},
   "source": [
    "### TIME-SERIES MERGING USING MERGE_ASOF()"
   ]
  },
  {
   "cell_type": "code",
   "execution_count": null,
   "id": "d3cc738a-08f9-42db-ae58-382126811b00",
   "metadata": {},
   "outputs": [],
   "source": [
    "trades = pd.DataFrame({\n",
    "    'time': pd.to_datetime(['20160525 13:30:00.023',\n",
    "                            '20160525 13:30:00.038',\n",
    "                            '20160525 13:30:00.048',\n",
    "                            '20160525 13:30:00.048',\n",
    "                            '20160525 13:30:00.048']),\n",
    "    'ticker': ['MSFT', 'MSFT','GOOG', 'GOOG', 'AAPL'],\n",
    "    'price': [51.95, 51.95,720.77, 720.92, 98.00],\n",
    "    'quantity': [75, 155,100, 100, 100]},\n",
    "    columns=['time', 'ticker', 'price', 'quantity'])\n",
    "trades"
   ]
  },
  {
   "cell_type": "code",
   "execution_count": null,
   "id": "68980124-d78b-496f-8474-d91120f3f35d",
   "metadata": {},
   "outputs": [],
   "source": [
    "quotes = pd.DataFrame({\n",
    "    'time': pd.to_datetime(['20160525 13:30:00.023',\n",
    "                            '20160525 13:30:00.023',\n",
    "                            '20160525 13:30:00.030',\n",
    "                            '20160525 13:30:00.041',\n",
    "                            '20160525 13:30:00.048',\n",
    "                            '20160525 13:30:00.049',\n",
    "                            '20160525 13:30:00.072',\n",
    "                            '20160525 13:30:00.075']),\n",
    "    'ticker': ['GOOG', 'MSFT', 'MSFT','MSFT', 'GOOG', 'AAPL', 'GOOG','MSFT'],\n",
    "    'bid': [720.50, 51.95, 51.97, 51.99,720.50, 97.99, 720.50, 52.01],\n",
    "    'ask': [720.93, 51.96, 51.98, 52.00,720.93, 98.01, 720.88, 52.03]},\n",
    "    columns=['time', 'ticker', 'bid', 'ask'])\n",
    "quotes"
   ]
  },
  {
   "cell_type": "code",
   "execution_count": null,
   "id": "5411fc72-0594-43e1-959e-0ba51f790f22",
   "metadata": {},
   "outputs": [],
   "source": [
    "df_merge_asof = pd.merge_asof(trades, quotes,\n",
    "              on='time',\n",
    "              by='ticker')\n",
    "df_merge_asof"
   ]
  },
  {
   "cell_type": "code",
   "execution_count": null,
   "id": "fb79ff0d-e5c5-4c79-b979-2ea413647a28",
   "metadata": {},
   "outputs": [],
   "source": [
    "# WS specify a time tolerance: trade must be no more than 2ms after bid/ask quote\n",
    "# one MSFT thrown out because trade is 8ms after bid/ask\n",
    "df_merge_asof_tolerance = pd.merge_asof(trades, quotes,\n",
    "              on='time',\n",
    "              by='ticker',\n",
    "              tolerance=pd.Timedelta('2ms'))\n",
    "df_merge_asof_tolerance"
   ]
  },
  {
   "cell_type": "markdown",
   "id": "bb1552ff-dc36-4b2e-a92e-5f754e7e8e35",
   "metadata": {},
   "source": [
    "## ANOTHER SOURCE: JOIN() VS MERGE()\n",
    "### from https://sparkbyexamples.com/pandas/pandas-join-vs-merge-explained-differences/"
   ]
  },
  {
   "cell_type": "code",
   "execution_count": null,
   "id": "7429fddd-5283-451a-b6d5-955acd71079c",
   "metadata": {},
   "outputs": [],
   "source": [
    "technologies = {\n",
    "    'Courses' :[\"Spark\",\"PySpark\",\"Python\",\"pandas\"],\n",
    "    'Fee'     :[20000,25000,22000,30000],\n",
    "    'Duration':['30days','40days','35days','50days'],\n",
    "              }\n",
    "index_labels=['r1','r2','r3','r4']\n",
    "df1 = pd.DataFrame(technologies,index=index_labels)\n",
    "df1"
   ]
  },
  {
   "cell_type": "code",
   "execution_count": null,
   "id": "943289db-7289-482f-810a-1be8b1787141",
   "metadata": {},
   "outputs": [],
   "source": [
    "technologies2 = {\n",
    "    'Courses' :[\"Spark\",\"Java\",\"Python\",\"Go\"],\n",
    "    'Discount':[2000,2300,1200,2000]\n",
    "              }\n",
    "index_labels2=['r1','r6','r3','r5']\n",
    "df2 = pd.DataFrame(technologies2,index=index_labels2)\n",
    "df2"
   ]
  },
  {
   "cell_type": "code",
   "execution_count": null,
   "id": "64b2ae84-270b-4bbd-9378-031afd16f364",
   "metadata": {},
   "outputs": [],
   "source": [
    "# pandas left join two DataFrames by Index\n",
    "# WS a suffix is REQUIRED, NO DEFAULTS\n",
    "df3 = df1.join(df2, how='left', lsuffix=\"_left\", rsuffix=\"_right\")\n",
    "df3"
   ]
  },
  {
   "cell_type": "code",
   "execution_count": null,
   "id": "36c97488-adfe-4df9-b892-18864387bf08",
   "metadata": {},
   "outputs": [],
   "source": [
    "# Merge two DataFrames by index using pandas.merge()\n",
    "# WS same as join above, but suffix HAS DEFAULTS\n",
    "df3 = pd.merge(df1, df2, left_index=True, right_index=True, how='left')\n",
    "df3"
   ]
  },
  {
   "cell_type": "code",
   "execution_count": null,
   "id": "1809a696-c095-4f08-97d4-14e8334ec25b",
   "metadata": {},
   "outputs": [],
   "source": [
    "# pandas merge - inner join by Column\n",
    "# WS NOTE how the index column is lost from the original DataFrames\n",
    "df3=pd.merge(df1,df2)\n",
    "df3"
   ]
  },
  {
   "cell_type": "code",
   "execution_count": null,
   "id": "c0847a48-5670-4b44-859f-71ea65df9968",
   "metadata": {},
   "outputs": [],
   "source": [
    "# Merge DataFrames by Column\n",
    "# WS same result as above, inner join\n",
    "df3=pd.merge(df1,df2, on='Courses')\n",
    "df3"
   ]
  },
  {
   "cell_type": "code",
   "execution_count": null,
   "id": "e01a0189-12f0-4f0a-a089-970de14c4c89",
   "metadata": {},
   "outputs": [],
   "source": [
    "# WS added\n",
    "df4 = df2.rename(columns={'Courses': 'My_Courses'})\n",
    "df4"
   ]
  },
  {
   "cell_type": "code",
   "execution_count": null,
   "id": "d9a5c83d-c459-424e-82d6-fd59f28fefe1",
   "metadata": {},
   "outputs": [],
   "source": [
    "# When column names are different\n",
    "df3=pd.merge(df1,df4, left_on='Courses', right_on='My_Courses')\n",
    "df3"
   ]
  },
  {
   "cell_type": "code",
   "execution_count": null,
   "id": "f1268023-ed1e-44db-a001-113574b04a98",
   "metadata": {},
   "outputs": [],
   "source": [
    "# WS added: delete redundant column\n",
    "df5 = df3.drop('My_Courses', axis=1)\n",
    "df5"
   ]
  },
  {
   "cell_type": "code",
   "execution_count": null,
   "id": "caa1ace5-db47-4311-8779-7819628c7d19",
   "metadata": {},
   "outputs": [],
   "source": [
    "# Use join on column\n",
    "df3 = df1.set_index('Courses').join(df2.set_index('Courses'), how='inner')\n",
    "df3"
   ]
  },
  {
   "cell_type": "code",
   "execution_count": null,
   "id": "ad61376e-c91d-4f91-9021-6b7b95af7edd",
   "metadata": {},
   "outputs": [],
   "source": []
  }
 ],
 "metadata": {
  "kernelspec": {
   "display_name": "Python 3 (ipykernel)",
   "language": "python",
   "name": "python3"
  },
  "language_info": {
   "codemirror_mode": {
    "name": "ipython",
    "version": 3
   },
   "file_extension": ".py",
   "mimetype": "text/x-python",
   "name": "python",
   "nbconvert_exporter": "python",
   "pygments_lexer": "ipython3",
   "version": "3.10.6"
  }
 },
 "nbformat": 4,
 "nbformat_minor": 5
}

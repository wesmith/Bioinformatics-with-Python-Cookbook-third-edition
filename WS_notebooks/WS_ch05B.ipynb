{
 "cells": [
  {
   "cell_type": "markdown",
   "id": "4169b6de-97c0-4d03-8a07-d66a8050fe7e",
   "metadata": {},
   "source": [
    "# WS_ch05B.ipynb\n",
    "# WESmith 11/25/22\n",
    "## WS created this notebook to follow along with the code in the book:\n",
    "## 'Bioinformatics with Python Cookbook' by Tiago Antao\n",
    "## Each recipe will have its own notebook, suffixed by A, B, etc.¶"
   ]
  },
  {
   "cell_type": "markdown",
   "id": "ef30fdcc-f094-4d01-91bf-8630288cda6b",
   "metadata": {},
   "source": [
    "# RECIPE: \n",
    "# WORKING WITH LOW-QUALITY REFERENCE GENOMES\n",
    "## also see book code in Chapter05/Low_Quality.py¶"
   ]
  },
  {
   "cell_type": "code",
   "execution_count": null,
   "id": "dc9b5591-3114-42d0-a944-bfa7936fcda8",
   "metadata": {},
   "outputs": [],
   "source": [
    "import gzip\n",
    "import numpy as np\n",
    "import matplotlib.pyplot as plt\n",
    "from Bio import SeqIO, SeqUtils"
   ]
  },
  {
   "cell_type": "code",
   "execution_count": null,
   "id": "03bca61e-3142-46eb-991f-98eab4beade1",
   "metadata": {},
   "outputs": [],
   "source": [
    "# files to get: see enotes 11/26/22 early AM for correct links"
   ]
  },
  {
   "cell_type": "code",
   "execution_count": null,
   "id": "3911c039-d330-4a94-9316-7dc8b48f7eee",
   "metadata": {},
   "outputs": [],
   "source": []
  }
 ],
 "metadata": {
  "kernelspec": {
   "display_name": "Python 3 (ipykernel)",
   "language": "python",
   "name": "python3"
  },
  "language_info": {
   "codemirror_mode": {
    "name": "ipython",
    "version": 3
   },
   "file_extension": ".py",
   "mimetype": "text/x-python",
   "name": "python",
   "nbconvert_exporter": "python",
   "pygments_lexer": "ipython3",
   "version": "3.10.6"
  }
 },
 "nbformat": 4,
 "nbformat_minor": 5
}

{
 "cells": [
  {
   "cell_type": "markdown",
   "id": "6e4803e5-bb05-4791-9c0f-e583fb0d58fa",
   "metadata": {},
   "source": [
    "# WS_ch03C.ipynb\n",
    "# WESmith 11/10/22\n",
    "## WS created this notebook to follow along chap 3 code from book \n",
    "# 'Bioinformatics with Python Cookbook' by Tiago Antao\n",
    "### Each recipe will have its own notebook, suffixed by A, B, etc."
   ]
  },
  {
   "cell_type": "markdown",
   "id": "742d5a95-75bc-4113-8f3a-b79bfb6bea6a",
   "metadata": {},
   "source": [
    "# WORKING WITH MODERN SEQUENCE FORMATS"
   ]
  },
  {
   "cell_type": "markdown",
   "id": "f9d4bb5e-3502-4a88-80e7-ba14645c17a8",
   "metadata": {},
   "source": [
    "## get the dataset from\n",
    "!wget ftp://ftp.1000genomes.ebi.ac.uk/vol1/ftp/phase3/data/NA18489/sequence_read/SRR003265.filt.fastq.gz\n"
   ]
  },
  {
   "cell_type": "code",
   "execution_count": null,
   "id": "204f0002-470c-4fe3-9abd-487a0eda9d50",
   "metadata": {},
   "outputs": [],
   "source": [
    "from Bio import SeqIO\n",
    "import numpy as np\n",
    "import matplotlib.pyplot as plt\n",
    "import seaborn as sns\n",
    "import gzip\n",
    "import os\n",
    "from collections import defaultdict"
   ]
  },
  {
   "cell_type": "markdown",
   "id": "5cc59eea-9139-4aeb-b627-ea3e9a7fda94",
   "metadata": {},
   "source": [
    "### 1) OPEN THE FILE"
   ]
  },
  {
   "cell_type": "code",
   "execution_count": null,
   "id": "89089ffd-3e13-4f0e-943a-65ba729a57ff",
   "metadata": {},
   "outputs": [],
   "source": [
    "data_dir = 'data/ch03_data'\n",
    "file     = 'SRR003265.filt.fastq.gz'"
   ]
  },
  {
   "cell_type": "code",
   "execution_count": null,
   "id": "3e3cd3d5-e6d2-403e-87ba-4157ee521014",
   "metadata": {},
   "outputs": [],
   "source": [
    "recs = SeqIO.parse(gzip.open(os.path.join(data_dir, file), 'rt', encoding='utf-8'), 'fastq')"
   ]
  },
  {
   "cell_type": "code",
   "execution_count": null,
   "id": "d1eecdd2-2752-4170-a6d0-e0fa57a671bb",
   "metadata": {},
   "outputs": [],
   "source": [
    "rec = next(recs)"
   ]
  },
  {
   "cell_type": "code",
   "execution_count": null,
   "id": "f21ae8dd-c348-4c62-a687-4c0d19ff64ad",
   "metadata": {},
   "outputs": [],
   "source": [
    "print(rec.id, rec.description, rec.seq)"
   ]
  },
  {
   "cell_type": "code",
   "execution_count": null,
   "id": "b70bd055-e0c2-49e5-9ef7-43218445adb1",
   "metadata": {},
   "outputs": [],
   "source": [
    "print(rec.letter_annotations)"
   ]
  },
  {
   "cell_type": "markdown",
   "id": "d060204a-002b-4642-85f7-66154d775864",
   "metadata": {},
   "source": [
    "### 2) LOOK AT DISTRIBUTION OF NUCLEOTIDE READS"
   ]
  },
  {
   "cell_type": "code",
   "execution_count": null,
   "id": "202fe211-7179-45af-8299-7c0b90c6d68a",
   "metadata": {},
   "outputs": [],
   "source": [
    "# reset the recs iterator\n",
    "recs = SeqIO.parse(gzip.open(os.path.join(data_dir, file), 'rt', encoding='utf-8'), 'fastq')"
   ]
  },
  {
   "cell_type": "code",
   "execution_count": null,
   "id": "183a4b8e-608d-4311-873d-74da1ca484f7",
   "metadata": {},
   "outputs": [],
   "source": [
    "cnt = defaultdict(int)\n",
    "for rec in recs:\n",
    "    for letter in rec.seq:\n",
    "        cnt[letter] += 1\n",
    "tot = sum(cnt.values())\n",
    "for letter, cnt in cnt.items():\n",
    "    print('%s: %.2f %d' % (letter, 100. * cnt/tot, cnt))"
   ]
  },
  {
   "cell_type": "markdown",
   "id": "07383be5-1687-407f-bdb6-bdee5f60b434",
   "metadata": {},
   "source": [
    "### 3) LOOK AT THE DISTRIBUTION OF N'S (UNKNOWN BASES)"
   ]
  },
  {
   "cell_type": "code",
   "execution_count": null,
   "id": "9dbd56fa-cf14-4b72-b9af-da9344105ac0",
   "metadata": {},
   "outputs": [],
   "source": [
    "# reset the recs iterator\n",
    "recs = SeqIO.parse(gzip.open(os.path.join(data_dir, file), 'rt', encoding='utf-8'), 'fastq')"
   ]
  },
  {
   "cell_type": "code",
   "execution_count": null,
   "id": "4169e7a6-1bef-433f-bd71-8ee1200cca60",
   "metadata": {},
   "outputs": [],
   "source": [
    "n_cnt = defaultdict(int)\n",
    "for rec in recs:\n",
    "    for i, letter in enumerate(rec.seq):\n",
    "        pos = i + 1\n",
    "        if letter == 'N':\n",
    "            n_cnt[pos] += 1\n",
    "seq_len   = max(n_cnt.keys())\n",
    "positions = range(1, seq_len + 1)"
   ]
  },
  {
   "cell_type": "code",
   "execution_count": null,
   "id": "53d6682d-6f00-4bbe-a030-ef13efe2e93d",
   "metadata": {},
   "outputs": [],
   "source": [
    "fig, ax = plt.subplots(figsize=(16,5))\n",
    "ax.plot(positions, [n_cnt[x] for x in positions])\n",
    "fig.suptitle('Number of unknown calls as a function of the distance from start of the sequencer read')\n",
    "ax.set_xlim(1, seq_len)\n",
    "ax.set_xlabel('Read Distance')\n",
    "ax.set_ylabel('Number of unknown calls')\n",
    "ax.grid(True)  # WS"
   ]
  },
  {
   "cell_type": "markdown",
   "id": "ae429a10-85a5-4665-a440-d1580182095d",
   "metadata": {},
   "source": [
    "### 4) LOOK AT THE DISTRIBUTION OF PHRED SCORES (THE QUALITY OF THE READS)"
   ]
  },
  {
   "cell_type": "code",
   "execution_count": null,
   "id": "a480a1df-3090-4dc3-b17d-e9c93058300c",
   "metadata": {},
   "outputs": [],
   "source": [
    "# reset the recs iterator\n",
    "recs = SeqIO.parse(gzip.open(os.path.join(data_dir, file), 'rt', encoding='utf-8'), 'fastq')"
   ]
  },
  {
   "cell_type": "code",
   "execution_count": null,
   "id": "772ae8ba-6651-43ab-82b8-6674acd0a454",
   "metadata": {},
   "outputs": [],
   "source": [
    "cnt_qual = defaultdict(int)\n",
    "for rec in recs:\n",
    "    for i, qual in enumerate(rec.letter_annotations['phred_quality']):\n",
    "        if i < 25: # guaranteed to have no quality problems less than first 25 reads in this dbase\n",
    "            continue\n",
    "        cnt_qual[qual] += 1"
   ]
  },
  {
   "cell_type": "code",
   "execution_count": null,
   "id": "8a9138d4-6da4-4ef5-879b-ac44539dd031",
   "metadata": {
    "tags": []
   },
   "outputs": [],
   "source": [
    "tot = sum(cnt_qual.values())\n",
    "for qual, cnt in cnt_qual.items():\n",
    "    #print('%d: %.2f %d' % (qual, 100.*cnt/tot, cnt))\n",
    "    print('phred: {:02d}   % occuring: {:5.2f}  counts: {:8d}'.format(qual, 100.*cnt/tot, cnt)) # WS version"
   ]
  },
  {
   "cell_type": "code",
   "execution_count": null,
   "id": "1afea968-c266-4418-9e63-c81dc47120ef",
   "metadata": {
    "tags": []
   },
   "outputs": [],
   "source": [
    "# WS example phred values\n",
    "import ws_utils as ws\n",
    "for k in [0,1,5,10,20,30,40,50,60]:\n",
    "    print('phred: {:02d}  % accurate: {:7.4f}'.format(k, ws.phred_to_percent_accurate(k)))"
   ]
  },
  {
   "cell_type": "markdown",
   "id": "de4f0485-2412-4ea2-a762-e5ecc4b0496a",
   "metadata": {},
   "source": [
    "### 5) PLOT THE PHRED QUALITY VS READ POSITION"
   ]
  },
  {
   "cell_type": "code",
   "execution_count": null,
   "id": "a70b9d2c-ea39-46e1-962a-15c9701e8bd8",
   "metadata": {},
   "outputs": [],
   "source": [
    "# reset the recs iterator\n",
    "recs = SeqIO.parse(gzip.open(os.path.join(data_dir, file), 'rt', encoding='utf-8'), 'fastq')"
   ]
  },
  {
   "cell_type": "code",
   "execution_count": null,
   "id": "15f82421-ec15-47f3-8f9d-ced52f11697e",
   "metadata": {},
   "outputs": [],
   "source": [
    "qual_pos = defaultdict(list)\n",
    "cutoff = 25  # WS\n",
    "for rec in recs:\n",
    "    for i, qual in enumerate(rec.letter_annotations['phred_quality']):\n",
    "        if i < cutoff or qual == 40:\n",
    "            continue  # WS skip low-error reads\n",
    "        pos = i + 1\n",
    "        qual_pos[pos].append(qual)\n",
    "vps = []\n",
    "poses = list(qual_pos.keys())\n",
    "poses.sort()\n",
    "for pos in poses:\n",
    "    vps.append(qual_pos[pos])"
   ]
  },
  {
   "cell_type": "code",
   "execution_count": null,
   "id": "2060eb31-4dc1-4c51-becc-99894b45cb29",
   "metadata": {},
   "outputs": [],
   "source": [
    "# WS seaborn boxplot\n",
    "fig, ax = plt.subplots(figsize=(16,9))\n",
    "sns.boxplot(data=vps, ax=ax)\n",
    "ax.set_xticklabels([str(x) for x in range(cutoff + 1, max(qual_pos.keys()) + 1)])\n",
    "ax.set_xlabel('Read Distance')\n",
    "ax.set_ylabel('PHRED Score')\n",
    "fig.suptitle('Distribution of PHRED scores as a function of read distance')\n",
    "ax.grid(True)\n",
    "plt.show()\n",
    "# WS the median is the horizontal bar (see below): the quartiles are shown"
   ]
  },
  {
   "cell_type": "code",
   "execution_count": null,
   "id": "86d64534-1a78-40d4-a026-2f0d1dd940d4",
   "metadata": {},
   "outputs": [],
   "source": [
    "# WS matplotlib boxplot\n",
    "fig, ax = plt.subplots(figsize=(16,9))\n",
    "ax.boxplot(vps)\n",
    "ax.set_xticklabels([str(x) for x in range(cutoff + 1, max(qual_pos.keys()) + 1)])\n",
    "ax.set_xlabel('Read Distance')\n",
    "ax.set_ylabel('PHRED Score')\n",
    "fig.suptitle('Distribution of PHRED scores as a function of read distance')\n",
    "plt.show()"
   ]
  },
  {
   "cell_type": "code",
   "execution_count": null,
   "id": "508ea10f-37e1-46bd-81e4-4b97c15d83c0",
   "metadata": {
    "tags": []
   },
   "outputs": [],
   "source": [
    "np.median(vps[26-26])"
   ]
  },
  {
   "cell_type": "code",
   "execution_count": null,
   "id": "3696a686-1ea9-45d5-adea-611b7872f0a3",
   "metadata": {},
   "outputs": [],
   "source": [
    "len(vps)"
   ]
  },
  {
   "cell_type": "code",
   "execution_count": null,
   "id": "d824c44d-f2a5-449e-a325-944b6725bd39",
   "metadata": {},
   "outputs": [],
   "source": [
    "sns.boxplot?"
   ]
  },
  {
   "cell_type": "code",
   "execution_count": null,
   "id": "1625c8b2-6ca0-47fa-a975-6fac82cbe95c",
   "metadata": {},
   "outputs": [],
   "source": [
    "# NEXT: look at the 'there's more' section"
   ]
  },
  {
   "cell_type": "code",
   "execution_count": null,
   "id": "3e41c260-c9d7-4b5e-958f-02b8fed51917",
   "metadata": {},
   "outputs": [],
   "source": []
  }
 ],
 "metadata": {
  "kernelspec": {
   "display_name": "Python 3 (ipykernel)",
   "language": "python",
   "name": "python3"
  },
  "language_info": {
   "codemirror_mode": {
    "name": "ipython",
    "version": 3
   },
   "file_extension": ".py",
   "mimetype": "text/x-python",
   "name": "python",
   "nbconvert_exporter": "python",
   "pygments_lexer": "ipython3",
   "version": "3.10.6"
  }
 },
 "nbformat": 4,
 "nbformat_minor": 5
}

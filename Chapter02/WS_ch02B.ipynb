{
 "cells": [
  {
   "cell_type": "markdown",
   "id": "6344e18b-e463-4e44-af99-7b7d2c6ada13",
   "metadata": {},
   "source": [
    "# WS_ch02B.ipynb\n",
    "# WESmith 11/03/22\n",
    "## WS created this notebook to follow along chap 2 code\n",
    "### Each recipe will have its own notebook, suffixed by A, B, etc.\n",
    "\n",
    "#### data at https://vaers.hhs.gov/data/datasets.html\n",
    "#### downloaded 2021VAERSData.zip¶"
   ]
  },
  {
   "cell_type": "markdown",
   "id": "adf1e712-f9c4-4be7-98c6-21c822c39249",
   "metadata": {},
   "source": [
    "# Dealing with the pitfalls of joining pandas DataFrames"
   ]
  },
  {
   "cell_type": "code",
   "execution_count": null,
   "id": "02af6897-300f-4812-9779-37dd1eee84dd",
   "metadata": {},
   "outputs": [],
   "source": [
    "import pandas as pd\n",
    "import numpy  as np\n",
    "import matplotlib.pyplot as plt\n",
    "import os"
   ]
  },
  {
   "cell_type": "code",
   "execution_count": null,
   "id": "93094054-be45-4073-84c1-c3325cc2b79e",
   "metadata": {},
   "outputs": [],
   "source": [
    "data_dir     = '../data'\n",
    "data_file    = '2021VAERSDATA.csv.gz'\n",
    "vax_file     = '2021VAERSVAX.csv.gz'\n",
    "symtoms_file = '2021VAERSSYMPTOMS.csv.gz'\n",
    "encoding     = 'iso-8859-1'\n",
    "sampled_data = \"vdata_sample.csv.gz\"\n",
    "sampled_vax  = \"vax_sample.csv.gz\""
   ]
  },
  {
   "cell_type": "raw",
   "id": "771ee7c5-40f8-455c-9b5f-8d8e58793ecb",
   "metadata": {},
   "source": [
    "# create randomly sampled data: turn off these lines after sampled data created\n",
    "vdata = pd.read_csv(os.path.join(data_dir, data_file), encoding=encoding, low_memory=False)"
   ]
  },
  {
   "cell_type": "raw",
   "id": "9d5b1eca-43a2-4dc4-a6cc-659cfea44f69",
   "metadata": {},
   "source": [
    "vdata.sample(frac=0.9).to_csv(os.path.join(data_dir, sampled_data), index=False)"
   ]
  },
  {
   "cell_type": "raw",
   "id": "e87fc333-8d8b-49fe-9e5c-dd042ec16f92",
   "metadata": {},
   "source": [
    "vax = pd.read_csv(os.path.join(data_dir, vax_file), encoding=encoding)"
   ]
  },
  {
   "cell_type": "raw",
   "id": "5338f7d0-95ce-4ed8-9f30-3a746a2dc90e",
   "metadata": {},
   "source": [
    "vax.sample(frac=0.9).to_csv(os.path.join(data_dir, sampled_vax), index=False)"
   ]
  },
  {
   "cell_type": "markdown",
   "id": "d423d51a-0884-45b0-9a7e-519e7b8a4771",
   "metadata": {},
   "source": [
    "## 1. INNER JOIN"
   ]
  },
  {
   "cell_type": "code",
   "execution_count": null,
   "id": "88adda5a-ce7e-4560-8f79-37f9ee29ee2c",
   "metadata": {},
   "outputs": [],
   "source": [
    "# get reduced datasets\n",
    "vdata = pd.read_csv(os.path.join(data_dir, sampled_data), low_memory=False)"
   ]
  },
  {
   "cell_type": "code",
   "execution_count": null,
   "id": "6cca3bc6-2038-41d0-9aa1-2dbf28197fca",
   "metadata": {},
   "outputs": [],
   "source": [
    "vdata.columns"
   ]
  },
  {
   "cell_type": "code",
   "execution_count": null,
   "id": "d69f7934-b880-4ef0-9946-1b42b8308469",
   "metadata": {},
   "outputs": [],
   "source": [
    "vax = pd.read_csv(os.path.join(data_dir, sampled_vax))"
   ]
  },
  {
   "cell_type": "code",
   "execution_count": null,
   "id": "19e0e748-e8e9-4168-ace1-36a83a591376",
   "metadata": {},
   "outputs": [],
   "source": [
    "vax.columns"
   ]
  },
  {
   "cell_type": "code",
   "execution_count": null,
   "id": "4607a821-5695-4beb-90f8-2802e52a1755",
   "metadata": {},
   "outputs": [],
   "source": [
    "vdata_with_vax = vdata.join(vax.set_index(\"VAERS_ID\"), on='VAERS_ID', how=\"inner\")"
   ]
  },
  {
   "cell_type": "code",
   "execution_count": null,
   "id": "3398bdc9-6269-4160-a1d5-a33514c7dc7f",
   "metadata": {},
   "outputs": [],
   "source": [
    "len(vdata), len(vax), len(vdata_with_vax)"
   ]
  },
  {
   "cell_type": "code",
   "execution_count": null,
   "id": "af6890f3-797a-468d-9b3d-85c2b7680005",
   "metadata": {},
   "outputs": [],
   "source": [
    "vdata_with_vax.columns"
   ]
  },
  {
   "cell_type": "code",
   "execution_count": null,
   "id": "383e11fe-d402-4d98-af3c-e97e5d0f4dc4",
   "metadata": {},
   "outputs": [],
   "source": [
    "vdata_with_vax.index"
   ]
  },
  {
   "cell_type": "markdown",
   "id": "0bc610fe-7420-443f-aa43-e370228e70c5",
   "metadata": {},
   "source": [
    "## 2. FIND LOST DATA AFTER THE JOIN"
   ]
  },
  {
   "cell_type": "code",
   "execution_count": null,
   "id": "80ae1f4e-78d8-4fa8-9969-ed99835dc775",
   "metadata": {
    "tags": []
   },
   "outputs": [],
   "source": [
    "lost_vdata = vdata.loc[~vdata.index.isin(vdata_with_vax.index)]\n",
    "lost_vax   = vax[~vax[\"VAERS_ID\"].isin(vdata_with_vax[\"VAERS_ID\"])]"
   ]
  },
  {
   "cell_type": "code",
   "execution_count": null,
   "id": "3910d90b-7135-4166-857d-f97df12a273d",
   "metadata": {
    "tags": []
   },
   "outputs": [],
   "source": [
    "len(lost_vdata), len(lost_vax)"
   ]
  },
  {
   "cell_type": "markdown",
   "id": "fdb3e054-1916-4e39-b42b-5520014e34bb",
   "metadata": {},
   "source": [
    "## 3. LEFT OUTER JOIN (THE DEFAULT)"
   ]
  },
  {
   "cell_type": "code",
   "execution_count": null,
   "id": "c06a0d51-f951-4e7e-8f2c-6ea940e21c0a",
   "metadata": {},
   "outputs": [],
   "source": [
    "vdata_with_vax_left = vdata.join(vax.set_index(\"VAERS_ID\"), on=\"VAERS_ID\")"
   ]
  },
  {
   "cell_type": "code",
   "execution_count": null,
   "id": "5b954180-1a83-403e-92b1-ed57b584a6ca",
   "metadata": {},
   "outputs": [],
   "source": [
    "vdata_with_vax_left.columns  # VAERS_ID is still a column, not an index"
   ]
  },
  {
   "cell_type": "code",
   "execution_count": null,
   "id": "f2acefb3-c91e-4e56-b71e-3098aa836eb9",
   "metadata": {},
   "outputs": [],
   "source": [
    "len(vdata_with_vax_left)"
   ]
  },
  {
   "cell_type": "code",
   "execution_count": null,
   "id": "a84cb019-37ed-4f9e-9325-59d7955bfa78",
   "metadata": {},
   "outputs": [],
   "source": [
    "# with this left-outer join, the VAERS_ID can be repeated: not desirable\n",
    "vdata_with_vax_left.groupby(\"VAERS_ID\").size().sort_values()"
   ]
  },
  {
   "cell_type": "code",
   "execution_count": null,
   "id": "8aa10af9-21a5-46da-9031-7142544aa5d3",
   "metadata": {
    "tags": []
   },
   "outputs": [],
   "source": [
    "vdata_with_vax_left.loc[vdata_with_vax_left['VAERS_ID']==962303]  # WS to see duplicates\n",
    "# entire rows are identical, even index"
   ]
  },
  {
   "cell_type": "code",
   "execution_count": null,
   "id": "10886bfc-4478-44ec-8a13-58e90ea9dd5b",
   "metadata": {},
   "outputs": [],
   "source": [
    "# WS another way\n",
    "ee = vdata_with_vax_left[vdata_with_vax_left['VAERS_ID'].duplicated()]\n",
    "len(ee)"
   ]
  },
  {
   "cell_type": "code",
   "execution_count": null,
   "id": "480e05ba-2236-4e26-b0e6-6936025e810c",
   "metadata": {},
   "outputs": [],
   "source": [
    "len(vdata_with_vax_left) - len(vdata)  # WS"
   ]
  },
  {
   "cell_type": "markdown",
   "id": "8e049d6a-a69d-4040-8311-74fc602f2f62",
   "metadata": {},
   "source": [
    "## 4. RIGHT OUTER(?) JOIN"
   ]
  },
  {
   "cell_type": "code",
   "execution_count": null,
   "id": "333ce80b-f9d1-45ad-bc51-b24d6bda12ab",
   "metadata": {},
   "outputs": [],
   "source": [
    "vdata['DIED'].unique()  # WS"
   ]
  },
  {
   "cell_type": "code",
   "execution_count": null,
   "id": "8d653343-5c7c-48aa-b07d-5df2afb1be72",
   "metadata": {},
   "outputs": [],
   "source": [
    "dead = vdata[vdata['DIED'] == 'Y']"
   ]
  },
  {
   "cell_type": "code",
   "execution_count": null,
   "id": "de65b40f-a7ff-46c3-8404-7066ec51026b",
   "metadata": {},
   "outputs": [],
   "source": [
    "dead['DIED'].unique()  # WS"
   ]
  },
  {
   "cell_type": "code",
   "execution_count": null,
   "id": "c7cc897b-1a97-414d-8f9b-a9334d02bffb",
   "metadata": {},
   "outputs": [],
   "source": [
    "vax19 = vax[vax['VAX_TYPE'] == 'COVID19']"
   ]
  },
  {
   "cell_type": "code",
   "execution_count": null,
   "id": "04cf63a4-7129-4363-ad05-090e5636ce7c",
   "metadata": {},
   "outputs": [],
   "source": [
    "len(vax), len(vax19)  # WS"
   ]
  },
  {
   "cell_type": "code",
   "execution_count": null,
   "id": "523565d6-dba8-4cbd-8402-f2c362b9328b",
   "metadata": {},
   "outputs": [],
   "source": [
    "vax19_dead = vax19.join(dead.set_index(\"VAERS_ID\"), on=\"VAERS_ID\", how='right')"
   ]
  },
  {
   "cell_type": "code",
   "execution_count": null,
   "id": "46031a1b-4abd-4940-b128-df4ecf92938b",
   "metadata": {},
   "outputs": [],
   "source": [
    "dd = vax19_dead[vax19_dead['VAERS_ID'].duplicated()]\n",
    "len(dd)"
   ]
  },
  {
   "cell_type": "code",
   "execution_count": null,
   "id": "92a8c2d0-1d66-490f-9da2-4bcd926b02d7",
   "metadata": {},
   "outputs": [],
   "source": [
    "len(vax19_dead) - len(dead)"
   ]
  },
  {
   "cell_type": "code",
   "execution_count": null,
   "id": "3695617f-18e8-41cf-9d9a-71de5fde0b72",
   "metadata": {
    "tags": []
   },
   "outputs": [],
   "source": [
    "dd['VAERS_ID'].value_counts()  # WS  a '1' presumably means duplicated once"
   ]
  },
  {
   "cell_type": "markdown",
   "id": "79354739-110c-484c-8aef-e19a0f3b254b",
   "metadata": {},
   "source": [
    "## 5. REVISIT COVID-LOT CALCS SINCE WE MAY BE OVERCOUNTING"
   ]
  },
  {
   "cell_type": "code",
   "execution_count": null,
   "id": "a035c658-4fcc-4ea5-a3eb-37f122dcf97d",
   "metadata": {},
   "outputs": [],
   "source": [
    "# WS this doesn't change anything? (unless some were lc)\n",
    "vax19_dead['STATE'] = vax19_dead['STATE'].str.upper()"
   ]
  },
  {
   "cell_type": "code",
   "execution_count": null,
   "id": "6351e7d8-f0b9-4fb2-9fe8-d66bc0f59dab",
   "metadata": {},
   "outputs": [],
   "source": [
    "# WS make a double index: to remove duplicates of VAERS_ID and VAX_LOT paired together\n",
    "# limit result to just the columns we're using\n",
    "dead_lot = vax19_dead[['VAERS_ID', 'VAX_LOT', 'STATE']].set_index(['VAERS_ID', 'VAX_LOT'])"
   ]
  },
  {
   "cell_type": "code",
   "execution_count": null,
   "id": "4bb01649-b10b-41e4-b16c-3caa709fe1eb",
   "metadata": {},
   "outputs": [],
   "source": [
    "dead_lot_clean = dead_lot[~dead_lot.index.duplicated()]  # WS remove repeated indexes"
   ]
  },
  {
   "cell_type": "code",
   "execution_count": null,
   "id": "b7aa6b99-6bc8-4b51-a5d7-bf471959fae4",
   "metadata": {},
   "outputs": [],
   "source": [
    "len(dead_lot) - len(dead_lot_clean)"
   ]
  },
  {
   "cell_type": "code",
   "execution_count": null,
   "id": "1555ccb3-bf30-45a2-ba54-6aae636b15d2",
   "metadata": {},
   "outputs": [],
   "source": [
    "dead_lot_clean = dead_lot_clean.reset_index()"
   ]
  },
  {
   "cell_type": "code",
   "execution_count": null,
   "id": "47eb93c2-f26d-4379-a530-2cb8d19f4948",
   "metadata": {},
   "outputs": [],
   "source": [
    "dead_lot_clean[dead_lot_clean['VAERS_ID'].isna()]  # WS this should be empty"
   ]
  },
  {
   "cell_type": "code",
   "execution_count": null,
   "id": "0b8b4bf9-c79a-4bdc-9a18-875bd450c6df",
   "metadata": {},
   "outputs": [],
   "source": [
    "dead_lot_clean.head()"
   ]
  },
  {
   "cell_type": "code",
   "execution_count": null,
   "id": "b98dd369-ed2d-4513-98d5-b7d8930834bc",
   "metadata": {},
   "outputs": [],
   "source": [
    "baddies = dead_lot_clean.groupby('VAX_LOT').size().sort_values(ascending=False)"
   ]
  },
  {
   "cell_type": "code",
   "execution_count": null,
   "id": "7972a246-c4bc-4f6c-80aa-5d1112adf99f",
   "metadata": {},
   "outputs": [],
   "source": [
    "baddies.head()"
   ]
  },
  {
   "cell_type": "code",
   "execution_count": null,
   "id": "423ea26c-6d14-45b6-ba8d-351d4380146d",
   "metadata": {},
   "outputs": [],
   "source": [
    "for i, (lot, cnt) in enumerate(baddies.items()):\n",
    "    print(lot, cnt, len(dead_lot_clean[dead_lot_clean['VAX_LOT'] == lot].groupby(\"STATE\")))\n",
    "    if i == 10:\n",
    "        break"
   ]
  },
  {
   "cell_type": "code",
   "execution_count": null,
   "id": "71f7874d-b576-442a-8bbd-2417586be5fd",
   "metadata": {},
   "outputs": [],
   "source": []
  }
 ],
 "metadata": {
  "kernelspec": {
   "display_name": "Python 3 (ipykernel)",
   "language": "python",
   "name": "python3"
  },
  "language_info": {
   "codemirror_mode": {
    "name": "ipython",
    "version": 3
   },
   "file_extension": ".py",
   "mimetype": "text/x-python",
   "name": "python",
   "nbconvert_exporter": "python",
   "pygments_lexer": "ipython3",
   "version": "3.10.6"
  }
 },
 "nbformat": 4,
 "nbformat_minor": 5
}

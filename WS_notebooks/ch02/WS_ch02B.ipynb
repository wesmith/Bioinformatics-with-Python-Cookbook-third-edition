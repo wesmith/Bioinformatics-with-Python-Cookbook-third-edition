{
 "cells": [
  {
   "cell_type": "markdown",
   "id": "6344e18b-e463-4e44-af99-7b7d2c6ada13",
   "metadata": {},
   "source": [
    "# WS_ch02B.ipynb\n",
    "# WESmith 11/03/22\n",
    "## WS created this notebook to follow along chap 2 code\n",
    "### Each recipe will have its own notebook, suffixed by A, B, etc.\n",
    "\n",
    "#### data at https://vaers.hhs.gov/data/datasets.html\n",
    "#### downloaded 2021VAERSData.zip¶"
   ]
  },
  {
   "cell_type": "markdown",
   "id": "adf1e712-f9c4-4be7-98c6-21c822c39249",
   "metadata": {},
   "source": [
    "# Dealing with the pitfalls of joining pandas DataFrames"
   ]
  },
  {
   "cell_type": "code",
   "execution_count": null,
   "id": "02af6897-300f-4812-9779-37dd1eee84dd",
   "metadata": {},
   "outputs": [],
   "source": [
    "import pandas as pd\n",
    "import numpy  as np\n",
    "import matplotlib.pyplot as plt\n",
    "import os"
   ]
  },
  {
   "cell_type": "code",
   "execution_count": null,
   "id": "93094054-be45-4073-84c1-c3325cc2b79e",
   "metadata": {},
   "outputs": [],
   "source": [
    "data_dir     = '/home/smithw/Downloads/bioinformatics/ch02_data'\n",
    "data_file    = '2021VAERSDATA.csv.gz'\n",
    "vax_file     = '2021VAERSVAX.csv.gz'\n",
    "symtoms_file = '2021VAERSSYMPTOMS.csv.gz'\n",
    "encoding     = 'iso-8859-1'\n",
    "sampled_data = \"vdata_sample.csv.gz\"\n",
    "sampled_vax  = \"vax_sample.csv.gz\""
   ]
  },
  {
   "cell_type": "code",
   "execution_count": null,
   "id": "3713c8cd-cd10-4d83-baa4-6705dcb8b118",
   "metadata": {},
   "outputs": [],
   "source": [
    "# create randomly sampled data: turn off these lines after sampled data created\n",
    "vdata = pd.read_csv(os.path.join(data_dir, data_file), encoding=encoding, low_memory=False)"
   ]
  },
  {
   "cell_type": "code",
   "execution_count": null,
   "id": "8afdee55-c654-4631-ab4d-06cbcca61b80",
   "metadata": {},
   "outputs": [],
   "source": [
    "vdata.sample(frac=0.9).to_csv(os.path.join(data_dir, sampled_data), index=False)"
   ]
  },
  {
   "cell_type": "code",
   "execution_count": null,
   "id": "68d84716-71be-4623-93df-2370c81eb15a",
   "metadata": {},
   "outputs": [],
   "source": [
    "vax = pd.read_csv(os.path.join(data_dir, vax_file), encoding=encoding)"
   ]
  },
  {
   "cell_type": "code",
   "execution_count": null,
   "id": "d2e55c3a-5f2a-4333-a3c7-f9e3c95d5950",
   "metadata": {},
   "outputs": [],
   "source": [
    "vax.sample(frac=0.9).to_csv(os.path.join(data_dir, sampled_vax), index=False)"
   ]
  },
  {
   "cell_type": "markdown",
   "id": "d423d51a-0884-45b0-9a7e-519e7b8a4771",
   "metadata": {},
   "source": [
    "## 1. INNER JOIN"
   ]
  },
  {
   "cell_type": "code",
   "execution_count": null,
   "id": "88adda5a-ce7e-4560-8f79-37f9ee29ee2c",
   "metadata": {},
   "outputs": [],
   "source": [
    "# get reduced datasets\n",
    "vdata = pd.read_csv(os.path.join(data_dir, sampled_data), low_memory=False)"
   ]
  },
  {
   "cell_type": "code",
   "execution_count": null,
   "id": "1d9c2e22-b129-4817-8d4e-41413662c6a0",
   "metadata": {},
   "outputs": [],
   "source": [
    "# WS look at duplicated VAERS_ID\n",
    "len(vdata[vdata['VAERS_ID'].duplicated()])  # no patient records duplicated"
   ]
  },
  {
   "cell_type": "code",
   "execution_count": null,
   "id": "6cca3bc6-2038-41d0-9aa1-2dbf28197fca",
   "metadata": {
    "tags": []
   },
   "outputs": [],
   "source": [
    "vdata.columns"
   ]
  },
  {
   "cell_type": "code",
   "execution_count": null,
   "id": "d69f7934-b880-4ef0-9946-1b42b8308469",
   "metadata": {},
   "outputs": [],
   "source": [
    "vax = pd.read_csv(os.path.join(data_dir, sampled_vax))"
   ]
  },
  {
   "cell_type": "code",
   "execution_count": null,
   "id": "e83f1cd8-38c4-4de3-80bf-626f4008524d",
   "metadata": {},
   "outputs": [],
   "source": [
    "# WS look at duplicated VAERS_ID\n",
    "dd = vax[vax['VAERS_ID'].duplicated()]\n",
    "len(dd)  # lots of dupes"
   ]
  },
  {
   "cell_type": "code",
   "execution_count": null,
   "id": "51dc882b-2d52-4313-b54f-f02902fccbef",
   "metadata": {},
   "outputs": [],
   "source": [
    "dd['VAERS_ID'].value_counts()"
   ]
  },
  {
   "cell_type": "code",
   "execution_count": null,
   "id": "1a29d984-f603-4781-9cbb-95a09bb1859c",
   "metadata": {
    "tags": []
   },
   "outputs": [],
   "source": [
    "vax[vax['VAERS_ID']==962303]  # WS the most-duplicated VAERS_ID\n",
    "# same patient (962303) has different info about the VAX_LOT, VAX_SITE, etc; 11 differences"
   ]
  },
  {
   "cell_type": "code",
   "execution_count": null,
   "id": "f30dcebb-9411-4ed1-bc52-14a98941765d",
   "metadata": {},
   "outputs": [],
   "source": [
    "vax.shape"
   ]
  },
  {
   "cell_type": "code",
   "execution_count": null,
   "id": "19e0e748-e8e9-4168-ace1-36a83a591376",
   "metadata": {
    "tags": []
   },
   "outputs": [],
   "source": [
    "vax.columns"
   ]
  },
  {
   "cell_type": "code",
   "execution_count": null,
   "id": "4607a821-5695-4beb-90f8-2802e52a1755",
   "metadata": {},
   "outputs": [],
   "source": [
    "# WS join needs to  match on an index, hence setting column to index for vax df\n",
    "vdata_with_vax = vdata.join(vax.set_index(\"VAERS_ID\"), on='VAERS_ID', how=\"inner\")"
   ]
  },
  {
   "cell_type": "code",
   "execution_count": null,
   "id": "fa136048-564b-4176-820a-e74193b53c06",
   "metadata": {
    "tags": []
   },
   "outputs": [],
   "source": [
    "vdata_with_vax.describe()"
   ]
  },
  {
   "cell_type": "code",
   "execution_count": null,
   "id": "86663bf6-79a8-4572-984b-3c7cf35ea02c",
   "metadata": {
    "tags": []
   },
   "outputs": [],
   "source": [
    "vdata_with_vax.info()"
   ]
  },
  {
   "cell_type": "code",
   "execution_count": null,
   "id": "86ba1982-0807-415c-9349-568ea81e0fcb",
   "metadata": {},
   "outputs": [],
   "source": [
    "# WS equiv with merge(): merging on columns 'VAERS_ID' in both dfs; default left_indes, right_index = False\n",
    "vdata_with_vax_merge = pd.merge(vdata, vax, how='inner', on='VAERS_ID')"
   ]
  },
  {
   "cell_type": "code",
   "execution_count": null,
   "id": "49cb8b85-20ba-4a98-b4c4-5af91938b793",
   "metadata": {
    "tags": []
   },
   "outputs": [],
   "source": [
    "vdata_with_vax_merge.describe()"
   ]
  },
  {
   "cell_type": "code",
   "execution_count": null,
   "id": "4c2d09fc-27f1-49e7-b671-58c4e481fdca",
   "metadata": {
    "tags": []
   },
   "outputs": [],
   "source": [
    "vdata_with_vax_merge.info()"
   ]
  },
  {
   "cell_type": "code",
   "execution_count": null,
   "id": "cb26959b-7e61-404a-94fe-db7a650d184c",
   "metadata": {},
   "outputs": [],
   "source": [
    "# WS was getting disagreement because of the index apparently\n",
    "vdata_with_vax.reset_index(drop=True).compare(vdata_with_vax_merge.reset_index(drop=True))  # WS"
   ]
  },
  {
   "cell_type": "code",
   "execution_count": null,
   "id": "78568e64-9ee8-4448-a36a-485126aa683f",
   "metadata": {},
   "outputs": [],
   "source": [
    "vdata_with_vax.reset_index(drop=True).equals(vdata_with_vax_merge.reset_index(drop=True))  # WS"
   ]
  },
  {
   "cell_type": "code",
   "execution_count": null,
   "id": "3398bdc9-6269-4160-a1d5-a33514c7dc7f",
   "metadata": {},
   "outputs": [],
   "source": [
    "len(vdata), len(vax), len(vdata_with_vax)"
   ]
  },
  {
   "cell_type": "code",
   "execution_count": null,
   "id": "af6890f3-797a-468d-9b3d-85c2b7680005",
   "metadata": {
    "tags": []
   },
   "outputs": [],
   "source": [
    "vdata_with_vax.columns"
   ]
  },
  {
   "cell_type": "code",
   "execution_count": null,
   "id": "383e11fe-d402-4d98-af3c-e97e5d0f4dc4",
   "metadata": {
    "tags": []
   },
   "outputs": [],
   "source": [
    "vdata_with_vax.index"
   ]
  },
  {
   "cell_type": "markdown",
   "id": "0bc610fe-7420-443f-aa43-e370228e70c5",
   "metadata": {},
   "source": [
    "## 2. FIND LOST DATA AFTER THE JOIN"
   ]
  },
  {
   "cell_type": "code",
   "execution_count": null,
   "id": "74ee6ec4-5081-434f-b0f0-e3c10a7cf58b",
   "metadata": {},
   "outputs": [],
   "source": [
    "vdata.head(1)"
   ]
  },
  {
   "cell_type": "code",
   "execution_count": null,
   "id": "80ae1f4e-78d8-4fa8-9969-ed99835dc775",
   "metadata": {
    "tags": []
   },
   "outputs": [],
   "source": [
    "lost_vdata_1 = vdata.loc[~vdata.index.isin(vdata_with_vax.index)] # WS one way to do it\n",
    "lost_vdata   = vdata[~vdata['VAERS_ID'].isin(vdata_with_vax['VAERS_ID'])]  # ws another way to do it\n",
    "lost_vax     = vax[~vax[\"VAERS_ID\"].isin(vdata_with_vax[\"VAERS_ID\"])]"
   ]
  },
  {
   "cell_type": "code",
   "execution_count": null,
   "id": "c8182d04-099f-4d1e-ba37-29ff627b7e59",
   "metadata": {
    "tags": []
   },
   "outputs": [],
   "source": [
    "lost_vdata_1.reset_index(drop=True).compare(lost_vdata.reset_index(drop=True))"
   ]
  },
  {
   "cell_type": "code",
   "execution_count": null,
   "id": "ce4c3199-d21c-40b9-bf71-c4f4c3a8d211",
   "metadata": {},
   "outputs": [],
   "source": [
    "lost_vdata_1.reset_index(drop=True).equals(lost_vdata.reset_index(drop=True))"
   ]
  },
  {
   "cell_type": "code",
   "execution_count": null,
   "id": "3910d90b-7135-4166-857d-f97df12a273d",
   "metadata": {
    "tags": []
   },
   "outputs": [],
   "source": [
    "len(lost_vdata), len(lost_vax)"
   ]
  },
  {
   "cell_type": "markdown",
   "id": "fdb3e054-1916-4e39-b42b-5520014e34bb",
   "metadata": {},
   "source": [
    "## 3. LEFT OUTER JOIN (THE DEFAULT)"
   ]
  },
  {
   "cell_type": "code",
   "execution_count": null,
   "id": "c06a0d51-f951-4e7e-8f2c-6ea940e21c0a",
   "metadata": {},
   "outputs": [],
   "source": [
    "vdata_with_vax_left = vdata.join(vax.set_index(\"VAERS_ID\"), on=\"VAERS_ID\")"
   ]
  },
  {
   "cell_type": "code",
   "execution_count": null,
   "id": "3158273b-9e7d-40fa-8318-09f240cb5bf3",
   "metadata": {},
   "outputs": [],
   "source": [
    "# WS merge equivalent\n",
    "vdata_with_vax_left_merge = pd.merge(vdata, vax, how='left', on='VAERS_ID')"
   ]
  },
  {
   "cell_type": "code",
   "execution_count": null,
   "id": "5ccf502b-4f13-4224-81c3-ddbbea5acfb2",
   "metadata": {},
   "outputs": [],
   "source": [
    "vdata_with_vax_left.reset_index(drop=True).equals(vdata_with_vax_left_merge.reset_index(drop=True))"
   ]
  },
  {
   "cell_type": "code",
   "execution_count": null,
   "id": "5b954180-1a83-403e-92b1-ed57b584a6ca",
   "metadata": {},
   "outputs": [],
   "source": [
    "vdata_with_vax_left.columns  # VAERS_ID is still a column, not an index"
   ]
  },
  {
   "cell_type": "code",
   "execution_count": null,
   "id": "f2acefb3-c91e-4e56-b71e-3098aa836eb9",
   "metadata": {},
   "outputs": [],
   "source": [
    "len(vdata_with_vax_left)"
   ]
  },
  {
   "cell_type": "code",
   "execution_count": null,
   "id": "a84cb019-37ed-4f9e-9325-59d7955bfa78",
   "metadata": {},
   "outputs": [],
   "source": [
    "# KEY POINT with this left-outer join, the VAERS_ID can be repeated: not desirable\n",
    "vdata_with_vax_left.groupby(\"VAERS_ID\").size().sort_values()"
   ]
  },
  {
   "cell_type": "code",
   "execution_count": null,
   "id": "8aa10af9-21a5-46da-9031-7142544aa5d3",
   "metadata": {
    "tags": []
   },
   "outputs": [],
   "source": [
    "vdata_with_vax_left.loc[vdata_with_vax_left['VAERS_ID']==962303]  # WS to see duplicates\n",
    "# rows are identical for patient info, but vax info is DIFFERENT for same patient, in 12 different ways"
   ]
  },
  {
   "cell_type": "code",
   "execution_count": null,
   "id": "480e05ba-2236-4e26-b0e6-6936025e810c",
   "metadata": {},
   "outputs": [],
   "source": [
    "len(vdata_with_vax_left) - len(vdata)  # WS number of duplicated VAERS_ID"
   ]
  },
  {
   "cell_type": "code",
   "execution_count": null,
   "id": "10886bfc-4478-44ec-8a13-58e90ea9dd5b",
   "metadata": {},
   "outputs": [],
   "source": [
    "# WS another way\n",
    "len(vdata_with_vax_left[vdata_with_vax_left['VAERS_ID'].duplicated()])"
   ]
  },
  {
   "cell_type": "markdown",
   "id": "8e049d6a-a69d-4040-8311-74fc602f2f62",
   "metadata": {},
   "source": [
    "## 4. RIGHT JOIN"
   ]
  },
  {
   "cell_type": "code",
   "execution_count": null,
   "id": "333ce80b-f9d1-45ad-bc51-b24d6bda12ab",
   "metadata": {},
   "outputs": [],
   "source": [
    "vdata['DIED'].unique()  # WS"
   ]
  },
  {
   "cell_type": "code",
   "execution_count": null,
   "id": "8d653343-5c7c-48aa-b07d-5df2afb1be72",
   "metadata": {},
   "outputs": [],
   "source": [
    "dead = vdata[vdata['DIED'] == 'Y']"
   ]
  },
  {
   "cell_type": "code",
   "execution_count": null,
   "id": "de65b40f-a7ff-46c3-8404-7066ec51026b",
   "metadata": {},
   "outputs": [],
   "source": [
    "dead['DIED'].unique()  # WS"
   ]
  },
  {
   "cell_type": "code",
   "execution_count": null,
   "id": "c7cc897b-1a97-414d-8f9b-a9334d02bffb",
   "metadata": {},
   "outputs": [],
   "source": [
    "vax19 = vax[vax['VAX_TYPE'] == 'COVID19']"
   ]
  },
  {
   "cell_type": "code",
   "execution_count": null,
   "id": "04cf63a4-7129-4363-ad05-090e5636ce7c",
   "metadata": {},
   "outputs": [],
   "source": [
    "len(vax), len(vax19)  # WS"
   ]
  },
  {
   "cell_type": "code",
   "execution_count": null,
   "id": "523565d6-dba8-4cbd-8402-f2c362b9328b",
   "metadata": {},
   "outputs": [],
   "source": [
    "vax19_dead = vax19.join(dead.set_index(\"VAERS_ID\"), on=\"VAERS_ID\", how='right')"
   ]
  },
  {
   "cell_type": "code",
   "execution_count": null,
   "id": "9cea9681-ac06-4956-9f46-5116dcdd7921",
   "metadata": {},
   "outputs": [],
   "source": [
    "# WS merge equivalent\n",
    "vax19_dead_merge = pd.merge(vax19, dead, on='VAERS_ID', how='right')"
   ]
  },
  {
   "cell_type": "code",
   "execution_count": null,
   "id": "f9943a2c-afac-4d76-ab98-37d8217c5641",
   "metadata": {},
   "outputs": [],
   "source": [
    "vax19_dead.reset_index(drop=True).equals(vax19_dead_merge.reset_index(drop=True))"
   ]
  },
  {
   "cell_type": "code",
   "execution_count": null,
   "id": "46031a1b-4abd-4940-b128-df4ecf92938b",
   "metadata": {},
   "outputs": [],
   "source": [
    "dd = vax19_dead[vax19_dead['VAERS_ID'].duplicated()]\n",
    "len(dd)"
   ]
  },
  {
   "cell_type": "code",
   "execution_count": null,
   "id": "92a8c2d0-1d66-490f-9da2-4bcd926b02d7",
   "metadata": {},
   "outputs": [],
   "source": [
    "len(vax19_dead) - len(dead)"
   ]
  },
  {
   "cell_type": "code",
   "execution_count": null,
   "id": "3695617f-18e8-41cf-9d9a-71de5fde0b72",
   "metadata": {
    "tags": []
   },
   "outputs": [],
   "source": [
    "dd['VAERS_ID'].value_counts()  # WS  a '1' presumably means duplicated once"
   ]
  },
  {
   "cell_type": "code",
   "execution_count": null,
   "id": "aad1c3e3-6c47-45d3-b293-0aeb1b1c5885",
   "metadata": {
    "tags": []
   },
   "outputs": [],
   "source": [
    "# WS look at id with most VAERS_ID dupes: 9 rows since original and 8 dupes\n",
    "vax19_dead.loc[vax19_dead['VAERS_ID']==1215401]  # look at id with most VAERS_ID dupes: 9 rows"
   ]
  },
  {
   "cell_type": "markdown",
   "id": "79354739-110c-484c-8aef-e19a0f3b254b",
   "metadata": {},
   "source": [
    "## 5. REVISIT COVID-LOT CALCS SINCE WE MAY BE OVERCOUNTING"
   ]
  },
  {
   "cell_type": "code",
   "execution_count": null,
   "id": "a035c658-4fcc-4ea5-a3eb-37f122dcf97d",
   "metadata": {},
   "outputs": [],
   "source": [
    "# WS this doesn't change anything, unless some were lowercase\n",
    "vax19_dead['STATE'] = vax19_dead['STATE'].str.upper()"
   ]
  },
  {
   "cell_type": "code",
   "execution_count": null,
   "id": "488baa5c-3747-4978-90a3-90447a912504",
   "metadata": {},
   "outputs": [],
   "source": [
    "vax19_dead.shape"
   ]
  },
  {
   "cell_type": "code",
   "execution_count": null,
   "id": "6351e7d8-f0b9-4fb2-9fe8-d66bc0f59dab",
   "metadata": {},
   "outputs": [],
   "source": [
    "# WS make a double index: to remove duplicates of VAERS_ID and VAX_LOT paired together\n",
    "# also limit result to just the columns we're using\n",
    "dead_lot = vax19_dead[['VAERS_ID', 'VAX_LOT', 'STATE']].set_index(['VAERS_ID', 'VAX_LOT'])"
   ]
  },
  {
   "cell_type": "code",
   "execution_count": null,
   "id": "3d55419a-bb8a-4f21-b0e7-5f474d2288b0",
   "metadata": {},
   "outputs": [],
   "source": [
    "dead_lot.shape"
   ]
  },
  {
   "cell_type": "code",
   "execution_count": null,
   "id": "6b81233c-09db-439b-9d58-c8fac46f8275",
   "metadata": {},
   "outputs": [],
   "source": [
    "# WS encapsulate index value as a list since double index: 8 dupes plus orig = 9 rows\n",
    "dead_lot.loc[[1215401]]"
   ]
  },
  {
   "cell_type": "code",
   "execution_count": null,
   "id": "9b143c15-3478-41a8-90f5-038481453c5c",
   "metadata": {},
   "outputs": [],
   "source": [
    "~dead_lot.loc[[1215401]].index.duplicated() # note that NaN shows unique double index"
   ]
  },
  {
   "cell_type": "code",
   "execution_count": null,
   "id": "4bb01649-b10b-41e4-b16c-3caa709fe1eb",
   "metadata": {},
   "outputs": [],
   "source": [
    "# WS remove repeated indexes\n",
    "dead_lot_clean = dead_lot[~dead_lot.index.duplicated()]"
   ]
  },
  {
   "cell_type": "code",
   "execution_count": null,
   "id": "b7aa6b99-6bc8-4b51-a5d7-bf471959fae4",
   "metadata": {},
   "outputs": [],
   "source": [
    "len(dead_lot) - len(dead_lot_clean)"
   ]
  },
  {
   "cell_type": "code",
   "execution_count": null,
   "id": "1555ccb3-bf30-45a2-ba54-6aae636b15d2",
   "metadata": {},
   "outputs": [],
   "source": [
    "dead_lot_clean = dead_lot_clean.reset_index()"
   ]
  },
  {
   "cell_type": "code",
   "execution_count": null,
   "id": "47eb93c2-f26d-4379-a530-2cb8d19f4948",
   "metadata": {},
   "outputs": [],
   "source": [
    "dead_lot_clean[dead_lot_clean['VAERS_ID'].isna()]  # WS this should be empty"
   ]
  },
  {
   "cell_type": "code",
   "execution_count": null,
   "id": "23740b4c-d604-416e-8526-95c9f613e507",
   "metadata": {},
   "outputs": [],
   "source": [
    "# WS since VAX_TYPE is NaN (originally part of double index), see how many VAERS_ID dupes remain now\n",
    "ee = dead_lot_clean[dead_lot_clean['VAERS_ID'].duplicated()]\n",
    "len(ee)"
   ]
  },
  {
   "cell_type": "code",
   "execution_count": null,
   "id": "ff27448c-6f83-410c-a6cb-0bc28e008667",
   "metadata": {},
   "outputs": [],
   "source": [
    "ee['VAERS_ID'].value_counts()"
   ]
  },
  {
   "cell_type": "code",
   "execution_count": null,
   "id": "12333ace-5adb-4de1-b283-f5ab344a6bce",
   "metadata": {},
   "outputs": [],
   "source": [
    "# still dupes because of different VAX_LOTs: still seems to over-represent the patients\n",
    "dead_lot_clean[dead_lot_clean['VAERS_ID']==1874377]"
   ]
  },
  {
   "cell_type": "code",
   "execution_count": null,
   "id": "0b8b4bf9-c79a-4bdc-9a18-875bd450c6df",
   "metadata": {},
   "outputs": [],
   "source": [
    "dead_lot_clean.head()"
   ]
  },
  {
   "cell_type": "code",
   "execution_count": null,
   "id": "b98dd369-ed2d-4513-98d5-b7d8930834bc",
   "metadata": {},
   "outputs": [],
   "source": [
    "baddies = dead_lot_clean.groupby('VAX_LOT').size().sort_values(ascending=False)"
   ]
  },
  {
   "cell_type": "code",
   "execution_count": null,
   "id": "7972a246-c4bc-4f6c-80aa-5d1112adf99f",
   "metadata": {},
   "outputs": [],
   "source": [
    "baddies.head()"
   ]
  },
  {
   "cell_type": "code",
   "execution_count": null,
   "id": "423ea26c-6d14-45b6-ba8d-351d4380146d",
   "metadata": {},
   "outputs": [],
   "source": [
    "for i, (lot, cnt) in enumerate(baddies.items()):\n",
    "    print(lot, cnt, len(dead_lot_clean[dead_lot_clean['VAX_LOT'] == lot].groupby(\"STATE\")))\n",
    "    if i == 10:\n",
    "        break"
   ]
  },
  {
   "cell_type": "code",
   "execution_count": null,
   "id": "71f7874d-b576-442a-8bbd-2417586be5fd",
   "metadata": {},
   "outputs": [],
   "source": [
    "# SUMMARY: THESE NUMBERS ARE REDUCED FROM THOSE IN WS_CH02A.IPYNB, BECAUSE OF REMOVING DUPES\n",
    "# NOTE: THE DATA MAY STILL HAVE OTHER DUPES NOT HANDLED YET"
   ]
  },
  {
   "cell_type": "code",
   "execution_count": null,
   "id": "d7f30f88-8c1c-4c84-8e6c-30b8d2908b24",
   "metadata": {},
   "outputs": [],
   "source": []
  }
 ],
 "metadata": {
  "kernelspec": {
   "display_name": "Python 3 (ipykernel)",
   "language": "python",
   "name": "python3"
  },
  "language_info": {
   "codemirror_mode": {
    "name": "ipython",
    "version": 3
   },
   "file_extension": ".py",
   "mimetype": "text/x-python",
   "name": "python",
   "nbconvert_exporter": "python",
   "pygments_lexer": "ipython3",
   "version": "3.10.6"
  }
 },
 "nbformat": 4,
 "nbformat_minor": 5
}

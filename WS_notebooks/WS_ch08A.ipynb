{
 "cells": [
  {
   "cell_type": "markdown",
   "id": "d1d31c74-4b69-45d8-99bd-2c5ae1c3fc67",
   "metadata": {},
   "source": [
    "# WS_ch08A.ipynb\n",
    "# WESmith 04/16/23\n",
    "## WS created this notebook to follow along chapter 8 code from book\n",
    "## 'Bioinformatics with Python Cookbook' by Tiago Antao\n",
    "## Each recipe will have its own notebook, suffixed by A, B, etc.¶\n",
    "## also see book code in Chapter08/Data_Formats.py"
   ]
  },
  {
   "cell_type": "code",
   "execution_count": 14,
   "id": "5e12b067-f0ca-4918-b576-6e6f77078de7",
   "metadata": {},
   "outputs": [],
   "source": [
    "from collections import defaultdict\n",
    "import requests\n",
    "from Bio import ExPASy, SwissProt\n",
    "import pandas as pd\n",
    "import io"
   ]
  },
  {
   "cell_type": "code",
   "execution_count": 110,
   "id": "68094b55-545a-4853-ab90-46fd8373a791",
   "metadata": {},
   "outputs": [],
   "source": [
    "# this chapter is out of date for accessing UNIPROT; see REST API and new formats at \n",
    "# https://www.uniprot.org/help/api_queries"
   ]
  },
  {
   "cell_type": "code",
   "execution_count": 111,
   "id": "6e4b6f5b-c590-43a4-8f06-94a674616cbe",
   "metadata": {},
   "outputs": [],
   "source": [
    "# WS get the allowed fields from https://www.uniprot.org/help/return_fields\n",
    "# WS this is the REST API\n",
    "server = \"https://rest.uniprot.org/uniprotkb/search?\""
   ]
  },
  {
   "cell_type": "code",
   "execution_count": 141,
   "id": "a40e1935-4602-45b7-94a6-4ea7c1d3c324",
   "metadata": {},
   "outputs": [],
   "source": [
    "#query = 'organism_id:9606'  # test case: human id\n",
    "query  = 'gene:P53'  # example in book\n",
    "query += '+AND+reviewed:true'\n",
    "params = {'query':query, \n",
    "          'format':'tsv',\n",
    "          'fields':'accession,id,length,organism_id,organism_name,xref_pdb,xref_hgnc',\n",
    "          'size':'50'} # size tested on 'organism_id' query; it works"
   ]
  },
  {
   "cell_type": "code",
   "execution_count": 143,
   "id": "74421955-c1e4-4c50-a5fd-64651d94b206",
   "metadata": {},
   "outputs": [],
   "source": [
    "def get_request(server, **kwargs):  # WS new function\n",
    "    txt = server\n",
    "    for j, k in kwargs.items():\n",
    "        txt += j + '=' + k + '&'\n",
    "    txt = txt[:-1] # strip off last '&'\n",
    "    req = requests.get(txt)\n",
    "    if not req.ok:\n",
    "        req.raise_for_status()\n",
    "    return req"
   ]
  },
  {
   "cell_type": "code",
   "execution_count": 144,
   "id": "0ee8e8a4-7149-4238-8a83-c5c8398b1576",
   "metadata": {},
   "outputs": [],
   "source": [
    "req = get_request(server, **params)"
   ]
  },
  {
   "cell_type": "code",
   "execution_count": 147,
   "id": "a33da773-a27e-4397-9531-2520956d9b5b",
   "metadata": {},
   "outputs": [],
   "source": [
    "uniprot_list = pd.read_table(io.StringIO(req.text))\n",
    "uniprot_list.rename(columns={'Organism (ID)': 'ID'}, inplace=True)\n",
    "#uniprot_list"
   ]
  },
  {
   "cell_type": "code",
   "execution_count": 148,
   "id": "fb9d5e87-93de-4cef-a3b4-3a34714d49b2",
   "metadata": {},
   "outputs": [
    {
     "data": {
      "text/plain": [
       "'P04637'"
      ]
     },
     "execution_count": 148,
     "metadata": {},
     "output_type": "execute_result"
    }
   ],
   "source": [
    "p53_human = uniprot_list[\n",
    "            (uniprot_list.ID == 9606) &\n",
    "            (uniprot_list['Entry Name'].str.contains('P53'))]['Entry'].iloc[0]\n",
    "p53_human"
   ]
  },
  {
   "cell_type": "code",
   "execution_count": 129,
   "id": "b7c86cf0-f3df-4dc3-9da4-c8a14367e677",
   "metadata": {},
   "outputs": [],
   "source": [
    "# next: retrieve the SwissProt record for the human P53"
   ]
  },
  {
   "cell_type": "code",
   "execution_count": null,
   "id": "d0c7603d-a66a-499d-aa88-8aecfb9ed421",
   "metadata": {},
   "outputs": [],
   "source": []
  }
 ],
 "metadata": {
  "kernelspec": {
   "display_name": "Python 3 (ipykernel)",
   "language": "python",
   "name": "python3"
  },
  "language_info": {
   "codemirror_mode": {
    "name": "ipython",
    "version": 3
   },
   "file_extension": ".py",
   "mimetype": "text/x-python",
   "name": "python",
   "nbconvert_exporter": "python",
   "pygments_lexer": "ipython3",
   "version": "3.10.6"
  }
 },
 "nbformat": 4,
 "nbformat_minor": 5
}

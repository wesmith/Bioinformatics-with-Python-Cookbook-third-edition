{
 "cells": [
  {
   "cell_type": "markdown",
   "id": "5f4ae6e7-de17-4d02-b3fc-efe5bb7a27c3",
   "metadata": {},
   "source": [
    "# joining-tutorial.ipynb\n",
    "# WESmith 11/5/22"
   ]
  },
  {
   "cell_type": "code",
   "execution_count": null,
   "id": "b25bb37b-b6e8-4975-85af-504e9989ac42",
   "metadata": {},
   "outputs": [],
   "source": [
    "import pandas as pd\n",
    "import numpy as  np\n",
    "import os"
   ]
  },
  {
   "cell_type": "markdown",
   "id": "d2ef2143-9d9a-41ce-9185-ead1e0837882",
   "metadata": {},
   "source": [
    "### AN EXPLANATION OF MERGE() VS JOIN() AT:\n",
    "### https://stackoverflow.com/questions/22676081/what-is-the-difference-between-join-and-merge-in-pandas\n",
    "\n",
    "### \"pandas.merge() is the underlying function used for all merge/join behavior.\""
   ]
  },
  {
   "cell_type": "markdown",
   "id": "a2ed4d68-aca0-49c4-a462-f9002d0a3ded",
   "metadata": {},
   "source": [
    "## THE BELOW EXAMPLES FROM (BEST RESOURCE SO FAR):\n",
    "### https://pandas.pydata.org/pandas-docs/stable/user_guide/merging.html"
   ]
  },
  {
   "cell_type": "markdown",
   "id": "20b2a5bb-9f5b-4719-8f57-b9de567c4bd4",
   "metadata": {},
   "source": [
    "## CONCAT() SECTION TO BE ENTERED ..."
   ]
  },
  {
   "cell_type": "code",
   "execution_count": null,
   "id": "6fc5a8a1-a610-401e-bd4b-0e8eb180c1b5",
   "metadata": {},
   "outputs": [],
   "source": []
  },
  {
   "cell_type": "markdown",
   "id": "5eedf27b-d66b-4695-9340-8112f31af2c1",
   "metadata": {},
   "source": [
    "## MERGE()"
   ]
  },
  {
   "cell_type": "markdown",
   "id": "f35a8a46-f2b7-48aa-bcfa-9df46b9b24a3",
   "metadata": {},
   "source": [
    "#### SINGLE UNIQUE KEYS"
   ]
  },
  {
   "cell_type": "code",
   "execution_count": null,
   "id": "41bba4f1-ea86-40c6-8dca-38a7b6896368",
   "metadata": {},
   "outputs": [],
   "source": [
    "left = pd.DataFrame(\n",
    "    {\n",
    "        \"key\": [\"K0\", \"K1\", \"K2\", \"K3\"],\n",
    "        \"A\": [\"A0\", \"A1\", \"A2\", \"A3\"],\n",
    "        \"B\": [\"B0\", \"B1\", \"B2\", \"B3\"],\n",
    "    }\n",
    ")"
   ]
  },
  {
   "cell_type": "code",
   "execution_count": null,
   "id": "a362ae34-a3b5-4c46-bd2a-7378eb503f67",
   "metadata": {},
   "outputs": [],
   "source": [
    "right = pd.DataFrame(\n",
    "    {\n",
    "        \"key\": [\"K0\", \"K1\", \"K2\", \"K3\"],\n",
    "        \"C\": [\"C0\", \"C1\", \"C2\", \"C3\"],\n",
    "        \"D\": [\"D0\", \"D1\", \"D2\", \"D3\"],\n",
    "    }\n",
    ")"
   ]
  },
  {
   "cell_type": "code",
   "execution_count": null,
   "id": "fa789747-2c02-4973-973a-2825e0245972",
   "metadata": {},
   "outputs": [],
   "source": [
    "left"
   ]
  },
  {
   "cell_type": "code",
   "execution_count": null,
   "id": "364bab76-cf07-4a4a-b2a7-e4be368102e5",
   "metadata": {},
   "outputs": [],
   "source": [
    "right"
   ]
  },
  {
   "cell_type": "code",
   "execution_count": null,
   "id": "6427b2fc-0c13-4b81-86f9-80480fc99910",
   "metadata": {},
   "outputs": [],
   "source": [
    "result = pd.merge(left, right, on=\"key\")\n",
    "result"
   ]
  },
  {
   "cell_type": "markdown",
   "id": "6e8ce57a-c785-4a7f-9c3c-635173d66cd2",
   "metadata": {},
   "source": [
    "#### MULTIPLE KEYS THAT ARE DIFFERENT"
   ]
  },
  {
   "cell_type": "code",
   "execution_count": null,
   "id": "5c69381e-7b86-40c5-ad55-c7f36436ec2c",
   "metadata": {},
   "outputs": [],
   "source": [
    "# WS multiple keys\n",
    "left = pd.DataFrame(\n",
    "    {\n",
    "        \"key1\": [\"K0\", \"K0\", \"K1\", \"K2\"],\n",
    "        \"key2\": [\"K0\", \"K1\", \"K0\", \"K1\"],\n",
    "        \"A\": [\"A0\", \"A1\", \"A2\", \"A3\"],\n",
    "        \"B\": [\"B0\", \"B1\", \"B2\", \"B3\"],\n",
    "    }\n",
    ")"
   ]
  },
  {
   "cell_type": "code",
   "execution_count": null,
   "id": "2aa58996-5143-4068-a433-677fc8566d93",
   "metadata": {},
   "outputs": [],
   "source": [
    "right = pd.DataFrame(\n",
    "    {\n",
    "        \"key1\": [\"K0\", \"K1\", \"K1\", \"K2\"],\n",
    "        \"key2\": [\"K0\", \"K0\", \"K0\", \"K0\"],\n",
    "        \"C\": [\"C0\", \"C1\", \"C2\", \"C3\"],\n",
    "        \"D\": [\"D0\", \"D1\", \"D2\", \"D3\"],\n",
    "    }\n",
    ")"
   ]
  },
  {
   "cell_type": "code",
   "execution_count": null,
   "id": "41e95fd8-014e-4b99-9c87-339d8f5814ae",
   "metadata": {},
   "outputs": [],
   "source": [
    "left"
   ]
  },
  {
   "cell_type": "code",
   "execution_count": null,
   "id": "05733718-cedb-4256-9783-f9f665941417",
   "metadata": {},
   "outputs": [],
   "source": [
    "right"
   ]
  },
  {
   "cell_type": "markdown",
   "id": "960bb474-379e-4b8b-a27f-d589b2c3b3e3",
   "metadata": {},
   "source": [
    "#### INNER MERGE (DEFAULT)"
   ]
  },
  {
   "cell_type": "code",
   "execution_count": null,
   "id": "2ff5626d-175b-427b-8e2b-8f5cc90a0b5b",
   "metadata": {},
   "outputs": [],
   "source": [
    "result = pd.merge(left, right, on=[\"key1\", \"key2\"])\n",
    "result"
   ]
  },
  {
   "cell_type": "markdown",
   "id": "68699b97-c286-43d4-b6d0-602e4aaa81da",
   "metadata": {},
   "source": [
    "#### LEFT FRAME KEYS MERGE"
   ]
  },
  {
   "cell_type": "code",
   "execution_count": null,
   "id": "92c602d3-10da-4b52-8413-9268d25de5bc",
   "metadata": {},
   "outputs": [],
   "source": [
    "result = pd.merge(left, right, how=\"left\", on=[\"key1\", \"key2\"])\n",
    "result"
   ]
  },
  {
   "cell_type": "markdown",
   "id": "9f87781b-117e-4443-9d47-a8eec66a991a",
   "metadata": {},
   "source": [
    "#### RIGHT FRAME KEYS MERGE"
   ]
  },
  {
   "cell_type": "code",
   "execution_count": null,
   "id": "eaeafaf5-a267-406e-b685-04013ab9b2ff",
   "metadata": {},
   "outputs": [],
   "source": [
    "result = pd.merge(left, right, how=\"right\", on=[\"key1\", \"key2\"])\n",
    "result"
   ]
  },
  {
   "cell_type": "markdown",
   "id": "cc666cac-5232-4f45-a3ee-9883eae29ad7",
   "metadata": {},
   "source": [
    "#### OUTER MERGE"
   ]
  },
  {
   "cell_type": "code",
   "execution_count": null,
   "id": "6bb5ad8d-451c-4f25-9e43-0d8397a9128f",
   "metadata": {},
   "outputs": [],
   "source": [
    "result = pd.merge(left, right, how=\"outer\", on=[\"key1\", \"key2\"])\n",
    "result"
   ]
  },
  {
   "cell_type": "markdown",
   "id": "86add198-d6f6-4686-b824-d39147ad1aa8",
   "metadata": {},
   "source": [
    "#### CROSS MERGE"
   ]
  },
  {
   "cell_type": "code",
   "execution_count": null,
   "id": "b21e0ba9-f909-49cf-b409-0709b8f7c594",
   "metadata": {},
   "outputs": [],
   "source": [
    "result = pd.merge(left, right, how=\"cross\")\n",
    "result"
   ]
  },
  {
   "cell_type": "markdown",
   "id": "51e5d8a5-039a-4bb5-b063-46f6ba6f20eb",
   "metadata": {},
   "source": [
    "#### MULTI-INDEXED SERIES MERGE WITH DATAFRAME"
   ]
  },
  {
   "cell_type": "code",
   "execution_count": null,
   "id": "bed9b522-885b-4771-b0d4-0aac2215f821",
   "metadata": {},
   "outputs": [],
   "source": [
    "df = pd.DataFrame({\"Let\": [\"A\", \"B\", \"C\"], \"Num\": [1, 2, 3]})"
   ]
  },
  {
   "cell_type": "code",
   "execution_count": null,
   "id": "ba27fe98-164e-4684-b26b-a042af60282e",
   "metadata": {},
   "outputs": [],
   "source": [
    "ser = pd.Series(\n",
    "    [\"a\", \"b\", \"c\", \"d\", \"e\", \"f\"],\n",
    "    index=pd.MultiIndex.from_arrays(\n",
    "        [[\"A\", \"B\", \"C\"] * 2, [1, 2, 3, 4, 5, 6]], names=[\"Let\", \"Num\"]\n",
    "    ),\n",
    ")\n",
    "ser"
   ]
  },
  {
   "cell_type": "code",
   "execution_count": null,
   "id": "3b43ea3c-bb3c-4cca-a063-ac7c4ae7c302",
   "metadata": {},
   "outputs": [],
   "source": [
    "df"
   ]
  },
  {
   "cell_type": "code",
   "execution_count": null,
   "id": "6df2ea83-caa9-4093-bd97-a9de7c4072ca",
   "metadata": {},
   "outputs": [],
   "source": [
    "ser.reset_index()  # WS NICE WAY TO TURN A SERIES INTO A DATAFRAME"
   ]
  },
  {
   "cell_type": "code",
   "execution_count": null,
   "id": "d4fa0e23-4d0d-43e3-a402-61074fe739cd",
   "metadata": {},
   "outputs": [],
   "source": [
    "df2 = pd.merge(df, ser.reset_index(), on=[\"Let\", \"Num\"])\n",
    "df2"
   ]
  },
  {
   "cell_type": "markdown",
   "id": "95d95974-5303-47f8-8b5b-4bc976800070",
   "metadata": {},
   "source": [
    "# pick up here ..."
   ]
  },
  {
   "cell_type": "code",
   "execution_count": null,
   "id": "7a4ceb06-cacd-49f8-b75a-1fb73186e27c",
   "metadata": {},
   "outputs": [],
   "source": []
  },
  {
   "cell_type": "code",
   "execution_count": null,
   "id": "1b33f2f9-42bb-4570-9e8a-c70f29dd558c",
   "metadata": {},
   "outputs": [],
   "source": []
  },
  {
   "cell_type": "markdown",
   "id": "888bb0d6-2844-474a-86d3-a16d362e0a04",
   "metadata": {},
   "source": [
    "## THE BELOW EXAMPLES FROM\n",
    "### see https://www.datacamp.com/tutorial/joining-dataframes-pandas"
   ]
  },
  {
   "cell_type": "code",
   "execution_count": null,
   "id": "385e0799-b667-450a-b737-760adb52ccdd",
   "metadata": {},
   "outputs": [],
   "source": [
    "dummy_data1 = {\n",
    "        'id': ['1', '2', '3', '4', '5'],\n",
    "        'Feature1': ['A', 'C', 'E', 'G', 'I'],\n",
    "        'Feature2': ['B', 'D', 'F', 'H', 'J']}\n",
    "df1 = pd.DataFrame(dummy_data1, columns = ['id', 'Feature1', 'Feature2'])\n",
    "df1"
   ]
  },
  {
   "cell_type": "code",
   "execution_count": null,
   "id": "f5260f8b-9167-419a-a624-ae642ff7c69b",
   "metadata": {},
   "outputs": [],
   "source": [
    "dummy_data2 = {\n",
    "        'id': ['1', '2', '6', '7', '8'],\n",
    "        'Feature1': ['K', 'M', 'O', 'Q', 'S'],\n",
    "        'Feature2': ['L', 'N', 'P', 'R', 'T']}\n",
    "df2 = pd.DataFrame(dummy_data2, columns = ['id', 'Feature1', 'Feature2'])\n",
    "df2"
   ]
  },
  {
   "cell_type": "code",
   "execution_count": null,
   "id": "a3dfa8d2-9aae-4be9-ad32-1c62ac097e4c",
   "metadata": {},
   "outputs": [],
   "source": [
    "dummy_data3 = {\n",
    "        'id': ['1', '2', '3', '4', '5', '7', '8', '9', '10', '11'],\n",
    "        'Feature3': [12, 13, 14, 15, 16, 17, 15, 12, 13, 23]}\n",
    "df3 = pd.DataFrame(dummy_data3, columns = ['id', 'Feature3'])\n",
    "df3"
   ]
  },
  {
   "cell_type": "markdown",
   "id": "7cb0750e-8332-41fc-9aa7-c2f43e070c46",
   "metadata": {},
   "source": [
    "## CONCAT (NOTE: CONCAT() MAKES A FULL COPY)"
   ]
  },
  {
   "cell_type": "code",
   "execution_count": null,
   "id": "2a353ba5-a625-4857-9041-1da9bcda073f",
   "metadata": {},
   "outputs": [],
   "source": [
    "df_row = pd.concat([df1, df2])  # WS add data sets along rows: axis=0 by default; indexes retained\n",
    "df_row"
   ]
  },
  {
   "cell_type": "code",
   "execution_count": null,
   "id": "31d9e0b9-2459-42bb-ab51-9fa6931ade3f",
   "metadata": {},
   "outputs": [],
   "source": [
    "df_row_reindex = pd.concat([df1, df2], ignore_index=True)  # WS reset indexes\n",
    "df_row_reindex"
   ]
  },
  {
   "cell_type": "code",
   "execution_count": null,
   "id": "3c2f5fa3-7518-491e-ada0-cb402cadfac9",
   "metadata": {},
   "outputs": [],
   "source": [
    "frames = [df1,df2]\n",
    "df_keys = pd.concat(frames, keys=['x', 'y'])  # WS keep track of where data came from\n",
    "df_keys"
   ]
  },
  {
   "cell_type": "code",
   "execution_count": null,
   "id": "48504db8-7992-489d-b7eb-ebe3d4d82b07",
   "metadata": {},
   "outputs": [],
   "source": [
    "df_keys.loc['y']  #  WS retrieving a particular dataset"
   ]
  },
  {
   "cell_type": "code",
   "execution_count": null,
   "id": "b6ca440f-c8ba-4bc6-8db2-d7d304775def",
   "metadata": {},
   "outputs": [],
   "source": [
    "pieces = {'x': df1, 'y': df2}  # WS label datasets in a dictionary: get the same result\n",
    "df_piece = pd.concat(pieces)\n",
    "df_piece"
   ]
  },
  {
   "cell_type": "code",
   "execution_count": null,
   "id": "111ac1ff-01ed-40c5-a876-1a31c286bd36",
   "metadata": {},
   "outputs": [],
   "source": [
    "df_col = pd.concat([df1,df2], axis=1)  # WS concat along columns\n",
    "df_col"
   ]
  },
  {
   "cell_type": "markdown",
   "id": "3618b90d-5e06-49d3-abbd-54dff1252940",
   "metadata": {},
   "source": [
    "## MERGE"
   ]
  },
  {
   "cell_type": "code",
   "execution_count": null,
   "id": "d1a950bd-02f7-4dcd-8f41-5b32d563feed",
   "metadata": {},
   "outputs": [],
   "source": [
    "df_row"
   ]
  },
  {
   "cell_type": "code",
   "execution_count": null,
   "id": "6e614193-e2bb-45ad-8b5a-fdcf83a22867",
   "metadata": {},
   "outputs": [],
   "source": [
    "df3"
   ]
  },
  {
   "cell_type": "code",
   "execution_count": null,
   "id": "8bbd73da-7fcc-4be6-9de9-e32ccb098472",
   "metadata": {},
   "outputs": [],
   "source": [
    "df_merge_col = pd.merge(df_row, df3, on='id')\n",
    "df_merge_col\n",
    "# WS if an id is not in both datasets, it is missing in merge(): ie, 6,9,10,11 missing in result\n",
    "# also, IDs 1,2 are each duplicated since they were duplicated in first dataset"
   ]
  },
  {
   "cell_type": "code",
   "execution_count": null,
   "id": "9e38a3bc-8a03-4b35-9c01-60dfbda69ee8",
   "metadata": {},
   "outputs": [],
   "source": [
    "# WS if COLUMNS on which to merge have different NAMES (unlike this case): use:\n",
    "df_merge_difkey = pd.merge(df_row, df3, left_on='id', right_on='id')\n",
    "df_merge_difkey"
   ]
  },
  {
   "cell_type": "markdown",
   "id": "6d93848a-116c-4e12-982b-7264035570c9",
   "metadata": {},
   "source": [
    "## APPEND (DEPRECATED: USE CONCAT)"
   ]
  },
  {
   "cell_type": "code",
   "execution_count": null,
   "id": "0480917d-dd13-4ec8-8bca-2ab91f3c97be",
   "metadata": {},
   "outputs": [],
   "source": [
    "add_row = pd.Series(['10', 'X1', 'X2', 'X3'],\n",
    "                    index=['id','Feature1', 'Feature2', 'Feature3'])\n",
    "add_row"
   ]
  },
  {
   "cell_type": "code",
   "execution_count": null,
   "id": "cc6ebcd5-eddb-4292-accf-2a875793db98",
   "metadata": {},
   "outputs": [],
   "source": [
    "# WS append is deprecated, use concat\n",
    "df_add_row = df_merge_col.append(add_row, ignore_index=True)\n",
    "df_add_row"
   ]
  },
  {
   "cell_type": "code",
   "execution_count": null,
   "id": "6bce74b1-d349-4311-ab41-740e031ad0ae",
   "metadata": {},
   "outputs": [],
   "source": [
    "# WS here is the new workaround to DataFrame.append() (append deprecated because it is very slow)\n",
    "# see https://stackoverflow.com/questions/70837397/\n",
    "#             good-alternative-to-pandas-append-method-now-that-it-is-being-deprecated\n",
    "add_row_as_df = pd.DataFrame(add_row).T  # the key is to make a DF of the Series, and transpose it\n",
    "add_row_as_df"
   ]
  },
  {
   "cell_type": "code",
   "execution_count": null,
   "id": "ae0f1213-f81d-4a27-9fa2-02ad0db17a9b",
   "metadata": {},
   "outputs": [],
   "source": [
    "# WS then can concat it\n",
    "df_add_row = pd.concat([df_merge_col, add_row_as_df], ignore_index=True)\n",
    "df_add_row"
   ]
  },
  {
   "cell_type": "markdown",
   "id": "cdc51917-624d-438d-8227-7def675fbe64",
   "metadata": {},
   "source": [
    "## JOIN"
   ]
  },
  {
   "cell_type": "markdown",
   "id": "d65b5ae7-92ef-452d-be1e-590a61f26a37",
   "metadata": {},
   "source": [
    "### FULL OUTER JOIN USING MERGE()"
   ]
  },
  {
   "cell_type": "code",
   "execution_count": null,
   "id": "2c20d3c9-9734-420a-853c-c6cda15701be",
   "metadata": {},
   "outputs": [],
   "source": [
    "df1"
   ]
  },
  {
   "cell_type": "code",
   "execution_count": null,
   "id": "b9453dd7-d691-4d13-8e0b-4d8ae9be4a74",
   "metadata": {},
   "outputs": [],
   "source": [
    "df2"
   ]
  },
  {
   "cell_type": "code",
   "execution_count": null,
   "id": "80c09eb5-f7b7-4952-b24a-39f3b36790b3",
   "metadata": {},
   "outputs": [],
   "source": [
    "# WS this automatically creates new column labels showing the source of data;\n",
    "# all records from both DataFrames and fill in NaNs where data is missing\n",
    "df_outer = pd.merge(df1, df2, on='id', how='outer')\n",
    "df_outer"
   ]
  },
  {
   "cell_type": "code",
   "execution_count": null,
   "id": "eeb607b6-05d3-41f6-b98a-452b0159427a",
   "metadata": {},
   "outputs": [],
   "source": [
    "# WS can rename the suffixes for the new column labels\n",
    "df_suffix = pd.merge(df1, df2, left_on='id',right_on='id',how='outer',suffixes=('_left','_right'))\n",
    "df_suffix"
   ]
  },
  {
   "cell_type": "markdown",
   "id": "96defff3-6438-4629-b3b2-dcb2f262420e",
   "metadata": {},
   "source": [
    "### INNER JOIN USING MERGE()"
   ]
  },
  {
   "cell_type": "code",
   "execution_count": null,
   "id": "a20cab49-f7c1-4961-925a-257b2a6e95dc",
   "metadata": {},
   "outputs": [],
   "source": [
    "df_inner = pd.merge(df1, df2, on='id', how='inner')\n",
    "df_inner"
   ]
  },
  {
   "cell_type": "markdown",
   "id": "dd7cbada-5ea6-4333-ae40-a2e04d031add",
   "metadata": {},
   "source": [
    "### RIGHT JOIN USING MERGE()"
   ]
  },
  {
   "cell_type": "code",
   "execution_count": null,
   "id": "f7f54ac8-2d83-4eb1-8d6f-39316699031e",
   "metadata": {},
   "outputs": [],
   "source": [
    "df_right = pd.merge(df1, df2, on='id', how='right')\n",
    "df_right"
   ]
  },
  {
   "cell_type": "markdown",
   "id": "7f6fabe7-6a8a-4e53-b411-a497ec7e0b11",
   "metadata": {},
   "source": [
    "### LEFT JOIN USING MERGE()"
   ]
  },
  {
   "cell_type": "code",
   "execution_count": null,
   "id": "95dcf77a-1ee2-4a9b-9b82-5eae8da06ea8",
   "metadata": {},
   "outputs": [],
   "source": [
    "df_left = pd.merge(df1, df2, on='id', how='left')\n",
    "df_left"
   ]
  },
  {
   "cell_type": "markdown",
   "id": "c017f5a4-2aaa-4e64-9a89-8464a5d8bd83",
   "metadata": {},
   "source": [
    "### JOINING ON INDEX USING MERGE()"
   ]
  },
  {
   "cell_type": "code",
   "execution_count": null,
   "id": "3dbd53a4-dd07-478d-a05b-49d261456734",
   "metadata": {},
   "outputs": [],
   "source": [
    "df1"
   ]
  },
  {
   "cell_type": "code",
   "execution_count": null,
   "id": "b646510e-5450-49e5-ba90-ada2495238fe",
   "metadata": {},
   "outputs": [],
   "source": [
    "df2"
   ]
  },
  {
   "cell_type": "code",
   "execution_count": null,
   "id": "96ed66af-d936-401d-8e3f-13f197b38288",
   "metadata": {},
   "outputs": [],
   "source": [
    "# WS this joins on the indexes (ie, here 0,1,2,3,4)\n",
    "df_index = pd.merge(df1, df2, right_index=True, left_index=True)\n",
    "df_index"
   ]
  },
  {
   "cell_type": "markdown",
   "id": "361cff16-447a-4a7b-a9c0-f13d60a6aa0a",
   "metadata": {},
   "source": [
    "### TIME-SERIES MERGING USING MERGE_ASOF()"
   ]
  },
  {
   "cell_type": "code",
   "execution_count": null,
   "id": "d3cc738a-08f9-42db-ae58-382126811b00",
   "metadata": {},
   "outputs": [],
   "source": [
    "trades = pd.DataFrame({\n",
    "    'time': pd.to_datetime(['20160525 13:30:00.023',\n",
    "                            '20160525 13:30:00.038',\n",
    "                            '20160525 13:30:00.048',\n",
    "                            '20160525 13:30:00.048',\n",
    "                            '20160525 13:30:00.048']),\n",
    "    'ticker': ['MSFT', 'MSFT','GOOG', 'GOOG', 'AAPL'],\n",
    "    'price': [51.95, 51.95,720.77, 720.92, 98.00],\n",
    "    'quantity': [75, 155,100, 100, 100]},\n",
    "    columns=['time', 'ticker', 'price', 'quantity'])\n",
    "trades"
   ]
  },
  {
   "cell_type": "code",
   "execution_count": null,
   "id": "68980124-d78b-496f-8474-d91120f3f35d",
   "metadata": {},
   "outputs": [],
   "source": [
    "quotes = pd.DataFrame({\n",
    "    'time': pd.to_datetime(['20160525 13:30:00.023',\n",
    "                            '20160525 13:30:00.023',\n",
    "                            '20160525 13:30:00.030',\n",
    "                            '20160525 13:30:00.041',\n",
    "                            '20160525 13:30:00.048',\n",
    "                            '20160525 13:30:00.049',\n",
    "                            '20160525 13:30:00.072',\n",
    "                            '20160525 13:30:00.075']),\n",
    "    'ticker': ['GOOG', 'MSFT', 'MSFT','MSFT', 'GOOG', 'AAPL', 'GOOG','MSFT'],\n",
    "    'bid': [720.50, 51.95, 51.97, 51.99,720.50, 97.99, 720.50, 52.01],\n",
    "    'ask': [720.93, 51.96, 51.98, 52.00,720.93, 98.01, 720.88, 52.03]},\n",
    "    columns=['time', 'ticker', 'bid', 'ask'])\n",
    "quotes"
   ]
  },
  {
   "cell_type": "code",
   "execution_count": null,
   "id": "5411fc72-0594-43e1-959e-0ba51f790f22",
   "metadata": {},
   "outputs": [],
   "source": [
    "df_merge_asof = pd.merge_asof(trades, quotes,\n",
    "              on='time',\n",
    "              by='ticker')\n",
    "df_merge_asof"
   ]
  },
  {
   "cell_type": "code",
   "execution_count": null,
   "id": "fb79ff0d-e5c5-4c79-b979-2ea413647a28",
   "metadata": {},
   "outputs": [],
   "source": [
    "# WS specify a time tolerance: trade must be no more than 2ms after bid/ask quote\n",
    "# one MSFT thrown out because trade is 8ms after bid/ask\n",
    "df_merge_asof_tolerance = pd.merge_asof(trades, quotes,\n",
    "              on='time',\n",
    "              by='ticker',\n",
    "              tolerance=pd.Timedelta('2ms'))\n",
    "df_merge_asof_tolerance"
   ]
  },
  {
   "cell_type": "markdown",
   "id": "bb1552ff-dc36-4b2e-a92e-5f754e7e8e35",
   "metadata": {},
   "source": [
    "## ANOTHER SOURCE: JOIN() VS MERGE()\n",
    "### from https://sparkbyexamples.com/pandas/pandas-join-vs-merge-explained-differences/"
   ]
  },
  {
   "cell_type": "code",
   "execution_count": null,
   "id": "7429fddd-5283-451a-b6d5-955acd71079c",
   "metadata": {},
   "outputs": [],
   "source": [
    "technologies = {\n",
    "    'Courses' :[\"Spark\",\"PySpark\",\"Python\",\"pandas\"],\n",
    "    'Fee'     :[20000,25000,22000,30000],\n",
    "    'Duration':['30days','40days','35days','50days'],\n",
    "              }\n",
    "index_labels=['r1','r2','r3','r4']\n",
    "df1 = pd.DataFrame(technologies,index=index_labels)\n",
    "df1"
   ]
  },
  {
   "cell_type": "code",
   "execution_count": null,
   "id": "943289db-7289-482f-810a-1be8b1787141",
   "metadata": {},
   "outputs": [],
   "source": [
    "technologies2 = {\n",
    "    'Courses' :[\"Spark\",\"Java\",\"Python\",\"Go\"],\n",
    "    'Discount':[2000,2300,1200,2000]\n",
    "              }\n",
    "index_labels2=['r1','r6','r3','r5']\n",
    "df2 = pd.DataFrame(technologies2,index=index_labels2)\n",
    "df2"
   ]
  },
  {
   "cell_type": "code",
   "execution_count": null,
   "id": "64b2ae84-270b-4bbd-9378-031afd16f364",
   "metadata": {},
   "outputs": [],
   "source": [
    "# pandas left join two DataFrames by Index\n",
    "# WS a suffix is REQUIRED, NO DEFAULTS\n",
    "df3 = df1.join(df2, how='left', lsuffix=\"_left\", rsuffix=\"_right\")\n",
    "df3"
   ]
  },
  {
   "cell_type": "code",
   "execution_count": null,
   "id": "36c97488-adfe-4df9-b892-18864387bf08",
   "metadata": {},
   "outputs": [],
   "source": [
    "# Merge two DataFrames by index using pandas.merge()\n",
    "# WS same as join above, but suffix HAS DEFAULTS\n",
    "df3 = pd.merge(df1, df2, left_index=True, right_index=True, how='left')\n",
    "df3"
   ]
  },
  {
   "cell_type": "code",
   "execution_count": null,
   "id": "1809a696-c095-4f08-97d4-14e8334ec25b",
   "metadata": {},
   "outputs": [],
   "source": [
    "# pandas merge - inner join by Column\n",
    "# WS NOTE how the index column is lost from the original DataFrames\n",
    "df3=pd.merge(df1,df2)\n",
    "df3"
   ]
  },
  {
   "cell_type": "code",
   "execution_count": null,
   "id": "c0847a48-5670-4b44-859f-71ea65df9968",
   "metadata": {},
   "outputs": [],
   "source": [
    "# Merge DataFrames by Column\n",
    "# WS same result as above, inner join\n",
    "df3=pd.merge(df1,df2, on='Courses')\n",
    "df3"
   ]
  },
  {
   "cell_type": "code",
   "execution_count": null,
   "id": "e01a0189-12f0-4f0a-a089-970de14c4c89",
   "metadata": {},
   "outputs": [],
   "source": [
    "# WS added\n",
    "df4 = df2.rename(columns={'Courses': 'My_Courses'})\n",
    "df4"
   ]
  },
  {
   "cell_type": "code",
   "execution_count": null,
   "id": "d9a5c83d-c459-424e-82d6-fd59f28fefe1",
   "metadata": {},
   "outputs": [],
   "source": [
    "# When column names are different\n",
    "df3=pd.merge(df1,df4, left_on='Courses', right_on='My_Courses')\n",
    "df3"
   ]
  },
  {
   "cell_type": "code",
   "execution_count": null,
   "id": "f1268023-ed1e-44db-a001-113574b04a98",
   "metadata": {},
   "outputs": [],
   "source": [
    "# WS added: delete redundant column\n",
    "df5 = df3.drop('My_Courses', axis=1)\n",
    "df5"
   ]
  },
  {
   "cell_type": "code",
   "execution_count": null,
   "id": "caa1ace5-db47-4311-8779-7819628c7d19",
   "metadata": {},
   "outputs": [],
   "source": [
    "# Use join on column\n",
    "df3 = df1.set_index('Courses').join(df2.set_index('Courses'), how='inner')\n",
    "df3"
   ]
  },
  {
   "cell_type": "code",
   "execution_count": null,
   "id": "ad61376e-c91d-4f91-9021-6b7b95af7edd",
   "metadata": {},
   "outputs": [],
   "source": []
  }
 ],
 "metadata": {
  "kernelspec": {
   "display_name": "Python 3 (ipykernel)",
   "language": "python",
   "name": "python3"
  },
  "language_info": {
   "codemirror_mode": {
    "name": "ipython",
    "version": 3
   },
   "file_extension": ".py",
   "mimetype": "text/x-python",
   "name": "python",
   "nbconvert_exporter": "python",
   "pygments_lexer": "ipython3",
   "version": "3.10.6"
  }
 },
 "nbformat": 4,
 "nbformat_minor": 5
}

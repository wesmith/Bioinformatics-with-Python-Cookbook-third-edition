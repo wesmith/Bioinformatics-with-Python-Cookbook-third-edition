{
 "cells": [
  {
   "cell_type": "markdown",
   "id": "3e2e1bb1-0b93-4a52-81dc-d7f474079dbf",
   "metadata": {},
   "source": [
    "# WS_ch08A.ipynb\n",
    "### WESmith 04/16/23"
   ]
  },
  {
   "cell_type": "markdown",
   "id": "d5c247cf-6fbb-48f7-a4a3-5450c0650a47",
   "metadata": {},
   "source": [
    "## FINDING A PROTEIN IN MULTIPLE DATABASES\n",
    "#### (see book code in Chapter08/Intro.py)"
   ]
  },
  {
   "cell_type": "markdown",
   "id": "fc6c57b3-f8e9-4827-834e-945a966182e2",
   "metadata": {},
   "source": [
    "### WS created this notebook to follow along with code from the book\n",
    "### 'Bioinformatics with Python Cookbook' by Tiago Antao\n",
    "#### Each recipe will have its own notebook, suffixed by A, B, etc.¶"
   ]
  },
  {
   "cell_type": "code",
   "execution_count": 1,
   "id": "5e12b067-f0ca-4918-b576-6e6f77078de7",
   "metadata": {},
   "outputs": [],
   "source": [
    "from collections import defaultdict\n",
    "import requests\n",
    "from Bio import ExPASy, SwissProt\n",
    "import pandas as pd\n",
    "import io"
   ]
  },
  {
   "cell_type": "code",
   "execution_count": 2,
   "id": "f62d4a94-6a2d-4e3c-94ae-23fef9266ae0",
   "metadata": {},
   "outputs": [],
   "source": [
    "import Bio"
   ]
  },
  {
   "cell_type": "code",
   "execution_count": 75,
   "id": "35b70a77-3fe9-4509-a8b3-afdb6d0e8768",
   "metadata": {},
   "outputs": [
    {
     "data": {
      "text/plain": [
       "'1.81'"
      ]
     },
     "execution_count": 75,
     "metadata": {},
     "output_type": "execute_result"
    }
   ],
   "source": [
    "Bio.__version__  # version 1.79 didn't work for SwissProt access; version 1.81 works"
   ]
  },
  {
   "cell_type": "code",
   "execution_count": 4,
   "id": "68094b55-545a-4853-ab90-46fd8373a791",
   "metadata": {},
   "outputs": [],
   "source": [
    "# this chapter is out of date for accessing UNIPROT; see REST API and new formats at \n",
    "# https://www.uniprot.org/help/api_queries"
   ]
  },
  {
   "cell_type": "code",
   "execution_count": 5,
   "id": "6e4b6f5b-c590-43a4-8f06-94a674616cbe",
   "metadata": {},
   "outputs": [],
   "source": [
    "# WS get the allowed fields from https://www.uniprot.org/help/return_fields\n",
    "# WS this is the REST API\n",
    "server = \"https://rest.uniprot.org/uniprotkb/search?\""
   ]
  },
  {
   "cell_type": "code",
   "execution_count": 6,
   "id": "a40e1935-4602-45b7-94a6-4ea7c1d3c324",
   "metadata": {},
   "outputs": [],
   "source": [
    "#query = 'organism_id:9606'  # test case: human id\n",
    "query  = 'gene:P53'  # example in book\n",
    "query += '+AND+reviewed:true'\n",
    "params = {'query':query, \n",
    "          'format':'tsv',\n",
    "          'fields':'accession,id,length,organism_id,organism_name,xref_pdb,xref_hgnc',\n",
    "          'size':'50'} # size tested on 'organism_id' query; it works"
   ]
  },
  {
   "cell_type": "code",
   "execution_count": 7,
   "id": "74421955-c1e4-4c50-a5fd-64651d94b206",
   "metadata": {},
   "outputs": [],
   "source": [
    "def get_request(server, **kwargs):  # WS new function\n",
    "    txt = server\n",
    "    for j, k in kwargs.items():\n",
    "        txt += j + '=' + k + '&'\n",
    "    txt = txt[:-1] # strip off last '&'\n",
    "    req = requests.get(txt)\n",
    "    if not req.ok:\n",
    "        req.raise_for_status()\n",
    "    return req"
   ]
  },
  {
   "cell_type": "code",
   "execution_count": 27,
   "id": "0ee8e8a4-7149-4238-8a83-c5c8398b1576",
   "metadata": {},
   "outputs": [],
   "source": [
    "req = get_request(server, **params)"
   ]
  },
  {
   "cell_type": "code",
   "execution_count": 29,
   "id": "a33da773-a27e-4397-9531-2520956d9b5b",
   "metadata": {
    "collapsed": true,
    "jupyter": {
     "outputs_hidden": true
    },
    "tags": []
   },
   "outputs": [
    {
     "data": {
      "text/html": [
       "<div>\n",
       "<style scoped>\n",
       "    .dataframe tbody tr th:only-of-type {\n",
       "        vertical-align: middle;\n",
       "    }\n",
       "\n",
       "    .dataframe tbody tr th {\n",
       "        vertical-align: top;\n",
       "    }\n",
       "\n",
       "    .dataframe thead th {\n",
       "        text-align: right;\n",
       "    }\n",
       "</style>\n",
       "<table border=\"1\" class=\"dataframe\">\n",
       "  <thead>\n",
       "    <tr style=\"text-align: right;\">\n",
       "      <th></th>\n",
       "      <th>Entry</th>\n",
       "      <th>Entry Name</th>\n",
       "      <th>Length</th>\n",
       "      <th>ID</th>\n",
       "      <th>Organism</th>\n",
       "      <th>PDB</th>\n",
       "      <th>HGNC</th>\n",
       "    </tr>\n",
       "  </thead>\n",
       "  <tbody>\n",
       "    <tr>\n",
       "      <th>0</th>\n",
       "      <td>P04637</td>\n",
       "      <td>P53_HUMAN</td>\n",
       "      <td>393</td>\n",
       "      <td>9606</td>\n",
       "      <td>Homo sapiens (Human)</td>\n",
       "      <td>1A1U;1AIE;1C26;1DT7;1GZH;1H26;1HS5;1JSP;1KZY;1...</td>\n",
       "      <td>HGNC:11998;</td>\n",
       "    </tr>\n",
       "    <tr>\n",
       "      <th>1</th>\n",
       "      <td>P10361</td>\n",
       "      <td>P53_RAT</td>\n",
       "      <td>391</td>\n",
       "      <td>10116</td>\n",
       "      <td>Rattus norvegicus (Rat)</td>\n",
       "      <td>NaN</td>\n",
       "      <td>NaN</td>\n",
       "    </tr>\n",
       "    <tr>\n",
       "      <th>2</th>\n",
       "      <td>P02340</td>\n",
       "      <td>P53_MOUSE</td>\n",
       "      <td>390</td>\n",
       "      <td>10090</td>\n",
       "      <td>Mus musculus (Mouse)</td>\n",
       "      <td>1HU8;2GEQ;2IOI;2IOM;2IOO;2P52;3EXJ;3EXL;</td>\n",
       "      <td>NaN</td>\n",
       "    </tr>\n",
       "    <tr>\n",
       "      <th>3</th>\n",
       "      <td>Q42578</td>\n",
       "      <td>PER53_ARATH</td>\n",
       "      <td>335</td>\n",
       "      <td>3702</td>\n",
       "      <td>Arabidopsis thaliana (Mouse-ear cress)</td>\n",
       "      <td>1PA2;1QO4;</td>\n",
       "      <td>NaN</td>\n",
       "    </tr>\n",
       "    <tr>\n",
       "      <th>4</th>\n",
       "      <td>O09185</td>\n",
       "      <td>P53_CRIGR</td>\n",
       "      <td>393</td>\n",
       "      <td>10029</td>\n",
       "      <td>Cricetulus griseus (Chinese hamster) (Cricetul...</td>\n",
       "      <td>NaN</td>\n",
       "      <td>NaN</td>\n",
       "    </tr>\n",
       "    <tr>\n",
       "      <th>5</th>\n",
       "      <td>Q8SPZ3</td>\n",
       "      <td>P53_DELLE</td>\n",
       "      <td>387</td>\n",
       "      <td>9749</td>\n",
       "      <td>Delphinapterus leucas (Beluga whale)</td>\n",
       "      <td>NaN</td>\n",
       "      <td>NaN</td>\n",
       "    </tr>\n",
       "    <tr>\n",
       "      <th>6</th>\n",
       "      <td>Q9TTA1</td>\n",
       "      <td>P53_TUPBE</td>\n",
       "      <td>393</td>\n",
       "      <td>37347</td>\n",
       "      <td>Tupaia belangeri (Common tree shrew) (Tupaia g...</td>\n",
       "      <td>NaN</td>\n",
       "      <td>NaN</td>\n",
       "    </tr>\n",
       "    <tr>\n",
       "      <th>7</th>\n",
       "      <td>P61260</td>\n",
       "      <td>P53_MACFU</td>\n",
       "      <td>393</td>\n",
       "      <td>9543</td>\n",
       "      <td>Macaca fuscata fuscata (Japanese macaque)</td>\n",
       "      <td>NaN</td>\n",
       "      <td>NaN</td>\n",
       "    </tr>\n",
       "    <tr>\n",
       "      <th>8</th>\n",
       "      <td>P56424</td>\n",
       "      <td>P53_MACMU</td>\n",
       "      <td>393</td>\n",
       "      <td>9544</td>\n",
       "      <td>Macaca mulatta (Rhesus macaque)</td>\n",
       "      <td>NaN</td>\n",
       "      <td>NaN</td>\n",
       "    </tr>\n",
       "    <tr>\n",
       "      <th>9</th>\n",
       "      <td>P79892</td>\n",
       "      <td>P53_HORSE</td>\n",
       "      <td>280</td>\n",
       "      <td>9796</td>\n",
       "      <td>Equus caballus (Horse)</td>\n",
       "      <td>NaN</td>\n",
       "      <td>NaN</td>\n",
       "    </tr>\n",
       "    <tr>\n",
       "      <th>10</th>\n",
       "      <td>Q29537</td>\n",
       "      <td>P53_CANLF</td>\n",
       "      <td>381</td>\n",
       "      <td>9615</td>\n",
       "      <td>Canis lupus familiaris (Dog) (Canis familiaris)</td>\n",
       "      <td>NaN</td>\n",
       "      <td>NaN</td>\n",
       "    </tr>\n",
       "    <tr>\n",
       "      <th>11</th>\n",
       "      <td>P56423</td>\n",
       "      <td>P53_MACFA</td>\n",
       "      <td>393</td>\n",
       "      <td>9541</td>\n",
       "      <td>Macaca fascicularis (Crab-eating macaque) (Cyn...</td>\n",
       "      <td>NaN</td>\n",
       "      <td>NaN</td>\n",
       "    </tr>\n",
       "    <tr>\n",
       "      <th>12</th>\n",
       "      <td>Q9TUB2</td>\n",
       "      <td>P53_PIG</td>\n",
       "      <td>386</td>\n",
       "      <td>9823</td>\n",
       "      <td>Sus scrofa (Pig)</td>\n",
       "      <td>NaN</td>\n",
       "      <td>NaN</td>\n",
       "    </tr>\n",
       "    <tr>\n",
       "      <th>13</th>\n",
       "      <td>Q9W678</td>\n",
       "      <td>P53_BARBU</td>\n",
       "      <td>369</td>\n",
       "      <td>40830</td>\n",
       "      <td>Barbus barbus (Barbel) (Cyprinus barbus)</td>\n",
       "      <td>NaN</td>\n",
       "      <td>NaN</td>\n",
       "    </tr>\n",
       "    <tr>\n",
       "      <th>14</th>\n",
       "      <td>P25035</td>\n",
       "      <td>P53_ONCMY</td>\n",
       "      <td>396</td>\n",
       "      <td>8022</td>\n",
       "      <td>Oncorhynchus mykiss (Rainbow trout) (Salmo gai...</td>\n",
       "      <td>NaN</td>\n",
       "      <td>NaN</td>\n",
       "    </tr>\n",
       "    <tr>\n",
       "      <th>15</th>\n",
       "      <td>O12946</td>\n",
       "      <td>P53_PLAFE</td>\n",
       "      <td>366</td>\n",
       "      <td>8260</td>\n",
       "      <td>Platichthys flesus (European flounder) (Pleuro...</td>\n",
       "      <td>NaN</td>\n",
       "      <td>NaN</td>\n",
       "    </tr>\n",
       "    <tr>\n",
       "      <th>16</th>\n",
       "      <td>O57538</td>\n",
       "      <td>P53_XIPHE</td>\n",
       "      <td>342</td>\n",
       "      <td>8084</td>\n",
       "      <td>Xiphophorus hellerii (Green swordtail)</td>\n",
       "      <td>NaN</td>\n",
       "      <td>NaN</td>\n",
       "    </tr>\n",
       "    <tr>\n",
       "      <th>17</th>\n",
       "      <td>O93379</td>\n",
       "      <td>P53_ICTPU</td>\n",
       "      <td>376</td>\n",
       "      <td>7998</td>\n",
       "      <td>Ictalurus punctatus (Channel catfish) (Silurus...</td>\n",
       "      <td>NaN</td>\n",
       "      <td>NaN</td>\n",
       "    </tr>\n",
       "    <tr>\n",
       "      <th>18</th>\n",
       "      <td>P79820</td>\n",
       "      <td>P53_ORYLA</td>\n",
       "      <td>352</td>\n",
       "      <td>8090</td>\n",
       "      <td>Oryzias latipes (Japanese rice fish) (Japanese...</td>\n",
       "      <td>NaN</td>\n",
       "      <td>NaN</td>\n",
       "    </tr>\n",
       "    <tr>\n",
       "      <th>19</th>\n",
       "      <td>Q92143</td>\n",
       "      <td>P53_XIPMA</td>\n",
       "      <td>342</td>\n",
       "      <td>8083</td>\n",
       "      <td>Xiphophorus maculatus (Southern platyfish) (Pl...</td>\n",
       "      <td>NaN</td>\n",
       "      <td>NaN</td>\n",
       "    </tr>\n",
       "    <tr>\n",
       "      <th>20</th>\n",
       "      <td>Q9W679</td>\n",
       "      <td>P53_TETMU</td>\n",
       "      <td>367</td>\n",
       "      <td>94908</td>\n",
       "      <td>Tetraodon miurus (Congo puffer)</td>\n",
       "      <td>NaN</td>\n",
       "      <td>NaN</td>\n",
       "    </tr>\n",
       "  </tbody>\n",
       "</table>\n",
       "</div>"
      ],
      "text/plain": [
       "     Entry   Entry Name  Length     ID  \\\n",
       "0   P04637    P53_HUMAN     393   9606   \n",
       "1   P10361      P53_RAT     391  10116   \n",
       "2   P02340    P53_MOUSE     390  10090   \n",
       "3   Q42578  PER53_ARATH     335   3702   \n",
       "4   O09185    P53_CRIGR     393  10029   \n",
       "5   Q8SPZ3    P53_DELLE     387   9749   \n",
       "6   Q9TTA1    P53_TUPBE     393  37347   \n",
       "7   P61260    P53_MACFU     393   9543   \n",
       "8   P56424    P53_MACMU     393   9544   \n",
       "9   P79892    P53_HORSE     280   9796   \n",
       "10  Q29537    P53_CANLF     381   9615   \n",
       "11  P56423    P53_MACFA     393   9541   \n",
       "12  Q9TUB2      P53_PIG     386   9823   \n",
       "13  Q9W678    P53_BARBU     369  40830   \n",
       "14  P25035    P53_ONCMY     396   8022   \n",
       "15  O12946    P53_PLAFE     366   8260   \n",
       "16  O57538    P53_XIPHE     342   8084   \n",
       "17  O93379    P53_ICTPU     376   7998   \n",
       "18  P79820    P53_ORYLA     352   8090   \n",
       "19  Q92143    P53_XIPMA     342   8083   \n",
       "20  Q9W679    P53_TETMU     367  94908   \n",
       "\n",
       "                                             Organism  \\\n",
       "0                                Homo sapiens (Human)   \n",
       "1                             Rattus norvegicus (Rat)   \n",
       "2                                Mus musculus (Mouse)   \n",
       "3              Arabidopsis thaliana (Mouse-ear cress)   \n",
       "4   Cricetulus griseus (Chinese hamster) (Cricetul...   \n",
       "5                Delphinapterus leucas (Beluga whale)   \n",
       "6   Tupaia belangeri (Common tree shrew) (Tupaia g...   \n",
       "7           Macaca fuscata fuscata (Japanese macaque)   \n",
       "8                     Macaca mulatta (Rhesus macaque)   \n",
       "9                              Equus caballus (Horse)   \n",
       "10    Canis lupus familiaris (Dog) (Canis familiaris)   \n",
       "11  Macaca fascicularis (Crab-eating macaque) (Cyn...   \n",
       "12                                   Sus scrofa (Pig)   \n",
       "13           Barbus barbus (Barbel) (Cyprinus barbus)   \n",
       "14  Oncorhynchus mykiss (Rainbow trout) (Salmo gai...   \n",
       "15  Platichthys flesus (European flounder) (Pleuro...   \n",
       "16             Xiphophorus hellerii (Green swordtail)   \n",
       "17  Ictalurus punctatus (Channel catfish) (Silurus...   \n",
       "18  Oryzias latipes (Japanese rice fish) (Japanese...   \n",
       "19  Xiphophorus maculatus (Southern platyfish) (Pl...   \n",
       "20                    Tetraodon miurus (Congo puffer)   \n",
       "\n",
       "                                                  PDB         HGNC  \n",
       "0   1A1U;1AIE;1C26;1DT7;1GZH;1H26;1HS5;1JSP;1KZY;1...  HGNC:11998;  \n",
       "1                                                 NaN          NaN  \n",
       "2            1HU8;2GEQ;2IOI;2IOM;2IOO;2P52;3EXJ;3EXL;          NaN  \n",
       "3                                          1PA2;1QO4;          NaN  \n",
       "4                                                 NaN          NaN  \n",
       "5                                                 NaN          NaN  \n",
       "6                                                 NaN          NaN  \n",
       "7                                                 NaN          NaN  \n",
       "8                                                 NaN          NaN  \n",
       "9                                                 NaN          NaN  \n",
       "10                                                NaN          NaN  \n",
       "11                                                NaN          NaN  \n",
       "12                                                NaN          NaN  \n",
       "13                                                NaN          NaN  \n",
       "14                                                NaN          NaN  \n",
       "15                                                NaN          NaN  \n",
       "16                                                NaN          NaN  \n",
       "17                                                NaN          NaN  \n",
       "18                                                NaN          NaN  \n",
       "19                                                NaN          NaN  \n",
       "20                                                NaN          NaN  "
      ]
     },
     "execution_count": 29,
     "metadata": {},
     "output_type": "execute_result"
    }
   ],
   "source": [
    "uniprot_list = pd.read_table(io.StringIO(req.text))\n",
    "uniprot_list.rename(columns={'Organism (ID)': 'ID'}, inplace=True)\n",
    "uniprot_list"
   ]
  },
  {
   "cell_type": "code",
   "execution_count": 10,
   "id": "fb9d5e87-93de-4cef-a3b4-3a34714d49b2",
   "metadata": {},
   "outputs": [
    {
     "data": {
      "text/plain": [
       "'P04637'"
      ]
     },
     "execution_count": 10,
     "metadata": {},
     "output_type": "execute_result"
    }
   ],
   "source": [
    "p53_human = uniprot_list[\n",
    "            (uniprot_list.ID == 9606) &\n",
    "            (uniprot_list['Entry Name'].str.contains('P53'))]['Entry'].iloc[0]\n",
    "p53_human"
   ]
  },
  {
   "cell_type": "code",
   "execution_count": 11,
   "id": "d0c7603d-a66a-499d-aa88-8aecfb9ed421",
   "metadata": {},
   "outputs": [],
   "source": [
    "handle = ExPASy.get_sprot_raw(p53_human)"
   ]
  },
  {
   "cell_type": "code",
   "execution_count": 12,
   "id": "bc234e80-05ca-459b-8c93-49fb252f3270",
   "metadata": {},
   "outputs": [
    {
     "data": {
      "text/plain": [
       "'https://rest.uniprot.org/uniprotkb/P04637.txt'"
      ]
     },
     "execution_count": 12,
     "metadata": {},
     "output_type": "execute_result"
    }
   ],
   "source": [
    "handle.url"
   ]
  },
  {
   "cell_type": "code",
   "execution_count": 13,
   "id": "892626c4-6796-47c3-b38f-8f6156d237eb",
   "metadata": {},
   "outputs": [],
   "source": [
    "sp_rec = SwissProt.read(handle)"
   ]
  },
  {
   "cell_type": "code",
   "execution_count": 21,
   "id": "11dfb384-fa03-43fe-8d27-d3d7a0f1088d",
   "metadata": {},
   "outputs": [
    {
     "name": "stdout",
     "output_type": "stream",
     "text": [
      "P53_HUMAN 393 [{'Name': 'TP53', 'Synonyms': ['P53']}]\n",
      "\n",
      "RecName: Full=Cellular tumor antigen p53; AltName: Full=Antigen NY-CO-13; AltName: Full=Phosphoprotein p53; AltName: Full=Tumor suppressor p53;\n",
      "\n",
      "Homo sapiens (Human). (393, 43653, 'AD5C149FD8106131')\n",
      "\n",
      "MEEPQSDPSVEPPLSQETFSDLWKLLPENNVLSPLPSQAMDDLMLSPDDIEQWFTEDPGPDEAPRMPEAAPPVAPAPAAPTPAAPAPAPSWPLSSSVPSQKTYQGSYGFRLGFLHSGTAKSVTCTYSPALNKMFCQLAKTCPVQLWVDSTPPPGTRVRAMAIYKQSQHMTEVVRRCPHHERCSDSDGLAPPQHLIRVEGNLRVEYLDDRNTFRHSVVVPYEPPEVGSDCTTIHYNYMCNSSCMGGMNRRPILTIITLEDSSGNLLGRNSFEVRVCACPGRDRRTEEENLRKKGEPHHELPPGSTKRALPNNTSSSPQPKKKPLDGEYFTLQIRGRERFEMFRELNEALELKDAQAGKEPGGSRAHSSHLKSKKGQSTSRHKKLMFKTEGPDSD\n",
      "\n",
      "['3D-structure', 'Acetylation', 'Activator', 'Alternative promoter usage', 'Alternative splicing', 'Apoptosis', 'Biological rhythms', 'Cell cycle', 'Cytoplasm', 'Cytoskeleton', 'Direct protein sequencing', 'Disease variant', 'DNA-binding', 'Endoplasmic reticulum', 'Glycoprotein', 'Host-virus interaction', 'Isopeptide bond', 'Li-Fraumeni syndrome', 'Metal-binding', 'Methylation', 'Mitochondrion', 'Necrosis', 'Nucleus', 'Phosphoprotein', 'Reference proteome', 'Repressor', 'Transcription', 'Transcription regulation', 'Tumor suppressor', 'Ubl conjugation', 'Zinc']\n"
     ]
    }
   ],
   "source": [
    "print(sp_rec.entry_name, sp_rec.sequence_length, sp_rec.gene_name); print()\n",
    "print(sp_rec.description); print()\n",
    "print(sp_rec.organism, sp_rec.seqinfo); print()\n",
    "print(sp_rec.sequence); print()\n",
    "#print(sp_rec.comments); print()  # very long\n",
    "print(sp_rec.keywords)"
   ]
  },
  {
   "cell_type": "code",
   "execution_count": 23,
   "id": "6145043a-105e-4cff-9074-6b27d4ce3023",
   "metadata": {
    "collapsed": true,
    "jupyter": {
     "outputs_hidden": true
    },
    "tags": []
   },
   "outputs": [
    {
     "name": "stdout",
     "output_type": "stream",
     "text": [
      "Help on Record in module Bio.SwissProt object:\n",
      "\n",
      "class Record(builtins.object)\n",
      " |  Holds information from a SwissProt record.\n",
      " |  \n",
      " |  Attributes:\n",
      " |   - entry_name        Name of this entry, e.g. RL1_ECOLI.\n",
      " |   - data_class        Either 'STANDARD' or 'PRELIMINARY'.\n",
      " |   - molecule_type     Type of molecule, 'PRT',\n",
      " |   - sequence_length   Number of residues.\n",
      " |   - accessions        List of the accession numbers, e.g. ['P00321']\n",
      " |   - created           A tuple of (date, release).\n",
      " |   - sequence_update   A tuple of (date, release).\n",
      " |   - annotation_update A tuple of (date, release).\n",
      " |   - description       Free-format description.\n",
      " |   - gene_name         A list of dictionaries with keys 'Name', 'Synonyms',\n",
      " |                       'OrderedLocusNames' and 'ORFNames'.\n",
      " |   - organism          The source of the sequence.\n",
      " |   - organelle         The origin of the sequence.\n",
      " |   - organism_classification  The taxonomy classification.  List of strings.\n",
      " |     (http://www.ncbi.nlm.nih.gov/Taxonomy/)\n",
      " |   - taxonomy_id       A list of NCBI taxonomy id's.\n",
      " |   - host_organism     A list of names of the hosts of a virus, if any.\n",
      " |   - host_taxonomy_id  A list of NCBI taxonomy id's of the hosts, if any.\n",
      " |   - references        List of Reference objects.\n",
      " |   - comments          List of strings.\n",
      " |   - cross_references  List of tuples (db, id1[, id2][, id3]).  See the docs.\n",
      " |   - keywords          List of the keywords.\n",
      " |   - features          List of tuples (key name, from, to, description).\n",
      " |     from and to can be either integers for the residue\n",
      " |     numbers, '<', '>', or '?'\n",
      " |   - protein_existence Numerical value describing the evidence for the existence of the protein.\n",
      " |   - seqinfo           tuple of (length, molecular weight, CRC32 value)\n",
      " |   - sequence          The sequence.\n",
      " |  \n",
      " |  Examples\n",
      " |  --------\n",
      " |  >>> from Bio import SwissProt\n",
      " |  >>> example_filename = \"SwissProt/P68308.txt\"\n",
      " |  >>> with open(example_filename) as handle:\n",
      " |  ...     records = SwissProt.parse(handle)\n",
      " |  ...     for record in records:\n",
      " |  ...         print(record.entry_name)\n",
      " |  ...         print(record.accessions)\n",
      " |  ...         print(record.keywords)\n",
      " |  ...         print(record.organism)\n",
      " |  ...         print(record.sequence[:20] + \"...\")\n",
      " |  ...\n",
      " |  NU3M_BALPH\n",
      " |  ['P68308', 'P24973']\n",
      " |  ['Electron transport', 'Membrane', 'Mitochondrion', 'Mitochondrion inner membrane', 'NAD', 'Respiratory chain', 'Translocase', 'Transmembrane', 'Transmembrane helix', 'Transport', 'Ubiquinone']\n",
      " |  Balaenoptera physalus (Fin whale) (Balaena physalus).\n",
      " |  MNLLLTLLTNTTLALLLVFI...\n",
      " |  \n",
      " |  Methods defined here:\n",
      " |  \n",
      " |  __init__(self)\n",
      " |      Initialize the class.\n",
      " |  \n",
      " |  ----------------------------------------------------------------------\n",
      " |  Data descriptors defined here:\n",
      " |  \n",
      " |  __dict__\n",
      " |      dictionary for instance variables (if defined)\n",
      " |  \n",
      " |  __weakref__\n",
      " |      list of weak references to the object (if defined)\n",
      "\n"
     ]
    }
   ],
   "source": [
    "help(sp_rec)"
   ]
  },
  {
   "cell_type": "code",
   "execution_count": 32,
   "id": "21d6bfc1-338f-49b3-8c2d-3e1865352ed0",
   "metadata": {
    "tags": []
   },
   "outputs": [
    {
     "name": "stdout",
     "output_type": "stream",
     "text": [
      "Total features: 1513\n"
     ]
    }
   ],
   "source": [
    "print('Total features:', len(sp_rec.features))"
   ]
  },
  {
   "cell_type": "code",
   "execution_count": 79,
   "id": "528f9415-63b0-4cba-9163-6221713d4bc2",
   "metadata": {
    "tags": []
   },
   "outputs": [
    {
     "name": "stdout",
     "output_type": "stream",
     "text": [
      "type: CHAIN\n",
      "location: [0:393]\n",
      "id: PRO_0000185703\n",
      "qualifiers:\n",
      "    Key: note, Value: Cellular tumor antigen p53\n",
      "\n",
      "type: DNA_BIND\n",
      "location: [101:292]\n",
      "qualifiers:\n",
      "    Key: evidence, Value: ECO:0000269|PubMed:16793544,ECO:0000269|PubMed:18996393, ECO:0000269|PubMed:20364130\n",
      "\n",
      "type: REGION\n",
      "location: [0:320]\n",
      "qualifiers:\n",
      "    Key: evidence, Value: ECO:0000269|PubMed:25732823\n",
      "    Key: note, Value: Interaction with CCAR2\n",
      "\n",
      "type: MOTIF\n",
      "location: [16:25]\n",
      "qualifiers:\n",
      "    Key: note, Value: TADI\n",
      "\n",
      "type: COMPBIAS\n",
      "location: [63:92]\n",
      "qualifiers:\n",
      "    Key: evidence, Value: ECO:0000256|SAM:MobiDB-lite\n",
      "    Key: note, Value: Pro residues\n",
      "\n",
      "type: BINDING\n",
      "location: [175:176]\n",
      "qualifiers:\n",
      "    Key: evidence, Value: ECO:0000269|PubMed:14534297,ECO:0000269|PubMed:16793544, ECO:0000269|PubMed:17015838,ECO:0000269|PubMed:18650397, ECO:0000269|PubMed:19515728,ECO:0000269|PubMed:20142040, ECO:0000269|PubMed:20364130\n",
      "    Key: ligand, Value: Zn(2+)\n",
      "    Key: ligand_id, Value: ChEBI:CHEBI:29105\n",
      "\n",
      "type: SITE\n",
      "location: [119:120]\n",
      "qualifiers:\n",
      "    Key: evidence, Value: ECO:0000269|PubMed:16793544,ECO:0000269|PubMed:18996393, ECO:0000269|PubMed:20364130\n",
      "    Key: note, Value: Interaction with DNA\n",
      "\n",
      "type: MOD_RES\n",
      "location: [8:9]\n",
      "qualifiers:\n",
      "    Key: evidence, Value: ECO:0000269|PubMed:18022393\n",
      "    Key: note, Value: Phosphoserine; by HIPK4\n",
      "\n",
      "type: CROSSLNK\n",
      "location: [23:24]\n",
      "qualifiers:\n",
      "    Key: evidence, Value: ECO:0000269|PubMed:21597459\n",
      "    Key: note, Value: Glycyl lysine isopeptide (Lys-Gly) (interchain with G-Cter in ubiquitin)\n",
      "\n",
      "type: VAR_SEQ\n",
      "location: [0:132]\n",
      "id: VSP_040833\n",
      "qualifiers:\n",
      "    Key: evidence, Value: ECO:0000303|PubMed:16131611\n",
      "    Key: note, Value: Missing (in isoform 7, isoform 8 and isoform 9)\n",
      "\n",
      "type: VARIANT\n",
      "location: [4:5]\n",
      "id: VAR_044543\n",
      "qualifiers:\n",
      "    Key: note, Value: Q -> H (in a sporadic cancer; somatic mutation; abolishes strongly phosphorylation)\n",
      "\n",
      "type: MUTAGEN\n",
      "location: [14:15]\n",
      "qualifiers:\n",
      "    Key: evidence, Value: ECO:0000269|PubMed:17967874\n",
      "    Key: note, Value: S->A: Loss of interaction with PPP2R5C, PPP2CAANDPPP2R1A.\n",
      "\n",
      "type: HELIX\n",
      "location: [2:6]\n",
      "qualifiers:\n",
      "    Key: evidence, Value: ECO:0007829|PDB:5HOU\n",
      "\n",
      "type: TURN\n",
      "location: [7:10]\n",
      "qualifiers:\n",
      "    Key: evidence, Value: ECO:0007829|PDB:5HOU\n",
      "\n",
      "type: STRAND\n",
      "location: [28:31]\n",
      "qualifiers:\n",
      "    Key: evidence, Value: ECO:0007829|PDB:2LY4\n",
      "\n"
     ]
    }
   ],
   "source": [
    "done_features = set()\n",
    "num_items = defaultdict(int) # WS calculate how many of each feature type\n",
    "for feature in sp_rec.features:\n",
    "    # WS had to add .type (book out of date)\n",
    "    num_items[feature.type] += 1\n",
    "    if feature.type in done_features:\n",
    "        continue\n",
    "    else:\n",
    "        done_features.add(feature.type)\n",
    "        print(feature)"
   ]
  },
  {
   "cell_type": "code",
   "execution_count": 92,
   "id": "afaa9963-c584-4a85-bb68-1104c26e13cd",
   "metadata": {},
   "outputs": [
    {
     "name": "stdout",
     "output_type": "stream",
     "text": [
      "CHAIN         1\n",
      "DNA_BIND      1\n",
      "REGION       19\n",
      "MOTIF         5\n",
      "COMPBIAS      4\n",
      "BINDING       4\n",
      "SITE          1\n",
      "MOD_RES      28\n",
      "CROSSLNK      4\n",
      "VAR_SEQ       6\n",
      "VARIANT    1363\n",
      "MUTAGEN      36\n",
      "HELIX        14\n",
      "TURN          7\n",
      "STRAND       20\n",
      "total      1513\n"
     ]
    }
   ],
   "source": [
    "# WS get the counts per feature\n",
    "sum = 0\n",
    "for j, k in num_items.items():\n",
    "    sum += k\n",
    "    print('{:10}{:5}'.format(j, k))\n",
    "print('{:10}{:5}'.format('total', sum))"
   ]
  },
  {
   "cell_type": "code",
   "execution_count": 46,
   "id": "738bfc87-0b4a-4346-ae7f-67200d310c2a",
   "metadata": {
    "tags": []
   },
   "outputs": [
    {
     "name": "stdout",
     "output_type": "stream",
     "text": [
      "Cross references:  998\n"
     ]
    }
   ],
   "source": [
    "print('Cross references: ',len(sp_rec.cross_references))"
   ]
  },
  {
   "cell_type": "code",
   "execution_count": 47,
   "id": "d7e901f1-06f6-4ca8-8985-286fbf5e6481",
   "metadata": {
    "tags": []
   },
   "outputs": [
    {
     "name": "stdout",
     "output_type": "stream",
     "text": [
      "dict_keys(['EMBL', 'CCDS', 'PIR', 'RefSeq', 'PDB', 'PDBsum', 'AlphaFoldDB', 'BMRB', 'SMR', 'BioGRID', 'ComplexPortal', 'CORUM', 'DIP', 'ELM', 'IntAct', 'MINT', 'STRING', 'BindingDB', 'ChEMBL', 'DrugBank', 'MoonDB', 'TCDB', 'GlyCosmos', 'GlyGen', 'iPTMnet', 'MetOSite', 'PhosphoSitePlus', 'BioMuta', 'DMDM', 'SWISS-2DPAGE', 'CPTAC', 'EPD', 'jPOST', 'MassIVE', 'MaxQB', 'PaxDb', 'PeptideAtlas', 'ProteomicsDB', 'ABCD', 'Antibodypedia', 'CPTC', 'DNASU', 'Ensembl', 'GeneID', 'KEGG', 'MANE-Select', 'UCSC', 'AGR', 'CTD', 'DisGeNET', 'GeneCards', 'GeneReviews', 'HGNC', 'HPA', 'MalaCards', 'MIM', 'neXtProt', 'OpenTargets', 'Orphanet', 'PharmGKB', 'VEuPathDB', 'eggNOG', 'GeneTree', 'InParanoid', 'OMA', 'OrthoDB', 'PhylomeDB', 'TreeFam', 'PathwayCommons', 'Reactome', 'SABIO-RK', 'SignaLink', 'SIGNOR', 'BioGRID-ORCS', 'ChiTaRS', 'EvolutionaryTrace', 'GeneWiki', 'GenomeRNAi', 'Pharos', 'PRO', 'Proteomes', 'RNAct', 'Bgee', 'ExpressionAtlas', 'Genevisible', 'GO', 'CDD', 'DisProt', 'Gene3D', 'IDEAL', 'InterPro', 'PANTHER', 'Pfam', 'PRINTS', 'SUPFAM', 'PROSITE'])\n"
     ]
    }
   ],
   "source": [
    "per_source = defaultdict(list)\n",
    "for xref in sp_rec.cross_references:\n",
    "    source = xref[0]\n",
    "    per_source[source].append(xref[1:])\n",
    "print(per_source.keys())"
   ]
  },
  {
   "cell_type": "code",
   "execution_count": 93,
   "id": "debe7a4a-d7df-4d93-8d5c-40d947f10379",
   "metadata": {
    "collapsed": true,
    "jupyter": {
     "outputs_hidden": true
    },
    "tags": []
   },
   "outputs": [
    {
     "data": {
      "text/plain": [
       "[('1A1U', 'NMR', '-', 'A/C=324-358'),\n",
       " ('1AIE', 'X-ray', '1.50 A', 'A=326-356'),\n",
       " ('1C26', 'X-ray', '1.70 A', 'A=325-356'),\n",
       " ('1DT7', 'NMR', '-', 'X/Y=367-388'),\n",
       " ('1GZH', 'X-ray', '2.60 A', 'A/C=95-292'),\n",
       " ('1H26', 'X-ray', '2.24 A', 'E=376-386'),\n",
       " ('1HS5', 'NMR', '-', 'A/B=324-357'),\n",
       " ('1JSP', 'NMR', '-', 'A=367-386'),\n",
       " ('1KZY', 'X-ray', '2.50 A', 'A/B=95-289'),\n",
       " ('1MA3', 'X-ray', '2.00 A', 'B=372-389'),\n",
       " ('1OLG', 'NMR', '-', 'A/B/C/D=319-360'),\n",
       " ('1OLH', 'NMR', '-', 'A/B/C/D=319-360'),\n",
       " ('1PES', 'NMR', '-', 'A/B/C/D=325-355'),\n",
       " ('1PET', 'NMR', '-', 'A/B/C/D=325-355'),\n",
       " ('1SAE', 'NMR', '-', 'A/B/C/D=319-360'),\n",
       " ('1SAF', 'NMR', '-', 'A/B/C/D=319-360'),\n",
       " ('1SAK', 'NMR', '-', 'A/B/C/D=319-360'),\n",
       " ('1SAL', 'NMR', '-', 'A/B/C/D=319-360'),\n",
       " ('1TSR', 'X-ray', '2.20 A', 'A/B/C=94-312'),\n",
       " ('1TUP', 'X-ray', '2.20 A', 'A/B/C=94-312'),\n",
       " ('1UOL', 'X-ray', '1.90 A', 'A/B=94-312'),\n",
       " ('1XQH', 'X-ray', '1.75 A', 'B/F=369-377'),\n",
       " ('1YC5', 'X-ray', '1.40 A', 'B=372-389'),\n",
       " ('1YCQ', 'X-ray', '2.30 A', 'B=13-29'),\n",
       " ('1YCR', 'X-ray', '2.60 A', 'B=15-29'),\n",
       " ('1YCS', 'X-ray', '2.20 A', 'A=94-292'),\n",
       " ('2AC0', 'X-ray', '1.80 A', 'A/B/C/D=94-293'),\n",
       " ('2ADY', 'X-ray', '2.50 A', 'A/B=94-293'),\n",
       " ('2AHI', 'X-ray', '1.85 A', 'A/B/C/D=94-293'),\n",
       " ('2ATA', 'X-ray', '2.20 A', 'A/B/C/D=94-293'),\n",
       " ('2B3G', 'X-ray', '1.60 A', 'B=33-60'),\n",
       " ('2BIM', 'X-ray', '1.98 A', 'A/B=94-312'),\n",
       " ('2BIN', 'X-ray', '1.90 A', 'A=94-312'),\n",
       " ('2BIO', 'X-ray', '1.90 A', 'A=94-312'),\n",
       " ('2BIP', 'X-ray', '1.80 A', 'A=94-312'),\n",
       " ('2BIQ', 'X-ray', '1.80 A', 'A=94-312'),\n",
       " ('2F1X', 'X-ray', '2.30 A', 'A/B=359-368'),\n",
       " ('2FEJ', 'NMR', '-', 'A=94-297'),\n",
       " ('2FOJ', 'X-ray', '1.60 A', 'B=361-367'),\n",
       " ('2FOO', 'X-ray', '2.20 A', 'B=358-363'),\n",
       " ('2GS0', 'NMR', '-', 'B=20-73'),\n",
       " ('2H1L', 'X-ray', '3.16 A', 'M/N/O/P/Q/R/S/T/U/V/W/X=92-292'),\n",
       " ('2H2D', 'X-ray', '1.70 A', 'B=372-389'),\n",
       " ('2H2F', 'X-ray', '2.20 A', 'B=372-389'),\n",
       " ('2H4F', 'X-ray', '2.00 A', 'D=372-389'),\n",
       " ('2H4H', 'X-ray', '1.99 A', 'B=372-389'),\n",
       " ('2H4J', 'X-ray', '2.10 A', 'D=372-389'),\n",
       " ('2H59', 'X-ray', '1.90 A', 'D/E=372-389'),\n",
       " ('2J0Z', 'NMR', '-', 'A/B/C/D=326-356'),\n",
       " ('2J10', 'NMR', '-', 'A/B/C/D=326-356'),\n",
       " ('2J11', 'NMR', '-', 'A/B/C/D=326-356'),\n",
       " ('2J1W', 'X-ray', '1.80 A', 'A/B=94-312'),\n",
       " ('2J1X', 'X-ray', '1.65 A', 'A/B=94-312'),\n",
       " ('2J1Y', 'X-ray', '1.69 A', 'A/B/C/D=94-293'),\n",
       " ('2J1Z', 'X-ray', '1.80 A', 'A/B=94-312'),\n",
       " ('2J20', 'X-ray', '1.80 A', 'A/B=94-312'),\n",
       " ('2J21', 'X-ray', '1.60 A', 'A/B=94-312'),\n",
       " ('2K8F', 'NMR', '-', 'B=1-39'),\n",
       " ('2L14', 'NMR', '-', 'B=13-61'),\n",
       " ('2LY4', 'NMR', '-', 'B=1-93'),\n",
       " ('2MEJ', 'NMR', '-', 'B=96-312'),\n",
       " ('2MWO', 'NMR', '-', 'B=363-377'),\n",
       " ('2MWP', 'NMR', '-', 'B=376-387'),\n",
       " ('2MWY', 'NMR', '-', 'B=15-29'),\n",
       " ('2MZD', 'NMR', '-', 'B=35-59'),\n",
       " ('2OCJ', 'X-ray', '2.05 A', 'A/B/C/D=94-312'),\n",
       " ('2PCX', 'X-ray', '1.54 A', 'A=94-292'),\n",
       " ('2RUK', 'NMR', '-', 'A=41-62'),\n",
       " ('2VUK', 'X-ray', '1.50 A', 'A/B=94-312'),\n",
       " ('2WGX', 'X-ray', '1.75 A', 'A/B=94-312'),\n",
       " ('2X0U', 'X-ray', '1.60 A', 'A/B=94-312'),\n",
       " ('2X0V', 'X-ray', '1.80 A', 'A/B=94-312'),\n",
       " ('2X0W', 'X-ray', '2.10 A', 'A/B=94-312'),\n",
       " ('2XWR', 'X-ray', '1.68 A', 'A/B=89-293'),\n",
       " ('2YBG', 'X-ray', '1.90 A', 'A/B/C/D=94-293'),\n",
       " ('2YDR', 'X-ray', '2.75 A', 'P=144-154'),\n",
       " ('2Z5S', 'X-ray', '2.30 A', 'P/Q/R=15-29'),\n",
       " ('2Z5T', 'X-ray', '2.30 A', 'P/Q/R=15-29'),\n",
       " ('3D05', 'X-ray', '1.70 A', 'A=94-293'),\n",
       " ('3D06', 'X-ray', '1.20 A', 'A=94-293'),\n",
       " ('3D07', 'X-ray', '2.20 A', 'A/B=94-293'),\n",
       " ('3D08', 'X-ray', '1.40 A', 'A=94-293'),\n",
       " ('3D09', 'X-ray', '1.90 A', 'A=94-293'),\n",
       " ('3D0A', 'X-ray', '1.80 A', 'A/B/C/D=94-293'),\n",
       " ('3DAB', 'X-ray', '1.90 A', 'B/D/F/H=15-29'),\n",
       " ('3DAC', 'X-ray', '1.80 A', 'B/P=17-37'),\n",
       " ('3IGK', 'X-ray', '1.70 A', 'A=94-293'),\n",
       " ('3IGL', 'X-ray', '1.80 A', 'A=94-293'),\n",
       " ('3KMD', 'X-ray', '2.15 A', 'A/B/C/D=92-291'),\n",
       " ('3KZ8', 'X-ray', '1.91 A', 'A/B=94-293'),\n",
       " ('3LW1', 'X-ray', '1.28 A', 'P=385-393'),\n",
       " ('3OQ5', 'X-ray', '2.50 A', 'D/E=377-386'),\n",
       " ('3PDH', 'X-ray', '1.80 A', 'D=372-389'),\n",
       " ('3Q01', 'X-ray', '2.10 A', 'A/B=94-356'),\n",
       " ('3Q05', 'X-ray', '2.40 A', 'A/B/C/D=94-356'),\n",
       " ('3Q06', 'X-ray', '3.20 A', 'A/B/C/D=96-354'),\n",
       " ('3SAK', 'NMR', '-', 'A/B/C/D=319-360'),\n",
       " ('3TG5', 'X-ray', '2.30 A', 'B=365-375'),\n",
       " ('3TS8', 'X-ray', '2.80 A', 'A/B/C/D=94-356'),\n",
       " ('3ZME', 'X-ray', '1.35 A', 'A/B=94-312'),\n",
       " ('4AGL', 'X-ray', '1.70 A', 'A/B=94-312'),\n",
       " ('4AGM', 'X-ray', '1.52 A', 'A/B=94-312'),\n",
       " ('4AGN', 'X-ray', '1.60 A', 'A/B=94-312'),\n",
       " ('4AGO', 'X-ray', '1.45 A', 'A/B=94-312'),\n",
       " ('4AGP', 'X-ray', '1.50 A', 'A/B=94-312'),\n",
       " ('4AGQ', 'X-ray', '1.42 A', 'A/B=94-312'),\n",
       " ('4BUZ', 'X-ray', '1.90 A', 'P=379-386'),\n",
       " ('4BV2', 'X-ray', '3.30 A', 'E/H=376-388'),\n",
       " ('4HFZ', 'X-ray', '2.69 A', 'B/D=15-29'),\n",
       " ('4HJE', 'X-ray', '1.91 A', 'A/B/C/D=92-291'),\n",
       " ('4IBQ', 'X-ray', '1.80 A', 'A/B/C/D=94-293'),\n",
       " ('4IBS', 'X-ray', '1.78 A', 'A/B/C/D=94-293'),\n",
       " ('4IBT', 'X-ray', '1.70 A', 'A/B/C/D=94-293'),\n",
       " ('4IBU', 'X-ray', '1.70 A', 'A/B/C/D=94-293'),\n",
       " ('4IBV', 'X-ray', '2.10 A', 'A=94-293'),\n",
       " ('4IBW', 'X-ray', '1.79 A', 'A=94-293'),\n",
       " ('4IBY', 'X-ray', '1.45 A', 'A/B=94-293'),\n",
       " ('4IBZ', 'X-ray', '1.92 A', 'A/B/C/D=94-293'),\n",
       " ('4IJT', 'X-ray', '1.78 A', 'A=94-293'),\n",
       " ('4KVP', 'X-ray', '1.50 A', 'A/B/C/D=94-312'),\n",
       " ('4LO9', 'X-ray', '2.50 A', 'A/B/C/D=94-312'),\n",
       " ('4LOE', 'X-ray', '1.85 A', 'A/B/C/D=94-312'),\n",
       " ('4LOF', 'X-ray', '2.00 A', 'A=94-312'),\n",
       " ('4MZI', 'X-ray', '1.25 A', 'A=94-292'),\n",
       " ('4MZR', 'X-ray', '2.90 A', 'A/B/C/D=94-358'),\n",
       " ('4QO1', 'X-ray', '1.92 A', 'B=92-312'),\n",
       " ('4RP6', 'X-ray', '1.70 A', 'Z=252-258'),\n",
       " ('4RP7', 'X-ray', '1.58 A', 'Z=253-258'),\n",
       " ('4X34', 'X-ray', '1.80 A', 'C/D=377-386'),\n",
       " ('4XR8', 'X-ray', '2.25 A', 'C/D=94-292'),\n",
       " ('4ZZJ', 'X-ray', '2.74 A', 'B=379-383'),\n",
       " ('5A7B', 'X-ray', '1.40 A', 'A/B=94-312'),\n",
       " ('5AB9', 'X-ray', '1.36 A', 'A/B=94-312'),\n",
       " ('5ABA', 'X-ray', '1.62 A', 'A/B=94-312'),\n",
       " ('5AOI', 'X-ray', '1.78 A', 'A/B=94-312'),\n",
       " ('5AOJ', 'X-ray', '1.47 A', 'A/B=94-312'),\n",
       " ('5AOK', 'X-ray', '1.35 A', 'A/B=94-312'),\n",
       " ('5AOL', 'X-ray', '1.50 A', 'A/B=94-312'),\n",
       " ('5AOM', 'X-ray', '1.74 A', 'A/B=94-312'),\n",
       " ('5BUA', 'X-ray', '1.81 A', 'A=94-293'),\n",
       " ('5ECG', 'X-ray', '3.00 A', 'A/B=95-312'),\n",
       " ('5G4M', 'X-ray', '1.38 A', 'A/B=94-312'),\n",
       " ('5G4N', 'X-ray', '1.35 A', 'A/B=94-312'),\n",
       " ('5G4O', 'X-ray', '1.48 A', 'A/B=94-312'),\n",
       " ('5HOU', 'NMR', '-', 'A=1-61'),\n",
       " ('5HP0', 'NMR', '-', 'A=37-61'),\n",
       " ('5HPD', 'NMR', '-', 'A=2-61'),\n",
       " ('5LAP', 'X-ray', '1.42 A', 'A/B=94-312'),\n",
       " ('5LGY', 'X-ray', '2.92 A', 'A/B/C/D=94-291'),\n",
       " ('5MCT', 'X-ray', '1.45 A', 'A/B=94-293'),\n",
       " ('5MCU', 'X-ray', '1.70 A', 'A/B=94-293'),\n",
       " ('5MCV', 'X-ray', '1.60 A', 'A/B=94-293'),\n",
       " ('5MCW', 'X-ray', '1.90 A', 'A/B=94-293'),\n",
       " ('5MF7', 'X-ray', '1.59 A', 'A/B=94-293'),\n",
       " ('5MG7', 'X-ray', '1.45 A', 'A/B=94-293'),\n",
       " ('5MHC', 'X-ray', '1.20 A', 'P=382-393'),\n",
       " ('5MOC', 'X-ray', '1.80 A', 'P=382-393'),\n",
       " ('5O1A', 'X-ray', '1.44 A', 'A/B=94-312'),\n",
       " ('5O1B', 'X-ray', '1.43 A', 'A/B=94-312'),\n",
       " ('5O1C', 'X-ray', '1.32 A', 'A/B=94-312'),\n",
       " ('5O1D', 'X-ray', '1.36 A', 'A/B=94-312'),\n",
       " ('5O1E', 'X-ray', '1.30 A', 'A/B=94-312'),\n",
       " ('5O1F', 'X-ray', '1.38 A', 'A/B=94-312'),\n",
       " ('5O1G', 'X-ray', '1.35 A', 'A/B=94-312'),\n",
       " ('5O1H', 'X-ray', '1.32 A', 'A/B=94-312'),\n",
       " ('5O1I', 'X-ray', '1.40 A', 'A/B=94-312'),\n",
       " ('5OL0', 'X-ray', '1.99 A', 'C/D=372-389'),\n",
       " ('5UN8', 'X-ray', '2.13 A', 'E/F/G/H=144-154'),\n",
       " ('5XZC', 'EM', '10.70 A', 'B/C/D/E=92-356'),\n",
       " ('6FF9', 'X-ray', '2.00 A', 'A/B/C/D=97-289'),\n",
       " ('6FJ5', 'X-ray', '2.05 A', 'A/B/C/D=94-293'),\n",
       " ('6GGA', 'X-ray', '1.55 A', 'A/B=94-312'),\n",
       " ('6GGB', 'X-ray', '1.32 A', 'A/B=94-312'),\n",
       " ('6GGC', 'X-ray', '1.24 A', 'A/B=94-312'),\n",
       " ('6GGD', 'X-ray', '1.40 A', 'A/B=94-312'),\n",
       " ('6GGE', 'X-ray', '1.25 A', 'A/B=94-312'),\n",
       " ('6GGF', 'X-ray', '1.32 A', 'A/B=94-312'),\n",
       " ('6LHD', 'X-ray', '2.50 A', 'A/B=96-292'),\n",
       " ('6R5L', 'X-ray', '1.88 A', 'P=382-393'),\n",
       " ('6RJZ', 'X-ray', '1.58 A', 'P=382-393'),\n",
       " ('6RK8', 'X-ray', '1.60 A', 'P=382-393'),\n",
       " ('6RKI', 'X-ray', '1.88 A', 'P=382-393'),\n",
       " ('6RKK', 'X-ray', '1.88 A', 'P=382-393'),\n",
       " ('6RKM', 'X-ray', '1.88 A', 'P=382-393'),\n",
       " ('6RL3', 'X-ray', '1.30 A', 'P=382-393'),\n",
       " ('6RL4', 'X-ray', '1.60 A', 'P=382-393'),\n",
       " ('6RL6', 'X-ray', '1.60 A', 'P=382-393'),\n",
       " ('6RM5', 'X-ray', '1.88 A', 'P=382-393'),\n",
       " ('6RM7', 'X-ray', '1.60 A', 'P=382-393'),\n",
       " ('6RWH', 'X-ray', '1.68 A', 'P=382-393'),\n",
       " ('6RWI', 'X-ray', '1.65 A', 'P=382-393'),\n",
       " ('6RWS', 'X-ray', '1.53 A', 'P=382-393'),\n",
       " ('6RWU', 'X-ray', '1.46 A', 'P=382-393'),\n",
       " ('6RX2', 'X-ray', '1.82 A', 'P=382-393'),\n",
       " ('6RZ3', 'X-ray', '4.23 A', 'A=62-292'),\n",
       " ('6S39', 'X-ray', '1.88 A', 'P=382-393'),\n",
       " ('6S3C', 'X-ray', '2.00 A', 'P=382-393'),\n",
       " ('6S40', 'X-ray', '1.90 A', 'P=382-393'),\n",
       " ('6S9Q', 'X-ray', '1.69 A', 'P=382-393'),\n",
       " ('6SHZ', 'X-ray', '1.24 A', 'A/B=94-311'),\n",
       " ('6SI0', 'X-ray', '1.53 A', 'A/B=94-312'),\n",
       " ('6SI1', 'X-ray', '1.44 A', 'A/B=94-312'),\n",
       " ('6SI2', 'X-ray', '1.50 A', 'A/B=94-312'),\n",
       " ('6SI3', 'X-ray', '1.40 A', 'A/B=94-312'),\n",
       " ('6SI4', 'X-ray', '1.80 A', 'A/B=94-312'),\n",
       " ('6SIN', 'X-ray', '1.64 A', 'P=382-393'),\n",
       " ('6SIO', 'X-ray', '1.60 A', 'P=382-393'),\n",
       " ('6SIP', 'X-ray', '1.60 A', 'P=382-393'),\n",
       " ('6SIQ', 'X-ray', '1.60 A', 'P=382-393'),\n",
       " ('6SL6', 'X-ray', '1.67 A', 'A=89-311'),\n",
       " ('6SLV', 'X-ray', '1.90 A', 'P=382-393'),\n",
       " ('6T58', 'X-ray', '3.10 A', 'A/B=17-56'),\n",
       " ('6V4F', 'X-ray', '1.35 A', 'B=14-29'),\n",
       " ('6V4H', 'X-ray', '1.53 A', 'B/D=14-29'),\n",
       " ('6VQO', 'X-ray', '3.00 A', 'P/Q=168-176'),\n",
       " ('6VR1', 'X-ray', '2.37 A', 'P/Q=168-176'),\n",
       " ('6VR5', 'X-ray', '2.38 A', 'P/Q=168-176'),\n",
       " ('6VRM', 'X-ray', '2.61 A', 'P=168-176'),\n",
       " ('6VRN', 'X-ray', '2.46 A', 'P=168-176'),\n",
       " ('6W51', 'X-ray', '3.53 A', 'C/F/I/L=168-176'),\n",
       " ('6XRE', 'EM', '4.60 A', 'M=1-393'),\n",
       " ('6ZNC', 'X-ray', '1.64 A', 'A=94-293'),\n",
       " ('7B46', 'X-ray', '2.02 A', 'A/B/C/D=94-293'),\n",
       " ('7B47', 'X-ray', '1.80 A', 'A/B/C/D=94-293'),\n",
       " ('7B48', 'X-ray', '2.05 A', 'A/B/C/D=94-293'),\n",
       " ('7B49', 'X-ray', '1.42 A', 'A/B=94-293'),\n",
       " ('7B4A', 'X-ray', '1.90 A', 'A/B=94-293'),\n",
       " ('7B4B', 'X-ray', '1.76 A', 'A/B/C/D=94-293'),\n",
       " ('7B4C', 'X-ray', '1.71 A', 'A/B/C/D=94-293'),\n",
       " ('7B4D', 'X-ray', '1.85 A', 'A=94-293'),\n",
       " ('7B4E', 'X-ray', '1.58 A', 'A=94-293'),\n",
       " ('7B4F', 'X-ray', '1.78 A', 'A=94-293'),\n",
       " ('7B4G', 'X-ray', '1.86 A', 'A=94-293'),\n",
       " ('7B4H', 'X-ray', '1.39 A', 'A=94-293'),\n",
       " ('7B4N', 'X-ray', '1.32 A', 'A=94-293'),\n",
       " ('7BWN', 'X-ray', '2.40 A', 'B/D/G/I/K/L/N/P=326-356'),\n",
       " ('7DHY', 'X-ray', '2.15 A', 'A/B/C/D=94-293'),\n",
       " ('7DHZ', 'X-ray', '1.74 A', 'A/B=94-293'),\n",
       " ('7DVD', 'X-ray', '2.59 A', 'A/B/C/D=92-290'),\n",
       " ('7EAX', 'X-ray', '2.55 A', 'A/B/C/D=96-289'),\n",
       " ('7EDS', 'X-ray', '1.77 A', 'A=94-293'),\n",
       " ('7EEU', 'X-ray', '2.90 A', 'A/B/C/D/E/F/G/H=94-293'),\n",
       " ('7EL4', 'X-ray', '2.11 A', 'A=23-29'),\n",
       " ('7NMI', 'X-ray', '2.10 A', 'A=17-56'),\n",
       " ('7RM4', 'X-ray', '3.33 A', 'C/H/M/R=168-176'),\n",
       " ('7V97', 'X-ray', '2.02 A', 'A/B/C/D=94-293'),\n",
       " ('7XZX', 'EM', '4.53 A', 'K/L/M/N=94-293'),\n",
       " ('7XZZ', 'EM', '4.07 A', 'K/L/M/N=1-393'),\n",
       " ('8A92', 'X-ray', '1.37 A', 'A/B=94-312'),\n",
       " ('8DC4', 'X-ray', '2.40 A', 'A/B/C/D=94-312'),\n",
       " ('8DC6', 'X-ray', '1.60 A', 'A/B/C/D=94-312'),\n",
       " ('8DC7', 'X-ray', '1.99 A', 'A=94-312'),\n",
       " ('8DC8', 'X-ray', '1.72 A', 'A=94-312')]"
      ]
     },
     "execution_count": 93,
     "metadata": {},
     "output_type": "execute_result"
    }
   ],
   "source": [
    "per_source['PDB']  # I looked at a few of these with Jmol: very neat"
   ]
  },
  {
   "cell_type": "code",
   "execution_count": 73,
   "id": "b82f5e2a-07ca-4305-9909-96de6ce69fae",
   "metadata": {
    "tags": []
   },
   "outputs": [
    {
     "name": "stdout",
     "output_type": "stream",
     "text": [
      "Annotation SOURCES: 185\n"
     ]
    }
   ],
   "source": [
    "done_GOs = set()\n",
    "print('Annotation SOURCES:', len(per_source['GO']))"
   ]
  },
  {
   "cell_type": "code",
   "execution_count": 74,
   "id": "95dbbeaf-ea4d-41d1-a305-dfeee75eeaaa",
   "metadata": {
    "tags": []
   },
   "outputs": [
    {
     "name": "stdout",
     "output_type": "stream",
     "text": [
      "('GO:0005813', 'C:centrosome', 'IDA:UniProtKB')\n",
      "('GO:0071889', 'F:14-3-3 protein binding', 'EXP:DisProt')\n",
      "('GO:0006914', 'P:autophagy', 'IMP:CAFA')\n"
     ]
    }
   ],
   "source": [
    "for annot in per_source['GO']:\n",
    "    if annot[1][0] in done_GOs:\n",
    "        continue\n",
    "    else:\n",
    "        done_GOs.add(annot[1][0])\n",
    "        print(annot)"
   ]
  },
  {
   "cell_type": "code",
   "execution_count": 70,
   "id": "13e53743-e505-4c35-81af-d26566e8cc76",
   "metadata": {},
   "outputs": [
    {
     "data": {
      "text/plain": [
       "{'C', 'F', 'P'}"
      ]
     },
     "execution_count": 70,
     "metadata": {},
     "output_type": "execute_result"
    }
   ],
   "source": [
    "done_GOs"
   ]
  },
  {
   "cell_type": "code",
   "execution_count": 71,
   "id": "118f75ce-7f7c-4913-abf4-fe433d3c8592",
   "metadata": {},
   "outputs": [
    {
     "data": {
      "text/plain": [
       "'C:centrosome'"
      ]
     },
     "execution_count": 71,
     "metadata": {},
     "output_type": "execute_result"
    }
   ],
   "source": [
    "per_source['GO'][0][1] # [0] of this is 'C' the first character"
   ]
  },
  {
   "cell_type": "code",
   "execution_count": null,
   "id": "15411697-3e35-40df-a798-4ec1374f739d",
   "metadata": {},
   "outputs": [],
   "source": []
  },
  {
   "cell_type": "code",
   "execution_count": null,
   "id": "901ed326-f38f-44e7-bac0-2b1447b12ddd",
   "metadata": {},
   "outputs": [],
   "source": []
  }
 ],
 "metadata": {
  "kernelspec": {
   "display_name": "Python 3 (ipykernel)",
   "language": "python",
   "name": "python3"
  },
  "language_info": {
   "codemirror_mode": {
    "name": "ipython",
    "version": 3
   },
   "file_extension": ".py",
   "mimetype": "text/x-python",
   "name": "python",
   "nbconvert_exporter": "python",
   "pygments_lexer": "ipython3",
   "version": "3.10.6"
  }
 },
 "nbformat": 4,
 "nbformat_minor": 5
}

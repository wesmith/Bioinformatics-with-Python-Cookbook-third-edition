{
 "cells": [
  {
   "cell_type": "markdown",
   "id": "1e3f2d35-49ad-476b-8333-453c82f0637c",
   "metadata": {},
   "source": [
    "# WS_ch08C.ipynb\n",
    "### WESmith 04/18/23\n",
    "\n",
    "## EXTRACTING MORE INFO FROM A PDB FILE\n",
    "#### (see book code in Chapter08/Stats.py)\n",
    "\n",
    "### WS created this notebook to follow along with code from the book\n",
    "### 'Bioinformatics with Python Cookbook' by Tiago Antao\n",
    "#### Each recipe will have its own notebook, suffixed by A, B, etc.¶\n"
   ]
  },
  {
   "cell_type": "code",
   "execution_count": null,
   "id": "ea3ad056-9c50-499a-ae00-5ba8c9159b24",
   "metadata": {},
   "outputs": [],
   "source": [
    "from collections import defaultdict\n",
    "import sys\n",
    "import matplotlib.pyplot as plt\n",
    "from mpl_toolkits.mplot3d import Axes3D\n",
    "# #%matplotlib inline\n",
    "from Bio import PDB\n",
    "import os"
   ]
  },
  {
   "cell_type": "code",
   "execution_count": null,
   "id": "4249c65d-aea9-49b0-bc7c-5840311e7a9d",
   "metadata": {},
   "outputs": [],
   "source": [
    "import utils as ws"
   ]
  },
  {
   "cell_type": "code",
   "execution_count": null,
   "id": "7b0b3c9a-76ec-4be0-a5ea-9839b33ed19b",
   "metadata": {
    "tags": []
   },
   "outputs": [],
   "source": [
    "data_dir  = 'data'"
   ]
  },
  {
   "cell_type": "code",
   "execution_count": null,
   "id": "c8402d20-92e2-4c4b-b480-c700431097f4",
   "metadata": {},
   "outputs": [],
   "source": [
    "repository = PDB.PDBList()\n",
    "parser     = PDB.PDBParser()"
   ]
  },
  {
   "cell_type": "code",
   "execution_count": null,
   "id": "f2a7e1cd-d827-4645-ae7f-a6f508f62d49",
   "metadata": {},
   "outputs": [],
   "source": [
    "repository.retrieve_pdb_file('1TUP', pdir=data_dir, file_format='pdb')"
   ]
  },
  {
   "cell_type": "code",
   "execution_count": null,
   "id": "64c460b0-7355-4e11-8534-e563e8ca6046",
   "metadata": {},
   "outputs": [],
   "source": [
    "pdb1tup_file = os.path.join(data_dir, 'pdb1tup.ent')"
   ]
  },
  {
   "cell_type": "code",
   "execution_count": null,
   "id": "60858a24-83c0-48f3-a354-2398f9b86f16",
   "metadata": {
    "tags": []
   },
   "outputs": [],
   "source": [
    "p53_1tup = parser.get_structure('P 53', pdb1tup_file)"
   ]
  },
  {
   "cell_type": "code",
   "execution_count": null,
   "id": "ef78c30d-5d2a-4144-affe-7b6b397746d4",
   "metadata": {
    "tags": []
   },
   "outputs": [],
   "source": [
    "ws.attrs(p53_1tup) # WS examine the object"
   ]
  },
  {
   "cell_type": "code",
   "execution_count": null,
   "id": "71b7762e-e79b-4b62-add3-784cad66f80c",
   "metadata": {},
   "outputs": [],
   "source": [
    "atom_cnt       = defaultdict(int)\n",
    "atom_chain     = defaultdict(int)\n",
    "atom_res_types = defaultdict(int)\n",
    "\n",
    "for atom in p53_1tup.get_atoms():\n",
    "    my_residue = atom.parent\n",
    "    my_chain   = my_residue.parent\n",
    "    atom_chain[my_chain.id] += 1\n",
    "    if my_residue.resname != 'HOH':\n",
    "        atom_cnt[atom.element] += 1\n",
    "    atom_res_types[my_residue.resname] += 1"
   ]
  },
  {
   "cell_type": "code",
   "execution_count": null,
   "id": "4ae442b2-99fd-460f-9dba-472916c88212",
   "metadata": {},
   "outputs": [],
   "source": [
    "# test of print_dict()\n",
    "example_dict = { 'abcde': 'hello',\n",
    "                 12345: 'whereami',\n",
    "                 'overhere' : { 98.4: 'temp' },\n",
    "                 'keyzee' : { 'subdict': { 'keykey': 'valuevalue',\n",
    "                                           'keybee': -54,\n",
    "                                            3.1415: 109876},\n",
    "                              'lastkey': 'lastval'}}"
   ]
  },
  {
   "cell_type": "code",
   "execution_count": null,
   "id": "56ed26ed-6799-40b9-a70d-f6a9be9512f5",
   "metadata": {},
   "outputs": [],
   "source": [
    "ws.print_dict(example_dict) # defaults"
   ]
  },
  {
   "cell_type": "code",
   "execution_count": null,
   "id": "eee6b50b-e837-4ec7-8fbe-207dc623ad11",
   "metadata": {},
   "outputs": [],
   "source": [
    "ws.print_dict(example_dict, leader=';-)', keywidth=9, indent=2, sep=1)"
   ]
  },
  {
   "cell_type": "code",
   "execution_count": null,
   "id": "92414ab6-aac7-4a78-beeb-38c8a3fcde97",
   "metadata": {
    "tags": []
   },
   "outputs": [],
   "source": [
    "ws.print_dict(atom_res_types, leader='residuals', sep=4); print()\n",
    "ws.print_dict(atom_chain, sep=2, leader='chain'); print()\n",
    "ws.print_dict(atom_cnt, sep=3, leader='count')"
   ]
  },
  {
   "cell_type": "code",
   "execution_count": null,
   "id": "5da65725-476a-4e27-b8a9-89ca763d3ddf",
   "metadata": {
    "tags": []
   },
   "outputs": [],
   "source": [
    "list(p53_1tup.get_residues()) # WS explore structure"
   ]
  },
  {
   "cell_type": "code",
   "execution_count": null,
   "id": "70d45334-d56d-40cf-942c-2fb7524a29bf",
   "metadata": {},
   "outputs": [],
   "source": [
    "type(tt) == dict"
   ]
  },
  {
   "cell_type": "code",
   "execution_count": null,
   "id": "82b0b16f-8463-4d7f-bb21-afe01596ebd9",
   "metadata": {},
   "outputs": [],
   "source": [
    "res_types     = defaultdict(int)\n",
    "res_per_chain = defaultdict(int)\n",
    "\n",
    "for residue in p53_1tup.get_residues():\n",
    "    res_types[residue.resname] += 1\n",
    "    # WS remove water from res_per_chain count\n",
    "    #    so that nucleotides add up with res_types count\n",
    "    #    and so that res_per_chain count is pure residues (eg amino acids only)\n",
    "    if residue.resname != 'HOH': \n",
    "        res_per_chain[residue.parent.id] +=1"
   ]
  },
  {
   "cell_type": "code",
   "execution_count": null,
   "id": "5740424a-271b-40e1-861a-5b9fbb7291de",
   "metadata": {
    "tags": []
   },
   "outputs": [],
   "source": [
    "# note: 30 CYS and 18 MET gives 48 sulfur atoms (CYS and MET each have 1 sulfur atom), consistent with above sulfur count\n",
    "ws.print_dict(dict(res_types), leader='residue counts'); print()\n",
    "ws.print_dict(dict(res_per_chain), leader='res per chain')"
   ]
  },
  {
   "cell_type": "code",
   "execution_count": null,
   "id": "021b6d09-0ae0-4d7e-85d6-651af5b16d86",
   "metadata": {},
   "outputs": [],
   "source": [
    "[sys.maxsize] * 3"
   ]
  },
  {
   "cell_type": "code",
   "execution_count": null,
   "id": "53922b12-2277-4571-b8f9-f362a632f6b4",
   "metadata": {},
   "outputs": [],
   "source": [
    "def get_bounds(my_atoms):\n",
    "    my_min = [sys.maxsize]  * 3\n",
    "    my_max = [-sys.maxsize] * 3\n",
    "    for atom in my_atoms:\n",
    "        for i, coord in enumerate(atom.coord):\n",
    "            if coord < my_min[i]:\n",
    "                my_min[i] = coord\n",
    "            if coord > my_max[i]:\n",
    "                my_max[i] = coord\n",
    "    return my_min, my_max"
   ]
  },
  {
   "cell_type": "code",
   "execution_count": null,
   "id": "84875999-be33-4eb4-b92c-781182a6cd2a",
   "metadata": {},
   "outputs": [],
   "source": [
    "chain_bounds = {}\n",
    "for chain in p53_1tup.get_chains():\n",
    "    print(chain.id, get_bounds(chain.get_atoms()))\n",
    "    chain_bounds[chain.id] = get_bounds(chain.get_atoms())"
   ]
  },
  {
   "cell_type": "code",
   "execution_count": null,
   "id": "51facb1e-e397-4018-bb85-18b5f9b9cc4f",
   "metadata": {},
   "outputs": [],
   "source": [
    "print(get_bounds(p53_1tup.get_atoms())) # show bounds for all atoms"
   ]
  },
  {
   "cell_type": "code",
   "execution_count": null,
   "id": "211b1943-c92d-4a08-aa6f-7ad162155222",
   "metadata": {},
   "outputs": [],
   "source": [
    "fig = plt.figure(figsize=(16, 9))\n",
    "ax3d = fig.add_subplot(111, projection='3d')\n",
    "# WS a nice feature: can add subplots on top of subplots\n",
    "ax_xy = fig.add_subplot(331)\n",
    "ax_xy.set_title('X/Y')\n",
    "ax_xz = fig.add_subplot(334)\n",
    "ax_xz.set_title('X/Z')\n",
    "ax_zy = fig.add_subplot(337)\n",
    "ax_zy.set_title('Z/Y')\n",
    "# WS colored DNA strands cyan, magenta instead of grays\n",
    "color = {'A': 'r', 'B': 'g', 'C': 'b', 'E': 'c', 'F': 'm'}\n",
    "zx, zy, zz = [], [], []\n",
    "for chain in p53_1tup.get_chains():\n",
    "    xs, ys, zs = [], [], []\n",
    "    for residue in chain.get_residues():\n",
    "        # WS make residue object an iterator,\n",
    "        #    just get FIRST atom of the residue to plot with next()\n",
    "        #ref_atom = next(residue.get_iterator())\n",
    "        # WS replaced get_iterator with get_atoms: clearer, works the same\n",
    "        ref_atom = next(residue.get_atoms())\n",
    "        x, y, z = ref_atom.coord\n",
    "        if ref_atom.element == 'ZN':\n",
    "            zx.append(x)\n",
    "            zy.append(y)\n",
    "            zz.append(z)\n",
    "            continue\n",
    "        xs.append(x)\n",
    "        ys.append(y)\n",
    "        zs.append(z)\n",
    "    ax3d.scatter(xs, ys, zs, color=color[chain.id])\n",
    "    ax_xy.scatter(xs, ys, marker='.', color=color[chain.id])\n",
    "    ax_xz.scatter(xs, zs, marker='.', color=color[chain.id])\n",
    "    ax_zy.scatter(zs, ys, marker='.', color=color[chain.id])\n",
    "ax3d.set_xlabel('X')\n",
    "ax3d.set_ylabel('Y')\n",
    "ax3d.set_zlabel('Z')\n",
    "ax3d.scatter(zx, zy, zz, color='k', marker='v', s=300)\n",
    "# WS zinc markers follow\n",
    "ax_xy.scatter(zx, zy, color='k', marker='v', s=80)\n",
    "ax_xz.scatter(zx, zz, color='k', marker='v', s=80)\n",
    "ax_zy.scatter(zz, zy, color='k', marker='v', s=80)\n",
    "for ax in [ax_xy, ax_xz, ax_zy]:\n",
    "    ax.get_yaxis().set_visible(False)\n",
    "    ax.get_xaxis().set_visible(False)"
   ]
  },
  {
   "cell_type": "code",
   "execution_count": null,
   "id": "310245d2-ad98-415a-8061-2f31e2174a2b",
   "metadata": {
    "tags": []
   },
   "outputs": [],
   "source": [
    "# WS explore the object structures\n",
    "ws.attrs(p53_1tup.get_chains(), skip=False)\n",
    "# get_chains() IS an iterable: it has a __next__:"
   ]
  },
  {
   "cell_type": "code",
   "execution_count": null,
   "id": "ea1b9644-af90-4264-8071-b1d696f526d3",
   "metadata": {},
   "outputs": [],
   "source": [
    "dd = list(p53_1tup.get_chains())\n",
    "dd"
   ]
  },
  {
   "cell_type": "code",
   "execution_count": null,
   "id": "749742a2-b78a-46a2-b9ff-42b2a9fcb312",
   "metadata": {
    "tags": []
   },
   "outputs": [],
   "source": [
    "ws.attrs(dd[2], skip=False)  # chain object is NOT an iterable"
   ]
  },
  {
   "cell_type": "code",
   "execution_count": null,
   "id": "9dc7c1e1",
   "metadata": {
    "tags": []
   },
   "outputs": [],
   "source": [
    "ws.attrs(dd[2].get_residues(), skip=False)  # get_residues function IS an iterator (ie generator)"
   ]
  },
  {
   "cell_type": "code",
   "execution_count": null,
   "id": "e08e4cbe-eac5-4697-9c2c-e08258324806",
   "metadata": {
    "tags": []
   },
   "outputs": [],
   "source": [
    "ee = list(dd[2].get_residues())\n",
    "ws.attrs(ee[0], skip=False)\n",
    "# WS  residue object is NOT an iterable: it is missing a __next__:\n",
    "#     get_iterator() or get_atoms() makes it an iterator (see plotting code above)"
   ]
  },
  {
   "cell_type": "code",
   "execution_count": null,
   "id": "50b62896-f6f9-47bb-96e3-25c9e8f1ef32",
   "metadata": {},
   "outputs": [],
   "source": [
    "ee[0]"
   ]
  },
  {
   "cell_type": "code",
   "execution_count": null,
   "id": "c066d35e-049b-4a28-bd43-706a1f5f27c9",
   "metadata": {},
   "outputs": [],
   "source": [
    "hh = list(ee[0].get_iterator())\n",
    "hh"
   ]
  },
  {
   "cell_type": "code",
   "execution_count": null,
   "id": "f65d38ee-cdc2-4ec7-b44c-f321af5fe218",
   "metadata": {},
   "outputs": [],
   "source": [
    "# WS use this instead of get_iterator, same result, but clearer\n",
    "list(ee[0].get_atoms())"
   ]
  },
  {
   "cell_type": "code",
   "execution_count": null,
   "id": "e852b47b-047b-4e03-abed-e910dfaee497",
   "metadata": {},
   "outputs": [],
   "source": [
    "# list() alone probably invokes get_iterator()? and works the same\n",
    "list(ee[0])"
   ]
  },
  {
   "cell_type": "code",
   "execution_count": null,
   "id": "3ae9e11d-0622-4010-885c-ca8ff1df4bf3",
   "metadata": {
    "tags": []
   },
   "outputs": [],
   "source": [
    "ws.attrs(hh[0], skip=False) # WS atom object not an iterable"
   ]
  },
  {
   "cell_type": "code",
   "execution_count": null,
   "id": "81ce032b-7380-4342-bac9-7bba89ec72a2",
   "metadata": {},
   "outputs": [],
   "source": []
  }
 ],
 "metadata": {
  "kernelspec": {
   "display_name": "Python 3 (ipykernel)",
   "language": "python",
   "name": "python3"
  },
  "language_info": {
   "codemirror_mode": {
    "name": "ipython",
    "version": 3
   },
   "file_extension": ".py",
   "mimetype": "text/x-python",
   "name": "python",
   "nbconvert_exporter": "python",
   "pygments_lexer": "ipython3",
   "version": "3.10.6"
  }
 },
 "nbformat": 4,
 "nbformat_minor": 5
}

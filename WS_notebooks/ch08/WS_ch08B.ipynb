{
 "cells": [
  {
   "cell_type": "markdown",
   "id": "c7bddbc0-e7ad-4f24-8ad5-b5b743ff4a39",
   "metadata": {},
   "source": [
    "# WS_ch08B.ipynb\n",
    "### WESmith 04/18/23\n",
    "\n",
    "## INTRODUCING BIO.PDB\n",
    "#### (see book code in Chapter08/PDB.py)\n",
    "\n",
    "### WS created this notebook to follow along with code from the book\n",
    "### 'Bioinformatics with Python Cookbook' by Tiago Antao\n",
    "#### Each recipe will have its own notebook, suffixed by A, B, etc.¶\n"
   ]
  },
  {
   "cell_type": "code",
   "execution_count": null,
   "id": "7439ce45-b03a-4951-8662-ca62173633cc",
   "metadata": {},
   "outputs": [],
   "source": [
    "from Bio import PDB\n",
    "from Bio.SeqIO import PdbIO, FastaIO\n",
    "import os"
   ]
  },
  {
   "cell_type": "code",
   "execution_count": null,
   "id": "88a68c6a-c7de-464c-a8ed-b1aa7d0cf599",
   "metadata": {},
   "outputs": [],
   "source": [
    "data_dir  = 'data'"
   ]
  },
  {
   "cell_type": "code",
   "execution_count": null,
   "id": "ef5efe58-9a8b-4820-bb14-effc1ea62247",
   "metadata": {},
   "outputs": [],
   "source": [
    "repository = PDB.PDBList()"
   ]
  },
  {
   "cell_type": "code",
   "execution_count": null,
   "id": "1cb39577-fb25-4466-805a-9b412f2ff0e4",
   "metadata": {
    "tags": []
   },
   "outputs": [],
   "source": [
    "repository.retrieve_pdb_file?"
   ]
  },
  {
   "cell_type": "code",
   "execution_count": null,
   "id": "6ecc493e-2ad0-40b2-8249-60239b21f2f6",
   "metadata": {},
   "outputs": [],
   "source": [
    "# WS this downloads the pdb data to a local file suffixed with .ent\n",
    "repository.retrieve_pdb_file('1TUP', pdir=data_dir, file_format='pdb')\n",
    "repository.retrieve_pdb_file('1OLG', pdir=data_dir, file_format='pdb')\n",
    "repository.retrieve_pdb_file('1YCQ', pdir=data_dir, file_format='pdb')"
   ]
  },
  {
   "cell_type": "code",
   "execution_count": null,
   "id": "14333bba-b854-4852-9e7c-ea7c80a1e43d",
   "metadata": {},
   "outputs": [],
   "source": [
    "parser = PDB.PDBParser()"
   ]
  },
  {
   "cell_type": "code",
   "execution_count": null,
   "id": "71c08989-d7da-444b-a90b-870ad0c12953",
   "metadata": {
    "tags": []
   },
   "outputs": [],
   "source": [
    "parser.get_structure?"
   ]
  },
  {
   "cell_type": "code",
   "execution_count": null,
   "id": "dd112309-eccc-441e-868d-67a024eff92f",
   "metadata": {},
   "outputs": [],
   "source": [
    "# WS\n",
    "pdb1tup_file = os.path.join(data_dir, 'pdb1tup.ent')\n",
    "pdb1olg_file = os.path.join(data_dir, 'pdb1olg.ent')\n",
    "pdb1ycq_file = os.path.join(data_dir, 'pdb1ycq.ent')"
   ]
  },
  {
   "cell_type": "code",
   "execution_count": null,
   "id": "fa4acd75-f9fa-4904-b371-1db6d7db6c2f",
   "metadata": {
    "tags": []
   },
   "outputs": [],
   "source": [
    "p53_1tup = parser.get_structure('P 53 - DNA Binding',     pdb1tup_file)\n",
    "p53_1olg = parser.get_structure('P 53 - Tetramerization', pdb1olg_file)\n",
    "p53_1ycq = parser.get_structure('P 53 - Transactivation', pdb1ycq_file)"
   ]
  },
  {
   "cell_type": "code",
   "execution_count": null,
   "id": "cca142f3-19c2-47da-a5df-57133224c93e",
   "metadata": {},
   "outputs": [],
   "source": [
    "def print_pdb_headers(headers, indent=0):\n",
    "    ind_text = ' ' * indent\n",
    "    for header, content in headers.items():\n",
    "        if type(content) == dict:\n",
    "            print('\\n%s%20s:' % (ind_text, header))\n",
    "            print_pdb_headers(content, indent + 4)\n",
    "            print()\n",
    "        elif type(content) == list:\n",
    "            print('%s%20s:' % (ind_text, header))\n",
    "            for elem in content:\n",
    "                print('%s%21s %s' % (ind_text, '->', elem))\n",
    "        else:\n",
    "            print('%s%20s: %s' % (ind_text, header, content))"
   ]
  },
  {
   "cell_type": "code",
   "execution_count": null,
   "id": "0680a981-6df0-441c-a2a2-0e894c61ec7a",
   "metadata": {},
   "outputs": [],
   "source": [
    "print(p53_1tup.header.keys()) # WS"
   ]
  },
  {
   "cell_type": "code",
   "execution_count": null,
   "id": "5bc1c255-5d63-4013-bd84-554e32b407c2",
   "metadata": {
    "tags": []
   },
   "outputs": [],
   "source": [
    "print_pdb_headers(p53_1tup.header)"
   ]
  },
  {
   "cell_type": "code",
   "execution_count": null,
   "id": "2826db4d-378d-4269-8e65-5393951b93ae",
   "metadata": {},
   "outputs": [],
   "source": [
    "print(p53_1tup.header['compound'])\n",
    "print(p53_1olg.header['compound'])\n",
    "print(p53_1ycq.header['compound'])"
   ]
  },
  {
   "cell_type": "code",
   "execution_count": null,
   "id": "f8b31116-badc-4587-8483-1e5cd358b79b",
   "metadata": {
    "tags": []
   },
   "outputs": [],
   "source": [
    "print_pdb_headers(p53_1tup.header['compound']) # WS a cleaner output"
   ]
  },
  {
   "cell_type": "code",
   "execution_count": null,
   "id": "89d3735a-d10d-4559-bfc9-d37302dc96db",
   "metadata": {
    "tags": []
   },
   "outputs": [],
   "source": [
    "print_pdb_headers(p53_1olg.header['compound']) # WS a cleaner output"
   ]
  },
  {
   "cell_type": "code",
   "execution_count": null,
   "id": "65072770-a99a-444b-a428-c15c3af31d37",
   "metadata": {
    "tags": []
   },
   "outputs": [],
   "source": [
    "print_pdb_headers(p53_1ycq.header['compound']) # WS a cleaner output"
   ]
  },
  {
   "cell_type": "code",
   "execution_count": null,
   "id": "5c7a3260-4fe1-4c8b-8102-4e2e76d22278",
   "metadata": {},
   "outputs": [],
   "source": [
    "def describe_model(name, pdb):\n",
    "    print()\n",
    "    for model in pdb:\n",
    "        for chain in model:\n",
    "            print('%s - Chain: %s. Number of residues: %d. Number of atoms: %d.' %\n",
    "                  (name, chain.id, len(chain), len(list(chain.get_atoms()))))"
   ]
  },
  {
   "cell_type": "code",
   "execution_count": null,
   "id": "9f2570bb-c362-48cd-818f-c118690d4fd0",
   "metadata": {},
   "outputs": [],
   "source": [
    "describe_model('1TUP', p53_1tup)\n",
    "describe_model('1OLG', p53_1olg)\n",
    "describe_model('1YCQ', p53_1ycq)"
   ]
  },
  {
   "cell_type": "code",
   "execution_count": null,
   "id": "2ca7e1a2-8a18-47c3-9d0c-704ad01196cf",
   "metadata": {},
   "outputs": [],
   "source": [
    "# WS to explore chain object\n",
    "dd = []\n",
    "for model in p53_1tup:\n",
    "    for chain in model:\n",
    "        dd.append(chain)\n",
    "ee = list(dd[0].get_atoms())"
   ]
  },
  {
   "cell_type": "code",
   "execution_count": null,
   "id": "6ce9f21d-c062-4300-85ad-63ff2d93193b",
   "metadata": {},
   "outputs": [],
   "source": [
    "for residue in p53_1tup.get_residues():\n",
    "    if residue.id[0] in [' ', 'W']:\n",
    "        continue\n",
    "    print(residue.id)"
   ]
  },
  {
   "cell_type": "code",
   "execution_count": null,
   "id": "29323374-dc7a-4b28-8cfa-6345d99e313d",
   "metadata": {},
   "outputs": [],
   "source": [
    "type(p53_1tup.get_residues())"
   ]
  },
  {
   "cell_type": "code",
   "execution_count": null,
   "id": "ffc375ce-a31a-41fd-8933-0c01cba4b598",
   "metadata": {
    "tags": []
   },
   "outputs": [],
   "source": [
    "# WS to explore residue object\n",
    "gg = list(p53_1tup.get_residues())\n",
    "for k in gg: \n",
    "    print(k.id)"
   ]
  },
  {
   "cell_type": "code",
   "execution_count": null,
   "id": "a6b0fcc3-945c-46f6-8ffd-b7807646ce6f",
   "metadata": {},
   "outputs": [],
   "source": [
    "res = next(p53_1tup[0]['A'].get_residues())\n",
    "print(res)"
   ]
  },
  {
   "cell_type": "code",
   "execution_count": null,
   "id": "c38cec6e-f3dc-4529-8e9e-f56c5d1fb9c1",
   "metadata": {},
   "outputs": [],
   "source": [
    "for atom in res:\n",
    "    print(atom, atom.serial_number, atom.element)"
   ]
  },
  {
   "cell_type": "code",
   "execution_count": null,
   "id": "e7ee5b35-6158-4c61-aa68-ca3e6863c0c5",
   "metadata": {},
   "outputs": [],
   "source": [
    "print(p53_1tup[0]['A'][94]['CA'])  # WS model, chain, residue, atom"
   ]
  },
  {
   "cell_type": "code",
   "execution_count": null,
   "id": "26ad12c9-434f-4b85-88d2-0ea3ecbe0ef9",
   "metadata": {},
   "outputs": [],
   "source": [
    "ff = p53_1tup[0]['A'][94]['CA']"
   ]
  },
  {
   "cell_type": "code",
   "execution_count": null,
   "id": "3eb4ac34-05ca-4a85-b024-77b4962725e9",
   "metadata": {},
   "outputs": [],
   "source": [
    "ff.full_id, ff.coord  # WS"
   ]
  },
  {
   "cell_type": "code",
   "execution_count": null,
   "id": "b496a067-7f8f-4102-8216-9e25e5133b57",
   "metadata": {},
   "outputs": [],
   "source": [
    "# write fasta file\n",
    "def get_fasta(pdb_file, fasta_file, transfer_ids=None):\n",
    "    fasta_writer = FastaIO.FastaWriter(fasta_file)\n",
    "    fasta_writer.write_header()\n",
    "    for rec in PdbIO.PdbSeqresIterator(pdb_file):\n",
    "        if len(rec.seq) == 0:\n",
    "            continue\n",
    "        if transfer_ids is not None and rec.id not in transfer_ids:\n",
    "            continue\n",
    "        print(rec.id, rec.seq, len(rec.seq))\n",
    "        fasta_writer.write_record(rec)"
   ]
  },
  {
   "cell_type": "code",
   "execution_count": null,
   "id": "d225fe7f-83f4-493b-8163-732e1abd1dfb",
   "metadata": {},
   "outputs": [],
   "source": [
    "# WS\n",
    "fasta_1tup_file = os.path.join(data_dir, '1tup.fasta')\n",
    "fasta_1olg_file = os.path.join(data_dir, '1olg.fasta')\n",
    "fasta_1ycq_file = os.path.join(data_dir, '1ycq.fasta')"
   ]
  },
  {
   "cell_type": "code",
   "execution_count": null,
   "id": "f3b4c5ca-dec2-4a3d-8f8c-81337beee84f",
   "metadata": {},
   "outputs": [],
   "source": [
    "get_fasta(open(pdb1tup_file), open(fasta_1tup_file, 'w'), transfer_ids=['1TUP:B'])\n",
    "get_fasta(open(pdb1olg_file), open(fasta_1olg_file, 'w'), transfer_ids=['1OLG:B'])\n",
    "get_fasta(open(pdb1ycq_file), open(fasta_1ycq_file, 'w'), transfer_ids=['1YCQ:B'])"
   ]
  },
  {
   "cell_type": "code",
   "execution_count": null,
   "id": "b6475aad-baab-451b-b4bc-8903ddc87b27",
   "metadata": {},
   "outputs": [],
   "source": []
  }
 ],
 "metadata": {
  "kernelspec": {
   "display_name": "Python 3 (ipykernel)",
   "language": "python",
   "name": "python3"
  },
  "language_info": {
   "codemirror_mode": {
    "name": "ipython",
    "version": 3
   },
   "file_extension": ".py",
   "mimetype": "text/x-python",
   "name": "python",
   "nbconvert_exporter": "python",
   "pygments_lexer": "ipython3",
   "version": "3.10.6"
  }
 },
 "nbformat": 4,
 "nbformat_minor": 5
}

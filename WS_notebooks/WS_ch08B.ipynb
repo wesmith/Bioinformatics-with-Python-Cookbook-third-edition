{
 "cells": [
  {
   "cell_type": "markdown",
   "id": "c7bddbc0-e7ad-4f24-8ad5-b5b743ff4a39",
   "metadata": {},
   "source": [
    "# WS_ch08B.ipynb\n",
    "### WESmith 04/18/23\n",
    "\n",
    "## INTRODUCING BIO.PDB\n",
    "#### (see book code in Chapter08/PDB.py)\n",
    "\n",
    "### WS created this notebook to follow along with code from the book\n",
    "### 'Bioinformatics with Python Cookbook' by Tiago Antao\n",
    "#### Each recipe will have its own notebook, suffixed by A, B, etc.¶\n"
   ]
  },
  {
   "cell_type": "code",
   "execution_count": 1,
   "id": "7439ce45-b03a-4951-8662-ca62173633cc",
   "metadata": {},
   "outputs": [],
   "source": [
    "from Bio import PDB\n",
    "from Bio.SeqIO import PdbIO, FastaIO\n",
    "import os"
   ]
  },
  {
   "cell_type": "code",
   "execution_count": 2,
   "id": "88a68c6a-c7de-464c-a8ed-b1aa7d0cf599",
   "metadata": {},
   "outputs": [],
   "source": [
    "data_dir  = 'data/ch08_data'"
   ]
  },
  {
   "cell_type": "code",
   "execution_count": 3,
   "id": "ef5efe58-9a8b-4820-bb14-effc1ea62247",
   "metadata": {},
   "outputs": [],
   "source": [
    "repository = PDB.PDBList()"
   ]
  },
  {
   "cell_type": "code",
   "execution_count": 4,
   "id": "1cb39577-fb25-4466-805a-9b412f2ff0e4",
   "metadata": {
    "collapsed": true,
    "jupyter": {
     "outputs_hidden": true
    },
    "tags": []
   },
   "outputs": [
    {
     "data": {
      "text/plain": [
       "\u001b[0;31mSignature:\u001b[0m\n",
       "\u001b[0mrepository\u001b[0m\u001b[0;34m.\u001b[0m\u001b[0mretrieve_pdb_file\u001b[0m\u001b[0;34m(\u001b[0m\u001b[0;34m\u001b[0m\n",
       "\u001b[0;34m\u001b[0m    \u001b[0mpdb_code\u001b[0m\u001b[0;34m,\u001b[0m\u001b[0;34m\u001b[0m\n",
       "\u001b[0;34m\u001b[0m    \u001b[0mobsolete\u001b[0m\u001b[0;34m=\u001b[0m\u001b[0;32mFalse\u001b[0m\u001b[0;34m,\u001b[0m\u001b[0;34m\u001b[0m\n",
       "\u001b[0;34m\u001b[0m    \u001b[0mpdir\u001b[0m\u001b[0;34m=\u001b[0m\u001b[0;32mNone\u001b[0m\u001b[0;34m,\u001b[0m\u001b[0;34m\u001b[0m\n",
       "\u001b[0;34m\u001b[0m    \u001b[0mfile_format\u001b[0m\u001b[0;34m=\u001b[0m\u001b[0;32mNone\u001b[0m\u001b[0;34m,\u001b[0m\u001b[0;34m\u001b[0m\n",
       "\u001b[0;34m\u001b[0m    \u001b[0moverwrite\u001b[0m\u001b[0;34m=\u001b[0m\u001b[0;32mFalse\u001b[0m\u001b[0;34m,\u001b[0m\u001b[0;34m\u001b[0m\n",
       "\u001b[0;34m\u001b[0m\u001b[0;34m)\u001b[0m\u001b[0;34m\u001b[0m\u001b[0;34m\u001b[0m\u001b[0m\n",
       "\u001b[0;31mDocstring:\u001b[0m\n",
       "Fetch PDB structure file from PDB server, and store it locally.\n",
       "\n",
       "The PDB structure's file name is returned as a single string.\n",
       "If obsolete ``==`` True, the file will be saved in a special file tree.\n",
       "\n",
       "NOTE. The default download format has changed from PDB to PDBx/mmCif\n",
       "\n",
       ":param pdb_code: 4-symbols structure Id from PDB (e.g. 3J92).\n",
       ":type pdb_code: string\n",
       "\n",
       ":param file_format:\n",
       "    File format. Available options:\n",
       "\n",
       "    * \"mmCif\" (default, PDBx/mmCif file),\n",
       "    * \"pdb\" (format PDB),\n",
       "    * \"xml\" (PDBML/XML format),\n",
       "    * \"mmtf\" (highly compressed),\n",
       "    * \"bundle\" (PDB formatted archive for large structure)\n",
       "\n",
       ":type file_format: string\n",
       "\n",
       ":param overwrite: if set to True, existing structure files will be overwritten. Default: False\n",
       ":type overwrite: bool\n",
       "\n",
       ":param obsolete:\n",
       "    Has a meaning only for obsolete structures. If True, download the obsolete structure\n",
       "    to 'obsolete' folder, otherwise download won't be performed.\n",
       "    This option doesn't work for mmtf format as obsoleted structures aren't stored in mmtf.\n",
       "    Also doesn't have meaning when parameter pdir is specified.\n",
       "    Note: make sure that you are about to download the really obsolete structure.\n",
       "    Trying to download non-obsolete structure into obsolete folder will not work\n",
       "    and you face the \"structure doesn't exists\" error.\n",
       "    Default: False\n",
       "\n",
       ":type obsolete: bool\n",
       "\n",
       ":param pdir: put the file in this directory (default: create a PDB-style directory tree)\n",
       ":type pdir: string\n",
       "\n",
       ":return: filename\n",
       ":rtype: string\n",
       "\u001b[0;31mFile:\u001b[0m      ~/.venv_220526/lib/python3.10/site-packages/Bio/PDB/PDBList.py\n",
       "\u001b[0;31mType:\u001b[0m      method\n"
      ]
     },
     "metadata": {},
     "output_type": "display_data"
    }
   ],
   "source": [
    "repository.retrieve_pdb_file?"
   ]
  },
  {
   "cell_type": "code",
   "execution_count": 5,
   "id": "6ecc493e-2ad0-40b2-8249-60239b21f2f6",
   "metadata": {},
   "outputs": [
    {
     "name": "stdout",
     "output_type": "stream",
     "text": [
      "Structure exists: 'data/ch08_data/pdb1tup.ent' \n",
      "Structure exists: 'data/ch08_data/pdb1olg.ent' \n",
      "Structure exists: 'data/ch08_data/pdb1ycq.ent' \n"
     ]
    },
    {
     "data": {
      "text/plain": [
       "'data/ch08_data/pdb1ycq.ent'"
      ]
     },
     "execution_count": 5,
     "metadata": {},
     "output_type": "execute_result"
    }
   ],
   "source": [
    "# WS this downloads the pdb data to a local file suffixed with .ent\n",
    "repository.retrieve_pdb_file('1TUP', pdir=data_dir, file_format='pdb')\n",
    "repository.retrieve_pdb_file('1OLG', pdir=data_dir, file_format='pdb')\n",
    "repository.retrieve_pdb_file('1YCQ', pdir=data_dir, file_format='pdb')"
   ]
  },
  {
   "cell_type": "code",
   "execution_count": 6,
   "id": "14333bba-b854-4852-9e7c-ea7c80a1e43d",
   "metadata": {},
   "outputs": [],
   "source": [
    "parser = PDB.PDBParser()"
   ]
  },
  {
   "cell_type": "code",
   "execution_count": 7,
   "id": "71c08989-d7da-444b-a90b-870ad0c12953",
   "metadata": {
    "tags": []
   },
   "outputs": [
    {
     "data": {
      "text/plain": [
       "\u001b[0;31mSignature:\u001b[0m \u001b[0mparser\u001b[0m\u001b[0;34m.\u001b[0m\u001b[0mget_structure\u001b[0m\u001b[0;34m(\u001b[0m\u001b[0mid\u001b[0m\u001b[0;34m,\u001b[0m \u001b[0mfile\u001b[0m\u001b[0;34m)\u001b[0m\u001b[0;34m\u001b[0m\u001b[0;34m\u001b[0m\u001b[0m\n",
       "\u001b[0;31mDocstring:\u001b[0m\n",
       "Return the structure.\n",
       "\n",
       "Arguments:\n",
       " - id - string, the id that will be used for the structure\n",
       " - file - name of the PDB file OR an open filehandle\n",
       "\u001b[0;31mFile:\u001b[0m      ~/.venv_220526/lib/python3.10/site-packages/Bio/PDB/PDBParser.py\n",
       "\u001b[0;31mType:\u001b[0m      method\n"
      ]
     },
     "metadata": {},
     "output_type": "display_data"
    }
   ],
   "source": [
    "parser.get_structure?"
   ]
  },
  {
   "cell_type": "markdown",
   "id": "dd969aba-5597-4d86-9967-6622e0bdff6f",
   "metadata": {},
   "source": [
    "# WS\n",
    "pdb1tup_file = os.path.join(data_dir, 'pdb1tup.ent')\n",
    "pdb1olg_file = os.path.join(data_dir, 'pdb1olg.ent')\n",
    "pdb1ycq_file = os.path.join(data_dir, 'pdb1ycq.ent')"
   ]
  },
  {
   "cell_type": "code",
   "execution_count": 9,
   "id": "fa4acd75-f9fa-4904-b371-1db6d7db6c2f",
   "metadata": {
    "collapsed": true,
    "jupyter": {
     "outputs_hidden": true
    },
    "tags": []
   },
   "outputs": [
    {
     "name": "stderr",
     "output_type": "stream",
     "text": [
      "/home/smithw/.venv_220526/lib/python3.10/site-packages/Bio/PDB/StructureBuilder.py:89: PDBConstructionWarning: WARNING: Chain A is discontinuous at line 6146.\n",
      "  warnings.warn(\n",
      "/home/smithw/.venv_220526/lib/python3.10/site-packages/Bio/PDB/StructureBuilder.py:89: PDBConstructionWarning: WARNING: Chain B is discontinuous at line 6147.\n",
      "  warnings.warn(\n",
      "/home/smithw/.venv_220526/lib/python3.10/site-packages/Bio/PDB/StructureBuilder.py:89: PDBConstructionWarning: WARNING: Chain C is discontinuous at line 6148.\n",
      "  warnings.warn(\n",
      "/home/smithw/.venv_220526/lib/python3.10/site-packages/Bio/PDB/StructureBuilder.py:89: PDBConstructionWarning: WARNING: Chain E is discontinuous at line 6149.\n",
      "  warnings.warn(\n",
      "/home/smithw/.venv_220526/lib/python3.10/site-packages/Bio/PDB/StructureBuilder.py:89: PDBConstructionWarning: WARNING: Chain F is discontinuous at line 6171.\n",
      "  warnings.warn(\n",
      "/home/smithw/.venv_220526/lib/python3.10/site-packages/Bio/PDB/StructureBuilder.py:89: PDBConstructionWarning: WARNING: Chain A is discontinuous at line 6185.\n",
      "  warnings.warn(\n",
      "/home/smithw/.venv_220526/lib/python3.10/site-packages/Bio/PDB/StructureBuilder.py:89: PDBConstructionWarning: WARNING: Chain B is discontinuous at line 6383.\n",
      "  warnings.warn(\n",
      "/home/smithw/.venv_220526/lib/python3.10/site-packages/Bio/PDB/StructureBuilder.py:89: PDBConstructionWarning: WARNING: Chain C is discontinuous at line 6453.\n",
      "  warnings.warn(\n",
      "/home/smithw/.venv_220526/lib/python3.10/site-packages/Bio/PDB/StructureBuilder.py:89: PDBConstructionWarning: WARNING: Chain A is discontinuous at line 1152.\n",
      "  warnings.warn(\n",
      "/home/smithw/.venv_220526/lib/python3.10/site-packages/Bio/PDB/StructureBuilder.py:89: PDBConstructionWarning: WARNING: Chain B is discontinuous at line 1187.\n",
      "  warnings.warn(\n"
     ]
    }
   ],
   "source": [
    "p53_1tup = parser.get_structure('P 53 - DNA Binding',     pdb1tup_file)\n",
    "p53_1olg = parser.get_structure('P 53 - Tetramerization', pdb1olg_file)\n",
    "p53_1ycq = parser.get_structure('P 53 - Transactivation', pdb1ycq_file)"
   ]
  },
  {
   "cell_type": "code",
   "execution_count": 10,
   "id": "cca142f3-19c2-47da-a5df-57133224c93e",
   "metadata": {},
   "outputs": [],
   "source": [
    "def print_pdb_headers(headers, indent=0):\n",
    "    ind_text = ' ' * indent\n",
    "    for header, content in headers.items():\n",
    "        if type(content) == dict:\n",
    "            print('\\n%s%20s:' % (ind_text, header))\n",
    "            print_pdb_headers(content, indent + 4)\n",
    "            print()\n",
    "        elif type(content) == list:\n",
    "            print('%s%20s:' % (ind_text, header))\n",
    "            for elem in content:\n",
    "                print('%s%21s %s' % (ind_text, '->', elem))\n",
    "        else:\n",
    "            print('%s%20s: %s' % (ind_text, header, content))"
   ]
  },
  {
   "cell_type": "code",
   "execution_count": 11,
   "id": "0680a981-6df0-441c-a2a2-0e894c61ec7a",
   "metadata": {},
   "outputs": [
    {
     "name": "stdout",
     "output_type": "stream",
     "text": [
      "dict_keys(['name', 'head', 'idcode', 'deposition_date', 'release_date', 'structure_method', 'resolution', 'structure_reference', 'journal_reference', 'author', 'compound', 'source', 'has_missing_residues', 'missing_residues', 'keywords', 'journal'])\n"
     ]
    }
   ],
   "source": [
    "print(p53_1tup.header.keys()) # WS"
   ]
  },
  {
   "cell_type": "code",
   "execution_count": 12,
   "id": "5bc1c255-5d63-4013-bd84-554e32b407c2",
   "metadata": {
    "collapsed": true,
    "jupyter": {
     "outputs_hidden": true
    },
    "tags": []
   },
   "outputs": [
    {
     "name": "stdout",
     "output_type": "stream",
     "text": [
      "                name: tumor suppressor p53 complexed with dna\n",
      "                head: antitumor protein/dna\n",
      "              idcode: 1TUP\n",
      "     deposition_date: 1995-07-11\n",
      "        release_date: 1995-07-11\n",
      "    structure_method: x-ray diffraction\n",
      "          resolution: 2.2\n",
      " structure_reference:\n",
      "                   -> n.p.pavletich,k.a.chambers,c.o.pabo the dna-binding domain of p53 contains the four conserved regions and the major mutation hot spots genes dev. v. 7 2556 1993 issn 0890-9369 \n",
      "                   -> b.vogelstein,k.w.kinzler p53 function and dysfunction cell(cambridge,mass.) v. 70 523 1992 issn 0092-8674 \n",
      "   journal_reference: y.cho,s.gorina,p.d.jeffrey,n.p.pavletich crystal structure of a p53 tumor suppressor-dna complex: understanding tumorigenic mutations. science v. 265 346 1994 issn 0036-8075 8023157 \n",
      "              author: Y.Cho,S.Gorina,P.D.Jeffrey,N.P.Pavletich\n",
      "\n",
      "            compound:\n",
      "\n",
      "                       1:\n",
      "                        misc: \n",
      "                    molecule: dna (5'-d(*tp*tp*tp*cp*cp*tp*ap*gp*ap*cp*tp*tp*gp*cp*cp*cp*a p*ap*tp*tp*a)-3') \n",
      "                       chain: e\n",
      "                  engineered: yes\n",
      "\n",
      "\n",
      "                       2:\n",
      "                        misc: \n",
      "                    molecule: dna (5'-d(*ap*tp*ap*ap*tp*tp*gp*gp*gp*cp*ap*ap*gp*tp*cp*tp*a p*gp*gp*ap*a)-3') \n",
      "                       chain: f\n",
      "                  engineered: yes\n",
      "\n",
      "\n",
      "                       3:\n",
      "                        misc: \n",
      "                    molecule: protein (p53 tumor suppressor )\n",
      "                       chain: a, b, c\n",
      "                  engineered: yes\n",
      "\n",
      "\n",
      "\n",
      "              source:\n",
      "\n",
      "                       1:\n",
      "                        misc: \n",
      "                   synthetic: yes\n",
      "\n",
      "\n",
      "                       2:\n",
      "                        misc: \n",
      "                   synthetic: yes\n",
      "\n",
      "\n",
      "                       3:\n",
      "                        misc: \n",
      "         organism_scientific: homo sapiens\n",
      "             organism_common: human\n",
      "              organism_taxid: 9606\n",
      "                   cell_line: a431\n",
      "                        cell: human vulva carcinoma\n",
      "           expression_system: escherichia coli\n",
      "        expression_system_taxid: 562\n",
      "        expression_system_plasmid: pet3d\n",
      "\n",
      "\n",
      "has_missing_residues: True\n",
      "    missing_residues:\n",
      "                   -> {'model': None, 'res_name': 'ARG', 'chain': 'A', 'ssseq': 290, 'insertion': None}\n",
      "                   -> {'model': None, 'res_name': 'LYS', 'chain': 'A', 'ssseq': 291, 'insertion': None}\n",
      "                   -> {'model': None, 'res_name': 'LYS', 'chain': 'A', 'ssseq': 292, 'insertion': None}\n",
      "                   -> {'model': None, 'res_name': 'GLY', 'chain': 'A', 'ssseq': 293, 'insertion': None}\n",
      "                   -> {'model': None, 'res_name': 'GLU', 'chain': 'A', 'ssseq': 294, 'insertion': None}\n",
      "                   -> {'model': None, 'res_name': 'PRO', 'chain': 'A', 'ssseq': 295, 'insertion': None}\n",
      "                   -> {'model': None, 'res_name': 'HIS', 'chain': 'A', 'ssseq': 296, 'insertion': None}\n",
      "                   -> {'model': None, 'res_name': 'HIS', 'chain': 'A', 'ssseq': 297, 'insertion': None}\n",
      "                   -> {'model': None, 'res_name': 'GLU', 'chain': 'A', 'ssseq': 298, 'insertion': None}\n",
      "                   -> {'model': None, 'res_name': 'LEU', 'chain': 'A', 'ssseq': 299, 'insertion': None}\n",
      "                   -> {'model': None, 'res_name': 'PRO', 'chain': 'A', 'ssseq': 300, 'insertion': None}\n",
      "                   -> {'model': None, 'res_name': 'PRO', 'chain': 'A', 'ssseq': 301, 'insertion': None}\n",
      "                   -> {'model': None, 'res_name': 'GLY', 'chain': 'A', 'ssseq': 302, 'insertion': None}\n",
      "                   -> {'model': None, 'res_name': 'SER', 'chain': 'A', 'ssseq': 303, 'insertion': None}\n",
      "                   -> {'model': None, 'res_name': 'THR', 'chain': 'A', 'ssseq': 304, 'insertion': None}\n",
      "                   -> {'model': None, 'res_name': 'LYS', 'chain': 'A', 'ssseq': 305, 'insertion': None}\n",
      "                   -> {'model': None, 'res_name': 'ARG', 'chain': 'A', 'ssseq': 306, 'insertion': None}\n",
      "                   -> {'model': None, 'res_name': 'ALA', 'chain': 'A', 'ssseq': 307, 'insertion': None}\n",
      "                   -> {'model': None, 'res_name': 'LEU', 'chain': 'A', 'ssseq': 308, 'insertion': None}\n",
      "                   -> {'model': None, 'res_name': 'PRO', 'chain': 'A', 'ssseq': 309, 'insertion': None}\n",
      "                   -> {'model': None, 'res_name': 'ASN', 'chain': 'A', 'ssseq': 310, 'insertion': None}\n",
      "                   -> {'model': None, 'res_name': 'ASN', 'chain': 'A', 'ssseq': 311, 'insertion': None}\n",
      "                   -> {'model': None, 'res_name': 'THR', 'chain': 'A', 'ssseq': 312, 'insertion': None}\n",
      "                   -> {'model': None, 'res_name': 'SER', 'chain': 'B', 'ssseq': 94, 'insertion': None}\n",
      "                   -> {'model': None, 'res_name': 'SER', 'chain': 'B', 'ssseq': 95, 'insertion': None}\n",
      "                   -> {'model': None, 'res_name': 'ARG', 'chain': 'B', 'ssseq': 290, 'insertion': None}\n",
      "                   -> {'model': None, 'res_name': 'LYS', 'chain': 'B', 'ssseq': 291, 'insertion': None}\n",
      "                   -> {'model': None, 'res_name': 'LYS', 'chain': 'B', 'ssseq': 292, 'insertion': None}\n",
      "                   -> {'model': None, 'res_name': 'GLY', 'chain': 'B', 'ssseq': 293, 'insertion': None}\n",
      "                   -> {'model': None, 'res_name': 'GLU', 'chain': 'B', 'ssseq': 294, 'insertion': None}\n",
      "                   -> {'model': None, 'res_name': 'PRO', 'chain': 'B', 'ssseq': 295, 'insertion': None}\n",
      "                   -> {'model': None, 'res_name': 'HIS', 'chain': 'B', 'ssseq': 296, 'insertion': None}\n",
      "                   -> {'model': None, 'res_name': 'HIS', 'chain': 'B', 'ssseq': 297, 'insertion': None}\n",
      "                   -> {'model': None, 'res_name': 'GLU', 'chain': 'B', 'ssseq': 298, 'insertion': None}\n",
      "                   -> {'model': None, 'res_name': 'LEU', 'chain': 'B', 'ssseq': 299, 'insertion': None}\n",
      "                   -> {'model': None, 'res_name': 'PRO', 'chain': 'B', 'ssseq': 300, 'insertion': None}\n",
      "                   -> {'model': None, 'res_name': 'PRO', 'chain': 'B', 'ssseq': 301, 'insertion': None}\n",
      "                   -> {'model': None, 'res_name': 'GLY', 'chain': 'B', 'ssseq': 302, 'insertion': None}\n",
      "                   -> {'model': None, 'res_name': 'SER', 'chain': 'B', 'ssseq': 303, 'insertion': None}\n",
      "                   -> {'model': None, 'res_name': 'THR', 'chain': 'B', 'ssseq': 304, 'insertion': None}\n",
      "                   -> {'model': None, 'res_name': 'LYS', 'chain': 'B', 'ssseq': 305, 'insertion': None}\n",
      "                   -> {'model': None, 'res_name': 'ARG', 'chain': 'B', 'ssseq': 306, 'insertion': None}\n",
      "                   -> {'model': None, 'res_name': 'ALA', 'chain': 'B', 'ssseq': 307, 'insertion': None}\n",
      "                   -> {'model': None, 'res_name': 'LEU', 'chain': 'B', 'ssseq': 308, 'insertion': None}\n",
      "                   -> {'model': None, 'res_name': 'PRO', 'chain': 'B', 'ssseq': 309, 'insertion': None}\n",
      "                   -> {'model': None, 'res_name': 'ASN', 'chain': 'B', 'ssseq': 310, 'insertion': None}\n",
      "                   -> {'model': None, 'res_name': 'ASN', 'chain': 'B', 'ssseq': 311, 'insertion': None}\n",
      "                   -> {'model': None, 'res_name': 'THR', 'chain': 'B', 'ssseq': 312, 'insertion': None}\n",
      "                   -> {'model': None, 'res_name': 'SER', 'chain': 'C', 'ssseq': 94, 'insertion': None}\n",
      "                   -> {'model': None, 'res_name': 'ARG', 'chain': 'C', 'ssseq': 290, 'insertion': None}\n",
      "                   -> {'model': None, 'res_name': 'LYS', 'chain': 'C', 'ssseq': 291, 'insertion': None}\n",
      "                   -> {'model': None, 'res_name': 'LYS', 'chain': 'C', 'ssseq': 292, 'insertion': None}\n",
      "                   -> {'model': None, 'res_name': 'GLY', 'chain': 'C', 'ssseq': 293, 'insertion': None}\n",
      "                   -> {'model': None, 'res_name': 'GLU', 'chain': 'C', 'ssseq': 294, 'insertion': None}\n",
      "                   -> {'model': None, 'res_name': 'PRO', 'chain': 'C', 'ssseq': 295, 'insertion': None}\n",
      "                   -> {'model': None, 'res_name': 'HIS', 'chain': 'C', 'ssseq': 296, 'insertion': None}\n",
      "                   -> {'model': None, 'res_name': 'HIS', 'chain': 'C', 'ssseq': 297, 'insertion': None}\n",
      "                   -> {'model': None, 'res_name': 'GLU', 'chain': 'C', 'ssseq': 298, 'insertion': None}\n",
      "                   -> {'model': None, 'res_name': 'LEU', 'chain': 'C', 'ssseq': 299, 'insertion': None}\n",
      "                   -> {'model': None, 'res_name': 'PRO', 'chain': 'C', 'ssseq': 300, 'insertion': None}\n",
      "                   -> {'model': None, 'res_name': 'PRO', 'chain': 'C', 'ssseq': 301, 'insertion': None}\n",
      "                   -> {'model': None, 'res_name': 'GLY', 'chain': 'C', 'ssseq': 302, 'insertion': None}\n",
      "                   -> {'model': None, 'res_name': 'SER', 'chain': 'C', 'ssseq': 303, 'insertion': None}\n",
      "                   -> {'model': None, 'res_name': 'THR', 'chain': 'C', 'ssseq': 304, 'insertion': None}\n",
      "                   -> {'model': None, 'res_name': 'LYS', 'chain': 'C', 'ssseq': 305, 'insertion': None}\n",
      "                   -> {'model': None, 'res_name': 'ARG', 'chain': 'C', 'ssseq': 306, 'insertion': None}\n",
      "                   -> {'model': None, 'res_name': 'ALA', 'chain': 'C', 'ssseq': 307, 'insertion': None}\n",
      "                   -> {'model': None, 'res_name': 'LEU', 'chain': 'C', 'ssseq': 308, 'insertion': None}\n",
      "                   -> {'model': None, 'res_name': 'PRO', 'chain': 'C', 'ssseq': 309, 'insertion': None}\n",
      "                   -> {'model': None, 'res_name': 'ASN', 'chain': 'C', 'ssseq': 310, 'insertion': None}\n",
      "                   -> {'model': None, 'res_name': 'ASN', 'chain': 'C', 'ssseq': 311, 'insertion': None}\n",
      "                   -> {'model': None, 'res_name': 'THR', 'chain': 'C', 'ssseq': 312, 'insertion': None}\n",
      "            keywords: antigen p53, antitumor protein/dna complex\n",
      "             journal: AUTH   Y.CHO,S.GORINA,P.D.JEFFREY,N.P.PAVLETICHTITL   CRYSTAL STRUCTURE OF A P53 TUMOR SUPPRESSOR-DNATITL 2 COMPLEX: UNDERSTANDING TUMORIGENIC MUTATIONS.REF    SCIENCE                       V. 265   346 1994REFN                   ISSN 0036-8075PMID   8023157\n"
     ]
    }
   ],
   "source": [
    "print_pdb_headers(p53_1tup.header)"
   ]
  },
  {
   "cell_type": "code",
   "execution_count": 13,
   "id": "2826db4d-378d-4269-8e65-5393951b93ae",
   "metadata": {},
   "outputs": [
    {
     "name": "stdout",
     "output_type": "stream",
     "text": [
      "{'1': {'misc': '', 'molecule': \"dna (5'-d(*tp*tp*tp*cp*cp*tp*ap*gp*ap*cp*tp*tp*gp*cp*cp*cp*a p*ap*tp*tp*a)-3') \", 'chain': 'e', 'engineered': 'yes'}, '2': {'misc': '', 'molecule': \"dna (5'-d(*ap*tp*ap*ap*tp*tp*gp*gp*gp*cp*ap*ap*gp*tp*cp*tp*a p*gp*gp*ap*a)-3') \", 'chain': 'f', 'engineered': 'yes'}, '3': {'misc': '', 'molecule': 'protein (p53 tumor suppressor )', 'chain': 'a, b, c', 'engineered': 'yes'}}\n",
      "{'1': {'misc': '', 'molecule': 'tumor suppressor p53 (oligomerization domain)', 'chain': 'a, b, c, d', 'engineered': 'yes'}}\n",
      "{'1': {'misc': '', 'molecule': 'mdm2', 'chain': 'a', 'synonym': 'mdm2', 'engineered': 'yes'}, '2': {'misc': '', 'molecule': 'p53', 'chain': 'b', 'fragment': 'residues 13 - 29', 'engineered': 'yes'}}\n"
     ]
    }
   ],
   "source": [
    "print(p53_1tup.header['compound'])\n",
    "print(p53_1olg.header['compound'])\n",
    "print(p53_1ycq.header['compound'])"
   ]
  },
  {
   "cell_type": "code",
   "execution_count": 14,
   "id": "f8b31116-badc-4587-8483-1e5cd358b79b",
   "metadata": {
    "collapsed": true,
    "jupyter": {
     "outputs_hidden": true
    },
    "tags": []
   },
   "outputs": [
    {
     "name": "stdout",
     "output_type": "stream",
     "text": [
      "\n",
      "                   1:\n",
      "                    misc: \n",
      "                molecule: dna (5'-d(*tp*tp*tp*cp*cp*tp*ap*gp*ap*cp*tp*tp*gp*cp*cp*cp*a p*ap*tp*tp*a)-3') \n",
      "                   chain: e\n",
      "              engineered: yes\n",
      "\n",
      "\n",
      "                   2:\n",
      "                    misc: \n",
      "                molecule: dna (5'-d(*ap*tp*ap*ap*tp*tp*gp*gp*gp*cp*ap*ap*gp*tp*cp*tp*a p*gp*gp*ap*a)-3') \n",
      "                   chain: f\n",
      "              engineered: yes\n",
      "\n",
      "\n",
      "                   3:\n",
      "                    misc: \n",
      "                molecule: protein (p53 tumor suppressor )\n",
      "                   chain: a, b, c\n",
      "              engineered: yes\n",
      "\n"
     ]
    }
   ],
   "source": [
    "print_pdb_headers(p53_1tup.header['compound']) # WS a cleaner output"
   ]
  },
  {
   "cell_type": "code",
   "execution_count": 15,
   "id": "89d3735a-d10d-4559-bfc9-d37302dc96db",
   "metadata": {
    "tags": []
   },
   "outputs": [
    {
     "name": "stdout",
     "output_type": "stream",
     "text": [
      "\n",
      "                   1:\n",
      "                    misc: \n",
      "                molecule: tumor suppressor p53 (oligomerization domain)\n",
      "                   chain: a, b, c, d\n",
      "              engineered: yes\n",
      "\n"
     ]
    }
   ],
   "source": [
    "print_pdb_headers(p53_1olg.header['compound']) # WS a cleaner output"
   ]
  },
  {
   "cell_type": "code",
   "execution_count": 16,
   "id": "65072770-a99a-444b-a428-c15c3af31d37",
   "metadata": {
    "tags": []
   },
   "outputs": [
    {
     "name": "stdout",
     "output_type": "stream",
     "text": [
      "\n",
      "                   1:\n",
      "                    misc: \n",
      "                molecule: mdm2\n",
      "                   chain: a\n",
      "                 synonym: mdm2\n",
      "              engineered: yes\n",
      "\n",
      "\n",
      "                   2:\n",
      "                    misc: \n",
      "                molecule: p53\n",
      "                   chain: b\n",
      "                fragment: residues 13 - 29\n",
      "              engineered: yes\n",
      "\n"
     ]
    }
   ],
   "source": [
    "print_pdb_headers(p53_1ycq.header['compound']) # WS a cleaner output"
   ]
  },
  {
   "cell_type": "code",
   "execution_count": 17,
   "id": "5c7a3260-4fe1-4c8b-8102-4e2e76d22278",
   "metadata": {},
   "outputs": [],
   "source": [
    "def describe_model(name, pdb):\n",
    "    print()\n",
    "    for model in pdb:\n",
    "        for chain in model:\n",
    "            print('%s - Chain: %s. Number of residues: %d. Number of atoms: %d.' %\n",
    "                  (name, chain.id, len(chain), len(list(chain.get_atoms()))))"
   ]
  },
  {
   "cell_type": "code",
   "execution_count": 18,
   "id": "9f2570bb-c362-48cd-818f-c118690d4fd0",
   "metadata": {},
   "outputs": [
    {
     "name": "stdout",
     "output_type": "stream",
     "text": [
      "\n",
      "1TUP - Chain: E. Number of residues: 43. Number of atoms: 442.\n",
      "1TUP - Chain: F. Number of residues: 35. Number of atoms: 449.\n",
      "1TUP - Chain: A. Number of residues: 395. Number of atoms: 1734.\n",
      "1TUP - Chain: B. Number of residues: 265. Number of atoms: 1593.\n",
      "1TUP - Chain: C. Number of residues: 276. Number of atoms: 1610.\n",
      "\n",
      "1OLG - Chain: A. Number of residues: 42. Number of atoms: 698.\n",
      "1OLG - Chain: B. Number of residues: 42. Number of atoms: 698.\n",
      "1OLG - Chain: C. Number of residues: 42. Number of atoms: 698.\n",
      "1OLG - Chain: D. Number of residues: 42. Number of atoms: 698.\n",
      "\n",
      "1YCQ - Chain: A. Number of residues: 123. Number of atoms: 741.\n",
      "1YCQ - Chain: B. Number of residues: 16. Number of atoms: 100.\n"
     ]
    }
   ],
   "source": [
    "describe_model('1TUP', p53_1tup)\n",
    "describe_model('1OLG', p53_1olg)\n",
    "describe_model('1YCQ', p53_1ycq)"
   ]
  },
  {
   "cell_type": "code",
   "execution_count": 19,
   "id": "2ca7e1a2-8a18-47c3-9d0c-704ad01196cf",
   "metadata": {},
   "outputs": [],
   "source": [
    "# WS to explore chain object\n",
    "dd = []\n",
    "for model in p53_1tup:\n",
    "    for chain in model:\n",
    "        dd.append(chain)\n",
    "ee = list(dd[0].get_atoms())"
   ]
  },
  {
   "cell_type": "code",
   "execution_count": 20,
   "id": "6ce9f21d-c062-4300-85ad-63ff2d93193b",
   "metadata": {},
   "outputs": [
    {
     "name": "stdout",
     "output_type": "stream",
     "text": [
      "('H_ZN', 951, ' ')\n",
      "('H_ZN', 952, ' ')\n",
      "('H_ZN', 953, ' ')\n"
     ]
    }
   ],
   "source": [
    "for residue in p53_1tup.get_residues():\n",
    "    if residue.id[0] in [' ', 'W']:\n",
    "        continue\n",
    "    print(residue.id)"
   ]
  },
  {
   "cell_type": "code",
   "execution_count": 21,
   "id": "29323374-dc7a-4b28-8cfa-6345d99e313d",
   "metadata": {},
   "outputs": [
    {
     "data": {
      "text/plain": [
       "generator"
      ]
     },
     "execution_count": 21,
     "metadata": {},
     "output_type": "execute_result"
    }
   ],
   "source": [
    "type(p53_1tup.get_residues())"
   ]
  },
  {
   "cell_type": "markdown",
   "id": "0953d3d5-fb3d-4861-96d5-fc976e224e64",
   "metadata": {
    "jupyter": {
     "outputs_hidden": true
    },
    "tags": []
   },
   "source": [
    "# WS to explore residue object\n",
    "gg = list(p53_1tup.get_residues())\n",
    "for k in gg: \n",
    "    print(k.id)"
   ]
  },
  {
   "cell_type": "code",
   "execution_count": 23,
   "id": "a6b0fcc3-945c-46f6-8ffd-b7807646ce6f",
   "metadata": {},
   "outputs": [
    {
     "name": "stdout",
     "output_type": "stream",
     "text": [
      "<Residue SER het=  resseq=94 icode= >\n"
     ]
    }
   ],
   "source": [
    "res = next(p53_1tup[0]['A'].get_residues())\n",
    "print(res)"
   ]
  },
  {
   "cell_type": "code",
   "execution_count": 24,
   "id": "c38cec6e-f3dc-4529-8e9e-f56c5d1fb9c1",
   "metadata": {},
   "outputs": [
    {
     "name": "stdout",
     "output_type": "stream",
     "text": [
      "<Atom N> 858 N\n",
      "<Atom CA> 859 C\n",
      "<Atom C> 860 C\n",
      "<Atom O> 861 O\n",
      "<Atom CB> 862 C\n",
      "<Atom OG> 863 O\n"
     ]
    }
   ],
   "source": [
    "for atom in res:\n",
    "    print(atom, atom.serial_number, atom.element)"
   ]
  },
  {
   "cell_type": "code",
   "execution_count": 25,
   "id": "e7ee5b35-6158-4c61-aa68-ca3e6863c0c5",
   "metadata": {},
   "outputs": [
    {
     "name": "stdout",
     "output_type": "stream",
     "text": [
      "<Atom CA>\n"
     ]
    }
   ],
   "source": [
    "print(p53_1tup[0]['A'][94]['CA'])  # WS model, chain, residue, atom"
   ]
  },
  {
   "cell_type": "code",
   "execution_count": 26,
   "id": "26ad12c9-434f-4b85-88d2-0ea3ecbe0ef9",
   "metadata": {},
   "outputs": [],
   "source": [
    "ff = p53_1tup[0]['A'][94]['CA']"
   ]
  },
  {
   "cell_type": "code",
   "execution_count": 27,
   "id": "3eb4ac34-05ca-4a85-b024-77b4962725e9",
   "metadata": {},
   "outputs": [
    {
     "data": {
      "text/plain": [
       "(('P 53 - DNA Binding', 0, 'A', (' ', 94, ' '), ('CA', ' ')),\n",
       " array([75.562, 21.797, 80.653], dtype=float32))"
      ]
     },
     "execution_count": 27,
     "metadata": {},
     "output_type": "execute_result"
    }
   ],
   "source": [
    "ff.full_id, ff.coord  # WS"
   ]
  },
  {
   "cell_type": "code",
   "execution_count": 28,
   "id": "b496a067-7f8f-4102-8216-9e25e5133b57",
   "metadata": {},
   "outputs": [],
   "source": [
    "# write fasta file\n",
    "def get_fasta(pdb_file, fasta_file, transfer_ids=None):\n",
    "    fasta_writer = FastaIO.FastaWriter(fasta_file)\n",
    "    fasta_writer.write_header()\n",
    "    for rec in PdbIO.PdbSeqresIterator(pdb_file):\n",
    "        if len(rec.seq) == 0:\n",
    "            continue\n",
    "        if transfer_ids is not None and rec.id not in transfer_ids:\n",
    "            continue\n",
    "        print(rec.id, rec.seq, len(rec.seq))\n",
    "        fasta_writer.write_record(rec)"
   ]
  },
  {
   "cell_type": "code",
   "execution_count": 29,
   "id": "d225fe7f-83f4-493b-8163-732e1abd1dfb",
   "metadata": {},
   "outputs": [],
   "source": [
    "# WS\n",
    "fasta_1tup_file = os.path.join(data_dir, '1tup.fasta')\n",
    "fasta_1olg_file = os.path.join(data_dir, '1olg.fasta')\n",
    "fasta_1ycq_file = os.path.join(data_dir, '1ycq.fasta')"
   ]
  },
  {
   "cell_type": "code",
   "execution_count": 30,
   "id": "f3b4c5ca-dec2-4a3d-8f8c-81337beee84f",
   "metadata": {},
   "outputs": [
    {
     "name": "stdout",
     "output_type": "stream",
     "text": [
      "1TUP:B SSSVPSQKTYQGSYGFRLGFLHSGTAKSVTCTYSPALNKMFCQLAKTCPVQLWVDSTPPPGTRVRAMAIYKQSQHMTEVVRRCPHHERCSDSDGLAPPQHLIRVEGNLRVEYLDDRNTFRHSVVVPYEPPEVGSDCTTIHYNYMCNSSCMGGMNRRPILTIITLEDSSGNLLGRNSFEVRVCACPGRDRRTEEENLRKKGEPHHELPPGSTKRALPNNT 219\n",
      "1OLG:B KKKPLDGEYFTLQIRGRERFEMFRELNEALELKDAQAGKEPG 42\n",
      "1YCQ:B PLSQETFSDLWKLLPEN 17\n"
     ]
    }
   ],
   "source": [
    "get_fasta(open(pdb1tup_file), open(fasta_1tup_file, 'w'), transfer_ids=['1TUP:B'])\n",
    "get_fasta(open(pdb1olg_file), open(fasta_1olg_file, 'w'), transfer_ids=['1OLG:B'])\n",
    "get_fasta(open(pdb1ycq_file), open(fasta_1ycq_file, 'w'), transfer_ids=['1YCQ:B'])"
   ]
  },
  {
   "cell_type": "code",
   "execution_count": null,
   "id": "b6475aad-baab-451b-b4bc-8903ddc87b27",
   "metadata": {},
   "outputs": [],
   "source": []
  }
 ],
 "metadata": {
  "kernelspec": {
   "display_name": "Python 3 (ipykernel)",
   "language": "python",
   "name": "python3"
  },
  "language_info": {
   "codemirror_mode": {
    "name": "ipython",
    "version": 3
   },
   "file_extension": ".py",
   "mimetype": "text/x-python",
   "name": "python",
   "nbconvert_exporter": "python",
   "pygments_lexer": "ipython3",
   "version": "3.10.6"
  }
 },
 "nbformat": 4,
 "nbformat_minor": 5
}

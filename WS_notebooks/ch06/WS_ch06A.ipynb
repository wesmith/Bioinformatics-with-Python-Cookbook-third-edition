{
 "cells": [
  {
   "cell_type": "markdown",
   "id": "0f8d52f0-4976-43dd-a238-d07313b2e25a",
   "metadata": {},
   "source": [
    "# WS_ch06A.ipynb\n",
    "# WESmith 11/18/22\n",
    "## WS created this notebook to follow along chap 6 code from book\n",
    "## 'Bioinformatics with Python Cookbook' by Tiago Antao\n",
    "## Each recipe will have its own notebook, suffixed by A, B, etc.¶\n",
    "## also see book code in Chapter06/Data_Formats.py"
   ]
  },
  {
   "cell_type": "markdown",
   "id": "aee6bd13-c480-43b0-9a35-e0f2aa6a141a",
   "metadata": {},
   "source": [
    "# MANAGING DATASETS WITH PLINK"
   ]
  },
  {
   "cell_type": "markdown",
   "id": "0c3e8279-0278-41f8-b40b-e2b024c70898",
   "metadata": {},
   "source": [
    "# NOTE: This recipe generates 3.6G of data in the 'generated' folder.\n",
    "# The recipe only takes a few minutes to run to regenerate this data, so the generated data is not kept.\n",
    "# Keep the large source file hapmap3_r3_b36_fwd.consensus.qc.poly.ped.gz compressed (it is 1.2GB compressed and 8GB uncompressed). \n",
    "# It must be uncompressed before calling in this recipe. This is done in the code below, and it is recompressed after it is used."
   ]
  },
  {
   "cell_type": "code",
   "execution_count": null,
   "id": "dc3a2f0f-736b-4ed8-96e8-1e9eca349c63",
   "metadata": {},
   "outputs": [],
   "source": [
    "import os\n",
    "from collections import defaultdict"
   ]
  },
  {
   "cell_type": "code",
   "execution_count": null,
   "id": "63a55e5e-2513-4556-a17c-b3c91e93b08f",
   "metadata": {},
   "outputs": [],
   "source": [
    "# three files to retrieve\n",
    "\n",
    "# this is just 39k\n",
    "#!wget https://ftp.ncbi.nlm.nih.gov/hapmap/genotypes/hapmap3_r3/relationships_w_pops_041510.txt\n",
    "\n",
    "# this uncompressed file is just 35MB\n",
    "#!wget https://ftp.ncbi.nlm.nih.gov/hapmap/genotypes/hapmap3_r3/plink_format/hapmap3_r3_b36_fwd.consensus.qc.poly.map.gz\n",
    "#!gzip -d hapmap3_r3_b36_fwd.consensus.qc.poly.map.gz\n",
    "\n",
    "# this .gz file is 1.2GB and it uncompresses to 8GB! \n",
    "# it needs to be uncompressed to read, then just keep the compressed file\n",
    "#!wget https://ftp.ncbi.nlm.nih.gov/hapmap/genotypes/hapmap3_r3/plink_format/hapmap3_r3_b36_fwd.consensus.qc.poly.ped.gz\n",
    "#!gzip -d hapmap3_r3_b36_fwd.consensus.qc.poly.ped.gz"
   ]
  },
  {
   "cell_type": "code",
   "execution_count": null,
   "id": "4740d935-a288-417a-9aa6-b2fbc60794a0",
   "metadata": {},
   "outputs": [],
   "source": [
    "# move big files to Downloads so they will not be backed up\n",
    "remote_data_dir = '/home/smithw/Downloads/bioinformatics/ch06_data'\n",
    "gen_dir         = os.path.join(remote_data_dir, 'generated')\n",
    "base_file       = 'hapmap3_r3_b36_fwd.consensus.qc.poly'\n",
    "meta_data       = 'relationships_w_pops_041510.txt'"
   ]
  },
  {
   "cell_type": "markdown",
   "id": "14503c83-5f51-4ab0-8863-3f6cf70ab7c3",
   "metadata": {},
   "source": [
    "### 1) GET THE METADATA"
   ]
  },
  {
   "cell_type": "code",
   "execution_count": null,
   "id": "aa230e31-98a9-44e9-b357-73f740e82864",
   "metadata": {},
   "outputs": [],
   "source": [
    "# get family and indifidual IDs, and offspring data\n",
    "f = open(os.path.join(remote_data_dir, meta_data))\n",
    "pop_ind = defaultdict(list)\n",
    "f.readline()  # header\n",
    "offspring = []\n",
    "for l in f:\n",
    "    toks = l.rstrip().split('\\t')\n",
    "    fam_id = toks[0]\n",
    "    ind_id = toks[1] # WS individual ID\n",
    "    mom = toks[2]\n",
    "    dad = toks[3]\n",
    "    if mom != '0' or dad != '0':\n",
    "        offspring.append((fam_id, ind_id))\n",
    "    pop = toks[-1]\n",
    "    pop_ind[pop].append((fam_id, ind_id))\n",
    "f.close()"
   ]
  },
  {
   "cell_type": "code",
   "execution_count": null,
   "id": "b16ed3d5-798b-49f4-9a39-ca56da63ded7",
   "metadata": {
    "tags": []
   },
   "outputs": [],
   "source": [
    "pop_ind.keys()"
   ]
  },
  {
   "cell_type": "markdown",
   "id": "36bf649a-5f99-4ebb-be9b-7d6d79529473",
   "metadata": {},
   "source": [
    "### 2) SUBSAMPLE THE DATA"
   ]
  },
  {
   "cell_type": "code",
   "execution_count": null,
   "id": "01416b09-4457-4a93-b4c2-9fd90f64ccdb",
   "metadata": {},
   "outputs": [],
   "source": [
    "# decompress the big file (-d flag): takes about 80 seconds\n",
    "comp_file = os.path.join(remote_data_dir, base_file + '.ped.gz')\n",
    "!gzip -d {comp_file}"
   ]
  },
  {
   "cell_type": "code",
   "execution_count": null,
   "id": "c1afdd33-263b-47e3-9c63-ec5cc97f0306",
   "metadata": {
    "tags": []
   },
   "outputs": [],
   "source": [
    "val = {'hapmap1':'0.01', 'hapmap10':'0.1'} # WS 1% and 10% cases\n",
    "for j, k in val.items():\n",
    "    cmd  = '../plink2 --pedmap {}'.format(os.path.join(remote_data_dir, base_file)) +\\\n",
    "            ' --out {}'.format(os.path.join(gen_dir, j)) +\\\n",
    "            ' --thin {} --geno 0.1 --export ped'.format(k)\n",
    "    print(cmd); print()\n",
    "    os.system(cmd) # each case takes about a minute"
   ]
  },
  {
   "cell_type": "code",
   "execution_count": null,
   "id": "3f9c3586-7422-4c1a-837c-66f2a57b603b",
   "metadata": {},
   "outputs": [],
   "source": [
    "# recompress the big file: this takes around 10 minutes\n",
    "# the large file is automatically removed\n",
    "uncomp_file = os.path.join(remote_data_dir, base_file + '.ped')\n",
    "!gzip {uncomp_file}"
   ]
  },
  {
   "cell_type": "markdown",
   "id": "961f0d4a-fb0f-4af0-90d8-19b27e24e182",
   "metadata": {},
   "source": [
    "### 3), 4), 5) GENERATE SUBSETS WITH JUST AUTOSOMES"
   ]
  },
  {
   "cell_type": "code",
   "execution_count": null,
   "id": "64d71850-43ff-4c9d-88d1-60b14c84b5d4",
   "metadata": {},
   "outputs": [],
   "source": [
    "def get_non_auto_SNPs(map_file, exclude_file):\n",
    "    f = open(map_file)\n",
    "    w = open(exclude_file, 'w')\n",
    "    for l in f:\n",
    "        toks = l.rstrip().split('\\t')\n",
    "        try:\n",
    "            chrom = int(toks[0])\n",
    "        except ValueError:\n",
    "            rs = toks[1]\n",
    "            w.write('%s\\n' % rs)\n",
    "    w.close()"
   ]
  },
  {
   "cell_type": "code",
   "execution_count": null,
   "id": "a4d06f9d-87c9-4b62-aa46-d5cfc9f64f45",
   "metadata": {},
   "outputs": [],
   "source": [
    "for k in ['1', '10']:\n",
    "    h = os.path.join(gen_dir, 'hapmap{}.map'.format(k))\n",
    "    e = os.path.join(gen_dir, 'exclude{}.txt'.format(k))\n",
    "    get_non_auto_SNPs(h, e)"
   ]
  },
  {
   "cell_type": "code",
   "execution_count": null,
   "id": "92e77628-4687-48f8-bf02-2d42493a99d4",
   "metadata": {
    "tags": []
   },
   "outputs": [],
   "source": [
    "# this just takes seconds\n",
    "for k in ['1', '10']:\n",
    "    h = os.path.join(gen_dir, 'hapmap{}'.format(k))\n",
    "    cmd  = '../plink2 --pedmap {}'.format(h) +\\\n",
    "           ' --out '     + gen_dir  + '/hapmap{}_auto'.format(k) +\\\n",
    "           ' --exclude ' + gen_dir  + '/exclude{}.txt --export ped'.format(k)\n",
    "    os.system(cmd)\n",
    "    print(cmd)"
   ]
  },
  {
   "cell_type": "markdown",
   "id": "ce432f96-f13f-4c65-bb7e-a4887c29763a",
   "metadata": {},
   "source": [
    "### 6) GENERATE SUBSETS WITHOUT OFFSPRING"
   ]
  },
  {
   "cell_type": "code",
   "execution_count": null,
   "id": "16b4214e-6330-4f46-b9c9-a6166429602d",
   "metadata": {
    "tags": []
   },
   "outputs": [],
   "source": [
    "# this takes seconds\n",
    "for k in ['1', '10']:\n",
    "    h = os.path.join(gen_dir, 'hapmap{}_auto'.format(k))\n",
    "    cmd  = '../plink2 --pedmap {} --filter-founders'.format(h) +\\\n",
    "        ' --out ' + gen_dir + '/hapmap{}_auto_noofs'.format(k) +\\\n",
    "        ' --export ped'\n",
    "    os.system(cmd)\n",
    "    print(cmd)"
   ]
  },
  {
   "cell_type": "markdown",
   "id": "07b36624-7b3f-4cc4-ae17-5f9a8283d88b",
   "metadata": {},
   "source": [
    "### 7) LD PRUNING"
   ]
  },
  {
   "cell_type": "code",
   "execution_count": null,
   "id": "e60f714b-4dd6-45cf-bd0b-226aed4e4abf",
   "metadata": {
    "tags": []
   },
   "outputs": [],
   "source": [
    "# just doing for 10% data, as per book;\n",
    "# first step: generate a list of markers to be kept if the set is LD-pruned;\n",
    "# this uses a sliding window of 50 SNPs, advancing by 10 SNPs at a time with a cut\n",
    "# value of 0.1\n",
    "cmd = '../plink2 --pedmap ' + gen_dir + '/hapmap10_auto_noofs --indep-pairwise 50 10 0.1' +\\\n",
    "      ' --out ' + gen_dir + '/keep --export ped'\n",
    "os.system(cmd)\n",
    "print(cmd)"
   ]
  },
  {
   "cell_type": "code",
   "execution_count": null,
   "id": "8effdb99-9420-4486-b68a-10969c1d8e3f",
   "metadata": {
    "tags": []
   },
   "outputs": [],
   "source": [
    "# now extract SNPs to be kept\n",
    "# NOTE: the book included '--recode', which caused an error; removed it\n",
    "# (--recode isn't in Fata_Formats.py either)\n",
    "cmd = '../plink2 --pedmap ' + gen_dir + '/hapmap10_auto_noofs --extract ' +\\\n",
    "                              gen_dir + '/keep.prune.in' +\\\n",
    "                  ' --out ' + gen_dir + '/hapmap10_auto_noofs_LD --export ped'\n",
    "os.system(cmd)\n",
    "print(cmd)"
   ]
  },
  {
   "cell_type": "markdown",
   "id": "1fe629cc-8460-481c-8258-7b037a05ba45",
   "metadata": {},
   "source": [
    "### 8) RECODE INTO DIFFERENT FORMATS"
   ]
  },
  {
   "cell_type": "code",
   "execution_count": null,
   "id": "e6db76b4-1532-40e7-a4c8-6dd44d850ef2",
   "metadata": {
    "tags": []
   },
   "outputs": [],
   "source": [
    "# recode AGCT to another code that labels alleles with 1 and 2\n",
    "# NOTE: don't follow book here, follow Data_Formats.py\n",
    "cmd = '../plink2 --pedmap ' + gen_dir + '/hapmap10_auto_noofs_LD' +\\\n",
    "      ' --out ' + gen_dir + '/hapmap10_auto_noofs_LD_12 --export ped 12'\n",
    "print(cmd)      \n",
    "os.system(cmd)"
   ]
  },
  {
   "cell_type": "code",
   "execution_count": null,
   "id": "c03d6615-46e4-4b5a-b695-cec966031be9",
   "metadata": {
    "tags": []
   },
   "outputs": [],
   "source": [
    "# recode file in binary format\n",
    "cmd = '../plink2 --make-bed --pedmap ' + gen_dir + '/hapmap10_auto_noofs_LD' +\\\n",
    "      ' --out ' + gen_dir + '/hapmap10_auto_noofs_LD'\n",
    "print(cmd)\n",
    "os.system(cmd)"
   ]
  },
  {
   "cell_type": "markdown",
   "id": "8d528b78-36b1-4f37-921b-818b14d6fdef",
   "metadata": {},
   "source": [
    "### 9) EXTRACT A SINGLE CHROMOSOME"
   ]
  },
  {
   "cell_type": "code",
   "execution_count": null,
   "id": "4106a025-e216-4528-a103-c8fe7edae6b0",
   "metadata": {
    "tags": []
   },
   "outputs": [],
   "source": [
    "cmd = '../plink2 --pedmap ' + gen_dir + '/hapmap10_auto_noofs --chr 2' +\\\n",
    "      ' --out ' + gen_dir + '/hapmap10_auto_noofs_2 --export ped'\n",
    "print(cmd)\n",
    "os.system(cmd)"
   ]
  },
  {
   "cell_type": "code",
   "execution_count": null,
   "id": "77df6323-f914-4e66-821d-e4a5e7e26a74",
   "metadata": {},
   "outputs": [],
   "source": []
  }
 ],
 "metadata": {
  "kernelspec": {
   "display_name": "Python 3 (ipykernel)",
   "language": "python",
   "name": "python3"
  },
  "language_info": {
   "codemirror_mode": {
    "name": "ipython",
    "version": 3
   },
   "file_extension": ".py",
   "mimetype": "text/x-python",
   "name": "python",
   "nbconvert_exporter": "python",
   "pygments_lexer": "ipython3",
   "version": "3.10.6"
  }
 },
 "nbformat": 4,
 "nbformat_minor": 5
}

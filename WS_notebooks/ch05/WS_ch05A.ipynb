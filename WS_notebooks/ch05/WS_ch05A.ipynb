{
 "cells": [
  {
   "cell_type": "markdown",
   "id": "0ee6a13f-0345-4eae-ac00-dd91e1333adf",
   "metadata": {},
   "source": [
    "# WS_ch05A.ipynb\n",
    "# WESmith 11/24/22\n",
    "## WS created this notebook to follow along with the code in the book:\n",
    "## 'Bioinformatics with Python Cookbook' by Tiago Antao\n",
    "## Each recipe will have its own notebook, suffixed by A, B, etc.¶"
   ]
  },
  {
   "cell_type": "markdown",
   "id": "ba929869-d67b-4e1c-8d03-21da01d187c8",
   "metadata": {},
   "source": [
    "# RECIPE: \n",
    "# WORKING WITH HIGH-QUALITY REFERENCE GENOMES\n",
    "## also see book code in Chapter05/Reference_Genome.py¶"
   ]
  },
  {
   "cell_type": "code",
   "execution_count": null,
   "id": "ca8a3883-749f-4e94-be4d-23a30f54869b",
   "metadata": {},
   "outputs": [],
   "source": [
    "from IPython.core.display import Image\n",
    "from reportlab.lib import colors\n",
    "from reportlab.lib.units import cm\n",
    "from Bio import SeqIO\n",
    "from Bio import SeqUtils\n",
    "from Bio.Graphics import BasicChromosome\n",
    "import os"
   ]
  },
  {
   "cell_type": "code",
   "execution_count": null,
   "id": "30e2797f-fd03-473d-b119-03efda5487ca",
   "metadata": {},
   "outputs": [],
   "source": [
    "# source of the Plasmodium falciparum genome\n",
    "#!wget http://plasmodb.org/common/downloads/release-13.0/Pfalciparum3D7/fasta/data/PlasmoDB-13.0_Pfalciparum3D7_Genome.fasta"
   ]
  },
  {
   "cell_type": "code",
   "execution_count": null,
   "id": "cd49a4a1-6389-4a36-a7ac-c3ece4de3405",
   "metadata": {},
   "outputs": [],
   "source": [
    "data_dir  = 'data/ch05_data'\n",
    "genome = 'PlasmoDB-13.0_Pfalciparum3D7_Genome.fasta'\n",
    "file   = os.path.join(data_dir, genome)"
   ]
  },
  {
   "cell_type": "markdown",
   "id": "fabf009d-10b3-49fb-a391-c4e717a34b41",
   "metadata": {},
   "source": [
    "### 1) INSPECT THE SEQUENCES IN THE FASTA FILE"
   ]
  },
  {
   "cell_type": "code",
   "execution_count": null,
   "id": "877d2092-f0d1-4c62-9a68-4dfc3dcb4de0",
   "metadata": {
    "tags": []
   },
   "outputs": [],
   "source": [
    "recs = SeqIO.parse(file, 'fasta')\n",
    "chroms = {}\n",
    "for rec in recs:\n",
    "    print(rec.description)"
   ]
  },
  {
   "cell_type": "markdown",
   "id": "46652c3e-23f9-4525-973a-d0397d9e4cea",
   "metadata": {},
   "source": [
    "### 2) 3) COMPUTE THE GC FRACTION PER BLOCK OF BASE PAIRS"
   ]
  },
  {
   "cell_type": "code",
   "execution_count": null,
   "id": "d89ea683-72c5-45dc-9f13-98745cca9256",
   "metadata": {},
   "outputs": [],
   "source": [
    "chrom_sizes = {}\n",
    "chrom_GC = {}\n",
    "recs = SeqIO.parse(file, 'fasta')\n",
    "block_size = 50000\n",
    "min_GC = 100.0\n",
    "max_GC = 0.0\n",
    "for rec in recs:\n",
    "    if rec.description.find('SO=chromosome') == -1:\n",
    "        continue\n",
    "    chrom = int(rec.description.split('_')[1])\n",
    "    chrom_GC[chrom] = []\n",
    "    size = len(rec.seq)\n",
    "    chrom_sizes[chrom] = size\n",
    "    num_blocks = size // block_size + 1\n",
    "    for block in range(num_blocks):\n",
    "        start = block_size * block\n",
    "        if block == num_blocks - 1:\n",
    "            end = size\n",
    "        else:\n",
    "            end = block_size + start + 1\n",
    "        block_seq = rec.seq[start:end]\n",
    "        block_GC = SeqUtils.GC(block_seq)\n",
    "        if block_GC < min_GC:\n",
    "            min_GC = block_GC\n",
    "        if block_GC > max_GC:\n",
    "            max_GC = block_GC\n",
    "        chrom_GC[chrom].append(block_GC)"
   ]
  },
  {
   "cell_type": "code",
   "execution_count": null,
   "id": "5cb07779-18a5-4d90-97a5-2bf62e9a4084",
   "metadata": {},
   "outputs": [],
   "source": [
    "min_GC, max_GC"
   ]
  },
  {
   "cell_type": "markdown",
   "id": "d0e63f08-084f-414a-b6c8-8cd55d675d09",
   "metadata": {},
   "source": [
    "### 4) PLOT"
   ]
  },
  {
   "cell_type": "code",
   "execution_count": null,
   "id": "719f3723-8eb7-48ed-975b-a12e4c672325",
   "metadata": {},
   "outputs": [],
   "source": [
    "chroms = list(chrom_sizes.keys())\n",
    "chroms.sort()\n",
    "biggest_chrom = max(chrom_sizes.values())"
   ]
  },
  {
   "cell_type": "code",
   "execution_count": null,
   "id": "e8ca8546-1675-40e7-9f35-138617c869a9",
   "metadata": {},
   "outputs": [],
   "source": [
    "my_genome = BasicChromosome.Organism(output_format=\"png\")\n",
    "my_genome.page_size = (11.0*2.54*cm, 8.5*2.54*cm)  # (29.7*cm, 21*cm)  # WS changed\n",
    "telomere_length = 10\n",
    "bottom_GC = 17.5  # WS for bottom color\n",
    "top_GC    = 22.0  # WS for top    color\n",
    "#bottom_GC = (1 + 0.1) * min_GC  # WS change\n",
    "#top_GC    = (1 - 0.3) * max_GC  # WS change"
   ]
  },
  {
   "cell_type": "code",
   "execution_count": null,
   "id": "cd249763-a51b-4991-9f13-fa927ccfcc0c",
   "metadata": {},
   "outputs": [],
   "source": [
    "bottom_GC, top_GC"
   ]
  },
  {
   "cell_type": "code",
   "execution_count": null,
   "id": "175e208e-34eb-47bb-ab33-50cf1358e083",
   "metadata": {},
   "outputs": [],
   "source": [
    "for chrom in chroms:\n",
    "    chrom_size = chrom_sizes[chrom]\n",
    "    chrom_representation = BasicChromosome.Chromosome('Cr %d' % chrom)\n",
    "    chrom_representation.scale_num = biggest_chrom\n",
    "\n",
    "    tel = BasicChromosome.TelomereSegment()\n",
    "    tel.scale = telomere_length\n",
    "    chrom_representation.add(tel)\n",
    "\n",
    "    num_blocks = len(chrom_GC[chrom])\n",
    "    for block, gc in enumerate(chrom_GC[chrom]):\n",
    "        my_GC = chrom_GC[chrom][block]\n",
    "        body = BasicChromosome.ChromosomeSegment()\n",
    "        if my_GC > top_GC:\n",
    "            body.fill_color = colors.Color(1, 1, 1)  # WS experimented\n",
    "        elif my_GC < bottom_GC:\n",
    "            body.fill_color = colors.Color(0, 0, 0)  # WS experimented\n",
    "        else:\n",
    "            my_color = (my_GC - bottom_GC) / (top_GC - bottom_GC)\n",
    "            #body.fill_color = colors.Color(my_color, my_color, 1)  # WS R,G,B\n",
    "            body.fill_color = colors.Color(my_color, my_color, 1) # WS experimented\n",
    "        if block < num_blocks - 1:\n",
    "            body.scale = block_size\n",
    "        else:\n",
    "            body.scale = chrom_size % block_size\n",
    "        chrom_representation.add(body)\n",
    "\n",
    "    tel = BasicChromosome.TelomereSegment(inverted=True)\n",
    "    tel.scale = telomere_length\n",
    "    chrom_representation.add(tel)\n",
    "\n",
    "    my_genome.add(chrom_representation)"
   ]
  },
  {
   "cell_type": "code",
   "execution_count": null,
   "id": "3c48234d-c6e6-430f-9d23-ff7f932a550a",
   "metadata": {},
   "outputs": [],
   "source": [
    "out = os.path.join(data_dir,\"falciparum.png\")\n",
    "my_genome.draw(out, \"Plasmodium falciparum\")"
   ]
  },
  {
   "cell_type": "code",
   "execution_count": null,
   "id": "9f3b72a1-0f34-4910-a700-0a927b3d1484",
   "metadata": {},
   "outputs": [],
   "source": [
    "Image(out)"
   ]
  },
  {
   "cell_type": "code",
   "execution_count": null,
   "id": "de5ca490-768b-48dc-acb7-1a3ceff95ca4",
   "metadata": {},
   "outputs": [],
   "source": []
  }
 ],
 "metadata": {
  "kernelspec": {
   "display_name": "Python 3 (ipykernel)",
   "language": "python",
   "name": "python3"
  },
  "language_info": {
   "codemirror_mode": {
    "name": "ipython",
    "version": 3
   },
   "file_extension": ".py",
   "mimetype": "text/x-python",
   "name": "python",
   "nbconvert_exporter": "python",
   "pygments_lexer": "ipython3",
   "version": "3.10.6"
  }
 },
 "nbformat": 4,
 "nbformat_minor": 5
}

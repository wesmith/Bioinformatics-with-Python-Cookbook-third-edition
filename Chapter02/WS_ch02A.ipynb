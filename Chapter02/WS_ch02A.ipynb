{
 "cells": [
  {
   "cell_type": "markdown",
   "id": "30380cb1-19b6-4075-a731-a2e5a57bacb8",
   "metadata": {},
   "source": [
    "# WS_ch02.ipynb\n",
    "# WESmith 11/03/22\n",
    "## WS created this notebook to follow along chap 2 code"
   ]
  },
  {
   "cell_type": "markdown",
   "id": "11696369-a52a-414a-9dfb-d22e6f51d7f0",
   "metadata": {},
   "source": [
    "### data at https://vaers.hhs.gov/data/datasets.html\n",
    "### downloaded 2021VAERSData.zip"
   ]
  },
  {
   "cell_type": "code",
   "execution_count": null,
   "id": "46a08915-0e2e-48ab-9091-95e84523cc18",
   "metadata": {},
   "outputs": [],
   "source": [
    "import pandas as pd\n",
    "import numpy  as np\n",
    "import matplotlib.pyplot as plt"
   ]
  },
  {
   "cell_type": "markdown",
   "id": "661443b2-d815-47ab-aaf3-c113ca9289cc",
   "metadata": {},
   "source": [
    "# Using pandas to process vaccine-adverse events"
   ]
  },
  {
   "cell_type": "code",
   "execution_count": null,
   "id": "d1d7f377-ba72-4f2e-874f-ca08a0f6d8ca",
   "metadata": {},
   "outputs": [],
   "source": [
    "# local data is in '../data'\n",
    "vdata = pd.read_csv('../data/2021VAERSDATA.csv.gz', encoding='iso-8859-1', low_memory=False)"
   ]
  },
  {
   "cell_type": "code",
   "execution_count": null,
   "id": "1dfa300a-6284-4733-bf32-dc2c5a75b7b1",
   "metadata": {},
   "outputs": [],
   "source": [
    "vdata.info()"
   ]
  },
  {
   "cell_type": "code",
   "execution_count": null,
   "id": "e6d9585a-ff11-44f5-8c23-c5e51854ee16",
   "metadata": {},
   "outputs": [],
   "source": [
    "vdata.columns"
   ]
  },
  {
   "cell_type": "code",
   "execution_count": null,
   "id": "38f831f9-f74a-4553-94bf-afcf8e4de352",
   "metadata": {},
   "outputs": [],
   "source": [
    "vdata.dtypes"
   ]
  },
  {
   "cell_type": "code",
   "execution_count": null,
   "id": "83429680-2bf1-4d83-b2c6-b9c23dc205ff",
   "metadata": {},
   "outputs": [],
   "source": [
    "vdata.shape"
   ]
  },
  {
   "cell_type": "code",
   "execution_count": null,
   "id": "49385fc4-5b83-4d7d-9c58-4b4c11ec73d2",
   "metadata": {},
   "outputs": [],
   "source": [
    "vdata.iloc[0]"
   ]
  },
  {
   "cell_type": "code",
   "execution_count": null,
   "id": "76ca672d-74f8-4e5b-ba31-39fb765bc4e0",
   "metadata": {},
   "outputs": [],
   "source": [
    "vdata = vdata.set_index(\"VAERS_ID\")"
   ]
  },
  {
   "cell_type": "code",
   "execution_count": null,
   "id": "fa705c87-dcaa-4d72-a0de-21586da392e8",
   "metadata": {},
   "outputs": [],
   "source": [
    "vdata.loc[916600]"
   ]
  },
  {
   "cell_type": "code",
   "execution_count": null,
   "id": "b71dac26-115d-4c35-af4b-f83738ba74f9",
   "metadata": {},
   "outputs": [],
   "source": [
    "vdata.head(3)"
   ]
  },
  {
   "cell_type": "code",
   "execution_count": null,
   "id": "7c419219-5e91-4303-8585-489f1235b930",
   "metadata": {},
   "outputs": [],
   "source": [
    "vdata.iloc[:3]  # WS same as above, using numpy slicing format (ie, 0,1,2 included)"
   ]
  },
  {
   "cell_type": "code",
   "execution_count": null,
   "id": "7d1a67de-1ab0-4345-8924-3f2f25357f4d",
   "metadata": {},
   "outputs": [],
   "source": [
    "vdata.iloc[:5, 2:4]  # WS cols 2,3 included; VAERS_ID is no longer a column"
   ]
  },
  {
   "cell_type": "code",
   "execution_count": null,
   "id": "71012c32-bd2e-4758-b85e-1c1cab8e3741",
   "metadata": {},
   "outputs": [],
   "source": [
    "vdata['AGE_YRS'].max()"
   ]
  },
  {
   "cell_type": "code",
   "execution_count": null,
   "id": "ecdede51-8d1b-4f23-ac20-1edd5725fa25",
   "metadata": {},
   "outputs": [],
   "source": [
    "vdata.AGE_YRS.max()"
   ]
  },
  {
   "cell_type": "code",
   "execution_count": null,
   "id": "3037110c-de39-4f29-b46f-e5c577c15e9e",
   "metadata": {},
   "outputs": [],
   "source": [
    "vdata['AGE_YRS'].sort_values().plot(use_index=False, grid=True)  # WS added grid"
   ]
  },
  {
   "cell_type": "code",
   "execution_count": null,
   "id": "84575dfc-1e50-45d4-a2b8-5bd377368532",
   "metadata": {},
   "outputs": [],
   "source": [
    "vdata['AGE_YRS'].plot.hist(bins=20, grid=True)"
   ]
  },
  {
   "cell_type": "code",
   "execution_count": null,
   "id": "2ba91e4a-713c-4932-8208-2e0e2758ecb2",
   "metadata": {},
   "outputs": [],
   "source": [
    "fig, ax = plt.subplots(1, 2, sharey=True)\n",
    "fig.suptitle(\"Age of adverse events\")\n",
    "vdata[\"AGE_YRS\"].sort_values().plot(use_index=False, ax=ax[0], xlabel=\"Observation\", ylabel=\"Age\", grid=True)\n",
    "vdata[\"AGE_YRS\"].plot.hist(bins=20, orientation='horizontal', grid=True)"
   ]
  },
  {
   "cell_type": "code",
   "execution_count": null,
   "id": "c824bd63-e786-4f57-ab79-a8a4962e85ad",
   "metadata": {},
   "outputs": [],
   "source": [
    "vdata['AGE_YRS'].dropna().apply(lambda x: int(x)).value_counts()"
   ]
  },
  {
   "cell_type": "code",
   "execution_count": null,
   "id": "5b38fb5c-a8c1-4314-906a-1e0d39eb56fc",
   "metadata": {},
   "outputs": [],
   "source": [
    "vdata['AGE_YRS'].value_counts()  # WS most ages have no fraction"
   ]
  },
  {
   "cell_type": "code",
   "execution_count": null,
   "id": "39e41a5b-9679-471d-8e27-95430f635e10",
   "metadata": {},
   "outputs": [],
   "source": [
    "vdata['DIED'].value_counts(dropna=False)"
   ]
  },
  {
   "cell_type": "code",
   "execution_count": null,
   "id": "c7e46e05-3f63-4807-b113-834859d24809",
   "metadata": {},
   "outputs": [],
   "source": [
    "vdata['DIED'].value_counts(dropna=True)"
   ]
  },
  {
   "cell_type": "code",
   "execution_count": null,
   "id": "ae1cc6d5-4690-4106-bb70-2fbd8a3b6564",
   "metadata": {},
   "outputs": [],
   "source": [
    "vdata['is_dead'] = (vdata['DIED'] == 'Y')"
   ]
  },
  {
   "cell_type": "code",
   "execution_count": null,
   "id": "74f17229-25f7-4d7a-9e08-1171153a0d59",
   "metadata": {},
   "outputs": [],
   "source": [
    "vdata['is_dead'].value_counts()"
   ]
  },
  {
   "cell_type": "code",
   "execution_count": null,
   "id": "bfbb886b-7d15-4c2c-ba00-6cd6dcd83aa3",
   "metadata": {},
   "outputs": [],
   "source": [
    "dead = vdata[vdata.is_dead]"
   ]
  },
  {
   "cell_type": "code",
   "execution_count": null,
   "id": "b0af55a9-d3de-47da-8f1e-fc65b8f1c0f0",
   "metadata": {},
   "outputs": [],
   "source": [
    "vax = pd.read_csv('../data/2021VAERSVAX.csv.gz', encoding='iso-8859-1').set_index('VAERS_ID')"
   ]
  },
  {
   "cell_type": "code",
   "execution_count": null,
   "id": "79f805da-f4c4-4a78-87c0-b824ead6bb9c",
   "metadata": {},
   "outputs": [],
   "source": [
    "vax.groupby('VAX_TYPE').size().sort_values()  # WS to see the frequency of vaccines"
   ]
  },
  {
   "cell_type": "code",
   "execution_count": null,
   "id": "dd8319de-7fd1-44d2-aee4-b746909aa9f2",
   "metadata": {},
   "outputs": [],
   "source": [
    "vax19 = vax[vax.VAX_TYPE == 'COVID19']"
   ]
  },
  {
   "cell_type": "code",
   "execution_count": null,
   "id": "5480dbc5-cc07-4a3e-ad7b-ff28cdf3e99c",
   "metadata": {},
   "outputs": [],
   "source": [
    "vax19.columns"
   ]
  },
  {
   "cell_type": "code",
   "execution_count": null,
   "id": "c041baed-7497-48bc-86df-085b900a8031",
   "metadata": {},
   "outputs": [],
   "source": [
    "vax19_dead = dead.join(vax19)"
   ]
  },
  {
   "cell_type": "code",
   "execution_count": null,
   "id": "66d6f220-805b-4fee-b992-e89ff557123c",
   "metadata": {},
   "outputs": [],
   "source": [
    "vax19_dead.columns"
   ]
  },
  {
   "cell_type": "code",
   "execution_count": null,
   "id": "8a0fab3a-05e9-4aba-8847-f1a43a0e3b87",
   "metadata": {},
   "outputs": [],
   "source": [
    "baddies = vax19_dead.groupby('VAX_LOT').size().sort_values(ascending=False)"
   ]
  },
  {
   "cell_type": "code",
   "execution_count": null,
   "id": "de1f4d53-670a-4b60-bb11-12a54668ca2e",
   "metadata": {},
   "outputs": [],
   "source": [
    "type(baddies)"
   ]
  },
  {
   "cell_type": "code",
   "execution_count": null,
   "id": "f57a88d8-457d-4ad2-8e81-79a165aab365",
   "metadata": {},
   "outputs": [],
   "source": [
    "baddies.iloc[0:4]"
   ]
  },
  {
   "cell_type": "code",
   "execution_count": null,
   "id": "a95edb48-7999-475d-8743-2153d2a4ab40",
   "metadata": {},
   "outputs": [],
   "source": [
    "for i, (lot, cnt) in enumerate(baddies.items()):\n",
    "    if i == 0:  # WS\n",
    "        print('LOT, NUM DEATHS  NUM STATES WITH THAT LOT')\n",
    "    print(lot, cnt, len(vax19_dead[vax19_dead.VAX_LOT==lot].groupby(\"STATE\")))\n",
    "    if i == 20: \n",
    "        break"
   ]
  },
  {
   "cell_type": "code",
   "execution_count": null,
   "id": "9dc88dbb-c408-4709-9604-aa3c7159418f",
   "metadata": {},
   "outputs": [],
   "source": [
    "# WS can do the above groupby a different way:\n",
    "dd = vax19_dead[vax19_dead.VAX_LOT=='EN6201'].STATE.value_counts()\n",
    "dd"
   ]
  },
  {
   "cell_type": "code",
   "execution_count": null,
   "id": "4524e41e-263a-4bec-b873-d53513e93e03",
   "metadata": {},
   "outputs": [],
   "source": [
    "len(dd)"
   ]
  },
  {
   "cell_type": "markdown",
   "id": "b4d1229e-531a-48a8-82ae-922d78660f8e",
   "metadata": {},
   "source": [
    "## pick up here at p. 82\n",
    "# Dealing with the pitfalls of joining pandas DataFrames"
   ]
  },
  {
   "cell_type": "code",
   "execution_count": null,
   "id": "e96e2af4-4786-4a2d-af31-13cc5e3e17c6",
   "metadata": {},
   "outputs": [],
   "source": []
  }
 ],
 "metadata": {
  "kernelspec": {
   "display_name": "Python 3 (ipykernel)",
   "language": "python",
   "name": "python3"
  },
  "language_info": {
   "codemirror_mode": {
    "name": "ipython",
    "version": 3
   },
   "file_extension": ".py",
   "mimetype": "text/x-python",
   "name": "python",
   "nbconvert_exporter": "python",
   "pygments_lexer": "ipython3",
   "version": "3.10.6"
  }
 },
 "nbformat": 4,
 "nbformat_minor": 5
}

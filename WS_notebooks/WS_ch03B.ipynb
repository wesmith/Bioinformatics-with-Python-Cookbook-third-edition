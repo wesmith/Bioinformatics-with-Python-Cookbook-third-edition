{
 "cells": [
  {
   "cell_type": "markdown",
   "id": "5976fdde-694e-435f-8c26-7f4a5412d8ae",
   "metadata": {},
   "source": [
    "# WS_ch03B.ipynb\n",
    "# WESmith 11/10/22\n",
    "## WS created this notebook to follow along chap 3 code from book \n",
    "# 'Bioinformatics with Python Cookbook' by Tiago Antao\n",
    "### Each recipe will have its own notebook, suffixed by A, B, etc."
   ]
  },
  {
   "cell_type": "markdown",
   "id": "615c5cb9-1880-4803-908c-5cafb999c33a",
   "metadata": {},
   "source": [
    "# PERFORMING BASIC SEQUENCE ANALYSIS"
   ]
  },
  {
   "cell_type": "code",
   "execution_count": 1,
   "id": "7ef34f23-55c8-4326-9f3e-34c68f7e0591",
   "metadata": {},
   "outputs": [],
   "source": [
    "from Bio import Entrez, SeqIO, SeqRecord\n",
    "import os"
   ]
  },
  {
   "cell_type": "code",
   "execution_count": 2,
   "id": "37802153-5023-438a-b110-f658c7253e6c",
   "metadata": {},
   "outputs": [],
   "source": [
    "Entrez.email = 'smiwarsky@gmail.com'  # required"
   ]
  },
  {
   "cell_type": "code",
   "execution_count": 3,
   "id": "db834858-7f83-4745-be45-456232621687",
   "metadata": {},
   "outputs": [],
   "source": [
    "data_dir = './data'"
   ]
  },
  {
   "cell_type": "code",
   "execution_count": 4,
   "id": "d5510a78-54b7-4f93-9e3e-23d381b8acc4",
   "metadata": {},
   "outputs": [],
   "source": [
    "hdl = Entrez.efetch(db='nucleotide', id=['NM_002299'], rettype='gb') # human lactase gene"
   ]
  },
  {
   "cell_type": "code",
   "execution_count": 5,
   "id": "cf5e1b8c-b181-4ff5-a184-0dc7f4a460c4",
   "metadata": {},
   "outputs": [
    {
     "data": {
      "text/plain": [
       "_io.TextIOWrapper"
      ]
     },
     "execution_count": 5,
     "metadata": {},
     "output_type": "execute_result"
    }
   ],
   "source": [
    "type(hdl)"
   ]
  },
  {
   "cell_type": "code",
   "execution_count": 6,
   "id": "592561ae-7e36-407e-a98e-60de09f62d27",
   "metadata": {},
   "outputs": [
    {
     "data": {
      "text/plain": [
       "Bio.SeqRecord.SeqRecord"
      ]
     },
     "execution_count": 6,
     "metadata": {},
     "output_type": "execute_result"
    }
   ],
   "source": [
    "gb_rec = SeqIO.read(hdl, 'gb')\n",
    "type(gb_rec)"
   ]
  },
  {
   "cell_type": "code",
   "execution_count": 7,
   "id": "45a35174-920f-4878-98a4-77aafa3617d9",
   "metadata": {},
   "outputs": [
    {
     "data": {
      "text/plain": [
       "(FeatureLocation(ExactPosition(15), ExactPosition(5799), strand=1),\n",
       " Bio.SeqFeature.FeatureLocation)"
      ]
     },
     "execution_count": 7,
     "metadata": {},
     "output_type": "execute_result"
    }
   ],
   "source": [
    "# get location of gene\n",
    "# WS NOTE: CDS means 'coding sequence': the actual part of the sequence that codes for a protein\n",
    "for feature in gb_rec.features:\n",
    "    if feature.type == 'CDS':\n",
    "        location = feature.location\n",
    "location, type(location)"
   ]
  },
  {
   "cell_type": "code",
   "execution_count": 8,
   "id": "ecc5b6d3-1934-4530-b935-1d6e74088a34",
   "metadata": {},
   "outputs": [],
   "source": [
    "cds = SeqRecord.SeqRecord(gb_rec.seq[location.start:location.end], \n",
    "                          'NM_002299', description='LCT CDS only')"
   ]
  },
  {
   "cell_type": "code",
   "execution_count": 9,
   "id": "9c82e01e-bbeb-4776-a55c-ab772bda9b6c",
   "metadata": {
    "collapsed": true,
    "jupyter": {
     "outputs_hidden": true
    },
    "tags": []
   },
   "outputs": [
    {
     "name": "stdout",
     "output_type": "stream",
     "text": [
      "ATGGAGCTGTCTTGGCATGTAGTCTTTATTGCCCTGCTAAGTTTTTCATGCTGGGGGTCAGACTGGGAGTCTGATAGAAATTTCATTTCCACCGCTGGTCCTCTAACCAATGACTTGCTGCACAACCTGAGTGGTCTCCTGGGAGACCAGAGTTCTAACTTTGTAGCAGGGGACAAAGACATGTATGTTTGTCACCAGCCACTGCCCACTTTCCTGCCAGAATACTTCAGCAGTCTCCATGCCAGTCAGATCACCCATTATAAGGTATTTCTGTCATGGGCACAGCTCCTCCCAGCAGGAAGCACCCAGAATCCAGACGAGAAAACAGTGCAGTGCTACCGGCGACTCCTCAAGGCCCTCAAGACTGCACGGCTTCAGCCCATGGTCATCCTGCACCACCAGACCCTCCCTGCCAGCACCCTCCGGAGAACCGAAGCCTTTGCTGACCTCTTCGCCGACTATGCCACATTCGCCTTCCACTCCTTCGGGGACCTAGTTGGGATCTGGTTCACCTTCAGTGACTTGGAGGAAGTGATCAAGGAGCTTCCCCACCAGGAATCAAGAGCGTCACAACTCCAGACCCTCAGTGATGCCCACAGAAAAGCCTATGAGATTTACCACGAAAGCTATGCTTTTCAGGGCGGAAAACTCTCTGTTGTCCTGCGAGCTGAAGATATCCCGGAGCTCCTGCTAGAACCACCCATATCTGCGCTTGCCCAGGACACGGTCGATTTCCTCTCTCTTGATTTGTCTTATGAATGCCAAAATGAGGCAAGTCTGCGGCAGAAGCTGAGTAAATTGCAGACCATTGAGCCAAAAGTGAAAGTTTTCATCTTCAACCTAAAACTCCCAGACTGCCCCTCCACCATGAAGAACCCAGCCAGTCTGCTCTTCAGCCTTTTTGAAGCCATAAATAAAGACCAAGTGCTCACCATTGGGTTTGATATTAATGAGTTTCTGAGTTGTTCATCAAGTTCCAAGAAAAGCATGTCTTGTTCTCTGACTGGCAGCCTGGCCCTTCAGCCTGACCAGCAGCAGGACCACGAGACCACGGACTCCTCTCCTGCCTCTGCCTATCAGAGAATCTGGGAAGCATTTGCCAATCAGTCCAGGGCGGAAAGGGATGCCTTCCTGCAGGATACTTTCCCTGAAGGCTTCCTCTGGGGTGCCTCCACAGGAGCCTTTAACGTGGAAGGAGGCTGGGCCGAGGGTGGGAGAGGGGTGAGCATCTGGGATCCACGCAGGCCCCTGAACACCACTGAGGGCCAAGCGACGCTGGAGGTGGCCAGCGACAGTTACCACAAGGTAGCCTCTGACGTCGCCCTGCTTTGCGGCCTCCGGGCTCAGGTGTACAAGTTCTCCATCTCCTGGTCCCGGATCTTCCCCATGGGGCACGGGAGCAGCCCCAGCCTCCCAGGCGTTGCCTACTACAACAAGCTGATTGACAGGCTACAGGATGCGGGCATCGAGCCCATGGCCACGCTGTTCCACTGGGACCTGCCTCAGGCCCTGCAGGATCATGGTGGATGGCAGAATGAGAGCGTGGTGGATGCCTTCCTGGACTATGCGGCCTTCTGCTTCTCCACATTTGGGGACCGTGTGAAGCTGTGGGTGACCTTCCATGAGCCGTGGGTGATGAGCTACGCAGGCTATGGCACCGGCCAGCACCCTCCCGGCATCTCTGACCCAGGAGTGGCCTCTTTTAAGGTGGCTCACTTGGTCCTCAAGGCTCATGCCAGAACTTGGCACCACTACAACAGCCATCATCGCCCACAGCAGCAGGGGCACGTGGGCATTGTGCTGAACTCAGACTGGGCAGAACCCCTGTCTCCAGAGAGGCCTGAGGACCTGAGAGCCTCTGAGCGCTTCTTGCACTTCATGCTGGGCTGGTTTGCACACCCCGTCTTTGTGGATGGAGACTACCCAGCCACCCTGAGGACCCAGATCCAACAGATGAACAGACAGTGCTCCCATCCTGTGGCTCAACTCCCCGAGTTCACAGAGGCAGAGAAGCAGCTCCTGAAAGGCTCTGCTGATTTTCTGGGTCTGTCGCATTACACCTCCCGCCTCATCAGCAACGCCCCACAAAACACCTGCATCCCTAGCTATGATACCATTGGAGGCTTCTCCCAACACGTGAACCATGTGTGGCCCCAGACCTCATCCTCTTGGATTCGTGTGGTGCCCTGGGGGATAAGGAGGCTGTTGCAGTTTGTATCCCTGGAATACACAAGAGGAAAAGTTCCAATATACCTTGCCGGGAATGGCATGCCCATAGGGGAAAGTGAAAATCTCTTTGATGATTCCTTAAGAGTAGACTACTTCAATCAATATATCAATGAGGTGCTCAAGGCTATCAAGGAAGACTCTGTGGATGTTCGTTCCTACATTGCTCGTTCCCTCATTGATGGCTTCGAAGGCCCTTCTGGTTACAGCCAGCGGTTTGGCCTGCACCACGTCAACTTCAGCGACAGCAGCAAGTCAAGGACTCCCAGGAAATCTGCCTACTTTTTCACTAGCATCATAGAAAAGAACGGTTTCCTCACCAAGGGGGCAAAAAGACTGCTACCACCTAATACAGTAAACCTCCCCTCCAAAGTCAGAGCCTTCACTTTTCCATCTGAGGTGCCCTCCAAGGCTAAAGTCGTTTGGGAAAAGTTCTCCAGCCAACCCAAGTTCGAAAGAGATTTGTTCTACCACGGGACGTTTCGGGATGACTTTCTGTGGGGCGTGTCCTCTTCCGCTTATCAGATTGAAGGCGCGTGGGATGCCGATGGCAAAGGCCCCAGCATCTGGGATAACTTTACCCACACACCAGGGAGCAATGTGAAAGACAATGCCACTGGAGACATCGCCTGTGACAGCTATCACCAGCTGGATGCCGATCTGAATATGCTCCGAGCTTTGAAGGTGAAGGCCTACCGCTTCTCTATCTCCTGGTCTCGGATTTTCCCAACTGGGAGAAACAGCTCTATCAACAGTCATGGGGTTGATTATTACAACAGGCTGATCAATGGCTTGGTGGCAAGCAACATCTTTCCCATGGTGACATTGTTCCATTGGGACCTGCCCCAGGCCCTCCAGGATATCGGAGGCTGGGAGAATCCTGCCTTGATTGACTTGTTTGACAGCTACGCAGACTTTTGTTTCCAGACCTTTGGTGATAGAGTCAAGTTTTGGATGACTTTTAATGAGCCCATGTACCTGGCATGGCTAGGTTATGGCTCAGGGGAATTTCCCCCAGGGGTGAAGGACCCAGGCTGGGCACCATATAGGATAGCCCACGCCGTCATCAAAGCCCATGCCAGAGTCTATCACACGTACGATGAGAAATACAGGCAGGAGCAGAAGGGGGTCATCTCGCTGAGCCTCAGTACACACTGGGCAGAGCCCAAGTCACCAGGGGTCCCCAGAGATGTGGAAGCCGCTGACCGAATGCTGCAGTTCTCCCTGGGCTGGTTTGCTCACCCCATTTTTAGAAACGGAGACTATCCTGACACCATGAAGTGGAAAGTGGGGAACAGGAGTGAACTGCAGCACTTAGCCACCTCCCGCCTGCCAAGCTTCACTGAGGAAGAGAAGAGGTTCATCAGGGCGACGGCCGACGTCTTCTGCCTCAACACGTACTACTCCAGAATCGTGCAGCACAAAACACCCAGGCTAAACCCACCCTCCTACGAAGACGACCAGGAGATGGCTGAGGAGGAGGACCCTTCGTGGCCTTCCACGGCAATGAACAGAGCTGCGCCCTGGGGGACGCGAAGGCTGCTGAACTGGATCAAGGAAGAGTATGGTGACATCCCCATTTACATCACCGAAAACGGAGTGGGGCTGACCAATCCGAACACGGAGGATACTGATAGGATATTTTACCACAAAACCTACATCAATGAGGCTTTGAAAGCCTACAGGCTCGATGGTATAGACCTTCGAGGGTATGTCGCCTGGTCTCTGATGGACAACTTTGAGTGGCTAAATGGCTACACGGTCAAGTTTGGACTGTACCATGTTGATTTCAACAACACGAACAGGCCTCGCACAGCAAGAGCCTCCGCCAGGTACTACACAGAGGTCATTACCAACAACGGCATGCCACTGGCCAGGGAGGATGAGTTTCTGTACGGACGGTTTCCTGAGGGCTTCATCTGGAGTGCAGCTTCTGCTGCATATCAGATTGAAGGTGCGTGGAGAGCAGATGGCAAAGGACTCAGCATTTGGGACACGTTTTCTCACACACCACTGAGGGTTGAGAACGATGCCATTGGAGACGTGGCCTGTGACAGTTATCACAAGATTGCTGAGGATCTGGTCACCCTGCAGAACCTGGGCGTGTCCCACTACCGTTTTTCCATCTCCTGGTCTCGCATCCTCCCTGATGGAACCACCAGGTACATCAATGAAGCGGGCCTGAACTACTACGTGAGGCTCATCGATACACTGCTGGCCGCCAGCATCCAGCCCCAGGTGACCATTTACCACTGGGACCTACCACAGACGCTCCAAGATGTAGGAGGCTGGGAGAATGAGACCATCGTGCAGCGGTTTAAGGAGTATGCAGATGTGCTCTTCCAGAGGCTGGGAGACAAGGTGAAGTTTTGGATCACGCTGAATGAGCCCTTTGTCATTGCTTACCAGGGCTATGGCTACGGAACAGCAGCTCCAGGAGTCTCCAATAGGCCTGGCACTGCCCCCTACATTGTTGGCCACAATCTAATAAAGGCTCATGCTGAGGCCTGGCATCTGTACAACGATGTGTACCGCGCCAGTCAAGGTGGCGTGATTTCCATCACCATCAGCAGTGACTGGGCTGAACCCAGAGATCCCTCTAACCAGGAGGATGTGGAGGCAGCCAGGAGATATGTTCAGTTCATGGGAGGCTGGTTTGCACATCCTATTTTCAAGAATGGAGATTACAATGAGGTGATGAAGACGCGGATCCGTGACAGGAGCTTGGCTGCAGGCCTCAACAAGTCTCGGCTGCCAGAATTTACAGAGAGTGAGAAGAGGAGGATCAACGGCACCTATGACTTTTTTGGGTTCAATCACTACACCACTGTCCTCGCCTACAACCTCAACTATGCCACTGCCATCTCTTCTTTTGATGCAGACAGAGGAGTTGCTTCCATCGCAGATCGCTCGTGGCCAGACTCTGGCTCCTTCTGGCTGAAGATGACGCCTTTTGGCTTCAGGAGGATCCTGAACTGGTTAAAGGAGGAATACAATGACCCTCCAATTTATGTCACAGAGAATGGAGTGTCCCAGCGGGAAGAAACAGACCTCAATGACACTGCAAGGATCTACTACCTTCGGACTTACATCAATGAGGCCCTCAAAGCTGTGCAGGACAAGGTGGACCTTCGAGGATACACAGTTTGGAGTGCGATGGACAATTTTGAGTGGGCCACAGGCTTTTCAGAGAGATTTGGTCTGCATTTTGTGAACTACAGTGACCCTTCTCTGCCAAGGATCCCCAAAGCATCAGCGAAGTTCTACGCCTCTGTGGTCCGATGCAATGGCTTCCCTGACCCCGCTACAGGGCCTCACGCTTGTCTCCACCAGCCAGATGCTGGACCCACCATCAGCCCCGTGAGACAGGAGGAGGTGCAGTTCCTGGGGCTAATGCTCGGCACCACAGAAGCACAGACAGCTTTGTACGTTCTCTTTTCTCTTGTGCTTCTTGGAGTCTGTGGCTTGGCATTTCTGTCATACAAGTACTGCAAGCGCTCTAAGCAAGGGAAAACACAACGAAGCCAACAGGAATTGAGCCCGGTGTCTTCATTCTGA\n"
     ]
    },
    {
     "data": {
      "text/plain": [
       "(None, 5784)"
      ]
     },
     "execution_count": 9,
     "metadata": {},
     "output_type": "execute_result"
    }
   ],
   "source": [
    "print(cds.seq), len(cds.seq)  # WS here it is! the lactose coding sequence"
   ]
  },
  {
   "cell_type": "markdown",
   "id": "79f7d54f-73c4-49c9-93a7-7a23a86ba2f9",
   "metadata": {},
   "source": [
    "### 1) WRITE FASTA FILE"
   ]
  },
  {
   "cell_type": "code",
   "execution_count": 10,
   "id": "2ce43882-d8f2-49f2-bd20-40dc8030950c",
   "metadata": {},
   "outputs": [],
   "source": [
    "file = 'example.fasta'\n",
    "w_hdl = open(os.path.join(data_dir, file), 'w')\n",
    "SeqIO.write([cds], w_hdl, 'fasta')\n",
    "w_hdl.close()"
   ]
  },
  {
   "cell_type": "markdown",
   "id": "fc7aee5c-138f-4936-a100-72321217139a",
   "metadata": {},
   "source": [
    "### 2) READ FILE"
   ]
  },
  {
   "cell_type": "code",
   "execution_count": 11,
   "id": "81f3e299-d6e3-4e69-b33c-d3cb2610ee9b",
   "metadata": {},
   "outputs": [],
   "source": [
    "recs = SeqIO.parse(os.path.join(data_dir, file), 'fasta')"
   ]
  },
  {
   "cell_type": "code",
   "execution_count": 12,
   "id": "1b5d6992-6bb8-447a-aaf6-109d4f699a55",
   "metadata": {},
   "outputs": [
    {
     "name": "stdout",
     "output_type": "stream",
     "text": [
      "NM_002299 LCT CDS only\n",
      "ATGGAGCTGT\n"
     ]
    }
   ],
   "source": [
    "for rec in recs:\n",
    "    seq = rec.seq\n",
    "    print(rec.description)\n",
    "    print(seq[:10])"
   ]
  },
  {
   "cell_type": "markdown",
   "id": "85ef7714-4549-4cd4-bb8e-136a8585dddc",
   "metadata": {},
   "source": [
    "### 3) TRANSCRIBE SEQUENCE"
   ]
  },
  {
   "cell_type": "code",
   "execution_count": 13,
   "id": "96bc4e6d-308d-4d92-8d02-b44a345420bb",
   "metadata": {},
   "outputs": [
    {
     "name": "stdout",
     "output_type": "stream",
     "text": [
      "AUGGAGCUGUCUUGG\n"
     ]
    }
   ],
   "source": [
    "rna = seq.transcribe()\n",
    "print(rna[:15]) # WS T goes to U"
   ]
  },
  {
   "cell_type": "markdown",
   "id": "74bcbbae-b6cd-4fa7-a0c5-771a591897e5",
   "metadata": {},
   "source": [
    "### 4) TRANSLATE INTO PROTEIN"
   ]
  },
  {
   "cell_type": "code",
   "execution_count": 14,
   "id": "c319a64f-cab4-4c59-adb4-8add7ea6afb1",
   "metadata": {},
   "outputs": [
    {
     "name": "stdout",
     "output_type": "stream",
     "text": [
      "MELSW\n"
     ]
    }
   ],
   "source": [
    "prot = seq.translate()\n",
    "print(prot[:5])"
   ]
  },
  {
   "cell_type": "markdown",
   "id": "671efa5d-673e-4cf2-a60b-6f11d2c40b44",
   "metadata": {},
   "source": [
    "## CODON TABLES"
   ]
  },
  {
   "cell_type": "code",
   "execution_count": 15,
   "id": "2951925c-d4ce-4a2a-a2a0-aae5fe13d420",
   "metadata": {},
   "outputs": [],
   "source": [
    "# WS this from biopython site:\n",
    "from Bio.Data import CodonTable\n",
    "standard_table = CodonTable.unambiguous_dna_by_id[1]\n",
    "mito_table     = CodonTable.unambiguous_dna_by_id[2]"
   ]
  },
  {
   "cell_type": "code",
   "execution_count": 16,
   "id": "6dec23b0-a6ec-4560-90ef-94e38060b263",
   "metadata": {},
   "outputs": [
    {
     "name": "stdout",
     "output_type": "stream",
     "text": [
      "Table 1 Standard, SGC0\n",
      "\n",
      "  |  T      |  C      |  A      |  G      |\n",
      "--+---------+---------+---------+---------+--\n",
      "T | TTT F   | TCT S   | TAT Y   | TGT C   | T\n",
      "T | TTC F   | TCC S   | TAC Y   | TGC C   | C\n",
      "T | TTA L   | TCA S   | TAA Stop| TGA Stop| A\n",
      "T | TTG L(s)| TCG S   | TAG Stop| TGG W   | G\n",
      "--+---------+---------+---------+---------+--\n",
      "C | CTT L   | CCT P   | CAT H   | CGT R   | T\n",
      "C | CTC L   | CCC P   | CAC H   | CGC R   | C\n",
      "C | CTA L   | CCA P   | CAA Q   | CGA R   | A\n",
      "C | CTG L(s)| CCG P   | CAG Q   | CGG R   | G\n",
      "--+---------+---------+---------+---------+--\n",
      "A | ATT I   | ACT T   | AAT N   | AGT S   | T\n",
      "A | ATC I   | ACC T   | AAC N   | AGC S   | C\n",
      "A | ATA I   | ACA T   | AAA K   | AGA R   | A\n",
      "A | ATG M(s)| ACG T   | AAG K   | AGG R   | G\n",
      "--+---------+---------+---------+---------+--\n",
      "G | GTT V   | GCT A   | GAT D   | GGT G   | T\n",
      "G | GTC V   | GCC A   | GAC D   | GGC G   | C\n",
      "G | GTA V   | GCA A   | GAA E   | GGA G   | A\n",
      "G | GTG V   | GCG A   | GAG E   | GGG G   | G\n",
      "--+---------+---------+---------+---------+--\n"
     ]
    }
   ],
   "source": [
    "print(standard_table)"
   ]
  },
  {
   "cell_type": "code",
   "execution_count": 17,
   "id": "af5a10b9-eb39-4c01-9192-98029393dd0c",
   "metadata": {},
   "outputs": [
    {
     "data": {
      "text/plain": [
       "[\"OBJECT TYPE: <class 'Bio.Data.CodonTable.NCBICodonTableDNA'>\",\n",
       " 'back_table',\n",
       " 'forward_table',\n",
       " 'id',\n",
       " 'names',\n",
       " 'nucleotide_alphabet',\n",
       " 'protein_alphabet',\n",
       " 'start_codons',\n",
       " 'stop_codons']"
      ]
     },
     "execution_count": 17,
     "metadata": {},
     "output_type": "execute_result"
    }
   ],
   "source": [
    "import ws_utils as ws\n",
    "ws.attrs(standard_table)"
   ]
  },
  {
   "cell_type": "code",
   "execution_count": 18,
   "id": "1f36f42c-6d68-45c1-8390-d3f5436e1b32",
   "metadata": {},
   "outputs": [
    {
     "data": {
      "text/plain": [
       "{'A',\n",
       " 'C',\n",
       " 'D',\n",
       " 'E',\n",
       " 'F',\n",
       " 'G',\n",
       " 'H',\n",
       " 'I',\n",
       " 'K',\n",
       " 'L',\n",
       " 'M',\n",
       " 'N',\n",
       " 'P',\n",
       " 'Q',\n",
       " 'R',\n",
       " 'S',\n",
       " 'T',\n",
       " 'V',\n",
       " 'W',\n",
       " 'Y'}"
      ]
     },
     "execution_count": 18,
     "metadata": {},
     "output_type": "execute_result"
    }
   ],
   "source": [
    "# WS the 20 amino acids\n",
    "set(standard_table.forward_table.values())"
   ]
  },
  {
   "cell_type": "code",
   "execution_count": 19,
   "id": "0169894a-9fc3-483a-8ae7-da2dabb6ede5",
   "metadata": {},
   "outputs": [
    {
     "data": {
      "text/plain": [
       "{'K': 'AAG',\n",
       " 'N': 'AAT',\n",
       " 'T': 'ACT',\n",
       " 'R': 'CGT',\n",
       " 'S': 'TCT',\n",
       " 'I': 'ATT',\n",
       " 'M': 'ATG',\n",
       " 'Q': 'CAG',\n",
       " 'H': 'CAT',\n",
       " 'P': 'CCT',\n",
       " 'L': 'TTG',\n",
       " 'E': 'GAG',\n",
       " 'D': 'GAT',\n",
       " 'A': 'GCT',\n",
       " 'G': 'GGT',\n",
       " 'V': 'GTT',\n",
       " 'Y': 'TAT',\n",
       " 'C': 'TGT',\n",
       " 'W': 'TGG',\n",
       " 'F': 'TTT',\n",
       " None: 'TAA'}"
      ]
     },
     "execution_count": 19,
     "metadata": {},
     "output_type": "execute_result"
    }
   ],
   "source": [
    "standard_table.back_table  # WS this disregards the many-to-one nature of the forward table"
   ]
  },
  {
   "cell_type": "code",
   "execution_count": null,
   "id": "5fac0b4c-a184-460e-a8ce-861bb8e07d83",
   "metadata": {},
   "outputs": [],
   "source": []
  }
 ],
 "metadata": {
  "kernelspec": {
   "display_name": "Python 3 (ipykernel)",
   "language": "python",
   "name": "python3"
  },
  "language_info": {
   "codemirror_mode": {
    "name": "ipython",
    "version": 3
   },
   "file_extension": ".py",
   "mimetype": "text/x-python",
   "name": "python",
   "nbconvert_exporter": "python",
   "pygments_lexer": "ipython3",
   "version": "3.10.6"
  }
 },
 "nbformat": 4,
 "nbformat_minor": 5
}

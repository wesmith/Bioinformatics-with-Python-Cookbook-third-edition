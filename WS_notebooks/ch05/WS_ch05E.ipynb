{
 "cells": [
  {
   "cell_type": "markdown",
   "id": "7493ca18-76a2-49d6-89e9-cf35403041f7",
   "metadata": {},
   "source": [
    "# WS_ch05E.ipynb\n",
    "# WESmith 12/09/22\n",
    "## WS created this notebook to follow along with the code in the book:\n",
    "## 'Bioinformatics with Python Cookbook' by Tiago Antao\n",
    "## Each recipe will have its own notebook, suffixed by A, B, etc.¶"
   ]
  },
  {
   "cell_type": "markdown",
   "id": "8d25770d-edbb-4022-8ba4-30021e8ddc5d",
   "metadata": {},
   "source": [
    "# RECIPE: \n",
    "# FINDING ORTHOLOGUES WITH THE ENSEMBL REST API\n",
    "## also see book code in Chapter05/Orthology.py¶"
   ]
  },
  {
   "cell_type": "code",
   "execution_count": null,
   "id": "c4b31301-1401-4d5e-9b3e-4aed1327a331",
   "metadata": {},
   "outputs": [],
   "source": [
    "import requests\n",
    "import yaml"
   ]
  },
  {
   "cell_type": "code",
   "execution_count": null,
   "id": "26f291f5-16d0-4915-9636-c524ae8577a2",
   "metadata": {},
   "outputs": [],
   "source": [
    "ensembl_server = 'http://rest.ensembl.org'\n",
    "# WS can go there in a browser also to learn about commands"
   ]
  },
  {
   "cell_type": "code",
   "execution_count": null,
   "id": "07cc79e5-f73e-4425-9eb8-b7b48fa47001",
   "metadata": {},
   "outputs": [],
   "source": [
    "def print_d(d): # cWS onvenience function to print a nested dict\n",
    "    print(yaml.dump(d, default_flow_style=False))"
   ]
  },
  {
   "cell_type": "code",
   "execution_count": null,
   "id": "996da638-dbeb-4827-b20f-bb4f065795c9",
   "metadata": {},
   "outputs": [],
   "source": [
    "dd = {'a':1, 'b':{'c':100, 'd': {'e':'hi'}, 'f': 1000}}\n",
    "print_d(dd)"
   ]
  },
  {
   "cell_type": "code",
   "execution_count": null,
   "id": "15ea0bc8-785b-4c2a-8398-f72d7676efd7",
   "metadata": {},
   "outputs": [],
   "source": [
    "space = ' '\n",
    "print('hi{}you'.format(5*space))"
   ]
  },
  {
   "cell_type": "markdown",
   "id": "1ad41210-9723-4e7c-9da0-d9fd74322ff5",
   "metadata": {},
   "source": [
    "### CREATE SUPPORT FUNCTION FOR A WEB REQUEST"
   ]
  },
  {
   "cell_type": "code",
   "execution_count": null,
   "id": "7635adcf-7402-481e-ae63-6359a0bb9b83",
   "metadata": {},
   "outputs": [],
   "source": [
    "def do_request(server, service, *args, **kwargs):\n",
    "    url_params = ''\n",
    "    for a in args:\n",
    "        if a is not None:\n",
    "            url_params += '/' + a\n",
    "    req = requests.get('%s/%s%s' % (server, service, url_params),\n",
    "                       params=kwargs,\n",
    "                       headers={'Content-Type': 'application/json'})\n",
    "    if not req.ok:\n",
    "        req.raise_for_status()\n",
    "    return req.json()"
   ]
  },
  {
   "cell_type": "markdown",
   "id": "896e0032-e718-4fdf-b353-4d99c348f764",
   "metadata": {},
   "source": [
    "### 3) CHECK AVAILABLE SPECIES ON THE SERVER"
   ]
  },
  {
   "cell_type": "code",
   "execution_count": null,
   "id": "71206a7c-8a81-4168-a522-cd9ed6e45f80",
   "metadata": {
    "tags": []
   },
   "outputs": [],
   "source": [
    "# 315 species when run on 12/09/22\n",
    "answer = do_request(ensembl_server, 'info/species')"
   ]
  },
  {
   "cell_type": "code",
   "execution_count": null,
   "id": "6c0e0f4c-43bc-4049-9025-facfebf8b1b9",
   "metadata": {},
   "outputs": [],
   "source": [
    "type(answer['species']) # list of dicts"
   ]
  },
  {
   "cell_type": "code",
   "execution_count": null,
   "id": "a6cf6e2a-8870-4584-acf7-651c9d34c654",
   "metadata": {},
   "outputs": [],
   "source": [
    "answer['species'][0].keys()"
   ]
  },
  {
   "cell_type": "code",
   "execution_count": null,
   "id": "76f9b35d-763b-4a0c-b64c-55ecb79675c3",
   "metadata": {
    "tags": []
   },
   "outputs": [],
   "source": [
    "for i, sp in enumerate(answer['species']):\n",
    "    print(i, sp['common_name'])"
   ]
  },
  {
   "cell_type": "markdown",
   "id": "11ff1792-80b0-46a9-aaa5-737c11839459",
   "metadata": {},
   "source": [
    "### 3) FIND HGNC DATABASES RELATED TO HUMAN DATA"
   ]
  },
  {
   "cell_type": "code",
   "execution_count": null,
   "id": "3a2b0198-fa2c-408e-9385-374bbeee4ecf",
   "metadata": {},
   "outputs": [],
   "source": [
    "ext_dbs = do_request(ensembl_server, 'info/external_dbs', \n",
    "                     'homo_sapiens', filter='HGNC%')\n",
    "print(ext_dbs)"
   ]
  },
  {
   "cell_type": "code",
   "execution_count": null,
   "id": "a3a656eb-6547-44e0-a4df-238eb01d39fa",
   "metadata": {},
   "outputs": [],
   "source": [
    "# WS not clear what this info is saying: just that a HGNC db exists?\n",
    "for k in ext_dbs: # WS list of dicts\n",
    "    print_d(k)"
   ]
  },
  {
   "cell_type": "markdown",
   "id": "c3d45584-7a48-466c-bf06-d35d90f1da9f",
   "metadata": {},
   "source": [
    "### 4) RETRIEVE ENSEMBLE ID FOR THE LCT GENE"
   ]
  },
  {
   "cell_type": "code",
   "execution_count": null,
   "id": "46dd9ab9-6aed-465d-93d1-8811887aa7b0",
   "metadata": {},
   "outputs": [],
   "source": [
    "answer = do_request(ensembl_server, 'lookup/symbol', \n",
    "                    'homo_sapiens', 'LCT')"
   ]
  },
  {
   "cell_type": "code",
   "execution_count": null,
   "id": "3ea0fceb-9dbe-4efe-b004-952209e23157",
   "metadata": {},
   "outputs": [],
   "source": [
    "print_d(answer)"
   ]
  },
  {
   "cell_type": "code",
   "execution_count": null,
   "id": "62b45b3c-9298-44ab-83da-771144a65b51",
   "metadata": {},
   "outputs": [],
   "source": [
    "lct_id = answer['id']\n",
    "lct_id"
   ]
  },
  {
   "cell_type": "code",
   "execution_count": null,
   "id": "7117f76c-2d01-4aad-86d6-1127c87a11b2",
   "metadata": {},
   "outputs": [],
   "source": [
    "gene_length = answer['end'] - answer['start'] + 1\n",
    "gene_length"
   ]
  },
  {
   "cell_type": "code",
   "execution_count": null,
   "id": "1ef8423f-8d15-46cd-810d-4343ba15e475",
   "metadata": {},
   "outputs": [],
   "source": [
    "lct_seq = do_request(ensembl_server, 'sequence/id', lct_id)"
   ]
  },
  {
   "cell_type": "code",
   "execution_count": null,
   "id": "22882b80-dfed-4511-9e81-c117fcbbfd06",
   "metadata": {},
   "outputs": [],
   "source": [
    "lct_seq.keys()"
   ]
  },
  {
   "cell_type": "code",
   "execution_count": null,
   "id": "315d18b6-c327-4570-bf18-c30ef31455e1",
   "metadata": {},
   "outputs": [],
   "source": [
    "for k, v in lct_seq.items():  # WS\n",
    "    if k == 'seq': continue  # javascript error: see below\n",
    "    print('{:20s}: {}'.format(k, v))"
   ]
  },
  {
   "cell_type": "code",
   "execution_count": null,
   "id": "97979442-30b7-45bf-a438-b02e95389910",
   "metadata": {},
   "outputs": [],
   "source": [
    "# string 49335 bases long: consistent with metadata\n",
    "len(lct_seq['seq'])"
   ]
  },
  {
   "cell_type": "code",
   "execution_count": null,
   "id": "57c7ff5c-67cd-44b0-85fb-7e8e98f59b01",
   "metadata": {},
   "outputs": [],
   "source": [
    "# WS can't print without subindexing: too large; get \n",
    "# 'javascript error: too much recursion'\n",
    "lct_seq['seq'][0:200]"
   ]
  },
  {
   "cell_type": "markdown",
   "id": "7ea4a78c-1652-4ef3-abe8-441929e0aeb0",
   "metadata": {},
   "source": [
    "# _____________________________________________"
   ]
  },
  {
   "cell_type": "markdown",
   "id": "5475de4a-2d38-4cc6-80de-9d4afb1f890f",
   "metadata": {},
   "source": [
    "### WS TODO) \n",
    "### GET THE GFF FILE FOR THIS LACTASE GENE AND DISPLAY THE EXONs, CDSs, UTRs\n",
    "### SEE WS_ch05D.ipynb AND WS_experiments.ipynb"
   ]
  },
  {
   "cell_type": "markdown",
   "id": "9640950e-3c51-4253-9679-0ade96ad7f0e",
   "metadata": {},
   "source": [
    "# _____________________________________________"
   ]
  },
  {
   "cell_type": "markdown",
   "id": "34587cb4-821f-4a75-83d8-b5e3e6f4861f",
   "metadata": {},
   "source": [
    "### 6) INSPECT OTHER DATABASES KNOWN TO ENSEMBL FOR THIS GENE"
   ]
  },
  {
   "cell_type": "code",
   "execution_count": null,
   "id": "f0bb13b6-9100-4404-be86-899fc2623964",
   "metadata": {},
   "outputs": [],
   "source": [
    "lct_xrefs = do_request(ensembl_server, 'xrefs/id', lct_id)"
   ]
  },
  {
   "cell_type": "code",
   "execution_count": null,
   "id": "247de845-6ee7-43ea-b953-7957c814fe3b",
   "metadata": {},
   "outputs": [],
   "source": [
    "for xref in lct_xrefs:\n",
    "    print(xref['db_display_name'])\n",
    "    #print(xref)\n",
    "    #print_d(xref)  # WS"
   ]
  },
  {
   "cell_type": "code",
   "execution_count": null,
   "id": "3ef62430-792f-4fd9-abfa-c9c242747bab",
   "metadata": {},
   "outputs": [],
   "source": [
    "refs = do_request(ensembl_server, 'xrefs/id', lct_id, \n",
    "                  external_db='GO', all_levels='1')"
   ]
  },
  {
   "cell_type": "code",
   "execution_count": null,
   "id": "3ecdcc55-5fb8-4351-a304-696b75b039e9",
   "metadata": {},
   "outputs": [],
   "source": [
    "#print(lct_id, refs)\n",
    "for k in refs: # WS\n",
    "    #print_d(k) # WS  too many entries to print all\n",
    "    print(k['display_id'], k['linkage_types'], k['description'])"
   ]
  },
  {
   "cell_type": "markdown",
   "id": "d1ee3eec-0fd6-479f-945b-c73f58a7dd86",
   "metadata": {},
   "source": [
    "### 7) GET THE ORTHOLOGUES FOR THIS GENE ON THE HORSE GENOME"
   ]
  },
  {
   "cell_type": "code",
   "execution_count": null,
   "id": "fbc831c8-d589-4cf5-9fd9-7f1baa8f320b",
   "metadata": {},
   "outputs": [],
   "source": [
    "hom_response = do_request(ensembl_server, 'homology/id', lct_id, \n",
    "                          type='orthologues', sequence='none')"
   ]
  },
  {
   "cell_type": "code",
   "execution_count": null,
   "id": "4945becc-e81a-417c-98c7-fbc25b73f5c5",
   "metadata": {},
   "outputs": [],
   "source": [
    "#print(hom_response['data'][0]['homologies'])\n",
    "homologies = hom_response['data'][0]['homologies']\n",
    "for homology in homologies:\n",
    "    #print(homology['target']['species'])\n",
    "    if homology['target']['species'] != 'equus_caballus':\n",
    "        continue\n",
    "    print_d(homology) # WS function\n",
    "    #print(homology['taxonomy_level'])\n",
    "    horse_id = homology['target']['id']"
   ]
  },
  {
   "cell_type": "code",
   "execution_count": null,
   "id": "532fe55c-a40a-4b4d-b8d1-62532e026215",
   "metadata": {},
   "outputs": [],
   "source": [
    "horse_id"
   ]
  },
  {
   "cell_type": "markdown",
   "id": "426efdb0-e938-49fd-b2cb-d0097f384015",
   "metadata": {},
   "source": [
    "### 8) GET ENSEMBL RECORD FOR horse_id"
   ]
  },
  {
   "cell_type": "code",
   "execution_count": null,
   "id": "b036b269-d36b-46cf-b15b-8fa78ecd14f6",
   "metadata": {},
   "outputs": [],
   "source": [
    "horse_req = do_request(ensembl_server, 'lookup/id', horse_id)"
   ]
  },
  {
   "cell_type": "code",
   "execution_count": null,
   "id": "d7a38659-a2fe-48fa-b620-96aa475e14b3",
   "metadata": {},
   "outputs": [],
   "source": [
    "print_d(horse_req) # WS function"
   ]
  },
  {
   "cell_type": "markdown",
   "id": "5b0ef995-5c76-46b0-b83b-2d395edf8563",
   "metadata": {},
   "source": [
    "### WS TODO) GET THE GENE SEQUENCE, GFF FILE AND PLOT GENE\n",
    "### COMPARE TO HUMAN"
   ]
  },
  {
   "cell_type": "code",
   "execution_count": null,
   "id": "33046cee-a1ca-468d-9013-fbc40c6b9170",
   "metadata": {},
   "outputs": [],
   "source": []
  }
 ],
 "metadata": {
  "kernelspec": {
   "display_name": "Python 3 (ipykernel)",
   "language": "python",
   "name": "python3"
  },
  "language_info": {
   "codemirror_mode": {
    "name": "ipython",
    "version": 3
   },
   "file_extension": ".py",
   "mimetype": "text/x-python",
   "name": "python",
   "nbconvert_exporter": "python",
   "pygments_lexer": "ipython3",
   "version": "3.10.6"
  }
 },
 "nbformat": 4,
 "nbformat_minor": 5
}

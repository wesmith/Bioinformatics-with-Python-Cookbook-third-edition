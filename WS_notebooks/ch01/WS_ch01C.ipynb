{
 "cells": [
  {
   "cell_type": "markdown",
   "id": "0a784091-0857-4668-94b4-0b5654282103",
   "metadata": {},
   "source": [
    "# WS_ch01C.ipynb\n",
    "# WESmith 04/27/23\n",
    "# INTERFACING WITH R VIA rpy2\n",
    "## (see book code in Chapter01/Interfacing_R.py)\n",
    "## WS created this notebook to follow along with code from the book\n",
    "## 'Bioinformatics with Python Cookbook' by Tiago Antao¶\n",
    "### Each recipe will have its own notebook, suffixed by A, B, etc.¶"
   ]
  },
  {
   "cell_type": "code",
   "execution_count": null,
   "id": "582d28b4-c654-453b-9cb7-39c6a0adb8e5",
   "metadata": {},
   "outputs": [],
   "source": [
    "import os\n",
    "import pandas as pd\n",
    "from IPython.display import Image\n",
    "import utils as ws"
   ]
  },
  {
   "cell_type": "code",
   "execution_count": null,
   "id": "4a613355-050e-499a-a8df-6c3c946d3284",
   "metadata": {},
   "outputs": [],
   "source": [
    "import rpy2.robjects as robjects\n",
    "import rpy2.robjects.lib.ggplot2 as ggplot2\n",
    "from   rpy2.robjects.functions import SignatureTranslatedFunction\n",
    "from   rpy2.robjects import pandas2ri\n",
    "from   rpy2.robjects.conversion import localconverter"
   ]
  },
  {
   "cell_type": "code",
   "execution_count": null,
   "id": "7d4fe7c1-123c-40c8-84ab-80bdc5f01750",
   "metadata": {},
   "outputs": [],
   "source": [
    "# get the data: took about 5m, 64MB, saved in file on disk called sequence.index\n",
    "#!wget -nd http://ftp.1000genomes.ebi.ac.uk/vol1/ftp/phase3/20130502.phase3.sequence.index -O sequence.index\n",
    "# WS I moved sequence.index to .../ch01/data/"
   ]
  },
  {
   "cell_type": "code",
   "execution_count": null,
   "id": "4429be8f-3920-404c-82ce-6fe567a0ee65",
   "metadata": {},
   "outputs": [],
   "source": [
    "data_dir  = 'data'\n",
    "file      = 'sequence.index'"
   ]
  },
  {
   "cell_type": "code",
   "execution_count": null,
   "id": "52f931e3-03c9-4853-9493-f34323769b6d",
   "metadata": {},
   "outputs": [],
   "source": [
    "read_delim = robjects.r('read.delim')"
   ]
  },
  {
   "cell_type": "code",
   "execution_count": null,
   "id": "d836430f-12c5-45ce-a643-ed5817673580",
   "metadata": {},
   "outputs": [],
   "source": [
    "seq_data = read_delim(os.path.join(data_dir, file), header=True, stringsAsFactors=False)"
   ]
  },
  {
   "cell_type": "code",
   "execution_count": null,
   "id": "7432d5fa-8a6f-47be-9e0d-b649ff169d1e",
   "metadata": {
    "tags": []
   },
   "outputs": [],
   "source": [
    "ws.attrs(seq_data)"
   ]
  },
  {
   "cell_type": "code",
   "execution_count": null,
   "id": "a56cb3ea-74bc-4559-b0d8-0438f41a73ef",
   "metadata": {},
   "outputs": [],
   "source": [
    "print('This data frame has %d columns and %d rows' % (seq_data.ncol, seq_data.nrow))\n",
    "print(seq_data.colnames)"
   ]
  },
  {
   "cell_type": "code",
   "execution_count": null,
   "id": "50cb5072-0d7a-41a3-9e27-0cc6053fc5ac",
   "metadata": {},
   "outputs": [],
   "source": [
    "print('number of columns: {}'.format(robjects.r.ncol(seq_data)[0]))"
   ]
  },
  {
   "cell_type": "code",
   "execution_count": null,
   "id": "d8189e67-4876-42d3-abed-e8281f3f9d5b",
   "metadata": {},
   "outputs": [],
   "source": [
    "as_integer = robjects.r('as.integer')\n",
    "match      = robjects.r.match"
   ]
  },
  {
   "cell_type": "code",
   "execution_count": null,
   "id": "40036c98-cf31-4870-b7df-50d9050559e1",
   "metadata": {},
   "outputs": [],
   "source": [
    "my_col = match('READ_COUNT', seq_data.colnames)[0] # Vector returned\n",
    "print('Type of read count before as.integer: %s' % seq_data[my_col - 1].rclass[0])"
   ]
  },
  {
   "cell_type": "code",
   "execution_count": null,
   "id": "01d0c230-edeb-4b45-8b2e-2133c9480897",
   "metadata": {},
   "outputs": [],
   "source": [
    "seq_data[my_col - 1] = as_integer(seq_data[my_col - 1])\n",
    "print('Type of read count after as.integer: %s' % seq_data[my_col - 1].rclass[0])"
   ]
  },
  {
   "cell_type": "code",
   "execution_count": null,
   "id": "a62a040b-fc1f-45ed-858f-eb5491c6b633",
   "metadata": {},
   "outputs": [],
   "source": [
    "my_col               = match('BASE_COUNT', seq_data.colnames)[0] # Vector returned\n",
    "seq_data[my_col - 1] = as_integer(seq_data[my_col - 1])"
   ]
  },
  {
   "cell_type": "code",
   "execution_count": null,
   "id": "da017b29-04be-4160-ac04-112ec949222f",
   "metadata": {},
   "outputs": [],
   "source": [
    "my_col = match('CENTER_NAME', seq_data.colnames)[0]\n",
    "seq_data[my_col - 1] = robjects.r.toupper(seq_data[my_col - 1])\n",
    "robjects.r.assign('seq.data', seq_data)\n",
    "robjects.r('print(c(\"Column names in R: \",colnames(seq.data)))')"
   ]
  },
  {
   "cell_type": "code",
   "execution_count": null,
   "id": "ee50cbb2-bc0a-4ce6-8cf1-5d8517c33500",
   "metadata": {},
   "outputs": [],
   "source": [
    "# remove all withdrawn sequences\n",
    "robjects.r('seq.data <- seq.data[seq.data$WITHDRAWN==0, ]')"
   ]
  },
  {
   "cell_type": "code",
   "execution_count": null,
   "id": "fa012071-2611-42b9-a3e5-7725d6df1dc1",
   "metadata": {},
   "outputs": [],
   "source": [
    "# shorten the dataframe\n",
    "robjects.r(\"seq.data <- seq.data[, c('STUDY_ID', 'STUDY_NAME', 'CENTER_NAME', 'SAMPLE_ID', 'SAMPLE_NAME', 'POPULATION', 'INSTRUMENT_PLATFORM', 'LIBRARY_LAYOUT', 'PAIRED_FASTQ', 'READ_COUNT', 'BASE_COUNT', 'ANALYSIS_GROUP')]\")"
   ]
  },
  {
   "cell_type": "code",
   "execution_count": null,
   "id": "aa57374c-0da9-4ac9-a200-c07d59e01c7d",
   "metadata": {},
   "outputs": [],
   "source": [
    "#Population as factor\n",
    "robjects.r('seq.data$POPULATION <- as.factor(seq.data$POPULATION)')"
   ]
  },
  {
   "cell_type": "code",
   "execution_count": null,
   "id": "b2b7442e-85d2-4d58-aba3-e681f1bb9df1",
   "metadata": {},
   "outputs": [],
   "source": [
    "out_image = os.path.join(data_dir, 'out1.png') # WS\n",
    "ggplot2.theme = SignatureTranslatedFunction(ggplot2.theme,\n",
    "                                            init_prm_translate = {'axis_text_x': 'axis.text.x'})\n",
    "bar = ggplot2.ggplot(seq_data) + ggplot2.geom_bar() + ggplot2.aes_string(x='CENTER_NAME') + ggplot2.theme(axis_text_x=ggplot2.element_text(angle=90, hjust=1, size=40), axis_text_y=ggplot2.element_text(size=40), text=ggplot2.element_text(size=40))\n",
    "robjects.r.png(out_image, width=16, height=9, units=\"in\", res=600) \n",
    "bar.plot()\n",
    "dev_off = robjects.r('dev.off')\n",
    "dev_off()"
   ]
  },
  {
   "cell_type": "code",
   "execution_count": null,
   "id": "a93ac91f-8482-475d-acb9-9994d669f7d3",
   "metadata": {
    "tags": []
   },
   "outputs": [],
   "source": [
    "Image(filename=out_image)"
   ]
  },
  {
   "cell_type": "code",
   "execution_count": null,
   "id": "39c21a03-4db5-4c1e-bbc0-f79b2953be6f",
   "metadata": {},
   "outputs": [],
   "source": [
    "#Get Yoruba and CEU\n",
    "robjects.r('yri_ceu <- seq.data[seq.data$POPULATION %in% c(\"YRI\", \"CEU\") & seq.data$BASE_COUNT < 2E9 & seq.data$READ_COUNT < 3E7, ]')\n",
    "yri_ceu = robjects.r('yri_ceu')"
   ]
  },
  {
   "cell_type": "code",
   "execution_count": null,
   "id": "24962fe4-bc12-4d8f-81d3-cd5ae779190a",
   "metadata": {},
   "outputs": [],
   "source": [
    "out_image = os.path.join(data_dir, 'out2.png') # WS\n",
    "scatter = ggplot2.ggplot(yri_ceu) + ggplot2.aes_string(x='BASE_COUNT', y='READ_COUNT', shape='factor(POPULATION)', col='factor(ANALYSIS_GROUP)') + ggplot2.geom_point()\n",
    "robjects.r.png(out_image, width=16, height=9, units=\"in\", res=600)\n",
    "scatter.plot()\n",
    "dev_off = robjects.r('dev.off')\n",
    "dev_off()"
   ]
  },
  {
   "cell_type": "code",
   "execution_count": null,
   "id": "cf1b15ca-a4af-42a6-bc60-973f1c73dbc8",
   "metadata": {
    "tags": []
   },
   "outputs": [],
   "source": [
    "Image(filename=out_image)"
   ]
  },
  {
   "cell_type": "code",
   "execution_count": null,
   "id": "b5a118ed-4052-4fa1-90f1-1c226420a89b",
   "metadata": {},
   "outputs": [],
   "source": [
    "with localconverter(robjects.default_converter + pandas2ri.converter):\n",
    "  pd_yri_ceu = robjects.conversion.rpy2py(yri_ceu)\n",
    "del pd_yri_ceu['PAIRED_FASTQ']\n",
    "# no_paired = pandas2ri.py2ri(pd_yri_ceu)\n",
    "with localconverter(robjects.default_converter + pandas2ri.converter):\n",
    "  no_paired = robjects.conversion.py2rpy(pd_yri_ceu)\n",
    "robjects.r.assign('no.paired', no_paired)\n",
    "robjects.r(\"print(colnames(no.paired))\")"
   ]
  },
  {
   "cell_type": "code",
   "execution_count": null,
   "id": "305cfda5-faef-464b-a45a-c0fa3bb10039",
   "metadata": {},
   "outputs": [],
   "source": []
  }
 ],
 "metadata": {
  "kernelspec": {
   "display_name": "Python 3 (ipykernel)",
   "language": "python",
   "name": "python3"
  },
  "language_info": {
   "codemirror_mode": {
    "name": "ipython",
    "version": 3
   },
   "file_extension": ".py",
   "mimetype": "text/x-python",
   "name": "python",
   "nbconvert_exporter": "python",
   "pygments_lexer": "ipython3",
   "version": "3.10.6"
  }
 },
 "nbformat": 4,
 "nbformat_minor": 5
}

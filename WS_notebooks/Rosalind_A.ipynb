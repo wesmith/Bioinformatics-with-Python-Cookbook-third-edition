{
 "cells": [
  {
   "cell_type": "markdown",
   "id": "54eedfa5-fe58-48e0-9e62-27661c97132c",
   "metadata": {},
   "source": [
    "# Rosalind_A.ipynb\n",
    "# WESmith 12/11/22\n",
    "## WS created this notebook to solve Rosalind problems at\n",
    "## https://rosalind.info/problems/tree-view/"
   ]
  },
  {
   "cell_type": "markdown",
   "id": "ccc84cb6-4567-4c5e-806b-328f606e62df",
   "metadata": {},
   "source": [
    "# Counting DNA Nucleotides: Level 1"
   ]
  },
  {
   "cell_type": "code",
   "execution_count": null,
   "id": "971361ec-702e-4747-a29a-8b1ff124ee8f",
   "metadata": {},
   "outputs": [],
   "source": [
    "from collections import defaultdict\n",
    "import os\n",
    "import bio_structs as bs  # dna-toolset module\n",
    "import requests\n",
    "from Bio import Seq, SeqIO"
   ]
  },
  {
   "cell_type": "code",
   "execution_count": null,
   "id": "2155dcf1-5921-42fb-bcb6-444d88654c8f",
   "metadata": {},
   "outputs": [],
   "source": [
    "nuc = ['A', 'C', 'G', 'T']\n",
    "comp = {'A':'T', 'C':'G', 'G':'C', 'T':'A'}"
   ]
  },
  {
   "cell_type": "code",
   "execution_count": null,
   "id": "3b6ec6d5-8f4e-4d03-9d92-59c7967b2ef4",
   "metadata": {},
   "outputs": [],
   "source": [
    "def count_nucl(s):\n",
    "    dd = defaultdict(int)\n",
    "    for k in s.upper():\n",
    "        dd[k] += 1\n",
    "    # format for Rosalind\n",
    "    print('{} {} {} {}'.format(dd['A'], dd['C'], dd['G'], dd['T']))"
   ]
  },
  {
   "cell_type": "code",
   "execution_count": null,
   "id": "a5bb353f-9916-4379-83f8-e653166a02f4",
   "metadata": {},
   "outputs": [],
   "source": [
    "# sample\n",
    "nn = 'AGCTTTTCATTCTGACTGCAACGGGCAATATGTCTCTGTGTGGATTAAAAAAAGAGTGTCTGATAGCAGC'\n",
    "count_nucl(nn)"
   ]
  },
  {
   "cell_type": "code",
   "execution_count": null,
   "id": "797c7db0-08fc-4971-a26a-edee2e817df0",
   "metadata": {},
   "outputs": [],
   "source": [
    "# test: passed\n",
    "nn = 'ATAGACGTGTTTTAGCCGTTTACGACTACCAATTAGTTCCTCTGACAACTAGGTGATCTTGATGAATATATACCTTAGGATCATGAAGGCCTCACACACTACCCTGCCGACACCAATGTAGCCTATACGAAACTCTGCGACGCGTCTGATGACGATCTGACTAGGTAGTTTCATTCCCCATAGTTTTATAAGCCTCCCATGAGCAAGTCACCGAATGACCCACTTAGCCAATATCCTTGTCCCACGGCATCCCAAACAACCTGGGCTATCCGGCGATCCAATATGTACGGCGGTGTAAATATTCCTTTGGATGTTAACAACAAATTTGTCCCGAGGGCTAATAGCCAAGGACGGGTAAGTCCCGGTAGTGGCGCATAATCACGAGCGAACAATCAGCACCTTTTGCTACTAAACAGATGGGAGACGCGAGTTTCGCGTACGGGTCCCGACGCGGAGCATGTAGAGTCAAGACCTGACACGGATGTGACCCGAACCGATCATACCTCGACTTCTCGGACCGCTAGATACTCACTGGGTACGACTGCCGTCTATCCGGATGGACTACGGTGCGAATCTTAAGTCCGCTATCCTGAATGCCTATACCATTAGTTATATCAGTTACGAGGCAAATCGCCCGATGCGACTTGAGCGCCGCAAAGGCCTGTACCTAGGTGGCGACACCAGATCCCGAAGCTAATTATACAACCCTGTGCCGGAGCTGCACGGTCGCACGCCCCGACCGGATAGAGGGAGTCCTGTCTCGGGGGCACGAGTGCATCATAACAACAGCAGTGGGCTTAGATTACGGGAAAATGGCTTATCCAAGTTATCCGCACCTCACG'\n",
    "count_nucl(nn)"
   ]
  },
  {
   "cell_type": "markdown",
   "id": "afd4166f-ac5d-44bc-881d-f7a90c81d7d3",
   "metadata": {},
   "source": [
    "# Transcribing DNA into RNA: Level 1"
   ]
  },
  {
   "cell_type": "code",
   "execution_count": null,
   "id": "3042921a-3ef4-4fef-8245-ff09bd597204",
   "metadata": {},
   "outputs": [],
   "source": [
    "def dna_to_rna(s):\n",
    "    return s.upper().replace('T', 'U')"
   ]
  },
  {
   "cell_type": "code",
   "execution_count": null,
   "id": "9d7147b7-0370-45bb-b849-aa010013cf16",
   "metadata": {},
   "outputs": [],
   "source": [
    "# sample\n",
    "nn = 'GATGGAACTTGACTACGTAAATT'\n",
    "print(dna_to_rna(nn))"
   ]
  },
  {
   "cell_type": "code",
   "execution_count": null,
   "id": "6f095347-6bf2-4e00-bf7a-ea36bf1eff0b",
   "metadata": {},
   "outputs": [],
   "source": [
    "# test: passed\n",
    "nn = 'ATGCAGCGGCGAGAGATTCTTTAATCCGTATCCAATGCCCGCCGTCACCGTTTCCACTCTGCCCGCCGCAGGGAGAACCCCGCGCAGCACTACACGCCGAGTGCCCATGTGCTGCCCGGCGGTCTCTCTCACTACTTTACGCCGATCGTGTGTGTCCGCGTTATAGGTGTCAGGACTACTTTATATTGGTGTCACAGCACACCCAGCTACGGACGAAGATACCAGTTACCCAAGCCTTCTGTCTTGACAGTCCGGGGACGAACGATAGTGAGATCACATAGTAGAAATTTACTCAGGCACCTCAGTTTGACGGTGACAATACCTGGGCTACGTTCGGCCAAACTCTGATCACAAAGCAACCTAACCAAGACCCTATGAATACTCAAAAAGAGCTAGTGCTGATGGCTACGCGTCCCTTTATCCGCACATGGTCATGCAGGTTACAACGGGGTTTTGTCTGGTACCCTGTGGAAAATAGCCCGTGTCCGCTCTACTAGATGAGAGTGCCGGCGGATTGCTCGGTGCACGCAGGTTCTTGAACTCCAGTACGAAGCTCGCGGTTTTCACTGGGCTGGATCCAGGACACTAGATAGCCCTCACTTGAACGCAGCGAAAATCCTCCCCGAGACCCCATGAATAGAAATGCGCCAAGGCCTACCTTCGAACAAATTGCCTTCATCCCCAATGTGCCATACGGTCTCTATGACCCGCCCTCCGAGCGCCACTATTGGGAACTCGGGGTTCTAACCGAGCTCCCGCGGTGAAAAGCGCGCCCCTGAACTTGATCATGACCACTACAGCTTTTGTGCGCCGATACACAGCAGTCAATTTCTGACACCTGCATTGGAGAAGAAATACGGTTCCAGGCTTTAGGCGACCAGCCTTCCTGAACCATATAGATTCTGCCGACGGTACGGAAGAGCAATGGTCCTTCATATACCCCCTTGTGGGAGCGAAGTAATAGTTCGTCTACGTCGTATAGGAGTAT'\n",
    "print(dna_to_rna(nn))"
   ]
  },
  {
   "cell_type": "markdown",
   "id": "ffb8742e-f27c-43df-bada-5a3931557195",
   "metadata": {},
   "source": [
    "# Complementing a Strand of DNA: Level 1"
   ]
  },
  {
   "cell_type": "code",
   "execution_count": null,
   "id": "ff9fb9f4-6a87-4494-9d7d-9de322222172",
   "metadata": {},
   "outputs": [],
   "source": [
    "def reverse_complement(s):\n",
    "    dd = [comp[t] for t in s.upper()]\n",
    "    dd = dd[::-1]\n",
    "    s = ''\n",
    "    for k in dd:\n",
    "        s += k\n",
    "    return s"
   ]
  },
  {
   "cell_type": "code",
   "execution_count": null,
   "id": "551894e9-b887-4851-aa88-01a87a1357e4",
   "metadata": {},
   "outputs": [],
   "source": [
    "# sample\n",
    "nn = 'AAAACCCGGT'\n",
    "print(reverse_complement(nn))"
   ]
  },
  {
   "cell_type": "code",
   "execution_count": null,
   "id": "6e1d1098-e575-4323-95db-f22662b0681b",
   "metadata": {},
   "outputs": [],
   "source": [
    "# test: passed\n",
    "nn = 'GCGCTAATTTCCTCTCACACGTTCCGGCTCGCGGGTGCCAAGCGAAGGATCATTGCTAATGGGCCCCATAAAGCGCCAATAAAATGACCTACATGTATAGGGGTCCTGAACCCATCTCAAGCAGGCTCATGTACCGTCAGAGTTGCGTATGTAGATTCCGCCGTTCACGAAATCAATGGGATTCCTTCCTGGGTAAGGGATAGTCACATGCCGTTGGTTGCCCGCTACTGTTGTGCTCGCACACTAACGGATCACTCCCTACGGCTTTGCATTCTTTCTGCCCAGAACCGCGATGTCATGACTAGGCGTAGGGTTATTTCTTGCCTTACAAATACTACCTGACGTACGAACTTATGCACGGACTGCCAAAAGGCCGTTCAACGTCTATGAACGTATCCTTGCGGCACTTTACCAGCACTCAATACAGCGTCTGTAGTTATGCATGCGTCCATTAGACTCGTGCAGAGTAAGACCTTAATATCCACGGTCCGCAAATAAGTTACTCTAAGTCGCCGCCGGGACGTCCACTTAGCGTCGGTCGTCCTCAGAATAGACAAAATCCACTTGAGCGTTATCCTAAAATTTTTCCACACTGACGTTCTCTCAACAGTAGGCCTCATTGAGCAGAATTCACTTAAATAACATCTCGCGCTATCCAGCTGTGAGAGTAAATGTGTCTTGTGGCTCGCGGAAAATTCAAATCCAGCCTACTTTAAAAAATAGTTGTCTCGGGGGGCAGCCTAGCGACCGGGATCGATTATCAGGAAATGCACATCTGCGAGTTTTGTAGCCAAAGTTAAGCCTGACTACTATAACTCAGAACCCATTACACAGTCAGATAGGAAGTCCCATTGACCGAATACAATGCCAACACCGTGCACTCCCCTGCTTATAACGTTGTTCGTATTGGCTAATTACCAATGTTTAAGTTGCTGGCGAAACTTGAGGAATTCCCTTT'\n",
    "print(reverse_complement(nn))"
   ]
  },
  {
   "cell_type": "markdown",
   "id": "07603360-2d6c-45f1-8ed9-6a606a125d7b",
   "metadata": {},
   "source": [
    "# Computing GC Content: Level 2"
   ]
  },
  {
   "cell_type": "code",
   "execution_count": null,
   "id": "257789f6-ab33-4ae9-bfec-69935ac08a63",
   "metadata": {},
   "outputs": [],
   "source": [
    "def read_FASTA(filePath):   # WS this from rebelScience dna-toolset\n",
    "    with open(filePath, 'r') as f:\n",
    "        FASTAFile = [l.strip() for l in f.readlines()]  # removes carriage returns\n",
    "    FASTADict = {}\n",
    "    FASTALabel = \"\"\n",
    "\n",
    "    for line in FASTAFile:\n",
    "        if '>' in line:\n",
    "            FASTALabel = line\n",
    "            FASTADict[FASTALabel] = \"\"\n",
    "        else:\n",
    "            FASTADict[FASTALabel] += line\n",
    "\n",
    "    return FASTADict"
   ]
  },
  {
   "cell_type": "code",
   "execution_count": null,
   "id": "6b837073-7085-47e9-8ef0-a1060117601c",
   "metadata": {},
   "outputs": [],
   "source": [
    "def gc_content(file):\n",
    "    dd = read_FASTA(file)\n",
    "    ee = {}\n",
    "    for k, v in dd.items():\n",
    "        count = 0\n",
    "        for s in v.upper():\n",
    "            if ('C' in s) or ('G' in s): count += 1\n",
    "        ee[k] = count/len(v) * 100\n",
    "    key = max(ee, key=ee.get)\n",
    "    return '{}\\n{:9.6f}'.format(key[1:], ee[key])"
   ]
  },
  {
   "cell_type": "code",
   "execution_count": null,
   "id": "be7b0e81-f9e3-4a3f-ba4e-aea131b6bfeb",
   "metadata": {},
   "outputs": [],
   "source": [
    "# sample\n",
    "file     = 'test.txt' # WS cut and pasted from Rosalind page into emacs and saved as a file\n",
    "data_dir = 'Rosalind_data'\n",
    "print(gc_content(os.path.join(data_dir, file)))"
   ]
  },
  {
   "cell_type": "code",
   "execution_count": null,
   "id": "faf251de-8d69-4496-8329-f94553c0bb43",
   "metadata": {},
   "outputs": [],
   "source": [
    "# test: passed\n",
    "data_dir = '/home/smithw/Downloads'\n",
    "file     = 'rosalind_gc.txt'\n",
    "#print(gc_content(os.path.join(data_dir, file)))"
   ]
  },
  {
   "cell_type": "markdown",
   "id": "0ad3bbc9-a2f4-41d8-9ce7-334989d7c932",
   "metadata": {},
   "source": [
    "# Translating RNA into Protein: Level 2"
   ]
  },
  {
   "cell_type": "code",
   "execution_count": null,
   "id": "0c73616b-799d-44bd-8f87-75b5cb2a7fb0",
   "metadata": {
    "tags": []
   },
   "outputs": [],
   "source": [
    "bs.RNA_Codons"
   ]
  },
  {
   "cell_type": "code",
   "execution_count": null,
   "id": "c6ccca54-e436-4476-9f6e-d9d530829e93",
   "metadata": {},
   "outputs": [],
   "source": [
    "def RNA_to_protein(seq, start=1):\n",
    "    # this is not general, but tailored to the Rosalind problem\n",
    "    n = len(seq)\n",
    "    ptr = start - 1\n",
    "    prot = ''\n",
    "    for k in range(int(n/3)):\n",
    "        cod = seq[ptr:ptr+3]\n",
    "        try:\n",
    "            prot += bs.RNA_Codons[cod]\n",
    "        except:\n",
    "            continue\n",
    "        #print(cod, prot)\n",
    "        ptr += 3\n",
    "    return prot.strip('_')"
   ]
  },
  {
   "cell_type": "code",
   "execution_count": null,
   "id": "1a08586b-e891-4815-ad1f-851bab26f16a",
   "metadata": {},
   "outputs": [],
   "source": [
    "# sample\n",
    "nn = 'AUGGCCAUGGCGCCCAGAACUGAGAUCAAUAGUACCCGUAUUAACGGGUGA'\n",
    "print(RNA_to_protein(nn))"
   ]
  },
  {
   "cell_type": "code",
   "execution_count": null,
   "id": "77cfa80d-8495-47f4-916f-547553cb8b94",
   "metadata": {
    "tags": []
   },
   "outputs": [],
   "source": [
    "# test: passed\n",
    "nn = 'AUGGAAAAUGAGAUGUUUCAUAGCCUUCUCACCAGUCGCCCACGUCAGGUUACCAUAGGUUCGCCGAGUAUGCAUAUGUGUGUAAAAAAGACCAGAGUCAUCUGCUAUCAUUCGCUGGCCGCGCCUAGGGACUUUGGACACACAAUUCAAGGUUGUGAAGGAAGACCAUUAGAAAGUUAUCUUACCUUAAAAGGCAGGGUCGACCCCAAUCGCCAGGAUAGGGCAAAAGUUCUAGGUGCAGCCUCUCUGACGGGAUAUAGAAGGCGGGACAUGAUUCGCCCGGUCGGGUCCUGUGGGAAAAGGAAAGCCGCGCCUUCGGUAUCGGAGAGCGCAUUACAAUACCAACACUCCUUUUGUCACUGGGCGCUACUAGUGAUAGGUUUUACACCUAAUCACCCAGGAAUUUCAAAGACGUCCUUGCGAAGCCAGCUAGCUGUCGGCUCCGAAUCAUUAUCAGGUUUGGCCACCCUGCCGCGUUUCACCAAGGACCGGACGUAUUGCGCUUACCUCCUCCUUGAGUCCACGCAACCAUUACAUACUCCGCUCAAGAUGGCAUAUAGUUGCAAGAAGGGGUCCCCAAGCAUGAACGGCCUGACCUUGACAAUGGAGCUCGUAGGUUUAUCAACGGUGCAACAUUUGUUCUGGGGCACCAAACUGUUUGAGAUCCCAUCAAUGCAGACGAGCGAUGCCCGGGGUUAUGAUAUGAAAGUGAACUGUAGGCCUAUAGAACUAAAUCAGACUGGAGCAGCGCGGAUGCUCUGGCUUACCAGUCCAUUGGGAAACAAGGUAUUUAAGUAUACUUACGCGGCCCGGUACUUAAACGGUAGCUCGACUACUUCUGGAAGCGCCUGUAGGGAAAGGACGUCUGUAUACAAGAGCGACACAACCUCGAGCAGUAGUCAACGUCGCGUUACAAUAUGGGAGCGCAGUCUCUCAGUGAAGAUCACUAGGUAUACUCAUCUAGAAAGUGGAGCCGCUCGUCAUAAGGAGUCGUCUCCAGCGAUGUCCCUUCAGUCCCGGCAGGAGUUACGAUGUAUCUGCCAGGACGCGCCGCCGACCGAUGACCAGCGGAGAGAGAUAGUCCUUGGCAGUGUGUGUCUUGGACCAUACAGUAUCACCGGACUUGAUCUCCACGAAGAAUUUGGCACAAACCGACCUAUUGACAAGCGCAAUCCCCGUGAAUCAUUAUCUGAACGCUUGGUGGUGGUUAAGGGCUCCAGGAGUGGUGUUUCCACAAAAAUUGCUGCGCUGUUGGCUCAGACUCACACUUUGCAUCGGUUUGUCCCAUGUUGGUUUCAUGAUGACACGCUUAUCGGUAACCGACACGCUCGGUCCAAUGAUUGGGUUCCAAUUAGGAAUGCAGCGAAAUCAGCAAUCCAGUAUAAAGAGCUCAACUUCAGUAAACAUAGAACGAUUUUCAAGGCAGCUCCGAGGCCCCAUGCGCGGUUUGCCCCAGAACCACUCCAUUUCCACGGCCAGUCAUCUUGGCGUCUGCAAGAUGAGGAAUGUUGUACAAGUUCCAGGCUUACCGUUAGUACUAACACCUUGAUUUGUACUCACGUACUCUGGCCUCCCCCGCAGGGUGCGUUCCAUAGCAUCGACACACUGCACCAUGUCCUGUUGCAGUUGACAUCACCUCUGCCGGCCCCUAGGCAAAGAGAGAAAUCUCAAGUAACCCGGCGAGCAAACCUAGAGUCCUCUUCCGAGUCCCGGCCAUGGCCACCCCGUCAAAAUGAUGGGGCACUCAUAACGUCCGGAACCAACGCGAACCAGCGCCCCCCCACCGGGUCGAUGAACCCAGAAGGAAUAGCAGUCAUGAGUAGCCUUGGCCCUGACUGGCUACACGACUACUUCGUUACCCAUCCCUGUGAGCGGCAGUGGAGAUGUAAUACGACGCUGAGAGAUGGAUGCAGGAAAAGCAUGCAUCUUCGAACCGGACGACGUGAAGCGGGAGAGUGCGACAGCCUCAGAAUUUUCGAUGGUUGUCAUUGUGUCGUAAGGAAGCCGUUAUUCGUUUUGAGGCCCCCUCCUGAAGAGCUUUCAGAAUACACCAGAGUCCGAGUAAAUCCAGAACUUUUAGUUGAAAAGGAAACGUUUUUCUUACCAGUACUCAGACAUAACAACCCGUGUCCAGACCUACGUAAACCCGGAGUACAUGGAACGAGAGGACGAAUGCACGUGACGGCUGACCGGUCGCCUCAAAAGAGAGACGUCAACUUUUUCCAGCCUAUGUACGUUGUUCUCAGCUUACCGGAGAUUGAAGUAAAGAACUCCCGCAGUCCAGCACUGCGGAAGCGAGCCCCGCGGGGACACGAAGUAGCAGUGGCAUUCAAUGGAAUCCGUUAUUACGAGCAGCGGAAUCCCACGCGAAUAAUUCAAGAAGUCUCUGAAGGAGAGUCGUUUCUGGACCCAUUGAGAUCGGAAUGUGUAUUCAGACUGCAGAAACCGCGGACUAGAUGCUCAACUCACGUCUAUAAAAGAAUGAACCACAUCGACCUGCAGUUAUUACGUCGCUGCAAGAUUACAGACUCUCUAGUUACAUCAGUAUACGCGCCAAUUCAGGUCAAACGUUCCUUGCUGAUGCCGAUAACUGGCUUGCCACGAAAUUCUUCCUGGCUCCCCUCAGUUAUAACCCUUAGAUGCGCAGUGUACCAAGGUGUCACGCUGGUGGCGCACCUGGGCCAGCUGCUCAUUCCGAGGUUGACAACGUACUUGUGUGAGAUCUGGGUGGCUCAUCGACUGCUGUCGACUACGACACUAUUACUAAAAGAGCCGGCGAAUGUUAGUAAAGUUGCGUCAGCUGCUAGCUAUCUUGGACCCGAUGACGGCAUGGCUUCCGUGUGUGUGUUGACAUUGACGUCAAUUAUAGCUCUGGGGUUUGGUAACCCUCUCCGAUGUACGACGGCGCCUCCCUCUAACUACUCUGGAUGCGGAGAUCAAGUUUAUACCGAUGUUCGCUGCGGAUUCCCAAGGCCACUUCGCCAACUCAAGACUGUACACACGGCACAUGUGGAAGCAUCCAUGAGUUCCGCGACAACGACUCGGAUUACAACUAUCUCACUGGUACGUUUCCCCGUCCCUGUAACGAAUUUUAGGAACGAAAGCUUAAUGGGCAGUCCACUGACAUUUCUUGGUAGUGGUGGGUCAUUCUACUUCAAGUAUCAAGUAUUGGCCGUAUUACACUCGGAGGCACACAAAGAAGGCCGAGAGACCUUCCUGAGGGUUGCACCAAAGGCGUCUGCGCUGAUAGAGUCCCGGCAUAUGGACCAGUACGCGAGCAUUAGCCGUAGUCCCCCGCCGUUUGGUGUACGACCGCCUAUUGCCACAAAUUCGGAACCUUGCUAUUGGGUUAGGAAUCGGGCGCUCAACGCGCGCGACGUCUCAGGAAAGGUACGCUGCAUGACCCGAUUGCACUAUGUCGGUAUUCGUGCGGAGGAGAGUUUUGAUAUUCGUAUGGCGGUCUGCUCAUCGUGUUUUAUUGACAUAUUACCUUCCUGCCUCCGCGGCGGCGCAGCUGAUAAAUUGCAUCCACGGGAUCUUGAUACCGGAGACGUAUUGGCUACCCACAACUCAGACGUAGUUCAAACGCGUAUGAGUAGGAGAAGUGUAACCGUGAACCUUUGCGUCAGAGGUCUCGCCUUGGGACAGAUAAAUUGCCGCGUAGCACGUGCGCACAUGCCUUCUAUGGUCUCAGCCACUGCGCUAACGGUCACUUUACACGCGGCGUCUUCUAAGCUGAAUUUAAUACUGGCCCGAGUGGGUACUGUGAGAGCAUGUAUAAUGGCCCUAGAUUAUCCCACUCUACCACUGCAUCAGGGUGAGAGUGUAGACAACAUUCGUCGAUAUAUAGUGCCGUUGCCGACACACCCUAGCGGGAAUUUGCCAUGCUGCCCCCGGGCCGAGCCCAGUGAUGAAACAAAGAAAGGAAUAUUUGCUGUAAUCCCCAUUUUCUUUUAUGCUUGUGCUCAUCUGGUAAAUCAACAUCUGAACUACACGACGUCCCGUGUGGGAGAGCACAAAGAACGACUACGCGAGUCAAAACUCGCUCUACUCAGAUGCGGCCCCGUAAGAUACCCUCUCGUCACGAGAGCUGACUACCGGGUGUGGGACCCAAAUGGCCUAGACUGCUCUACAUUGCGUUUAAAUUUACUAGGCACAACCACUUCAGGAGCGCAGACGCGUCGGGCAGUCUCCAAGGACCACCAACGAGAUUGUCGCGUAACCGUGCUUGCACUUAAUUUCACGAGGCAAUCCUUUCGCUCACUCGUCUCCGGUUACAUCCGGGCGAGCGACACUGGCACGUGUAGACUCUCUUUGCUUCAAUCCUCCAGCGCUUUCGGGACAUAUUACCACAACUUUGGGUUCAGCUUGAAACUUGCUUCGUGGUUACAGAGCGCAUCUCCUACGCUCAUGAUUCCCCUAGUCUACAGUGAUACUGUACAUCUAAACCCUGUCGAUGCCGCUCCCGAUCGGGUUGUGUAUCUGUUGCCCCGGCCUCAUCCUUCUAUUGACUCGCACGAACUGGCUGGUUACACACAGCGGUCUACAAAUACGCGGAUCGUAACGAGUGUCUUAAACACACGGGUGUGCAAGACACCGUUGCUGCACCUUUGCGGCACACACUUGCCGAGCGGCUUUGGCUUAGAGGGGUCAUAUGCCGUGCCAAGUGGAGCUUCAUGCGAAGGCACAUGUCUUAAGCUUAGGACAUGUGAAGACCACGCUGUUCGCCCCAUCAUUCGAUCGAAGCCGCUAAACGUCACUACUACUCUGCAAGCAGGUUACCAUGUCCUAUUAAUUCUAGUCUCCACCGGGAGCCAGUGCGGGCCGAUUAGCGUGAUUUUCGGGCUCACGGUACGUCCUAACAGACACGGCCAGUGUGCGGGCCAGUUUCCGAAGAACUUUCCCGUGAGAUCGGUCGCGCUGAUACGCGGUCACAGUACGACAUGUCUGUGUUUAAUUGUAUGGCACCAUGGUAUCCACGACGCCCGGUCGACUUCAACUCCUAGCAUACCGGUCCGAGAUAACCCCUGGAUCUGUGUGAUAAAUUGUUCCGUAAGCUCGGAUCGCACAACUGCUCGGCGCGAGCAACCACUCUGGACAUCGUCUCCCGCACAACUCGCCCCCGUAAAGUCAUCACUCGGUGGAAGGUUGCCCCUGGGUCACAUUGGUUAUUCCGACGUGCCCCAGGUGAAUAGAGAGAGGAAAUCAAACAUCCACGCACGAAAUCAGAUAAGGAGUCGUUCUAAAUAUGCUACACGUGGUUUGGUGAAACGUUCCCCUAUGGCGCAUCCCACCCUUAAGGCUCACAUUUUAGCCAAAAAGGGAAGGUGCAACGUGUUAACCUUUUCAGCAAUUGUUCUACGACUAGGUGCGAUAGGUGUGAUCCCCAAAACACAGUACGUAAAUACGAGUGACAAAAAAUAUUUCCCCGGGUUGGAAAGCUGUACUUAUGAGGAUGAAAAACCGUUCAUAUCCAGGUCUACACCGCCGGAUGGUCCAGCACCUGCCAAUUGGUGUAACCCAUACAGUUCUGCCGUGCAGAUCGUACGACUCAGGAACUCCAAUCACUUUUUACCAGUCGAGUCUUGGCUGAGGAGCAGCCGGCAAGGAGUCGACAUCCGCGAACUUUUGCAGGGAGGAUGUCGACCUGAGAUCCGCAGCUCGCCCUCCUGCGACAUGUCUCAUACAAGAGCAUUAAUCUCUUCACGGAUGCAUAGCACGCCUCUGAAAAAUAGCACUCCUCGACGUUCAAGGCCUCAAUGCAGGUCUUCGCGGCAUGCCAGAUCCGUCGGACCCAUCGGUACUAAUACUCUAAAGCCCGCAUCCUCAAUUCGGGCCUUAGGGUAUGAAGCACCUGUGAAUCGGUACGGUCCUUGUAUUGAAAAAUCGGGGCACUCCGCCUCAUCUUAUAUGGACAACCGGAGCAACUCAACCAUAUCCUUACGGACACGGAAUACGGUCAAGUCGCUAUUACACGCGGGCAUAUUAACAAGUAUUGUCUAUUGCGUUAAUUAUAAGAGCCACAAUGACUCACUCGGUUGUCGGAUCCUAGCAAGUCACUCUCGGUCGAGACCCUAUAUCAAUUCGUCGAGACCUAAUUUGCUACUAGCGUUUAAAAGGGCAUAUCAUCUGAGUGCUCCAAUGCGCAUCAAUCGCGACAUGAGUUUUCUUGAUCAGGCGCAGCAGACGAGGGGACUAGUGCUAUUACAGGCCUCAUCGUACCAAGACGGUAUCGCUCGUCAGGUCCUGAAUCAUCCUACUCUCGAAACUUUACAUGUCACAAGACGCGUCGGUGGGAGUCCGCAACCCCACUAUUUGCAGUCCACCAAGACGGUGUUAGUUAAGUGUAUUCAACGAGCUGUUCGUAGAGCAGACCAAAUUGAGGUCAAUUGCUAUACCCGCGUCACUAACUUGGAGCAGAUAGGCUAUGUAAUGCGUAAACAACCCAAUUAUAAGGCGGGGUCCCUGCAAUUAGUGUUGUGUGUCAUUGAGCGUGAAAGGAGGUCUGGUGACGGCGCACCCGUGGGAGUCAAAACUCAGAGUGAAUGCCUAAAUAUAUUACCAGGCAUGACGGACGUGGGAAUGUCGGACCGUAACCUAACCGGGCCGUUGCGAGGCCGACCGCGCCUUGAGCUAUCAAUGAUAAACAUAGGCCUUUACGUCGUGCGUGAUUUCAAUACGUACGAGUAUGAGCGCAGCUCAGUGGCGCCGGCCCAGGCGCCUGUGUUGAUGUCCAUCAUCGGCCUUACCGGACUUGAGCAAAUCACGUUCCACGAUGCUAGGACAUUGCCAGCGCGGGAGGUGCUCCAAUUAGCGGUGGGAGGACAGCAGACUUGCCAUUGGAGAACAUUACGUAAACUGAAGAACUACGGAAGACGUCAAGUUCUAGCGGGCAAGCUAUUUCUGUUCAGGAGAAAGUGUCGAUUGUGGGCUGUGCUACAGGCAAGAUAUAUUGCCUCACUGCGUUAUCCCAUAGACCUAACUGAUGGUCGCAGGCCAGAACUGAAAAUAUUCGAGCUAAGACACCGGGCGCAUGCCCACUUCCUCGAAUUGGGUCCAAUCAGUUGGGUCCGAAACUACGUGUCAGCGCAUCGGUCUGUAAAUAUCCGCGAAUGCCGGUUGUUUCGGUCAAAUGAUUCCUCCUGUCAACGGGCGAAGCGACGAUCCCAGAGCGGCCCCGCGGGGUUCUUGGGGCGCUAUCUUAACAGGAAAAACGGAGCGAAACGUACACUAGUCUUAGUCACAACGUGGUGUAGGCUCCACUCGGUUCAAUACCAAUACAGGGUUGGACUCAAUAGGGGAAGACCAGUUUCCUCGUGUCCUCUAGGGGGGAUCAAUCAACCUCAUCUCACUUUCUCCAAGGCGGCCGACUUAAACCAACCUUUAUACAUAAAUUGUCGGGAGACUACAGACGUUCGUAAAGAAGAAUCAUUAAUUUCGGAUGUAAUCUCGCCGACACCACAACACUGGCGGCUAUGUACGGUGCGGAGAUCUCGUGGGAUUGCGCUCCAACAACACACUUUGGGCUCCAAAUAUAGACUUCCACCUAAAACAGGUAGUUUAAAUCUACGGCGCUCGUCGGGUUUAGCCCAUCAGAGGAAUGUGGCUUGGGAUCCAAUGAUUCCCCAAGUAAGCGUUCUUGGCUUAGUUACAGCUCGUAACUGGUACACAUUGAGAUCGUCCUAUCAUUACUGGAAGGUAGAGGCUGCCAAUAGGAAAGAGCGCAGUAGUCUUAGAGUCGGUCCAGAAACCGCACCCAUGAGUACGACCGCUGGAUACUCACCUGGUGGAGCGGCGACCAGAAGAAGGUGCAGAGUCAACAGAGGCGCUUCACGGGCCGCGCGCGAAAUUUCGAAUUUUAAUAGAUCUAGAUGUAGCUACUCGCCCCGUGUGACGUCGGACACGAUCUGCAUGAAGCCCCUUCCAUGUGCCCUUGCUUCCGGGAAGCUUUAUAUCACCCUUGUCGCGACUCCCUUGGAACUGAGCCAUGAUCUUUAUAUAUUCAAAGCUCGAUCGGACGUGCAUGCUACGACACACAUCGGCUGGCCUCUAGCGACACCGUAUAAAGCGAUAAUAGUGACGGAACAUACGACGCCAGUUGUACUUAACUACCCAGAUCGCCCAGUGCCGCUCUCCAAAAGUACCGAUACCCGACGAACCACUGGAAUUAGGUAUUCCGAGACACACGUGACAGGAAUUACGCCUUAUAACCGUCCGAAGCCGUCACAGUAUACCGUCCUCACCAUAAUCCUGGGGCGCUUUCGCACGGAUCCUCACUGGCUGAAGUGGGUGGCUGCACAGGCCCGACCGAUUUAUACAUUUGAAUCCGACCGCCGCCCCUCGGAAAGAAGUUACCCAUUACGGCCACCGUCGUAUAUGAAUGAAAGGGUAAGCACGGUUAGGGCACGAGCUGCUCAGCAACUUAGAGCGCCUCGUUGUGGUAGCAUCAUGGAUAAGGCAAACUCCUGGCGCCAUCUUGCCCCUCCAGGACGCGCAUUCGCCCAACACGAGCACGUCGCUACGCCGAAUGUUUCGAGCGAUACCUACCGGAAUGUAGGCUGGUAUUGCAGGGCGGUCCCCGCCCCUGCGCACAAGACGCACACUGAGUCGUAUAGAUCGGGGUUACUCUCUGACCCAACUGAAGUCACACGGUGCUCUCGUGUGGCGUCCUCGGGUGUCCGAUCAGAUCACCCCAUGCUUGAAACGCUUCUUUGGAACGUGCUGGCCGGUUGGUUCACAACUCUUUUGACUGGGGACUUGACACUGCACGCUCUGGCCGUCGUUCAUGGCAGACCGCCUAUAUGUUUAAAAACGAAAGUCCUGGGGGUCCACGCAAACGGGUUCCAGCGUUCCUAUUCCCCGGCAAGCCUUGUAUGGCUCGGGAGAGGCAAGGCGACAUGCGCUAUCAUUGGCUGUAGUCUAGACAAAAUAGUCAAGUACGCGGAAGGCCGCAUCAGCGGAAAUAGCCAUUGGUGUGAGCCACAAAUCGCGGCAGGUGACGCACGAAGCGCUCAAGAUGGUAAGCGACUCGAGCAGACGUGUUCUGCUGAUAACAGAAAAUGUACCUCUGAUUCGUCGCCAUUCAACAAUCUUACAAGAGUGCGGCGUCUUGACUUAAUGGCCAUAUUUAAGUAUCACUUACGCAGUCUUGUGAUAGGAUUUUUGAUGUUAUACAGGGAAGUACAUUGGUGUACGUUUAUCCCCUUGCCAGCCCUUAUACCUUAUCAAGCCUUUGUCUGCCCGAAAUUUCCUACACAGUAUUGCCGAGGUGGCAGGUUCAAGAGUGGAGCUUGGUCGCUGACUGCCUCAGUCUAUUAUACUCACCAUCCUCUUUCGGCGCACUACGCCAAACUUCGCCAGAGACGUUGGCCCAACCUGUGUGGACGGCGCUUGGAGAAGGUCACACUAGGGUACAUACACACAACACUGGGCAGGCUACAUCGAGAGCCCGCACUCCUCCGACAUACCGAGCAUGGUGCAAGAAGCCUUUGCAUAUAUUUCCCUCACGUAGAUCGCGAAAAAACCGCUCCCUUCCAGUUGUUGCUGUUUACGCUAAUGGCUGCGCGUAAAAGAUCCACACCCUUGUUGUACCAGCCUAUCUCGAAUUGGGUUGUAGCGAACCAUUUAUCCGCCCAGGUCAAGUGA'\n",
    "print(RNA_to_protein(nn))"
   ]
  },
  {
   "cell_type": "markdown",
   "id": "4c9965d9-4752-4e1c-a0ca-da9b518e37fc",
   "metadata": {},
   "source": [
    "# Finding a Motif in DNA: Level 2"
   ]
  },
  {
   "cell_type": "code",
   "execution_count": null,
   "id": "da8c0643-7476-481e-9b5a-7f8e5093c144",
   "metadata": {},
   "outputs": [],
   "source": [
    "def find_motif(nn, motif): # WS cobbled together\n",
    "    out = ''\n",
    "    for n, c in enumerate(nn):\n",
    "        try:\n",
    "            if nn[n: n + len(motif)] == motif: \n",
    "                out += str(n + 1) + ' '\n",
    "        except: pass\n",
    "    return out"
   ]
  },
  {
   "cell_type": "code",
   "execution_count": null,
   "id": "eaf4eaf1-858e-44a4-b648-635e070db32e",
   "metadata": {},
   "outputs": [],
   "source": [
    "# sample\n",
    "nn = 'GATATATGCATATACTT'\n",
    "motif = 'ATAT'\n",
    "print(find_motif(nn, motif))"
   ]
  },
  {
   "cell_type": "code",
   "execution_count": null,
   "id": "19f17b13-c1cd-4786-b8c2-2f32e411c316",
   "metadata": {},
   "outputs": [],
   "source": [
    "# test: passed\n",
    "nn = 'ATTGTGCGTCCAAAGGGCCAAAGGACCAAAGGCCAAAGGGCCTCGCAAGTTCCATCCAAAGGGCCAAAGGTCCAAAGGGCCAAAGGGGTCCCAAAGGAACCAAAGGAGGTGGGATAATCCAAAGGTGCCAAAGGAGGAATCCAAAGGTCCCAAAGGCCAAAGGGGCATGCCAAAGGCTGTCCAAAGGTCCAAAGGGTAGGTATACCAAAGGAGCCAAAGGAGTTATGACACGCCAAAGGCGCCAAAGGCATCCAAAGGCCAAAGGAACCCAAAGGCCCAAAGGATCCTTACCAAAGGCCAAAGGTCCAAAGGCCAAAGGGCGTCCCAAAGGTATCCAAAGGCCAAAGGCCAAAGGCCAAAGGCCAAAGGCCAAAGGTGTGCACGCCAAAGGTCCAAAGGCCCAAAGGCCAAAGGCCAAAGGGCCAAAGGTCTCCAAAGGCCAAAGGGTCTCCCGACAGCCAAAGGACCAAAGGGGCCAAAGGTCCCTCCAAAGGCGAGGTACCAAAGGACCAAAGGCCAAAGGTATCATGTCCAAAGGCGTCCAAAGGTCCAAAGGAACCAAAGGTTCGAGGTGCCCAAAGGACCAAAGGCGGCCAAAGGCTCACCAAAGGGGCCAAAGGGTACCAAAGGTCCAAAGGCCAAAGGCAGGGTTGTAAACCAAAGGCTGCCAAAGGCCAAAGGGCCAAAGGGACCAAAGGCATGCCAAAGGACTGGAGACGCTACGCCAAAGGCCAAAGGCCAAAGGTCCAAAGGGCCCCAAAGGAGGGCCCAAAGGTCCAAAGGTAGAGGCCAAAGGAACACCAAAGGGTCCAAAGGCCCAAAGGACCAAAGGAAGGCTGCGTCCAAAGGCTCCCAAAGGCCCAAAGGGCCAAAGGAGGTATCCAAAGGCCAAAGGAAGAAACCAAAGGCCCAAAGGGGCACGCCAAAGGCCAAAGGCCCCCAAAGGGCTTCCAAAGGGCCAAAGGACTTGAGCTAACCAAAGG'\n",
    "motif = 'CCAAAGGCC'\n",
    "print(find_motif(nn, motif))"
   ]
  },
  {
   "cell_type": "markdown",
   "id": "43282d24-e86f-45f6-a0a6-8b989d3ecd66",
   "metadata": {},
   "source": [
    "# Finding a Protein Motif: Level 3"
   ]
  },
  {
   "cell_type": "code",
   "execution_count": null,
   "id": "81c86ae5-8210-43d9-865d-9c873f83fd20",
   "metadata": {},
   "outputs": [],
   "source": [
    "def get_protein_from_url(url, protein_id, file='tmp.fasta'):\n",
    "    # this is klugey at present: writing a tmp file from the url source,\n",
    "    # then reading the same tmp file into the SeqIO parser\n",
    "    # TODO see if there is a better way to do this\n",
    "    f = open(file, 'w')\n",
    "    url_path = os.path.join(url, protein_id)\n",
    "    try:\n",
    "        req = requests.get(url_path)\n",
    "    except:\n",
    "        'Error in accessing {}'.format(url_path)\n",
    "        f.close()\n",
    "        return False\n",
    "    f.write(req.text)\n",
    "    f.close()\n",
    "    dd = list(SeqIO.parse(file, 'fasta'))\n",
    "    return str(dd[0].seq) if len(dd) > 0 else False"
   ]
  },
  {
   "cell_type": "code",
   "execution_count": null,
   "id": "d8f0baea-4b9c-4497-8654-9e335b2ee32b",
   "metadata": {},
   "outputs": [],
   "source": [
    "def find_motif_in_protein(seq):\n",
    "    motif = 'N{P}[ST]{P}' # hardwired in code below: NOT general\n",
    "    out = ''\n",
    "    for j, k in enumerate(seq):\n",
    "        try:\n",
    "            if k == 'N' \\\n",
    "                and seq[j + 1] != 'P' \\\n",
    "                and ((seq[j + 2] == 'S') or (seq[j + 2] == 'T')) \\\n",
    "                and seq[j + 3] != 'P':\n",
    "                out += str(j + 1) + ' '\n",
    "        except:\n",
    "            continue\n",
    "    return out"
   ]
  },
  {
   "cell_type": "code",
   "execution_count": null,
   "id": "9fa4e063-83a6-4486-b491-8c9f654b9a32",
   "metadata": {},
   "outputs": [],
   "source": [
    "def find_motif_from_list(url, file_with_ids):\n",
    "    with open(file_with_ids, 'r') as f:\n",
    "        orig_id_list = [k.strip() for k in f.readlines()]\n",
    "    dd = [k.split('_')[0] for k in orig_id_list] # strip off secondary items\n",
    "    id_list = [k + '.fasta' for k in dd] # add .fasta suffix\n",
    "    out = []\n",
    "    for j, k in enumerate(id_list):\n",
    "        print('processing {}'.format(k))\n",
    "        seq = get_protein_from_url(url, k)\n",
    "        res = find_motif_in_protein(seq) if seq else ''\n",
    "        if res != '':\n",
    "            out.append(orig_id_list[j])\n",
    "            out.append(res)\n",
    "    return out"
   ]
  },
  {
   "cell_type": "code",
   "execution_count": null,
   "id": "8a35c2ad-011e-455c-8bbd-25ade056458e",
   "metadata": {
    "tags": []
   },
   "outputs": [],
   "source": [
    "url = 'https://rest.uniprot.org/uniprotkb'"
   ]
  },
  {
   "cell_type": "code",
   "execution_count": null,
   "id": "3e9d1a6c-7dd6-4721-afe5-12bfaee30acc",
   "metadata": {
    "tags": []
   },
   "outputs": [],
   "source": [
    "# sample data: in test.txt file\n",
    "orig_id_list = ['A2Z669', 'B5ZC00', 'P07204_TRBM_HUMAN', 'P20840_SAG1_YEAST']"
   ]
  },
  {
   "cell_type": "code",
   "execution_count": null,
   "id": "0bfc40a8-a507-4597-b6bb-07e01e9bd250",
   "metadata": {},
   "outputs": [],
   "source": [
    "out = find_motif_from_list(url, 'test.txt') # test.txt has a list of the IDs"
   ]
  },
  {
   "cell_type": "code",
   "execution_count": null,
   "id": "541cbcc7-0f50-4b99-aa94-9bca6825f275",
   "metadata": {},
   "outputs": [],
   "source": [
    "for k in out:\n",
    "    print(k)"
   ]
  },
  {
   "cell_type": "code",
   "execution_count": null,
   "id": "94ba9a97-9348-440d-add5-3d1c9ab912b0",
   "metadata": {
    "tags": []
   },
   "outputs": [],
   "source": [
    "# test data: passed\n",
    "downloads = '/home/smithw/Downloads'\n",
    "test_file = 'rosalind_mprt.txt'\n",
    "out = find_motif_from_list(url, os.path.join(downloads, test_file))\n",
    "print()\n",
    "for k in out:\n",
    "    print(k)"
   ]
  },
  {
   "cell_type": "markdown",
   "id": "650fde0c-b301-489b-a759-b1f4f57bf27a",
   "metadata": {},
   "source": [
    "# Counting Point Mutations: Level 2"
   ]
  },
  {
   "cell_type": "code",
   "execution_count": null,
   "id": "e9a19c5b-fae3-451f-9c71-47f807450e6f",
   "metadata": {},
   "outputs": [],
   "source": [
    "def get_point_mutations(seq1, seq2):\n",
    "    # sequences have same length\n",
    "    count = 0\n",
    "    for j, k in enumerate(seq1):\n",
    "        if k != seq2[j]: count += 1\n",
    "    return count"
   ]
  },
  {
   "cell_type": "code",
   "execution_count": null,
   "id": "d7321333-902f-4170-bae8-db36373186b7",
   "metadata": {},
   "outputs": [],
   "source": [
    "# sample\n",
    "n1 = 'GAGCCTACTAACGGGAT'\n",
    "n2 = 'CATCGTAATGACGGCCT'\n",
    "get_point_mutations(n1, n2)"
   ]
  },
  {
   "cell_type": "code",
   "execution_count": null,
   "id": "1c30692c-b26c-4755-9682-cd74a57030b1",
   "metadata": {},
   "outputs": [],
   "source": [
    "# test: passed\n",
    "n1 = 'TGGGGCACCGTGTTGAGAACTAGCCGACGGTTTGCGACGAATCAGATGGTGCAGCATGAATAAGGGCGACTTTTACTCAGATCGCCAATAGGGCCTTAGACGGTCGGCCCTTAGAGTAAACTCGACCGAAGGCTGAATACAACGCCCACCTTAGTATCTATGATGCTATTGGTGTGTTGATGGTCCAGATCAGGTGTTTGGTCTTTCATCCTTAGCAGCATTTCAACCACGAAGAGTTGGATAGATTCGACCGTCGAGTAATTGTTTCACTGTGCGGCTGGCAATAGTTTCATTTTCGGCTCAGCAGACTGAGTGTTACTTAACCGGACCGGTCAGGCCGTAAATCTTGACTGCACCTCCCCCAAGGCCGGCGGCTTAACACAGCCCGCCTGAGTTTTCCTGCCACGGCCCAACCATGGGATCGGTTTTTGACGCCGTCCGCAATTCAGTCAGCATTTGAAATTAGATCTCAATACCTGTTAGAGACGGTAAAGTGGCGGCTGAACCCGTGGCATGGAAAGGATTTCTGTTGGAATAACTGGGTGATGCCTTTATGAAGTTAACCATACTCAGCATCGGGATAGGTAAAGCAATACCGTTAACAGTAGCCTGGAAGGGTGCTTTTTCCACGCGGCGGCACCGTGGCGGCACCCGGAGGGCAAGTGTGATACGACCCCCTATCAGCCAATGCTAAATTACTCTGCTGCCATGGTAAGTCACAGGGTAGGACTGACGATGATCCGGGAGAGTAGGGGATACGCAGATAGCACATCTCCTTATTCGACCACTGGCTTGACTCGAACTAACTCTTAACAAGACGATAGACAAATTAGAGACATCTCCTACGGTATCGTACCCTTGTGCATGACAGAAGTCGGATATGGCAACTAGACGGCGGGAAAGCTTGTGGCAGGACGTACG'\n",
    "n2 = 'GGAGGGACACTGTGGCCGACTACCCTATCGCTTCGCTCGTATCAGATGGTCCGTCTGGAAGATGCTAAACGGCTACGCGCACCTTCGAGACGCCAGTATATGTTGGGACGTTGGAATGTCCTCGTCATTACCGGACGGTCAACGTTCATCATGTGATCTATGTTACTGTTAGTCTCGCTAGAGTAGTAATCAGACGTATCGGCTCGCGTCCTATAGAACATTTTATCAAAGCACTGGGTAATAAGCTGCAGGGATGGATTACTACTCCCGCCTTAGTTTGACAAAAGTGTCATACTTAGACCGGCTTCGAGGATACTAGGCCACCGTGCCTTCGATGTCGTAATTGCGGCATGGAGTAACGCTTAGGCAGTCGTCCGACCTACGCCCACCCGAGTTTTTTCCTCACGGACAATCGACAGGTTCTGACGTGCATCGAGAATGCACCACTGTAATTAATTTAAATAGGAACACAAGGCTAGTACGAATCGGCCCTGTGGCGAAGGATCACGCACCAGAGTAAGTGCTTCGGAGGGATAAGTGTATGTGGGTCCCGCTGAATCCTACCCTACGCTGCAGGTGCCGGGACAGAGTTATCCCGTCAACCGGAGCCTTGAAGAAAGACTACAACTTGCTTCTAAGCATTTTCGGCCCCTGGTATCCAATTGTATCTCGGTCCAGCCCCAACCTAAGTCAAACCGGTGGCCTCCGGTTCTGCTTCACATGGTGGAAGAGACGTGATGTAGGGAGTACAGCGCTTACTCAGAGTAAACATCGAGTGATCCGCTTCAGCGTCCAAGGGGGACGAAATCGCAGCGAGGTCATAAAGACGTTAGACACAGATCATACGGGACCTTTCCCTTACTAACTACACCAGTCGGGTATCGCTACCAACCAACTGGAGAAGCTGTCGTCACCTTAGGT'\n",
    "get_point_mutations(n1, n2)"
   ]
  },
  {
   "cell_type": "markdown",
   "id": "ef9d7bb7-3e7b-47a5-bfc1-878c6d9df7ba",
   "metadata": {},
   "source": [
    "# Mendel's First Law: Level 2"
   ]
  },
  {
   "cell_type": "code",
   "execution_count": null,
   "id": "c65be74e-c3fd-480f-8582-23b6c97cb829",
   "metadata": {},
   "outputs": [],
   "source": [
    "import itertools\n",
    "import numpy as np"
   ]
  },
  {
   "cell_type": "code",
   "execution_count": null,
   "id": "201dbe11-8a7b-4cbb-a175-4b763efb317a",
   "metadata": {},
   "outputs": [],
   "source": [
    "def Mendel(k, m, n):  # a WS original\n",
    "    dd = []\n",
    "    vals = [k, m, n]\n",
    "    # prob is probabilty of leaf nodes after 2 selections;\n",
    "    # remember this is without replacement: probabilities change \n",
    "    # on second selection\n",
    "    # (nothing fancy here: worked it out by hand)\n",
    "    # rows: AA, Aa, aa; columns AA, Aa, aa  \n",
    "    prob = np.zeros([3,3])\n",
    "    for i, j in enumerate(vals):\n",
    "        prob[i, i] = j * (j-1)\n",
    "    prob[0, 1] = 2 * k * m\n",
    "    prob[0, 2] = 2 * k * n\n",
    "    prob[1, 2] = 2 * m * n\n",
    "    N = np.sum(vals)\n",
    "    prob /= N * (N - 1)\n",
    "    \n",
    "    dd = np.zeros([3,3])  # dominance matrix\n",
    "    dd[0, :] = 1.0  # top row is AA:AA, AA:Aa, AA:aa: all dominant\n",
    "    dd[1, 1] = 0.75 # Aa:Aa\n",
    "    dd[1, 2] = 0.50 # Aa:aa; aa:aa is zero\n",
    "\n",
    "    # final probabilities of dominant outcomes \n",
    "    # are term-by-term multiplication of both matrices\n",
    "    out = prob * dd\n",
    "    out = np.sum(out) # final total prob of dominance\n",
    "    \n",
    "    print('{:8.5f}'.format(out))"
   ]
  },
  {
   "cell_type": "code",
   "execution_count": null,
   "id": "3ca8f104-2514-4dc4-a9ca-12acd0f0f04b",
   "metadata": {},
   "outputs": [],
   "source": [
    "# sample\n",
    "Mendel(2,2,2)"
   ]
  },
  {
   "cell_type": "code",
   "execution_count": null,
   "id": "4dd0ea29-49a1-4c62-a225-4bb6d3b667dd",
   "metadata": {},
   "outputs": [],
   "source": [
    "# test: failed first time, passed second time after changing function\n",
    "Mendel(28, 26, 24)"
   ]
  },
  {
   "cell_type": "markdown",
   "id": "9134581a-a9d0-4d22-9ee4-b2bfa287a001",
   "metadata": {},
   "source": [
    "# Open Reading Frames: Level 2"
   ]
  },
  {
   "cell_type": "code",
   "execution_count": null,
   "id": "be8ba177-aa80-47a0-b814-93f8df84c64f",
   "metadata": {},
   "outputs": [],
   "source": [
    "def find_chars(txt, chars):\n",
    "    # txt.find(chars, n) starts at the nth character, so can find successive occurrences\n",
    "    return [n for n in range(len(txt)) if txt.find(chars, n) == n]"
   ]
  },
  {
   "cell_type": "code",
   "execution_count": null,
   "id": "6fd508ce-0231-4649-a32f-ef24ac77928d",
   "metadata": {},
   "outputs": [],
   "source": [
    "def clip_protein(seq): # clip parts with start...stop codons\n",
    "    out = []\n",
    "    start = find_chars(seq, 'M')\n",
    "    for k in start:\n",
    "        stop = find_chars(seq[k:], '*')\n",
    "        if len(stop) > 0:\n",
    "            out.append(seq[k:stop[0]+k])\n",
    "    return out"
   ]
  },
  {
   "cell_type": "code",
   "execution_count": null,
   "id": "3171ce11-f077-4239-862f-cb75498ceb3a",
   "metadata": {},
   "outputs": [],
   "source": [
    "def DNA_to_protein_all_frames(seq, to_stop=False):\n",
    "    # using Seq class\n",
    "    out    = []\n",
    "    seq    = Seq.Seq(seq)\n",
    "    seq_rc = seq.reverse_complement()\n",
    "    for k in range(3):\n",
    "        txt = str(seq[k:].translate(to_stop=to_stop))\n",
    "        out.extend(clip_protein(txt))\n",
    "        txt = str(seq_rc[k:].translate(to_stop=to_stop))\n",
    "        out.extend(clip_protein(txt))\n",
    "    return set(out)  # remove duplicates"
   ]
  },
  {
   "cell_type": "code",
   "execution_count": null,
   "id": "288e1b00-55ef-49b3-a081-55d16e56e25f",
   "metadata": {},
   "outputs": [],
   "source": [
    "# sample\n",
    "file = 'sample.txt'\n",
    "file = os.path.join(data_dir, file)\n",
    "# only one entry is assumed for the dict in this test\n",
    "for k, v in read_FASTA(file).items():\n",
    "    out = DNA_to_protein_all_frames(v, to_stop=False)\n",
    "for k in out:\n",
    "    print(k)"
   ]
  },
  {
   "cell_type": "code",
   "execution_count": null,
   "id": "4c08d560-0097-4df3-bab8-f6fa37e9bc24",
   "metadata": {},
   "outputs": [],
   "source": [
    "# test: passed, second time\n",
    "file = 'rosalind_orf.txt'\n",
    "file = os.path.join(data_dir, file)\n",
    "# only one entry is assumed for the dict in this test\n",
    "for k, v in read_FASTA(file).items():\n",
    "    out = DNA_to_protein_all_frames(v, to_stop=False)\n",
    "for k in out:\n",
    "    print(k)"
   ]
  },
  {
   "cell_type": "markdown",
   "id": "f3d8c3fa-b81a-4327-9189-8450789fdfb8",
   "metadata": {},
   "source": [
    "# Locating Restriction Sites: Level 3"
   ]
  },
  {
   "cell_type": "code",
   "execution_count": null,
   "id": "85761efe-eeef-4116-9dec-b90087116d68",
   "metadata": {},
   "outputs": [],
   "source": [
    "def find_motif_2(nn, motif): # modified from find_motif() above to return integers\n",
    "    out = []\n",
    "    for n, c in enumerate(nn):\n",
    "        try:\n",
    "            if nn[n: n + len(motif)] == motif: \n",
    "                out.append(n + 1)\n",
    "        except: pass\n",
    "    return out"
   ]
  },
  {
   "cell_type": "code",
   "execution_count": null,
   "id": "29248626-5c8b-4225-b3ec-0460a55c083f",
   "metadata": {},
   "outputs": [],
   "source": [
    "def dna_methylization(dd):\n",
    "    # remove snippets with GC to left or right of centerline\n",
    "    ee = defaultdict()\n",
    "    for k, v in dd.items():\n",
    "        txt = seq[k-1:k+v-1]\n",
    "        a = int(len(txt)/2)\n",
    "        t1, t2 = txt[0:a], txt[a:]\n",
    "        flag = 'delete'\n",
    "        if t1 != 'GC' and t2 != 'GC':\n",
    "            flag = 'keep'\n",
    "            ee[k] = v\n",
    "        #print(k, v, flag, txt, t1[-2:], t2[0:2])\n",
    "    return ee"
   ]
  },
  {
   "cell_type": "code",
   "execution_count": null,
   "id": "011ef75d-a4ff-4995-85bb-6bfe81cb3c47",
   "metadata": {},
   "outputs": [],
   "source": [
    "def cull_list(a, even=True):\n",
    "    # keep evens (True) or keep odds (False) from a list\n",
    "    fac = 0 if even else 1\n",
    "    return [k for k in a if k % 2 == fac]"
   ]
  },
  {
   "cell_type": "code",
   "execution_count": null,
   "id": "439eedef-17fc-49c8-9de0-e73be071b6d6",
   "metadata": {},
   "outputs": [],
   "source": [
    "def get_restriction_sites(seq, minl=4, maxl=12):\n",
    "    # seq: text string of DNA nucleotides\n",
    "    # WS realized: the length of the palendrome must be EVEN here from the figure\n",
    "    # ALSO: also from the 'DNA methylation' hint: CG sites are protected from transcription activators\n",
    "    seq = Seq.Seq(seq)\n",
    "    seq_rc = seq.reverse_complement()\n",
    "    dd = defaultdict()\n",
    "    for wid in range(minl, maxl + 1):\n",
    "        locs = []\n",
    "        for k in range(len(seq_rc) - wid + 1):\n",
    "            motif = seq_rc[k:wid + k]\n",
    "            locs.extend(find_motif_2(seq, motif))\n",
    "            #out.extend(locs)\n",
    "        if len(locs) > 0: \n",
    "            dd[wid] = set(locs) # key is length, values are locations with that width\n",
    "            \n",
    "    ee = defaultdict(list)\n",
    "    for k, v in dd.items(): \n",
    "        for j in v:\n",
    "            ee[j].append(k) # key is location, values are lengths at that location\n",
    "\n",
    "    # only keep maximum even length\n",
    "    for k, v in ee.items():\n",
    "        v = cull_list(v, even=True) \n",
    "        ee[k] = max(v)\n",
    "        \n",
    "    return dna_methylization(ee)"
   ]
  },
  {
   "cell_type": "code",
   "execution_count": null,
   "id": "1cc734b6-bb07-458f-ac82-c6beac482ac0",
   "metadata": {},
   "outputs": [],
   "source": [
    "# sample\n",
    "file = 'sample.txt'\n",
    "file = os.path.join(data_dir, file)\n",
    "# only one entry is assumed for the dict in this test\n",
    "data = read_FASTA(file)\n",
    "seq = data['>Rosalind_24']\n",
    "seq"
   ]
  },
  {
   "cell_type": "code",
   "execution_count": null,
   "id": "1025e9bb-5c7c-4e8c-b581-51a2cf298911",
   "metadata": {},
   "outputs": [],
   "source": [
    "dd = get_restriction_sites(seq)\n",
    "for k, v in dd.items():\n",
    "    txt = seq[k-1:k+v-1]\n",
    "    print(k, v) #, txt)"
   ]
  },
  {
   "cell_type": "code",
   "execution_count": null,
   "id": "d82d7772-6fc6-4578-beed-6f45a958e217",
   "metadata": {},
   "outputs": [],
   "source": [
    "# test: failed: TODO: see enotes after midnight 12/14/22 for code to test on sample\n",
    "file = 'rosalind_revp.txt'\n",
    "file = os.path.join(data_dir, file)\n",
    "# only one entry is assumed for the dict in this test\n",
    "data = read_FASTA(file)\n",
    "seq = data['>Rosalind_0631']\n",
    "seq"
   ]
  },
  {
   "cell_type": "code",
   "execution_count": null,
   "id": "a95ff5cf-fcb2-47ab-95c8-80a796315ac6",
   "metadata": {
    "tags": []
   },
   "outputs": [],
   "source": [
    "dd = get_restriction_sites(seq)"
   ]
  },
  {
   "cell_type": "raw",
   "id": "2ad1dd8c-b269-4a7f-9ecb-8f9aa84b24f8",
   "metadata": {},
   "source": [
    "seq_orig = Seq.Seq(seq)\n",
    "seq_rc = seq_orig.reverse_complement()"
   ]
  },
  {
   "cell_type": "raw",
   "id": "7b1b41d0-27a3-4c70-8240-3304ba210b99",
   "metadata": {},
   "source": [
    "find_motif_2(seq_orig, 'TACAAA')"
   ]
  },
  {
   "cell_type": "code",
   "execution_count": null,
   "id": "7ba71594-6f42-41e3-84ea-4af16a16320b",
   "metadata": {
    "tags": []
   },
   "outputs": [],
   "source": [
    "for k, v in dd.items():\n",
    "    txt = seq[k-1:k+v-1]\n",
    "    print(k, v) #, txt)"
   ]
  },
  {
   "cell_type": "code",
   "execution_count": null,
   "id": "d1f4d738-aa25-4f54-8c6c-93f960c05dda",
   "metadata": {},
   "outputs": [],
   "source": [
    "len(seq)"
   ]
  },
  {
   "cell_type": "code",
   "execution_count": null,
   "id": "6a143a34-f4bf-487c-9ccb-30229586bc95",
   "metadata": {},
   "outputs": [],
   "source": []
  }
 ],
 "metadata": {
  "kernelspec": {
   "display_name": "Python 3 (ipykernel)",
   "language": "python",
   "name": "python3"
  },
  "language_info": {
   "codemirror_mode": {
    "name": "ipython",
    "version": 3
   },
   "file_extension": ".py",
   "mimetype": "text/x-python",
   "name": "python",
   "nbconvert_exporter": "python",
   "pygments_lexer": "ipython3",
   "version": "3.10.6"
  }
 },
 "nbformat": 4,
 "nbformat_minor": 5
}

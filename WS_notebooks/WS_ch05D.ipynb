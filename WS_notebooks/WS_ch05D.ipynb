{
 "cells": [
  {
   "cell_type": "markdown",
   "id": "b860a152-f889-4258-8090-b401d0cf24f7",
   "metadata": {},
   "source": [
    "# WS_ch05D.ipynb\n",
    "# WESmith 11/29/22\n",
    "## WS created this notebook to follow along with the code in the book:\n",
    "## 'Bioinformatics with Python Cookbook' by Tiago Antao\n",
    "## Each recipe will have its own notebook, suffixed by A, B, etc.¶"
   ]
  },
  {
   "cell_type": "markdown",
   "id": "d3f3e51f-5f94-42c0-8c17-935c45290074",
   "metadata": {},
   "source": [
    "# RECIPE: \n",
    "# EXTRACTING GENES FROM A REFERENCE USING ANNOTATIONS\n",
    "## also see book code in Chapter05/Getting_Gene.py¶"
   ]
  },
  {
   "cell_type": "code",
   "execution_count": 182,
   "id": "4830b4a1-0fb4-4376-b0b1-7502548f032e",
   "metadata": {},
   "outputs": [],
   "source": [
    "import os\n",
    "from collections import defaultdict, OrderedDict  # WS added OrderedDict\n",
    "import gffutils\n",
    "from Bio import Seq, SeqIO\n",
    "import matplotlib.pyplot as plt"
   ]
  },
  {
   "cell_type": "code",
   "execution_count": 9,
   "id": "df8cdb95-3982-4bec-9efe-832ecf1692ed",
   "metadata": {},
   "outputs": [],
   "source": [
    "# move big files to Downloads so it will not be backed up\n",
    "data_dir   = '/home/smithw/Downloads/ch05_data'\n",
    "name_gff   = 'VectorBase-55_AgambiaePEST.gff'\n",
    "name_fasta = 'VectorBase-57_AgambiaePEST_Genome.fasta'\n",
    "# ag.db was created in WS_ch05C.ipynb\n",
    "db_name    = os.path.join(data_dir, 'ag.db')\n",
    "fasta_name = os.path.join(data_dir, name_fasta)"
   ]
  },
  {
   "cell_type": "code",
   "execution_count": 6,
   "id": "e6dccccf-270d-413d-89e7-99c66cad4161",
   "metadata": {},
   "outputs": [],
   "source": [
    "db = gffutils.FeatureDB(db_name)"
   ]
  },
  {
   "cell_type": "markdown",
   "id": "e7871b96-e790-425e-b23c-e579b907e599",
   "metadata": {},
   "source": [
    "### 1) GET GENE ANNOTATION INFORMATION"
   ]
  },
  {
   "cell_type": "code",
   "execution_count": 4,
   "id": "61ba4017-c91e-49a4-8fa0-3fba4936f856",
   "metadata": {},
   "outputs": [],
   "source": [
    "# voltage-gated sodium channel (VGSC) gene\n",
    "gene_id = 'AGAP004707'"
   ]
  },
  {
   "cell_type": "code",
   "execution_count": 7,
   "id": "e5b48018-cd1c-4df2-af1d-a6760893dc26",
   "metadata": {},
   "outputs": [
    {
     "name": "stdout",
     "output_type": "stream",
     "text": [
      "AgamP4_2L\tVEuPathDB\tprotein_coding_gene\t2358158\t2431617\t.\t+\t.\tID=AGAP004707;Name=para;description=voltage-gated sodium channel\n"
     ]
    }
   ],
   "source": [
    "gene = db[gene_id]\n",
    "print(gene)"
   ]
  },
  {
   "cell_type": "code",
   "execution_count": 8,
   "id": "b9aee2be-f9b9-4e22-93bf-2268470af852",
   "metadata": {},
   "outputs": [
    {
     "name": "stdout",
     "output_type": "stream",
     "text": [
      "AgamP4_2L +\n"
     ]
    }
   ],
   "source": [
    "print(gene.seqid, gene.strand)"
   ]
  },
  {
   "cell_type": "markdown",
   "id": "5dd9e7f8-80b2-4eba-b555-f3dff2490c2a",
   "metadata": {},
   "source": [
    "### 2) GET THE SEQUENCE OF THE CHROMOSOME CONTAINING THE GENE"
   ]
  },
  {
   "cell_type": "code",
   "execution_count": 10,
   "id": "bed80055-2656-4358-b711-c4e1456df34e",
   "metadata": {},
   "outputs": [
    {
     "name": "stdout",
     "output_type": "stream",
     "text": [
      "AgamP4_2L | organism=Anopheles_gambiae_PEST | version=AgamP4 | length=49364325 | SO=chromosome\n"
     ]
    }
   ],
   "source": [
    "recs = SeqIO.parse(open(fasta_name, 'rt', encoding='utf-8'), 'fasta')\n",
    "for rec in recs:\n",
    "    print(rec.description)\n",
    "    if rec.id == gene.seqid:\n",
    "        my_seq = rec.seq\n",
    "        break"
   ]
  },
  {
   "cell_type": "code",
   "execution_count": 13,
   "id": "ec81c5d0-7236-444a-b1ea-b60fda825b0e",
   "metadata": {},
   "outputs": [
    {
     "data": {
      "text/plain": [
       "Seq('AACCATGGTCCAGAGTACACATTGACTATGCAGGCCTAGTAGACGAATTCTACT...AAA')"
      ]
     },
     "execution_count": 13,
     "metadata": {},
     "output_type": "execute_result"
    }
   ],
   "source": [
    "my_seq  # WS sequence for entire chromosome 2L"
   ]
  },
  {
   "cell_type": "markdown",
   "id": "ac0fd09e-b489-413d-bcea-67c41eea4802",
   "metadata": {},
   "source": [
    "### 3) CONSTRUCT A FUNCTION TO RETURN A SEQUENCE FROM A LIST OF CDS"
   ]
  },
  {
   "cell_type": "code",
   "execution_count": 154,
   "id": "29ead0be-881f-4e9e-bc49-d222dff5383e",
   "metadata": {},
   "outputs": [],
   "source": [
    "# WS added 'offset' to generalize to different phases\n",
    "def get_sequence(chrom_seq, CDSs, strand, offset=0):\n",
    "    # WS CDSs should work as a generator or a list\n",
    "    seq = Seq.Seq('')\n",
    "    for CDS in CDSs:\n",
    "        # #FRAME???\n",
    "        my_cds = Seq.Seq(str(chrom_seq[CDS.start - 1 + offset: CDS.end + offset]))\n",
    "        seq += my_cds\n",
    "    return seq if strand == '+' else seq.reverse_complement()"
   ]
  },
  {
   "cell_type": "markdown",
   "id": "0522f79b-1462-4c99-b2a1-2987ed482ba1",
   "metadata": {},
   "source": [
    "### 4) CHOOSE AN mRNA TRANSCRIPT FOR THE GENE FROM THOSE AVAILABLE"
   ]
  },
  {
   "cell_type": "code",
   "execution_count": 23,
   "id": "7628d916-2ea5-4c45-8988-3356812cf2b9",
   "metadata": {},
   "outputs": [],
   "source": [
    "mRNAs = db.children(gene, featuretype='mRNA') # returns a generator"
   ]
  },
  {
   "cell_type": "code",
   "execution_count": 24,
   "id": "e248f712-eed3-4ab9-a570-64a43ac7afed",
   "metadata": {},
   "outputs": [
    {
     "name": "stdout",
     "output_type": "stream",
     "text": [
      "AGAP004707-RA\n"
     ]
    }
   ],
   "source": [
    "for mRNA in mRNAs:\n",
    "    print(mRNA.id)\n",
    "    if mRNA.id.endswith('RA'): # WS why choose 'RA'?\n",
    "        break"
   ]
  },
  {
   "cell_type": "code",
   "execution_count": 26,
   "id": "ec3c1a9e-bf79-4146-8fc0-ed9fcac9db04",
   "metadata": {},
   "outputs": [
    {
     "name": "stdout",
     "output_type": "stream",
     "text": [
      "AgamP4_2L\tVEuPathDB\tmRNA\t2358158\t2431617\t.\t+\t.\tID=AGAP004707-RA;Parent=AGAP004707;description=voltage-gated sodium channel\n"
     ]
    }
   ],
   "source": [
    "print(mRNA)"
   ]
  },
  {
   "cell_type": "markdown",
   "id": "ff5255ac-f1cc-4eee-8c78-0acd59e76f0f",
   "metadata": {},
   "source": [
    "### 5) GET THE CDSs FOR THIS PARTICULAR mRNA TRANSCRIPT,\n",
    "### THEN THE NUCLEOTIDE SEQUENCE THEY REPRESENT, \n",
    "### THEN THE PROTEIN"
   ]
  },
  {
   "cell_type": "code",
   "execution_count": 155,
   "id": "4a327192-db5e-4296-9e34-f01961b11f3e",
   "metadata": {},
   "outputs": [],
   "source": [
    "CDSs = db.children(mRNA, featuretype='CDS', order_by='start')\n",
    "CDS_list = list(CDSs)   #WS turn generator into a list to examine"
   ]
  },
  {
   "cell_type": "code",
   "execution_count": 156,
   "id": "7096de32-7943-4a3e-ac99-98afa1601a1a",
   "metadata": {},
   "outputs": [
    {
     "data": {
      "text/plain": [
       "30"
      ]
     },
     "execution_count": 156,
     "metadata": {},
     "output_type": "execute_result"
    }
   ],
   "source": [
    "len(CDS_list)  \n",
    "# I counted 30 CDSs for the 'RA' mRNA parent directly from the gff \n",
    "# file using emacs: correct"
   ]
  },
  {
   "cell_type": "code",
   "execution_count": 157,
   "id": "17623a8a-0d20-4e6f-86ea-98ff039d86c5",
   "metadata": {
    "collapsed": true,
    "jupyter": {
     "outputs_hidden": true
    },
    "tags": []
   },
   "outputs": [
    {
     "data": {
      "text/plain": [
       "{'seqid': 'AgamP4_2L',\n",
       " 'source': 'VEuPathDB',\n",
       " 'featuretype': 'CDS',\n",
       " 'start': 2358158,\n",
       " 'end': 2358304,\n",
       " 'score': '.',\n",
       " 'strand': '+',\n",
       " 'frame': '0',\n",
       " 'attributes': <gffutils.attributes.Attributes at 0x7f7c749ff5e0>,\n",
       " 'extra': [],\n",
       " 'bin': 4698,\n",
       " 'id': 'AGAP004707-PA-CDS1',\n",
       " 'dialect': {'leading semicolon': False,\n",
       "  'trailing semicolon': False,\n",
       "  'quoted GFF2 values': False,\n",
       "  'field separator': ';',\n",
       "  'keyval separator': '=',\n",
       "  'multival separator': ',',\n",
       "  'fmt': 'gff3',\n",
       "  'repeated keys': False,\n",
       "  'order': ['ID', 'description', 'Parent', 'gene_id', 'protein_source_id']},\n",
       " 'file_order': 89260,\n",
       " 'keep_order': False,\n",
       " 'sort_attribute_values': False}"
      ]
     },
     "execution_count": 157,
     "metadata": {},
     "output_type": "execute_result"
    }
   ],
   "source": [
    "CDS_list[0].__dict__"
   ]
  },
  {
   "cell_type": "code",
   "execution_count": 158,
   "id": "2a559ccc-3963-465c-b822-79b05f68412a",
   "metadata": {},
   "outputs": [],
   "source": [
    "gene_seq = get_sequence(my_seq, CDS_list, gene.strand) # WS sending in a list"
   ]
  },
  {
   "cell_type": "code",
   "execution_count": 159,
   "id": "06858d4d-c524-491c-b18c-ded488091a6a",
   "metadata": {
    "collapsed": true,
    "jupyter": {
     "outputs_hidden": true
    },
    "tags": []
   },
   "outputs": [
    {
     "name": "stdout",
     "output_type": "stream",
     "text": [
      "6195 ATGACCGAAGACTCCGATTCGATATCTGAGGAAGAACGTAGTTTGTTCCGTCCTTTCACTCGTGAATCATTACAAGCTATCGAAGCACGCATTGCAGATGAAGAAGCCAAACAGCGAGAATTGGAAAGAAAACGAGCTGAGGGGGAGATACGCTACGATGACGAGGATGAGGATGAAGGTCCCCAACCGGACCCTACTCTTGAACAGGGTGTACCAGTCCCAGTTCGAATGCAAGGCAGCTTCCCCCCGGAGTTGGCCTCCACGCCTCTCGAGGATATTGACAGTTTCTATTCAAATCAAAGGACATTCGTAGTGATTAGTAAAGGAAAAGATATATTTCGTTTCTCCGCAACTAACGCATTATATGTACTTGATCCGTTTAACCCCATACGCCGCGTAGCTATTTATATTTTAGTACATCCACTGTTTTCACTTTTTATAATAACGACCATTCTTGTTAATTGTATATTGATGATTATGCCTACCACGCCGACAGTCGAATCTACCGAGGTGATATTCACCGGCATCTACACGTTCGAATCAGCTGTAAAAGTGATGGCGCGAGGTTTCATATTACAACCGTTTACTTATCTTAGAGATGCATGGAATTGGTTGGACTTCGTAGTAATAGCATTAGCATATGTAACTATGGGTATAGATTTGGGTAATCTTGCTGCGTTGAGAACATTCAGGGTATTACGAGCTCTTAAAACGGTAGCCATCGTTCCAGGCTTAAAAACCATCGTCGGAGCCGTTATAGAATCCGTAAAGAATCTCAGAGATGTGATAATTTTAACAATGTTTTCGTTATCCGTGTTTGCTTTGATGGGTCTACAAATCTACATGGGAGTACTAACACAAAAGTGCATAAAAGAGTTCCCATTGGATGGTTCCTGGGGTAATCTAACCGACGAAAGCTGGGAGCTGTTCAACAGCAATGACACAAATTGGTTCTATTCCGAGAGTGGCGACATTCCTCTTTGTGGAAACTCATCTGGAGCTGGACAATGTGATGAAGGCTACATTTGTTTACAAGGCTATGGCAAAAATCCAAATTACGGGTATACAAGTTTTGATACATTCGGATGGGCATTCTTGTCTGCCTTTCGTCTAATGACTCAAGATTATTGGGAGAATTTATATCAACTGGTGTTACGATCAGCTGGACCGTGGCACATGCTCTTCTTCATTGTGATTATCTTCTTGGGTTCGTTTTACCTTGTAAATTTAATCTTGGCCATTGTCGCCATGTCGTACGACGAACTCCAGAAGAAGGCCGAAGAGGAAGAGGCCGCCGAGGAAGAAGCACTTCGGGAAGCAGAAGAAGCTGCGGCAGCAAAGGCAGCTAAACTGGAAGCACAACAAGCGGCCGCAGCAGCAGCGGCGAACCCAGAAATCGCTAAAAGCCCTTCGGATTTCTCCTGTCACAGCTATGAGTTGTTTGTCGGACAGGAGAAAGGCAACGACGATAACAATAAGGAGAAAATGTCCATTAGAAGCGAAGGATTGGAGTCGGTGAGCGAAATCACAAGAACAACCGCACCAACAGCTACTGCAGCTGGCACTGCAAAAGCCCGTAAAGTGAGCGCGTTCACGATACGTAACGGTAGAGGACGTTTCGTTGGTGTACCTGGTAGCGATAGAAAACCACTGGTACTATCAACATATCTCGATGCACAAGAACACCTGCCATACGCTGATGATTCCAACGCGGTAACGCCGATGTCGGAAGAAAATGGTGCAATCATCGTTCCAGTATACTATGCTAATTTAGGTTCAAGGCACTCGTCGTATACTTCGCATCAGTCGCGTATTTCGTACACATCTCACGGTGACCTGCTCGGGGGCATGACAAAAGAGAGCCGTCTGCGAAATCGATCAGCCCGTAACACTAACCATTCAATTGTACCACCTCCGAATGCTAACAATCTATCCTACGCTGAAACAAACCATAAAGGACAGCGAGATTTCGACTTGACACAGGACTGTACAGACGATGCCGGAAAAATAAAACATAACGACAATCCTTTCATAGAACCTGCTCAAACTCAAACTGTGGTAGATATGAAAGACGTGATGGTGTTAAATGACATTATTGAGCAAGCTGCTGGTCGGCACAGCAGGGCAAGTGATCACGGAGTCTCTGTTTATTACTTCCCCACAGAGGACGACGACGAAGATGGCCCAACGTTTAAGGACAAAGCCCTCGAGTTTCTGATGAAGATGATCGACATTTTCTGTGTGTGGGACTGTTGTTGGGTTTGGCTTAAATTTCAGGAATGGGTTGCTTTTATTGTGTTTGACCCATTTGTAGAGCTATTCATTACGCTCTGCATTGTGGTAAATACACTGTTTATGGCTTTAGATCATCACGATATGGATCCAGATATGGAAAAGGCACTGAAAAGTGGCAACTACTTCTTCACAGCTACATTTGCCATCGAAGCTACAATGAAGCTCATAGCAATGAGCCCCAAATATTACTTTCAAGAGGGTTGGAATATCTTCGATTTTATTATCGTAGCACTGTCTCTGCTAGAATTGGGACTTGAGGGTGTTCAAGGATTGTCAGTATTACGATCGTTCCGTTTGCTTCGAGTTTTTAAGCTCGCTAAATCGTGGCCAACGCTGAATTTACTCATTTCCATCATGGGCAGAACGATGGGTGCGTTAGGTAATCTGACGTTCGTACTCTGCATTATCATCTTCATCTTTGCCGTGATGGGAATGCAGCTGTTCGGAAAGAACTATGTCGATAATGTGGATAGATTCCCCGACCATGATCTGCCAAGATGGAATTTTACAGATTTCATGCATTCCTTCATGATTGTGTTCCGTGTGCTATGCGGAGAATGGATTGAATCAATGTGGGATTGTATGCTTGTCGGTGATGTATCCTGCATACCATTTTTCTTGGCCACTGTAGTGATAGGAAATTTAGTCGTGCTTAACCTTTTCTTAGCCTTGCTTTTGTCAAATTTTGGTTCATCATCCTTGTCTGCACCAACGGCAGATAATGAGACCAACAAGATTGCAGAAGCGTTCAACAGAATATCACGCTTTTCTAACTGGATTAAAATGAATTTAGCAAACGCTCTCAAGTTTGTAAAAAATAAATTAACAAGCCAAATAGCATCCGTTCAACCGACAGAGCATGGTGAAAATGAACTGGAACTTACTCCAGACGATATTTTGGCGGATGGACTATTGAAGAAAGGAATCAAAGAGCACAACCAACTGGAAGTAGCGATTGGCGATGGCATGGAATTCACCATTCATGGTGATCTGAAGAACAAAGCAAAAAAGAATAAACAAATCATGAACAACTCTAAGGACGATGATACTGCTAGTATCAAATCTTATGGCAGTCACAAGAATCGCCCATTTAAGGATGAAAGCCACAAAGGCAGCGCCGAAACGATGGAGGGTGAAGAAAAACGTGATGCCAGCAAGGAGGATCTAGGAATTGACGAAGAACTCGACGACGAAGGCGAGGGAGATGAAGGTCCTCTGGATGGAGAGCTGATTATTCATGCAGAAGAAGACGAAGTGATTGAGGATTCACCGGCGGATTGCTGCCCGGACAACTGCTACAAAAAATTTCCTGTTCTTGCTGGGGATGATGACGCGCCGTTCTGGCAGGGTTGGGGAAATTTACGTCTCAAAACGTTTCAGCTAATAGAAAATAAGTATTTTGAGACAGCTGTAATTACAATGATTCTGCTTAGTAGCTTAGCTTTGGCCCTCGAAGATGTGCATCTTCCACAGCGCCCAATCCTTCAAGATATTCTTTATTACATGGATCGAATTTTCACAGTGATCTTTTTTTTAGAGATGTTAATCAAATGGTTAGCTTTAGGTTTTAAAGTATATTTTACAAATGCTTGGTGTTGGCTTGATTTCATTATCGTGATGGTATCTTTGATAAACTTCGTTGCTTCACTTTGTGGAGCTGGTGGTATTCAAGCATTCAAAACCATGCGAACTCTTAGAGCCCTGAGACCACTACGTGCCATGTCCCGTATGCAGGGAATGAGGGTCGTCGTGAATGCGTTGGTTCAAGCTATACCGTCCATCTTCAACGTGCTGCTGGTTTGTTTGATATTCTGGCTAATATTTGCAATCATGGGGGTGCAATTATTTGCTGGCAAATACTTCAAGTGTGTGGATAAAAATAAAACTACATTACCTCACGAAATTATACCGGATGTAAATGCTTGCAAAGCCGAAAACTATTCATGGGAAAATTCACCAATGAACTTCGATCATGTAGGTAAAGCATATTTGTGTCTGTTTCAAGTAGCCACATTCAAAGGATGGATACAAATAATGAACGATGCTATTGATTCTAGAGACGTCGGTAAACAGCCTATACGGGAAACGAATATCTACATGTATCTGTACTTTGTGTTCTTTATTATCTTTGGGTCATTCTTCACGTTGAATCTATTCATTGGTGTTATAATTGACAACTTCAATGAACAGAAAAAGAAAGCTGGTGGATCGCTAGAAATGTTCATGACAGAGGATCAGAAAAAGTACTATAATGCAATGAAAAAAATGGGTTCGAAGAAACCTCTAAAGGCAATTCCTCGTCCAAGGTGGCGGCCTCAAGCAATAGTTTTTGAAATAGTGACGAACAAAAAGTTTGACATGATTATCATGTTGTTCATCGGATTCAATATGTTAACTATGACACTGGACCACTACAAACAATCAGAAACTTTTAGTGCTGTTTTGGATTACTTGAATATGATATTCATCTGCATATTCAGCAGCGAATGTTTAATGAAGATTTTTGCACTTCGTTATCATTACTTTATCGAGCCATGGAATTTGTTTGATTTTGTTGTCGTCATTCTTTCGATTTTGGGCCTTGTTCTAAGTGATATCATTGAAAAATATTTTGTATCTCCCACACTTCTACGAGTCGTGCGAGTGGCAAAAGTGGGCCGAGTATTGCGTTTGGTTAAAGGAGCCAAGGGTATCCGAACGTTGCTGTTTGCATTAGCAATGTCGCTACCTGCACTATTTAACATCTGCTTGTTACTCTTTTTGGTGATGTTTATATTTGCCATTTTTGGAATGTCATTTTTCATGCACGTCAAAGATAAGAGTGGCTTAGATGACGTGTACAATTTTAAAACGTTTGGCCAGAGCATGATTTTACTATTTCAGATGTCAACCTCGGCTGGGTGGGATGGTGTTTTAGATGGTATTATCAATGAAGAAGACTGTCTTCCACCAGACAATGATAAGGGCTATCCGGGAAATTGTGGTTCATCAACAATTGGCATAACGTACTTATTGGCGTATCTTGTAATAAGTTTCCTTATCGTTATTAACATGTACATTGCTGTTATCCTCGAAAACTACTCGCAAGCTACGGAAGATGTTCAAGAAGGCTTAACTGATGACGATTATGATATGTACTACGAAATATGGCAGCAATTCGATCCTGACGGTACACAATACGTTCGATATGATCAGCTATCAGACTTTTTGGATGTGCTGGAACCGCCTCTACAGATTCATAAACCAAATCGTTATAAGATTATTTCGATGGATATTCCGATATGCCGCGGAGATATGATGTTCTGTGTCGATATTCTAGATGCACTAACGAAAGATTTTTTTGCTAGAAAAGGAAATCCTATAGAAGAAACAGCCGAATTAGGTGAAGTTCAACAACGCCCAGACGAAGTTGGTTACGAACCAGTATCATCAACACTTTGGAGGCAGCGTGAAGAGTACTGTGCTCGACTGATACAGCATGCGTGGAAACGCTATAAACAGCGTCACGGAGGCGGAACAGACGCTTCAGGAGATGATCTTGAAATAGATGCCTGTGATAACGGTTGTGGTGGTGGTAATGGCAATGAAAATGATGATAGTGGAGATGGTGCAACAGGTAGTGGTGACAACGGAAGTCAGCATGGTGGTGGCAGCATAAGTGGCGGAGGAGGAACTCCTGGTGGTGGTAAAAGTAAAGGAATTATTGGCAGTACTCAGGCTAACATAGGCATAGTGGATAGTAATATATCACCAAAGGAATCACCGGATAGCATCGGCGATCCCCAAGGTCGTCAGACGGCCGTTCTTGTGGAGAGCGACGGATTTGTGACGAAAAACGGTCACCGTGTCGTCATACACTCTCGATCTCCCAGCATAACATCGCGAACGGCAGATGTCTGA\n"
     ]
    }
   ],
   "source": [
    "print(len(gene_seq), gene_seq)"
   ]
  },
  {
   "cell_type": "code",
   "execution_count": 160,
   "id": "3127a998-7320-4f87-afe5-91ec7e77e5eb",
   "metadata": {
    "collapsed": true,
    "jupyter": {
     "outputs_hidden": true
    },
    "tags": []
   },
   "outputs": [
    {
     "name": "stdout",
     "output_type": "stream",
     "text": [
      "2065 MTEDSDSISEEERSLFRPFTRESLQAIEARIADEEAKQRELERKRAEGEIRYDDEDEDEGPQPDPTLEQGVPVPVRMQGSFPPELASTPLEDIDSFYSNQRTFVVISKGKDIFRFSATNALYVLDPFNPIRRVAIYILVHPLFSLFIITTILVNCILMIMPTTPTVESTEVIFTGIYTFESAVKVMARGFILQPFTYLRDAWNWLDFVVIALAYVTMGIDLGNLAALRTFRVLRALKTVAIVPGLKTIVGAVIESVKNLRDVIILTMFSLSVFALMGLQIYMGVLTQKCIKEFPLDGSWGNLTDESWELFNSNDTNWFYSESGDIPLCGNSSGAGQCDEGYICLQGYGKNPNYGYTSFDTFGWAFLSAFRLMTQDYWENLYQLVLRSAGPWHMLFFIVIIFLGSFYLVNLILAIVAMSYDELQKKAEEEEAAEEEALREAEEAAAAKAAKLEAQQAAAAAAANPEIAKSPSDFSCHSYELFVGQEKGNDDNNKEKMSIRSEGLESVSEITRTTAPTATAAGTAKARKVSAFTIRNGRGRFVGVPGSDRKPLVLSTYLDAQEHLPYADDSNAVTPMSEENGAIIVPVYYANLGSRHSSYTSHQSRISYTSHGDLLGGMTKESRLRNRSARNTNHSIVPPPNANNLSYAETNHKGQRDFDLTQDCTDDAGKIKHNDNPFIEPAQTQTVVDMKDVMVLNDIIEQAAGRHSRASDHGVSVYYFPTEDDDEDGPTFKDKALEFLMKMIDIFCVWDCCWVWLKFQEWVAFIVFDPFVELFITLCIVVNTLFMALDHHDMDPDMEKALKSGNYFFTATFAIEATMKLIAMSPKYYFQEGWNIFDFIIVALSLLELGLEGVQGLSVLRSFRLLRVFKLAKSWPTLNLLISIMGRTMGALGNLTFVLCIIIFIFAVMGMQLFGKNYVDNVDRFPDHDLPRWNFTDFMHSFMIVFRVLCGEWIESMWDCMLVGDVSCIPFFLATVVIGNLVVLNLFLALLLSNFGSSSLSAPTADNETNKIAEAFNRISRFSNWIKMNLANALKFVKNKLTSQIASVQPTEHGENELELTPDDILADGLLKKGIKEHNQLEVAIGDGMEFTIHGDLKNKAKKNKQIMNNSKDDDTASIKSYGSHKNRPFKDESHKGSAETMEGEEKRDASKEDLGIDEELDDEGEGDEGPLDGELIIHAEEDEVIEDSPADCCPDNCYKKFPVLAGDDDAPFWQGWGNLRLKTFQLIENKYFETAVITMILLSSLALALEDVHLPQRPILQDILYYMDRIFTVIFFLEMLIKWLALGFKVYFTNAWCWLDFIIVMVSLINFVASLCGAGGIQAFKTMRTLRALRPLRAMSRMQGMRVVVNALVQAIPSIFNVLLVCLIFWLIFAIMGVQLFAGKYFKCVDKNKTTLPHEIIPDVNACKAENYSWENSPMNFDHVGKAYLCLFQVATFKGWIQIMNDAIDSRDVGKQPIRETNIYMYLYFVFFIIFGSFFTLNLFIGVIIDNFNEQKKKAGGSLEMFMTEDQKKYYNAMKKMGSKKPLKAIPRPRWRPQAIVFEIVTNKKFDMIIMLFIGFNMLTMTLDHYKQSETFSAVLDYLNMIFICIFSSECLMKIFALRYHYFIEPWNLFDFVVVILSILGLVLSDIIEKYFVSPTLLRVVRVAKVGRVLRLVKGAKGIRTLLFALAMSLPALFNICLLLFLVMFIFAIFGMSFFMHVKDKSGLDDVYNFKTFGQSMILLFQMSTSAGWDGVLDGIINEEDCLPPDNDKGYPGNCGSSTIGITYLLAYLVISFLIVINMYIAVILENYSQATEDVQEGLTDDDYDMYYEIWQQFDPDGTQYVRYDQLSDFLDVLEPPLQIHKPNRYKIISMDIPICRGDMMFCVDILDALTKDFFARKGNPIEETAELGEVQQRPDEVGYEPVSSTLWRQREEYCARLIQHAWKRYKQRHGGGTDASGDDLEIDACDNGCGGGNGNENDDSGDGATGSGDNGSQHGGGSISGGGGTPGGGKSKGIIGSTQANIGIVDSNISPKESPDSIGDPQGRQTAVLVESDGFVTKNGHRVVIHSRSPSITSRTADV*\n"
     ]
    }
   ],
   "source": [
    "prot = gene_seq.translate()\n",
    "print(len(prot), prot)"
   ]
  },
  {
   "cell_type": "markdown",
   "id": "e96a2101-4b54-44fe-bd2c-98a1549f34ba",
   "metadata": {},
   "source": [
    "### 6) GET GENE CODED IN NEGATIVE STRAND DIRECTION"
   ]
  },
  {
   "cell_type": "code",
   "execution_count": 70,
   "id": "86b1d3d0-95e9-4ca4-a4de-ef2dceb4b83a",
   "metadata": {},
   "outputs": [],
   "source": [
    "reverse_gene_id = 'AGAP004708'  # WS added gene-level stuff\n",
    "reverse_gene = db[reverse_gene_id]"
   ]
  },
  {
   "cell_type": "code",
   "execution_count": 71,
   "id": "7cb892e5-aa90-4263-802f-e6f032dcafd5",
   "metadata": {},
   "outputs": [
    {
     "name": "stdout",
     "output_type": "stream",
     "text": [
      "AgamP4_2L -\n"
     ]
    }
   ],
   "source": [
    "print(reverse_gene.seqid, reverse_gene.strand) # explicitly shows '-'"
   ]
  },
  {
   "cell_type": "code",
   "execution_count": 72,
   "id": "18c5a034-b35f-4ecc-af25-95b55dced98b",
   "metadata": {},
   "outputs": [],
   "source": [
    "reverse_transcript_id = 'AGAP004708-RA'"
   ]
  },
  {
   "cell_type": "code",
   "execution_count": 73,
   "id": "f403d038-038d-44f7-9000-89dbb8ca765e",
   "metadata": {},
   "outputs": [],
   "source": [
    "reverse_CDSs = list(db.children(reverse_transcript_id, featuretype='CDS', \n",
    "                                order_by='start'))"
   ]
  },
  {
   "cell_type": "code",
   "execution_count": 74,
   "id": "b904b7fc-c2d3-4c03-ae0c-4c5fb9d76b1c",
   "metadata": {},
   "outputs": [
    {
     "name": "stdout",
     "output_type": "stream",
     "text": [
      "AGAP004708-PA-CDS5 2471997\n",
      "AGAP004708-PA-CDS4 2472199\n",
      "AGAP004708-PA-CDS3 2472577\n",
      "AGAP004708-PA-CDS2 2473705\n",
      "AGAP004708-PA-CDS1 2474117\n"
     ]
    }
   ],
   "source": [
    "for k in reverse_CDSs:  # WS print\n",
    "    print(k.id, k.start)"
   ]
  },
  {
   "cell_type": "code",
   "execution_count": 75,
   "id": "69cfa8f1-5895-4ce8-8f2d-6413c86f28e5",
   "metadata": {},
   "outputs": [],
   "source": [
    "reverse_seq = get_sequence(my_seq, reverse_CDSs, '-')"
   ]
  },
  {
   "cell_type": "code",
   "execution_count": 76,
   "id": "efdb9554-9a1a-4412-b397-6e730de630ae",
   "metadata": {
    "collapsed": true,
    "jupyter": {
     "outputs_hidden": true
    },
    "tags": []
   },
   "outputs": [
    {
     "name": "stdout",
     "output_type": "stream",
     "text": [
      "1992 ATGGCTGACTTCGATAGTGCCACTAAATGTATCAGAAACATTGAAAAAGAAATTCTTCTCTTGCAATCCGAAGTTTTGAAGACTCGTGAGGGGCTTGGGCTGGAAGATGATAACGTGGAACTTAAAAAGTTAATGGAGGAAAACACGAGATTAAAGCATCGTTTGGAGATAGTGCAATCGGCTATTGTACAGGAAGGCGGATCAATCGCATCCTCCGATTCTGGCAACCAATCCATTGTTGGCGAACTGCAGCAAGTATTTACCGAAGCCATTCAAAAAGCTTTTCCAAGTGTGTTGGTTGAGGCGGTTATTACTATTTCGTCATCCCCCAAGTTTGGCGATTATCAATGCAATAGTGCTATGCAGATTGCGCAGCATTTGAAGCAGTTATCTGTTAAATCGTCGCCACGTGAAGTGGCCCAAAAACTGGTAGCTGAATTGCAAAAACCAATACCTTGTGTCGATAGATTAGAAATCGCTGGAGCGGGATACGTTAATATTTTCCTGTCTAGATCTTATGGAGAACAACGCATTATGAGCATCTTGAGGCATGGGATTGTGGTACCATTAATAGAAAAGAAACGTGTGATAGTCGATTTTTCCTCGCCTAACGTAGCGAAAGAAATGCATGTCGGTCATTTACGTTCGACCATCATTGGTGATTCAATTTGTCGATTTTTGGAATATCTCGGACACGATGTGCTTCGTATTAACCATATCGGAGACTGGGGAACGCAATTTGGTATGTTAATTGCTCATTTGCAGGACCGTTTCCCTAATTTCCAAACCGAGTCCCCGCCTATCAGCGATTTGCAAGCATTTTACAAGGAGTCAAAGGTCCGATTTGACAGCGATGAAGTATTTAAAAAGCGTGCCTACGAATGTGTAGTCAAACTGCAAAGTGGAGAGCTGAGTTATTTGAAGGCCTGGAATCTAATTTGCGATGTTTCACGCAAAGAATTCCAAACCATCTACAACAGATTGGATGTGAAACTAGTTGAACGTGGTGAATCGTTTTATCAAAGCAGAATGGAAAAAATCGTAGAAGAACTTAAGCAGGATGGGTTCCTTGAAGAAGACGAAGGCCGTCTTATCATGTGGGGCGAAAATCGCGCTGGAATTCCTTTAACCATCGTAAAATCAGACGGAGGATTTACATATGATACTTCGGATATGGCCGCCATCAAACAACGCTTGCAAGAAGAAAAGGCTGATTGGTTGATATATGTAACTGACGCTGGGCAGGCGACTCATTTCCAAACAATTTTTTCTTGTGCAAAACGAGCCAAAATCCTACAAGAGAGCAAACATCGTGTGGATCACGTCGGATTTGGTGTGGTGCTAGGCGAAGATGGTAAAAAATTCAAGACTCGTTCTGGCGATACGGTGAAATTGACAGAACTTCTCAATGAAGGTTTGAGGAGGGCTATGGAAAAACTAGTTCAGAAGGAAAGGAACTTAGTGCTCACACAAGAGGAGCTAGTTGCAGCACAAGAATCAGTCGCCTACGGTTGTATTAAATATGCGGATCTGTCGCATAATCGTAACAACGAATATGTGTTCTCCTTCGATAAGATGCTGGAGGACAAAGGAAATACTGCCGTGTATCTGTTGTATGCCTATACCCGCATTCGTTCTATTGCAAGAAAATGTGGCGGAGATTTTGCAAATGACATGCAAAAGGTGATCGATTCCACAGTTATTAAATTAGATCATGAAAAGGAATGGAAACTCGCCAAGGTGTTGCTTCGTTTTACCGACGTTATGTTATTGATCATGAAAAATCTATCGTTACATCATCTTTGTGAGTTTGTGTACGAAATATGCACTGCTTTTAGTGAGTTTTATGACAGTTGTTATTGCATCGAAAAAAATAAGCAAGGTGAAATTATTACTGTTTATCCCTCTCGCGTCTTGCTATGCGAAGCAACATCAAAGGTGCTGGAAAAATGTTTCGATATTTTAGGACTGAAGCCTGTGCATAAAATATAA\n"
     ]
    }
   ],
   "source": [
    "print(len(reverse_seq), reverse_seq)"
   ]
  },
  {
   "cell_type": "code",
   "execution_count": 66,
   "id": "8a107a93-55be-4f4b-a9f5-2420117e67e9",
   "metadata": {
    "collapsed": true,
    "jupyter": {
     "outputs_hidden": true
    },
    "tags": []
   },
   "outputs": [
    {
     "name": "stdout",
     "output_type": "stream",
     "text": [
      "664 MADFDSATKCIRNIEKEILLLQSEVLKTREGLGLEDDNVELKKLMEENTRLKHRLEIVQSAIVQEGGSIASSDSGNQSIVGELQQVFTEAIQKAFPSVLVEAVITISSSPKFGDYQCNSAMQIAQHLKQLSVKSSPREVAQKLVAELQKPIPCVDRLEIAGAGYVNIFLSRSYGEQRIMSILRHGIVVPLIEKKRVIVDFSSPNVAKEMHVGHLRSTIIGDSICRFLEYLGHDVLRINHIGDWGTQFGMLIAHLQDRFPNFQTESPPISDLQAFYKESKVRFDSDEVFKKRAYECVVKLQSGELSYLKAWNLICDVSRKEFQTIYNRLDVKLVERGESFYQSRMEKIVEELKQDGFLEEDEGRLIMWGENRAGIPLTIVKSDGGFTYDTSDMAAIKQRLQEEKADWLIYVTDAGQATHFQTIFSCAKRAKILQESKHRVDHVGFGVVLGEDGKKFKTRSGDTVKLTELLNEGLRRAMEKLVQKERNLVLTQEELVAAQESVAYGCIKYADLSHNRNNEYVFSFDKMLEDKGNTAVYLLYAYTRIRSIARKCGGDFANDMQKVIDSTVIKLDHEKEWKLAKVLLRFTDVMLLIMKNLSLHHLCEFVYEICTAFSEFYDSCYCIEKNKQGEIITVYPSRVLLCEATSKVLEKCFDILGLKPVHKI*\n"
     ]
    }
   ],
   "source": [
    "reverse_prot = reverse_seq.translate()\n",
    "print(len(reverse_prot), reverse_prot)"
   ]
  },
  {
   "cell_type": "markdown",
   "id": "706f11a8-b03d-41d0-9217-08c04005b41b",
   "metadata": {},
   "source": [
    "### WS EXPERIMENTS"
   ]
  },
  {
   "cell_type": "code",
   "execution_count": 86,
   "id": "3d91ecfd-2b69-4e9d-888e-33162928f0df",
   "metadata": {},
   "outputs": [],
   "source": [
    "# WS NEXT1: find the stop codon in the above;\n",
    "# then look at the other 5 frames for this sequence, and count the stop\n",
    "# codons; the correct sequence only has 1 stop codon?"
   ]
  },
  {
   "cell_type": "code",
   "execution_count": 78,
   "id": "875a2d1c-c1e5-4297-b295-82c60335a3eb",
   "metadata": {},
   "outputs": [
    {
     "name": "stdout",
     "output_type": "stream",
     "text": [
      "Table 1 Standard, SGC0\n",
      "\n",
      "  |  T      |  C      |  A      |  G      |\n",
      "--+---------+---------+---------+---------+--\n",
      "T | TTT F   | TCT S   | TAT Y   | TGT C   | T\n",
      "T | TTC F   | TCC S   | TAC Y   | TGC C   | C\n",
      "T | TTA L   | TCA S   | TAA Stop| TGA Stop| A\n",
      "T | TTG L(s)| TCG S   | TAG Stop| TGG W   | G\n",
      "--+---------+---------+---------+---------+--\n",
      "C | CTT L   | CCT P   | CAT H   | CGT R   | T\n",
      "C | CTC L   | CCC P   | CAC H   | CGC R   | C\n",
      "C | CTA L   | CCA P   | CAA Q   | CGA R   | A\n",
      "C | CTG L(s)| CCG P   | CAG Q   | CGG R   | G\n",
      "--+---------+---------+---------+---------+--\n",
      "A | ATT I   | ACT T   | AAT N   | AGT S   | T\n",
      "A | ATC I   | ACC T   | AAC N   | AGC S   | C\n",
      "A | ATA I   | ACA T   | AAA K   | AGA R   | A\n",
      "A | ATG M(s)| ACG T   | AAG K   | AGG R   | G\n",
      "--+---------+---------+---------+---------+--\n",
      "G | GTT V   | GCT A   | GAT D   | GGT G   | T\n",
      "G | GTC V   | GCC A   | GAC D   | GGC G   | C\n",
      "G | GTA V   | GCA A   | GAA E   | GGA G   | A\n",
      "G | GTG V   | GCG A   | GAG E   | GGG G   | G\n",
      "--+---------+---------+---------+---------+--\n"
     ]
    }
   ],
   "source": [
    "# look at the genetic code to see stop codons\n",
    "from Bio.Data import CodonTable\n",
    "standard_table = CodonTable.unambiguous_dna_by_id[1]\n",
    "mito_table     = CodonTable.unambiguous_dna_by_id[2]\n",
    "print(standard_table)"
   ]
  },
  {
   "cell_type": "code",
   "execution_count": 145,
   "id": "040dae44-e9a6-4f80-80de-2542984b8887",
   "metadata": {},
   "outputs": [],
   "source": [
    "# WS function to generate the histogram of a protein sequence\n",
    "def amino_histo(seq, order=False):\n",
    "    num_amino = defaultdict(int)\n",
    "    #num_amino = OrderedDict()\n",
    "    for k in seq:\n",
    "        num_amino[k] += 1\n",
    "        #num_amino[k] = num_amino.get(k, 0) + 1\n",
    "    if order:\n",
    "        amino_list = list(num_amino.keys())\n",
    "        amino_list.sort()\n",
    "        return {k: num_amino[k] for k in amino_list}\n",
    "    return num_amino"
   ]
  },
  {
   "cell_type": "code",
   "execution_count": 147,
   "id": "7b8c7db6-dfeb-4ea5-9dbd-b18fa764cfb2",
   "metadata": {
    "collapsed": true,
    "jupyter": {
     "outputs_hidden": true
    },
    "tags": []
   },
   "outputs": [
    {
     "name": "stdout",
     "output_type": "stream",
     "text": [
      "amino acid * occurs    1 times\n",
      "amino acid A occurs  143 times\n",
      "amino acid C occurs   34 times\n",
      "amino acid D occurs  141 times\n",
      "amino acid E occurs  126 times\n",
      "amino acid F occurs  130 times\n",
      "amino acid G occurs  142 times\n",
      "amino acid H occurs   34 times\n",
      "amino acid I occurs  157 times\n",
      "amino acid K occurs  105 times\n",
      "amino acid L occurs  195 times\n",
      "amino acid M occurs   69 times\n",
      "amino acid N occurs   98 times\n",
      "amino acid P occurs   82 times\n",
      "amino acid Q occurs   65 times\n",
      "amino acid R occurs   83 times\n",
      "amino acid S occurs  133 times\n",
      "amino acid T occurs  101 times\n",
      "amino acid V occurs  129 times\n",
      "amino acid W occurs   32 times\n",
      "amino acid Y occurs   65 times\n"
     ]
    }
   ],
   "source": [
    "ordered_prot_hist = amino_histo(prot, order=True)\n",
    "for j, k in ordered_prot_hist.items():\n",
    "    print('amino acid {} occurs {:4} times'.format(j, k))"
   ]
  },
  {
   "cell_type": "code",
   "execution_count": 170,
   "id": "193f40b6-aa4c-4560-a01b-5bc660b4cedf",
   "metadata": {},
   "outputs": [
    {
     "data": {
      "text/plain": [
       "[-3, -2, -1, 0, 1, 2]"
      ]
     },
     "execution_count": 170,
     "metadata": {},
     "output_type": "execute_result"
    }
   ],
   "source": [
    "list(range(-3,3))"
   ]
  },
  {
   "cell_type": "code",
   "execution_count": 180,
   "id": "e64f9678-f21e-4060-b49c-c393d4a0aca7",
   "metadata": {
    "collapsed": true,
    "jupyter": {
     "outputs_hidden": true
    },
    "tags": []
   },
   "outputs": [
    {
     "name": "stdout",
     "output_type": "stream",
     "text": [
      "strand: +, phase: -3, number of stop signals:    4\n",
      "strand: +, phase: -2, number of stop signals:  145\n",
      "strand: +, phase: -1, number of stop signals:  141\n",
      "strand: +, phase:  0, number of stop signals:    1\n",
      "strand: +, phase:  1, number of stop signals:  143\n",
      "strand: +, phase:  2, number of stop signals:  142\n",
      "strand: +, phase:  3, number of stop signals:    3\n",
      "strand: -, phase: -3, number of stop signals:   99\n",
      "strand: -, phase: -2, number of stop signals:  131\n",
      "strand: -, phase: -1, number of stop signals:   76\n",
      "strand: -, phase:  0, number of stop signals:   99\n",
      "strand: -, phase:  1, number of stop signals:  130\n",
      "strand: -, phase:  2, number of stop signals:   77\n",
      "strand: -, phase:  3, number of stop signals:   97\n"
     ]
    }
   ],
   "source": [
    "# WS now look at all 6 frames (+,- complement for 3 phases) and see how many stop ('*') codons show up per case\n",
    "# the 'true' '+' strand with zero offset should show only 1 stop codon (as per the Cell book)\n",
    "x1 = ['+', '-']\n",
    "x2 = list(range(-3,4))\n",
    "vals = [(x,y) for x in x1 for y in x2]\n",
    "for (j, k) in vals:\n",
    "    ss = get_sequence(my_seq, CDS_list, j, offset=k)\n",
    "    dd = ss.translate()\n",
    "    out = amino_histo(dd)\n",
    "    print('strand: {}, phase: {:2}, number of stop signals: {:4}'.format(j, k, out['*']))\n",
    "# only 1 combination is showing 1 stop signal\n",
    "# NOTE: not clear why +3 offset isn't showing at most 2 stop siglals: original and possibly another one at new end\n",
    "#       and why -3 offset isn't showing at most 1 stop (it loses the one at the end, and picks up at most 1 at the\n",
    "#       new beginning): \n",
    "# POSSIBLE SOLUTION: we're concatenating CDS sections, and reading each CDS with the same offset, so they are going\n",
    "#                    together in complex ways: we're not offsetting a single strand, but multiple concatenated\n",
    "#                    strands; the ONLY case with the single 'stop' is the '+' strand with 0 offset on all of the CDSs"
   ]
  },
  {
   "cell_type": "code",
   "execution_count": 172,
   "id": "4c51039e-b385-4e9f-a40e-f8911c6f0caf",
   "metadata": {
    "collapsed": true,
    "jupyter": {
     "outputs_hidden": true
    },
    "tags": []
   },
   "outputs": [
    {
     "data": {
      "text/plain": [
       "{'*': 1,\n",
       " 'A': 143,\n",
       " 'C': 34,\n",
       " 'D': 141,\n",
       " 'E': 126,\n",
       " 'F': 130,\n",
       " 'G': 142,\n",
       " 'H': 34,\n",
       " 'I': 157,\n",
       " 'K': 105,\n",
       " 'L': 195,\n",
       " 'M': 69,\n",
       " 'N': 98,\n",
       " 'P': 82,\n",
       " 'Q': 65,\n",
       " 'R': 83,\n",
       " 'S': 133,\n",
       " 'T': 101,\n",
       " 'V': 129,\n",
       " 'W': 32,\n",
       " 'Y': 65}"
      ]
     },
     "execution_count": 172,
     "metadata": {},
     "output_type": "execute_result"
    }
   ],
   "source": [
    "sss = get_sequence(my_seq, CDS_list, '+', offset=0)\n",
    "dd = sss.translate()\n",
    "amino_histo(dd, order=True)"
   ]
  },
  {
   "cell_type": "code",
   "execution_count": null,
   "id": "38645101-4ab8-4df9-9fe1-59353679c5ea",
   "metadata": {},
   "outputs": [],
   "source": []
  },
  {
   "cell_type": "code",
   "execution_count": null,
   "id": "4038e8f1-5700-4e35-b014-d005be047508",
   "metadata": {},
   "outputs": [],
   "source": []
  },
  {
   "cell_type": "code",
   "execution_count": 148,
   "id": "aa01e146-2723-4cc4-81a6-beb2af2df092",
   "metadata": {},
   "outputs": [
    {
     "data": {
      "text/plain": [
       "Seq('ATGACCGAAGACTCCGATTCGATATCTGAGGAAGAACGTAGTTTGTTCCGTCCT...TGA')"
      ]
     },
     "execution_count": 148,
     "metadata": {},
     "output_type": "execute_result"
    }
   ],
   "source": [
    "# WS now look at reverse complement of '+' thread and see how many stop ('*') codons show up\n",
    "gene_seq"
   ]
  },
  {
   "cell_type": "code",
   "execution_count": 150,
   "id": "d004bb91-ed14-49d8-a98d-434d75ac7547",
   "metadata": {},
   "outputs": [
    {
     "data": {
      "text/plain": [
       "Seq('TCAGACATCTGCCGTTCGCGATGTTATGCTGGGAGATCGAGAGTGTATGACGAC...CAT')"
      ]
     },
     "execution_count": 150,
     "metadata": {},
     "output_type": "execute_result"
    }
   ],
   "source": [
    "reverse_gene_seq = gene_seq.reverse_complement()\n",
    "reverse_gene_seq"
   ]
  },
  {
   "cell_type": "code",
   "execution_count": 151,
   "id": "9f334b19-6c1c-4e4a-967d-b2fcbe09ab40",
   "metadata": {},
   "outputs": [],
   "source": [
    "reverse_gene_seq_prot = reverse_gene_seq.translate()"
   ]
  },
  {
   "cell_type": "code",
   "execution_count": 153,
   "id": "b3d028b7-08da-439e-8908-649b0efff23d",
   "metadata": {
    "collapsed": true,
    "jupyter": {
     "outputs_hidden": true
    },
    "tags": []
   },
   "outputs": [
    {
     "name": "stdout",
     "output_type": "stream",
     "text": [
      "amino acid * occurs   99 times\n",
      "amino acid A occurs   79 times\n",
      "amino acid C occurs   88 times\n",
      "amino acid D occurs   61 times\n",
      "amino acid E occurs   84 times\n",
      "amino acid F occurs  157 times\n",
      "amino acid G occurs   70 times\n",
      "amino acid H occurs  109 times\n",
      "amino acid I occurs  185 times\n",
      "amino acid K occurs  100 times\n",
      "amino acid L occurs  139 times\n",
      "amino acid M occurs   17 times\n",
      "amino acid N occurs   96 times\n",
      "amino acid P occurs   50 times\n",
      "amino acid Q occurs   74 times\n",
      "amino acid R occurs  121 times\n",
      "amino acid S occurs  154 times\n",
      "amino acid T occurs  124 times\n",
      "amino acid V occurs  136 times\n",
      "amino acid W occurs   33 times\n",
      "amino acid Y occurs   89 times\n"
     ]
    }
   ],
   "source": [
    "ordered_reverse_prot_hist = amino_histo(reverse_gene_seq_prot, order=True)\n",
    "for j, k in ordered_reverse_prot_hist.items():\n",
    "    print('amino acid {} occurs {:4} times'.format(j, k))  # WS this gets a 'stop' 99 times: obviously bogus"
   ]
  },
  {
   "cell_type": "code",
   "execution_count": 57,
   "id": "fde8dd9d-7640-40e1-b4a2-b76a49531324",
   "metadata": {},
   "outputs": [],
   "source": [
    "# WS NEXT2: look at another mRNA version (say 'RB') and calculate its\n",
    "# protein structure and compare: create a single function to do this?"
   ]
  },
  {
   "cell_type": "code",
   "execution_count": 285,
   "id": "d96dea9c-8b41-4b26-9de8-c2ddbafceb17",
   "metadata": {
    "tags": []
   },
   "outputs": [
    {
     "data": {
      "text/plain": [
       "(39539245, 39542851)"
      ]
     },
     "execution_count": 285,
     "metadata": {},
     "output_type": "execute_result"
    }
   ],
   "source": [
    "gene_id = 'AGAP004707' # doesn't have 3', 5' for plot testing\n",
    "gene_id = 'AGAP003566' # has 3', 5' for plot testing: good example, works\n",
    "gene = db[gene_id]\n",
    "gene.start, gene.stop"
   ]
  },
  {
   "cell_type": "code",
   "execution_count": 224,
   "id": "6fcba75d-cdb6-4819-9f31-ef2c9e98f0ff",
   "metadata": {},
   "outputs": [],
   "source": [
    "# WS go thru all of the CDSs and extract the ones with the desired parent mRNA\n",
    "def get_child_of_parent(parent, feature):\n",
    "    return list(db.children(parent, featuretype=feature))"
   ]
  },
  {
   "cell_type": "code",
   "execution_count": 234,
   "id": "309f06ba-610f-415f-b8fa-812540ef85ff",
   "metadata": {},
   "outputs": [],
   "source": [
    "# WS\n",
    "def get_object_coords(obj, y_offset, scale):\n",
    "    out = []\n",
    "    for k in obj:\n",
    "        out.append([(k.start/scale, k.stop/scale), (y_offset, y_offset)])\n",
    "    return out"
   ]
  },
  {
   "cell_type": "code",
   "execution_count": 281,
   "id": "ff3ba0c8-8c47-4e1a-93f7-4cbc281a4eed",
   "metadata": {},
   "outputs": [],
   "source": [
    "def plot_mRNA_exon_cds(mRNA, indx, y_offset, scale, delta=0.02):\n",
    "    out = []\n",
    "    obj = mRNA[indx]\n",
    "    out.append([(obj.start/scale, obj.stop/scale), (y_offset, y_offset)])\n",
    "    y_offset -= delta\n",
    "    exon      = get_child_of_parent(obj, 'exon')\n",
    "    cds       = get_child_of_parent(obj, 'CDS')\n",
    "    utr_three = get_child_of_parent(obj, 'three_prime_UTR')\n",
    "    utr_five  = get_child_of_parent(obj, 'five_prime_UTR')\n",
    "    out.extend(get_object_coords(exon, y_offset, scale))\n",
    "    y_offset -= delta\n",
    "    out.extend(get_object_coords(cds, y_offset, scale))\n",
    "    y_offset -= delta\n",
    "    out.extend(get_object_coords(utr_three, y_offset, scale))\n",
    "    y_offset -= delta\n",
    "    out.extend(get_object_coords(utr_five, y_offset, scale))\n",
    "    return out"
   ]
  },
  {
   "cell_type": "code",
   "execution_count": 286,
   "id": "a65d6adf-457c-4b05-b674-03863ddca69b",
   "metadata": {
    "tags": []
   },
   "outputs": [],
   "source": [
    "minx = gene.start\n",
    "maxx = gene.stop\n",
    "mRNA = get_child_of_parent(gene, 'mRNA')\n",
    "w = 7 # linewidth\n",
    "xG = [gene.start/maxx, gene.stop/maxx]\n",
    "yG = [1, 1]"
   ]
  },
  {
   "cell_type": "code",
   "execution_count": 293,
   "id": "fb8ff410-3123-4360-ad6e-e753c270df71",
   "metadata": {},
   "outputs": [],
   "source": [
    "out = plot_mRNA_exon_cds(mRNA, 0, 0.9, maxx)"
   ]
  },
  {
   "cell_type": "code",
   "execution_count": 294,
   "id": "0d08b4d6-cf70-4c9e-885b-e207bff5ac75",
   "metadata": {
    "tags": []
   },
   "outputs": [
    {
     "data": {
      "text/plain": [
       "(0.5, 1.1)"
      ]
     },
     "execution_count": 294,
     "metadata": {},
     "output_type": "execute_result"
    },
    {
     "data": {
      "image/png": "[encoded data removed]",
      "text/plain": [
       "<Figure size 1152x432 with 1 Axes>"
      ]
     },
     "metadata": {
      "needs_background": "light"
     },
     "output_type": "display_data"
    }
   ],
   "source": [
    "# WS create a simple graph of gff information using matplotlib\n",
    "fig, axs = plt.subplots(1, 1, figsize=(16, 6))\n",
    "axs.plot(xG, yG, linewidth=w)\n",
    "for k in out:\n",
    "    axs.plot(k[0], k[1], linewidth=w)\n",
    "axs.grid()\n",
    "axs.set_xlim(minx/maxx, 1)\n",
    "axs.set_ylim(0.5, 1.1)"
   ]
  },
  {
   "cell_type": "code",
   "execution_count": null,
   "id": "3f05935d-a313-46e3-81f4-541fa89691c7",
   "metadata": {},
   "outputs": [],
   "source": [
    "# WS NEXT: generalize plot to show all mRNA transcriptions for a given gene; also plot using base number,\n",
    "# don't normalize"
   ]
  }
 ],
 "metadata": {
  "kernelspec": {
   "display_name": "Python 3 (ipykernel)",
   "language": "python",
   "name": "python3"
  },
  "language_info": {
   "codemirror_mode": {
    "name": "ipython",
    "version": 3
   },
   "file_extension": ".py",
   "mimetype": "text/x-python",
   "name": "python",
   "nbconvert_exporter": "python",
   "pygments_lexer": "ipython3",
   "version": "3.10.6"
  }
 },
 "nbformat": 4,
 "nbformat_minor": 5
}

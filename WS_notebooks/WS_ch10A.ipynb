{
 "cells": [
  {
   "cell_type": "markdown",
   "id": "70f969e5-d360-487f-8c1a-a68e3effa82d",
   "metadata": {},
   "source": [
    "# WS_ch10A.ipynb\n",
    "# WESmith 11/23/22\n",
    "## WS created this notebook to follow along chap 10 code from book\n",
    "## 'Bioinformatics with Python Cookbook' by Tiago Antao\n",
    "## Each recipe will have its own notebook, suffixed by A, B, etc.¶\n",
    "## also see book code in Chapter10/PCA.py"
   ]
  },
  {
   "cell_type": "code",
   "execution_count": null,
   "id": "c1e73cbe-5476-4ecb-b986-ae06173b52d8",
   "metadata": {},
   "outputs": [],
   "source": [
    "import os\n",
    "from sklearn.decomposition import PCA\n",
    "import numpy as np\n",
    "from genomics.popgen.pca import plot"
   ]
  },
  {
   "cell_type": "code",
   "execution_count": null,
   "id": "14c2fe37-cbef-48b7-99ce-24fc4df43816",
   "metadata": {},
   "outputs": [],
   "source": [
    "data_dir  = 'data/ch06_data'  # use data from chapter 6\n",
    "meta_data = 'relationships_w_pops_041510.txt'\n",
    "ped_data  = 'hapmap10_auto_noofs_LD_12.ped'"
   ]
  },
  {
   "cell_type": "markdown",
   "id": "07b0f4c9-684b-4487-91f8-6f0eb8bacec6",
   "metadata": {},
   "source": [
    "### 1) LOAD METADATA: (FAMILY ID, INDIVIDUAL ID) FOR EACH POPULATION"
   ]
  },
  {
   "cell_type": "code",
   "execution_count": null,
   "id": "1c73cb37-73c6-4a21-a896-0925d028f672",
   "metadata": {},
   "outputs": [],
   "source": [
    "f = open(os.path.join(data_dir, meta_data))\n",
    "ind_pop = {}\n",
    "f.readline()  # header\n",
    "for l in f:\n",
    "    toks = l.rstrip().split('\\t')\n",
    "    fam_id = toks[0]\n",
    "    ind_id = toks[1]\n",
    "    pop = toks[-1]\n",
    "    ind_pop['/'.join([fam_id, ind_id])] = pop\n",
    "f.close()"
   ]
  },
  {
   "cell_type": "markdown",
   "id": "58ce8d08-c9dd-4ec0-ac82-84adff54537d",
   "metadata": {},
   "source": [
    "### 2) GET THE ORDER OF INDIVIDUALS WITH THE NUMBER OF SNPS TO PROCESS"
   ]
  },
  {
   "cell_type": "code",
   "execution_count": null,
   "id": "bd4f5340-417c-40e3-8414-06324db3fbce",
   "metadata": {},
   "outputs": [],
   "source": [
    "f = open(os.path.join(data_dir, ped_data))\n",
    "ninds = 0\n",
    "ind_order = []\n",
    "for line in f:\n",
    "    ninds += 1\n",
    "    toks = line[:100].replace(' ', '\\t').split('\\t') #  for speed\n",
    "    fam_id = toks[0]\n",
    "    ind_id = toks[1]\n",
    "    ind_order.append('%s/%s' % (fam_id, ind_id))\n",
    "nsnps = (len(line.replace(' ', '\\t').split('\\t')) - 6) // 2\n",
    "f.close()"
   ]
  },
  {
   "cell_type": "code",
   "execution_count": null,
   "id": "0717825d-ea7f-4c36-9133-897e7d277ddb",
   "metadata": {},
   "outputs": [],
   "source": [
    "ninds, nsnps, nsnps/ninds"
   ]
  },
  {
   "cell_type": "markdown",
   "id": "e37c3a88-9a06-4b92-abb5-4b9e00f81600",
   "metadata": {},
   "source": [
    "### 3) CREATE THE ARRAY FOR PCA"
   ]
  },
  {
   "cell_type": "code",
   "execution_count": null,
   "id": "7848681b-b515-4559-94e1-5667a99a7707",
   "metadata": {},
   "outputs": [],
   "source": [
    "# this took about 50 sec to run\n",
    "pca_array = np.empty((ninds, nsnps), dtype=int)\n",
    "print(pca_array.shape)\n",
    "f = open(os.path.join(data_dir, ped_data))\n",
    "for ind, line in enumerate(f):\n",
    "    snps = line.replace(' ', '\\t').split('\\t')[6:]\n",
    "    for pos in range(len(snps) // 2):\n",
    "        a1 = int(snps[2 * pos])  # WS taking even indices only: every other value\n",
    "        a2 = int(snps[2 * pos])  # WS this is identical to a1\n",
    "        my_code = a1 + a2 - 2    # WS this is 2*(a1 - 1): maps 1 to 0, 2 to 2\n",
    "        pca_array[ind, pos] = my_code\n",
    "f.close()"
   ]
  },
  {
   "cell_type": "code",
   "execution_count": null,
   "id": "337725d1-4be3-4714-bc31-02a99e2978ae",
   "metadata": {},
   "outputs": [],
   "source": [
    "pca_array[0:5,0:20]"
   ]
  },
  {
   "cell_type": "markdown",
   "id": "35ae3130-6ee0-4e63-aacf-d8ac7f16e8a4",
   "metadata": {},
   "source": [
    "### 4) COMPUTE THE PCA WITH UP TO 8 COMPONENTS"
   ]
  },
  {
   "cell_type": "code",
   "execution_count": null,
   "id": "8d74705e-5cbe-4c06-be36-6daa930c4821",
   "metadata": {},
   "outputs": [],
   "source": [
    "# this took about 7 sec\n",
    "my_pca = PCA(n_components=8)\n",
    "my_pca.fit(pca_array)\n",
    "# get the 8D coordinates for each sample\n",
    "trans  = my_pca.transform(pca_array)"
   ]
  },
  {
   "cell_type": "markdown",
   "id": "7954cfa9-420b-43df-9cb9-016f7c79bbb8",
   "metadata": {},
   "source": [
    "### 5) PLOT THE PCA"
   ]
  },
  {
   "cell_type": "code",
   "execution_count": null,
   "id": "ac5850b4-8a17-4b4e-b7f0-65ce32fdf061",
   "metadata": {},
   "outputs": [],
   "source": [
    "trans[0:5,:]"
   ]
  },
  {
   "cell_type": "code",
   "execution_count": null,
   "id": "338b1cba-0b18-4db8-bb3f-e1c465be9cf8",
   "metadata": {},
   "outputs": [],
   "source": [
    "sc_ind_comp = {}\n",
    "for i, ind_pca in enumerate(trans):\n",
    "    sc_ind_comp[ind_order[i]] = ind_pca\n",
    "# plot.render_pca() just plots 2 PCA components\n",
    "# plot.render_pca_eight() only plots 8 PCA components\n",
    "plot.render_pca_eight(sc_ind_comp, cluster=ind_pop)\n",
    "plot.plt.show()"
   ]
  },
  {
   "cell_type": "markdown",
   "id": "ac41c517-1f9c-485b-b0c0-d5221dc0ec61",
   "metadata": {},
   "source": [
    "### WS - SEE HOW THE SNPS ARE REPRESENTED IN THE PED FILE"
   ]
  },
  {
   "cell_type": "code",
   "execution_count": null,
   "id": "2730bbba-88a0-4ec7-9717-2be11e07e62e",
   "metadata": {},
   "outputs": [],
   "source": [
    "# get some example lines\n",
    "f = open(os.path.join(data_dir, ped_data))\n",
    "dd = []\n",
    "num = 5\n",
    "for k in range(num):\n",
    "    dd.append(next(f))\n",
    "f.close()"
   ]
  },
  {
   "cell_type": "code",
   "execution_count": null,
   "id": "6f1af928-b7f7-42f1-9e4d-ca19ce59ab07",
   "metadata": {},
   "outputs": [],
   "source": [
    "snps  = []\n",
    "snps2 = []\n",
    "for k in dd:\n",
    "    snps.append(k.replace(' ', '\\t').split('\\t')[6:])\n",
    "    snps2.append(k.replace(' ', '\\t').split('\\t')[0:20])"
   ]
  },
  {
   "cell_type": "code",
   "execution_count": null,
   "id": "7b7026f4-a187-4171-8441-01265ef58c81",
   "metadata": {},
   "outputs": [],
   "source": [
    "snps[0][0:7]"
   ]
  },
  {
   "cell_type": "code",
   "execution_count": null,
   "id": "fcb60a47-e49c-4d53-896c-bd0f74018f60",
   "metadata": {},
   "outputs": [],
   "source": [
    "snps2[0][0:13]"
   ]
  },
  {
   "cell_type": "code",
   "execution_count": null,
   "id": "22c56872-ad1f-439e-9c5f-6a66fbe90fc3",
   "metadata": {},
   "outputs": [],
   "source": [
    "dd_array = np.empty((num, nsnps//2), dtype=int)\n",
    "for ind, k in enumerate(snps):\n",
    "    for pos in range(nsnps // 2):\n",
    "        a = int(k[2 * pos])\n",
    "        my_code = 2 * (a - 1)\n",
    "        dd_array[ind, pos] = my_code"
   ]
  },
  {
   "cell_type": "code",
   "execution_count": null,
   "id": "222064b2-19fc-4364-be17-9baa03d042d6",
   "metadata": {},
   "outputs": [],
   "source": [
    "pca_array[0,:20]"
   ]
  },
  {
   "cell_type": "code",
   "execution_count": null,
   "id": "b5ae6c5e-7684-4c0d-9a09-6519919ab744",
   "metadata": {},
   "outputs": [],
   "source": [
    "dd_array[0,:20]"
   ]
  },
  {
   "cell_type": "code",
   "execution_count": null,
   "id": "914e72d2-eeed-4982-8e51-223b25338656",
   "metadata": {},
   "outputs": [],
   "source": [
    "pca_array[2,:20]"
   ]
  },
  {
   "cell_type": "code",
   "execution_count": null,
   "id": "907151fe-e574-492e-b148-d2f1e20578a7",
   "metadata": {},
   "outputs": [],
   "source": [
    "dd_array[2,:20]"
   ]
  },
  {
   "cell_type": "code",
   "execution_count": null,
   "id": "241759ab-4b4f-4156-b8c5-7d2c36f0d460",
   "metadata": {},
   "outputs": [],
   "source": [
    "# WS bottom line: to go from ped file to pca array:\n",
    "# for each line in the ped file, take every-other value starting at 0 index: \n",
    "# change 1 to 0, keep 2 as 2; that's it; don't understand why the even indexing\n",
    "# into the ped file, or why the remapping from 1 to 0 and keeping 2 to 2"
   ]
  },
  {
   "cell_type": "code",
   "execution_count": null,
   "id": "afc5bd4d-2cc7-45df-b045-5ca86ffa53cd",
   "metadata": {},
   "outputs": [],
   "source": []
  }
 ],
 "metadata": {
  "kernelspec": {
   "display_name": "Python 3 (ipykernel)",
   "language": "python",
   "name": "python3"
  },
  "language_info": {
   "codemirror_mode": {
    "name": "ipython",
    "version": 3
   },
   "file_extension": ".py",
   "mimetype": "text/x-python",
   "name": "python",
   "nbconvert_exporter": "python",
   "pygments_lexer": "ipython3",
   "version": "3.10.6"
  }
 },
 "nbformat": 4,
 "nbformat_minor": 5
}
